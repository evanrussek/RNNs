{
 "cells": [
  {
   "cell_type": "code",
   "execution_count": 29,
   "id": "1bd67e60-1047-4069-abd4-e3990594bd42",
   "metadata": {},
   "outputs": [
    {
     "name": "stderr",
     "output_type": "stream",
     "text": [
      "\u001b[32m[I 2022-01-19 11:37:15,959]\u001b[0m A new study created in memory with name: no-name-573351d1-b8e2-4206-b476-2bdbafa4d7ba\u001b[0m\n",
      "/Users/evanrussek/opt/anaconda3/envs/pDL/lib/python3.8/site-packages/optuna/distributions.py:560: UserWarning: The distribution is specified by [2, 150] and step=5, but the range is not divisible by `step`. It will be replaced by [2, 147].\n",
      "  warnings.warn(\n"
     ]
    },
    {
     "name": "stdout",
     "output_type": "stream",
     "text": [
      "[Epoch 200/200] loss: 0.0229 (MSE) - test_loss: 0.0170 (MSE)\n"
     ]
    },
    {
     "data": {
      "image/png": "[encoded data removed]",
      "text/plain": [
       "<Figure size 316.8x324 with 1 Axes>"
      ]
     },
     "metadata": {
      "needs_background": "light"
     },
     "output_type": "display_data"
    },
    {
     "name": "stderr",
     "output_type": "stream",
     "text": [
      "\u001b[32m[I 2022-01-19 11:39:25,747]\u001b[0m Trial 0 finished with value: 0.017013449882788044 and parameters: {'hidden_size': 97, 'lr': 0.0009145706363718014}. Best is trial 0 with value: 0.017013449882788044.\u001b[0m\n"
     ]
    },
    {
     "name": "stdout",
     "output_type": "stream",
     "text": [
      "--- 129.78669691085815 seconds ---\n"
     ]
    }
   ],
   "source": [
    "%run scratch1_as_script.py"
   ]
  },
  {
   "cell_type": "code",
   "execution_count": null,
   "id": "88eb423a-0ca3-4b94-985f-bb66682c289b",
   "metadata": {},
   "outputs": [],
   "source": [
    "### TODO: install pandas, install optuna"
   ]
  },
  {
   "cell_type": "code",
   "execution_count": 4,
   "id": "020429f1-5cfc-4338-8ff3-7309bdf9b454",
   "metadata": {},
   "outputs": [
    {
     "data": {
      "text/plain": [
       "{'hidden_size': 47, 'lr': 0.00010769819702835522}"
      ]
     },
     "execution_count": 4,
     "metadata": {},
     "output_type": "execute_result"
    }
   ],
   "source": [
    "study.best_params"
   ]
  },
  {
   "cell_type": "code",
   "execution_count": 9,
   "id": "26177244-e9d0-4c8b-bf81-af579d17351d",
   "metadata": {},
   "outputs": [
    {
     "name": "stdout",
     "output_type": "stream",
     "text": [
      "Sampler is TPESampler\n"
     ]
    }
   ],
   "source": [
    "print(f\"Sampler is {study.sampler.__class__.__name__}\")"
   ]
  },
  {
   "cell_type": "code",
   "execution_count": 10,
   "id": "60d47f3b-62c8-4748-b813-7a6b0234ab37",
   "metadata": {},
   "outputs": [
    {
     "name": "stdout",
     "output_type": "stream",
     "text": [
      "Sampler is MedianPruner\n"
     ]
    }
   ],
   "source": [
    "print(f\"Sampler is {study.pruner.__class__.__name__}\")"
   ]
  },
  {
   "cell_type": "code",
   "execution_count": 4,
   "id": "aea5f75d-b2f4-41d9-a216-5ab20deaa57b",
   "metadata": {},
   "outputs": [],
   "source": [
    "a = [1,2,3]\n",
    "import pickle\n",
    "afile = open(r'd.pkl', 'wb')\n",
    "pickle.dump(a, afile)\n",
    "afile.close()"
   ]
  },
  {
   "cell_type": "code",
   "execution_count": 5,
   "id": "e536fb6c-f3b1-4cb7-83e9-0bc88fb3df5f",
   "metadata": {},
   "outputs": [],
   "source": [
    "## get the location to save this..."
   ]
  },
  {
   "cell_type": "code",
   "execution_count": 13,
   "id": "7f9b4af1-4f00-4a36-9176-ae20d2c5b543",
   "metadata": {},
   "outputs": [],
   "source": [
    "import os\n",
    "\n",
    "on_cluster = False\n",
    "\n",
    "if on_cluster:\n",
    "    to_save_folder = '/scratch/gpfs/erussek/RNN_project/optuna_results'\n",
    "else:\n",
    "    to_save_folder = '/Users/evanrussek/Dropbox/Griffiths_Lab_Stuff/Code/RNNs/optuna_results'\n",
    "\n",
    "if not os.path.exists(to_save_folder):\n",
    "    os.mkdir(to_save_folder)\n"
   ]
  },
  {
   "cell_type": "code",
   "execution_count": 10,
   "id": "027953b5-5cc0-4a37-b62b-f61a69947a49",
   "metadata": {},
   "outputs": [
    {
     "data": {
      "text/plain": [
       "'/Users/evanrussek/Dropbox/Griffiths_Lab_Stuff/Code/RNNs'"
      ]
     },
     "execution_count": 10,
     "metadata": {},
     "output_type": "execute_result"
    }
   ],
   "source": [
    "os.getcwd()"
   ]
  },
  {
   "cell_type": "code",
   "execution_count": 15,
   "id": "b655dc84-8255-435d-b8c6-655d1cc4de9b",
   "metadata": {},
   "outputs": [
    {
     "name": "stderr",
     "output_type": "stream",
     "text": [
      "\u001b[32m[I 2022-01-19 11:21:59,544]\u001b[0m A new study created in memory with name: no-name-43b9deae-6ec8-44e2-888b-08e89c45e816\u001b[0m\n"
     ]
    },
    {
     "ename": "NameError",
     "evalue": "name 'joblib' is not defined",
     "output_type": "error",
     "traceback": [
      "\u001b[0;31m---------------------------------------------------------------------------\u001b[0m",
      "\u001b[0;31mNameError\u001b[0m                                 Traceback (most recent call last)",
      "\u001b[0;32m/var/folders/h2/yqlrymd172z_tv1_fvy1tbxm0000gn/T/ipykernel_37872/2148073868.py\u001b[0m in \u001b[0;36m<module>\u001b[0;34m\u001b[0m\n\u001b[1;32m      1\u001b[0m \u001b[0;32mimport\u001b[0m \u001b[0moptuna\u001b[0m\u001b[0;34m\u001b[0m\u001b[0;34m\u001b[0m\u001b[0m\n\u001b[1;32m      2\u001b[0m \u001b[0mstudy\u001b[0m \u001b[0;34m=\u001b[0m \u001b[0moptuna\u001b[0m\u001b[0;34m.\u001b[0m\u001b[0mcreate_study\u001b[0m\u001b[0;34m(\u001b[0m\u001b[0;34m)\u001b[0m\u001b[0;34m\u001b[0m\u001b[0;34m\u001b[0m\u001b[0m\n\u001b[0;32m----> 3\u001b[0;31m \u001b[0mjoblib\u001b[0m\u001b[0;34m.\u001b[0m\u001b[0mdump\u001b[0m\u001b[0;34m(\u001b[0m\u001b[0mstudy\u001b[0m\u001b[0;34m,\u001b[0m \u001b[0;34m\"study.pkl\"\u001b[0m\u001b[0;34m)\u001b[0m\u001b[0;34m\u001b[0m\u001b[0;34m\u001b[0m\u001b[0m\n\u001b[0m",
      "\u001b[0;31mNameError\u001b[0m: name 'joblib' is not defined"
     ]
    }
   ],
   "source": [
    "import optuna\n",
    "import pickle\n",
    "study = optuna.create_study()\n",
    "joblib.dump(study, \"study.pkl\")"
   ]
  },
  {
   "cell_type": "code",
   "execution_count": 26,
   "id": "25a631a2-6cac-42fa-b34a-069cf9d031d1",
   "metadata": {},
   "outputs": [],
   "source": [
    "def save_study(study, file_name, on_cluster = False):\n",
    "\n",
    "    if on_cluster:\n",
    "        to_save_folder = '/scratch/gpfs/erussek/RNN_project/optuna_results'\n",
    "    else:\n",
    "        to_save_folder = '/Users/evanrussek/Dropbox/Griffiths_Lab_Stuff/Code/RNNs/optuna_results'\n",
    "\n",
    "    if not os.path.exists(to_save_folder):\n",
    "        os.mkdir(to_save_folder)\n",
    "    \n",
    "    to_save_file = os.path.join(to_save_folder, file_name)\n",
    "    \n",
    "    outfile = open(to_save_file,'wb')\n",
    "    pickle.dump(study,outfile)\n",
    "    outfile.close()\n",
    "\n",
    "    # joblib.dump(study, \"study.pkl\")\n",
    "    \n",
    "def load_study(file_name, on_cluster = False):\n",
    "    \n",
    "    if on_cluster:\n",
    "        to_save_folder = '/scratch/gpfs/erussek/RNN_project/optuna_results'\n",
    "    else:\n",
    "        to_save_folder = '/Users/evanrussek/Dropbox/Griffiths_Lab_Stuff/Code/RNNs/optuna_results'\n",
    "\n",
    "    if not os.path.exists(to_save_folder):\n",
    "        os.mkdir(to_save_folder)\n",
    "    \n",
    "    to_save_file = os.path.join(to_save_folder, file_name)\n",
    "    \n",
    "    infile = open(to_save_file,'rb')\n",
    "    loaded_study = pickle.load(infile)\n",
    "    infile.close()\n",
    "    \n",
    "    return loaded_study"
   ]
  },
  {
   "cell_type": "code",
   "execution_count": 21,
   "id": "da14f1bc-8285-4c37-aa34-ec87e405d9ad",
   "metadata": {},
   "outputs": [],
   "source": [
    "save_study(study, 'scratch1_optuna_results')"
   ]
  },
  {
   "cell_type": "code",
   "execution_count": 27,
   "id": "a8098635-fff1-48af-8767-afad1c2fb8cf",
   "metadata": {},
   "outputs": [],
   "source": [
    "new_study = load_study('scratch1_optuna_results')\n"
   ]
  },
  {
   "cell_type": "code",
   "execution_count": 28,
   "id": "a05e9be5-9c67-45f0-a351-4b0847062005",
   "metadata": {},
   "outputs": [
    {
     "data": {
      "text/plain": [
       "<optuna.study.study.Study at 0x7fdc404518e0>"
      ]
     },
     "execution_count": 28,
     "metadata": {},
     "output_type": "execute_result"
    }
   ],
   "source": [
    "new_study"
   ]
  },
  {
   "cell_type": "code",
   "execution_count": null,
   "id": "5cd738f6-f298-4128-9a93-10fc7c23fe80",
   "metadata": {},
   "outputs": [],
   "source": []
  }
 ],
 "metadata": {
  "kernelspec": {
   "display_name": "Python [conda env:pDL] *",
   "language": "python",
   "name": "conda-env-pDL-py"
  },
  "language_info": {
   "codemirror_mode": {
    "name": "ipython",
    "version": 3
   },
   "file_extension": ".py",
   "mimetype": "text/x-python",
   "name": "python",
   "nbconvert_exporter": "python",
   "pygments_lexer": "ipython3",
   "version": "3.8.12"
  }
 },
 "nbformat": 4,
 "nbformat_minor": 5
}
