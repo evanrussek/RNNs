{
 "cells": [
  {
   "cell_type": "code",
   "execution_count": 6,
   "id": "73da6076-af16-4f04-baeb-d497a9166196",
   "metadata": {},
   "outputs": [
    {
     "name": "stderr",
     "output_type": "stream",
     "text": [
      "\u001b[32m[I 2022-02-15 12:10:53,234]\u001b[0m A new study created in memory with name: no-name-c0763a8e-dde5-43eb-ace0-e0b363e3842a\u001b[0m\n",
      "/home/erussek/.conda/envs/pDL/lib/python3.8/site-packages/optuna/distributions.py:560: UserWarning: The distribution is specified by [2, 200] and step=5, but the range is not divisible by `step`. It will be replaced by [2, 197].\n",
      "  warnings.warn(\n"
     ]
    },
    {
     "name": "stdout",
     "output_type": "stream",
     "text": [
      "[Epoch 1/1] loss: 5.0294 (MSE) - test_loss: 4.4747 (MSE)\n"
     ]
    },
    {
     "name": "stderr",
     "output_type": "stream",
     "text": [
      "\u001b[32m[I 2022-02-15 12:11:50,665]\u001b[0m Trial 0 finished with value: 4.474749846572876 and parameters: {'hidden_size': 7, 'lr': 0.0037853909196601558}. Best is trial 0 with value: 4.474749846572876.\u001b[0m\n"
     ]
    },
    {
     "name": "stdout",
     "output_type": "stream",
     "text": [
      "--- 57.43242526054382 seconds ---\n"
     ]
    }
   ],
   "source": [
    "%run run_optuna_on_sim.py"
   ]
  },
  {
   "cell_type": "code",
   "execution_count": 1,
   "id": "cd3a3cff-8ac8-4b54-8e3f-898e86d6fb5d",
   "metadata": {},
   "outputs": [],
   "source": [
    "import torch"
   ]
  },
  {
   "cell_type": "code",
   "execution_count": 2,
   "id": "b57345d8-794d-4e9d-9ae6-882a25db4690",
   "metadata": {},
   "outputs": [
    {
     "data": {
      "text/plain": [
       "True"
      ]
     },
     "execution_count": 2,
     "metadata": {},
     "output_type": "execute_result"
    }
   ],
   "source": [
    "torch.cuda.is_available()"
   ]
  },
  {
   "cell_type": "code",
   "execution_count": null,
   "id": "2a3a3d22-965c-4561-adec-64e8d870fd57",
   "metadata": {},
   "outputs": [],
   "source": []
  }
 ],
 "metadata": {
  "kernelspec": {
   "display_name": "pDL [~/.conda/envs/pDL/]",
   "language": "python",
   "name": "conda_pdl"
  },
  "language_info": {
   "codemirror_mode": {
    "name": "ipython",
    "version": 3
   },
   "file_extension": ".py",
   "mimetype": "text/x-python",
   "name": "python",
   "nbconvert_exporter": "python",
   "pygments_lexer": "ipython3",
   "version": "3.8.12"
  }
 },
 "nbformat": 4,
 "nbformat_minor": 5
}
