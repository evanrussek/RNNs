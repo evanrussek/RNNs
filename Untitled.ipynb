{
 "cells": [
  {
   "cell_type": "code",
   "execution_count": 3,
   "id": "d47efb0d-4d15-4e32-a983-95372787734a",
   "metadata": {},
   "outputs": [],
   "source": [
    "from main_as_fun import *\n",
    "\n",
    "model_name = \"LSTM\"\n",
    "train_seq_part = \"fix_and_choice\"\n",
    "n_sim_seqs = 1000\n",
    "n_human_seqs = 1000\n",
    "run_idx = 1"
   ]
  },
  {
   "cell_type": "code",
   "execution_count": 5,
   "id": "da332045-c968-4348-b789-a9f8b664e90e",
   "metadata": {},
   "outputs": [
    {
     "name": "stdout",
     "output_type": "stream",
     "text": [
      "{'model_name': 'LSTM', 'train_seq_part': 'fix_and_choice', 'n_simulation_sequences_train': 1000, 'n_human_sequences_train': 1000, 'n_sequences_test': 1000.0, 'n_sequences_final_performance': 1000.0, 'd_model': 128, 'n_layers': 2, 'n_head': 2, 'sim_lr': 0.001, 'human_lr': 0.001, 'batch_size': 32, 'run_idx': 1, 'on_cluster': False, 'test_batch_increment_sim': 100000.0, 'test_batch_increment_human': 100}\n",
      "<class 'int'>\n",
      "Loading Data\n",
      "SimpleLSTM(\n",
      "  (lstm): LSTM(6, 128, batch_first=True)\n",
      "  (linear): Linear(in_features=128, out_features=3, bias=True)\n",
      ")\n",
      "Training the model\n",
      "Training on simulated data\n",
      "Training on human data\n",
      "Evaluating trained model performance\n",
      "Saving the model and results\n"
     ]
    }
   ],
   "source": [
    "\n",
    "# Call key function !\n",
    "main_as_fun(model_name=model_name, train_seq_part = train_seq_part, n_simulation_sequences_train = n_sim_seqs, n_human_sequences_train = n_human_seqs, run_idx=run_idx, human_lr = 1e-3, test_batch_increment_sim = 1e5, test_batch_increment_human = 100, on_cluster = False) # test human every 100 iters?"
   ]
  },
  {
   "cell_type": "code",
   "execution_count": null,
   "id": "b5e63efa-6894-471e-9ab6-28ebef54b1cf",
   "metadata": {},
   "outputs": [],
   "source": []
  }
 ],
 "metadata": {
  "kernelspec": {
   "display_name": "Python 3 (ipykernel)",
   "language": "python",
   "name": "python3"
  },
  "language_info": {
   "codemirror_mode": {
    "name": "ipython",
    "version": 3
   },
   "file_extension": ".py",
   "mimetype": "text/x-python",
   "name": "python",
   "nbconvert_exporter": "python",
   "pygments_lexer": "ipython3",
   "version": "3.9.13"
  }
 },
 "nbformat": 4,
 "nbformat_minor": 5
}
