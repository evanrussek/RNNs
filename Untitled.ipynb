{
 "cells": [
  {
   "cell_type": "code",
   "execution_count": 2,
   "id": "73da6076-af16-4f04-baeb-d497a9166196",
   "metadata": {},
   "outputs": [
    {
     "name": "stderr",
     "output_type": "stream",
     "text": [
      "\u001b[32m[I 2022-02-15 11:45:16,559]\u001b[0m A new study created in memory with name: no-name-09a2d9fb-fbcc-4b4b-bdbc-7f5f7d2ccdf1\u001b[0m\n",
      "/Users/evanrussek/opt/anaconda3/envs/pDL/lib/python3.8/site-packages/optuna/distributions.py:560: UserWarning: The distribution is specified by [2, 200] and step=5, but the range is not divisible by `step`. It will be replaced by [2, 197].\n",
      "  warnings.warn(\n",
      "\u001b[32m[I 2022-02-15 11:45:26,167]\u001b[0m Trial 0 finished with value: 6.8321835199991865 and parameters: {'hidden_size': 57, 'lr': 0.009513493756114535}. Best is trial 0 with value: 6.8321835199991865.\u001b[0m\n"
     ]
    },
    {
     "name": "stdout",
     "output_type": "stream",
     "text": [
      "[Epoch 1/1] loss: 14.7095 (MSE) - test_loss: 6.8322 (MSE)\n",
      "--- 9.605180978775024 seconds ---\n"
     ]
    }
   ],
   "source": [
    "%run run_optuna_on_sim.py"
   ]
  },
  {
   "cell_type": "code",
   "execution_count": null,
   "id": "cd3a3cff-8ac8-4b54-8e3f-898e86d6fb5d",
   "metadata": {},
   "outputs": [],
   "source": []
  }
 ],
 "metadata": {
  "kernelspec": {
   "display_name": "Python [conda env:pDL] *",
   "language": "python",
   "name": "conda-env-pDL-py"
  },
  "language_info": {
   "codemirror_mode": {
    "name": "ipython",
    "version": 3
   },
   "file_extension": ".py",
   "mimetype": "text/x-python",
   "name": "python",
   "nbconvert_exporter": "python",
   "pygments_lexer": "ipython3",
   "version": "3.8.12"
  }
 },
 "nbformat": 4,
 "nbformat_minor": 5
}
