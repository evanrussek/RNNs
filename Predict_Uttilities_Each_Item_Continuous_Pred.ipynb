{
 "cells": [
  {
   "cell_type": "markdown",
   "id": "13cb7eab-0e46-425c-92ac-d3db8ea18be7",
   "metadata": {},
   "source": [
    "## 1. Structure Dataset"
   ]
  },
  {
   "cell_type": "code",
   "execution_count": 1,
   "id": "a02a033d-2d6d-4736-a44f-f60b900d05c4",
   "metadata": {},
   "outputs": [],
   "source": [
    "import json\n",
    "import numpy as np\n",
    "import matplotlib.pyplot as plt\n",
    "# funcs stolen from nyu deep learning course\n",
    "from res.sequential_tasks import pad_sequences, to_categorical\n",
    "import os"
   ]
  },
  {
   "cell_type": "code",
   "execution_count": 2,
   "id": "d5193ea2-f937-4d41-b62a-8ba5babfbc2b",
   "metadata": {},
   "outputs": [],
   "source": [
    "data_path = '/Users/evanrussek/Dropbox/Griffiths_Lab_Stuff/Data/RNNs/optimal_fixation_sims'\n",
    "# os.path.join(to_save_folder, file_name)\n",
    "train_file_idxs = range(1,16)\n",
    "test_file_idxs = range(16,31)\n",
    "\n",
    "train_files = [os.path.join(data_path, str(i) + '.json') for i in train_file_idxs]\n",
    "test_files = [os.path.join(data_path, str(i) + '.json') for i in test_file_idxs]\n",
    "\n",
    "a = [json.load(open(train_files[i])) for i in range(15)]\n",
    "train_trials = [item for sublist in a for item in sublist]\n",
    "del a\n",
    "train_data_sim = train_trials[:int(1e6)]\n",
    "\n",
    "test_trials = json.load(open(test_files[0]))\n",
    "test_data_sim = test_trials[:int(1e5)]\n",
    "\n"
   ]
  },
  {
   "cell_type": "code",
   "execution_count": 44,
   "id": "f608c584-e28d-4c15-88a1-848627d529fe",
   "metadata": {},
   "outputs": [
    {
     "data": {
      "text/plain": [
       "array([ 1,  2,  3,  4,  5,  6,  7,  8,  9, 10])"
      ]
     },
     "execution_count": 44,
     "metadata": {},
     "output_type": "execute_result"
    }
   ],
   "source": [
    "np.unique(np.array([train_trials[i]['value'] for i in range(len(train_trials))]))"
   ]
  },
  {
   "cell_type": "code",
   "execution_count": 45,
   "id": "4fd424f1-e89f-4bb4-be56-a1ffe5018b57",
   "metadata": {},
   "outputs": [],
   "source": [
    "def gen_batch_data(batch_size, batch_idx, sim_data):\n",
    "# can you also pass the index on which this starts... \n",
    "#sim_data = train_data_sim\n",
    "#batch_idx = 0\n",
    "#batch_size = 32\n",
    "\n",
    "    \"\"\"\n",
    "    Create sequence and target data for a batch\n",
    "\n",
    "    Input: \n",
    "        batch_size: number of trials to include in batch\n",
    "        batch_idx: index of data\n",
    "        sim_data: list of dicts, where each dict has 'values', 'fixations', and 'choice'\n",
    "\n",
    "    Returns:\n",
    "        a tuple, (batch_data, batch_targets)\n",
    "        batch_data is 3d array: batch_size x sequence_size x one-hot categorical encoding (3 here)\n",
    "        batch_targets is 2d array: \n",
    "    \"\"\"\n",
    "\n",
    "    # filter list of trials that are in this batch\n",
    "    batch_sim_data = sim_data[batch_idx*batch_size:((batch_idx+1)*(batch_size))]\n",
    "\n",
    "    ## generate sequences of fixations + choice\n",
    "\n",
    "    # all sequences in the batch, attended item is coded as idx (as 0, 1, 2)\n",
    "    batch_sequences_idx = [trial_data['fixations'] + [trial_data['choice']-1] for trial_data in batch_sim_data]\n",
    "\n",
    "    # all sequences in the batch, attended item coded as one-hot categorical: e.g. 0: [1,0,0] 1: [0,1,0], [0,0,1]\n",
    "    batch_sequences_cat = [[to_categorical(x, num_classes = 3) for x in this_sequence] for this_sequence in batch_sequences_idx]\n",
    "\n",
    "    # pad front of each sequence with n x [0,0,0] so that all seqeunces are same length\n",
    "    batch_data = pad_sequences(batch_sequences_cat)\n",
    "    batch_data = batch_data.astype('float32')\n",
    "\n",
    "    ## generate sequences of targets \n",
    "    batch_targets = np.array([trial_data['value'] for trial_data in batch_sim_data], dtype = 'float32')\n",
    "    # extend this to match the size of the batch_data\n",
    "    \n",
    "    \n",
    "    # all sequences in the batch, attended item is coded as idx (as 0, 1, 2)\n",
    "    batch_fixation_sequences_idx = [trial_data['fixations'] for trial_data in batch_sim_data]\n",
    "    batch_choices_idx = [trial_data['choice'] - 1 for trial_data in batch_sim_data]\n",
    "\n",
    "    # first 3 are fixation, last is choice...\n",
    "    batch_sequences_cat = [[to_categorical(x, num_classes = 6) for x in this_sequence] for this_sequence in batch_sequences_idx]\n",
    "\n",
    "    # now append to each of these the choice info - the choice gets it's own channel (of 3)\n",
    "    batch_sequences_cat_w_choices = [batch_sequences_cat[i] + [to_categorical(3 + batch_choices_idx[i], num_classes = 6)] for i in range(len(batch_sequences_cat))]\n",
    "    batch_data = pad_sequences(batch_sequences_cat_w_choices)\n",
    "    batch_data = batch_data.astype('float32')\n",
    "\n",
    "    batch_targets_init = np.array([trial_data['value'] for trial_data in batch_sim_data], dtype = 'float32')\n",
    "    batch_targets_cont = [np.repeat([batch_targets_init[i]],len(batch_sequences_cat_w_choices[i]),axis=0) for i in range(len(batch_sequences_cat_w_choices))]\n",
    "    #batch_targets_cont = [np.repeat([batch_targets_init[i]],len(batch_sequences_cat[i]),axis=0) for i in range(len(batch_sequences_cat))]\n",
    "\n",
    "    batch_targets = pad_sequences(batch_targets_cont)\n",
    "    batch_targets = batch_targets.astype('float32')\n",
    "    \n",
    "    first_fixations = np.array([np.where(batch_targets[i,:,:] != [0,0,0])[0][0] for i in range(batch_targets.shape[0])])\n",
    "    \n",
    "\n",
    "    return (batch_data, batch_targets)"
   ]
  },
  {
   "cell_type": "code",
   "execution_count": 46,
   "id": "c75b5442-2ef0-413b-a4ef-002b1e3ac946",
   "metadata": {},
   "outputs": [],
   "source": [
    "def gen_batch_data_choice_only(batch_size, batch_idx, sim_data):\n",
    "    # filter list of trials that are in this batch\n",
    "    batch_sim_data = sim_data[batch_idx*batch_size:((batch_idx+1)*(batch_size))]\n",
    "\n",
    "    # all sequences in the batch, attended item is coded as idx (as 0, 1, 2)\n",
    "    batch_choices_idx = [trial_data['choice'] - 1 for trial_data in batch_sim_data]\n",
    "\n",
    "    batch_data = to_categorical(batch_choices_idx)\n",
    "    batch_data = batch_data.astype('float32')\n",
    "\n",
    "    batch_targets = np.array([trial_data['value'] for trial_data in batch_sim_data], dtype = 'float32')\n",
    "    batch_targets= batch_targets.astype('float32')\n",
    "    return (batch_data, batch_targets)\n"
   ]
  },
  {
   "cell_type": "code",
   "execution_count": 47,
   "id": "f3a2cc6b-15a6-4ca2-ba52-0d90f703cad0",
   "metadata": {},
   "outputs": [
    {
     "name": "stdout",
     "output_type": "stream",
     "text": [
      "The return type is a <class 'tuple'> with length 2.\n",
      "The first item in the tuple is the batch of sequences with shape (32, 86, 6).\n",
      "The first element in the batch of sequences is:\n",
      " [[0. 0. 0. 0. 0. 0.]\n",
      " [0. 0. 0. 0. 0. 0.]\n",
      " [0. 0. 0. 0. 0. 0.]\n",
      " [0. 0. 0. 0. 0. 0.]\n",
      " [0. 0. 0. 0. 0. 0.]\n",
      " [0. 0. 0. 0. 0. 0.]\n",
      " [0. 0. 0. 0. 0. 0.]\n",
      " [0. 0. 0. 0. 0. 0.]\n",
      " [0. 0. 0. 0. 0. 0.]\n",
      " [0. 0. 0. 0. 0. 0.]\n",
      " [0. 0. 0. 0. 0. 0.]\n",
      " [0. 0. 0. 0. 0. 0.]\n",
      " [0. 0. 0. 0. 0. 0.]\n",
      " [1. 0. 0. 0. 0. 0.]\n",
      " [0. 1. 0. 0. 0. 0.]\n",
      " [0. 1. 0. 0. 0. 0.]\n",
      " [0. 1. 0. 0. 0. 0.]\n",
      " [0. 1. 0. 0. 0. 0.]\n",
      " [0. 1. 0. 0. 0. 0.]\n",
      " [0. 1. 0. 0. 0. 0.]\n",
      " [0. 0. 1. 0. 0. 0.]\n",
      " [0. 0. 1. 0. 0. 0.]\n",
      " [0. 0. 1. 0. 0. 0.]\n",
      " [0. 0. 1. 0. 0. 0.]\n",
      " [0. 0. 1. 0. 0. 0.]\n",
      " [0. 0. 1. 0. 0. 0.]\n",
      " [0. 0. 1. 0. 0. 0.]\n",
      " [0. 0. 1. 0. 0. 0.]\n",
      " [1. 0. 0. 0. 0. 0.]\n",
      " [1. 0. 0. 0. 0. 0.]\n",
      " [1. 0. 0. 0. 0. 0.]\n",
      " [1. 0. 0. 0. 0. 0.]\n",
      " [0. 1. 0. 0. 0. 0.]\n",
      " [0. 1. 0. 0. 0. 0.]\n",
      " [0. 1. 0. 0. 0. 0.]\n",
      " [0. 1. 0. 0. 0. 0.]\n",
      " [0. 1. 0. 0. 0. 0.]\n",
      " [0. 0. 1. 0. 0. 0.]\n",
      " [0. 0. 1. 0. 0. 0.]\n",
      " [0. 0. 1. 0. 0. 0.]\n",
      " [0. 0. 1. 0. 0. 0.]\n",
      " [0. 0. 1. 0. 0. 0.]\n",
      " [0. 0. 1. 0. 0. 0.]\n",
      " [0. 0. 1. 0. 0. 0.]\n",
      " [0. 0. 1. 0. 0. 0.]\n",
      " [0. 0. 1. 0. 0. 0.]\n",
      " [0. 0. 1. 0. 0. 0.]\n",
      " [0. 0. 1. 0. 0. 0.]\n",
      " [0. 0. 1. 0. 0. 0.]\n",
      " [0. 0. 1. 0. 0. 0.]\n",
      " [0. 0. 1. 0. 0. 0.]\n",
      " [0. 0. 1. 0. 0. 0.]\n",
      " [0. 0. 1. 0. 0. 0.]\n",
      " [0. 0. 1. 0. 0. 0.]\n",
      " [0. 0. 1. 0. 0. 0.]\n",
      " [0. 0. 1. 0. 0. 0.]\n",
      " [0. 0. 1. 0. 0. 0.]\n",
      " [0. 0. 1. 0. 0. 0.]\n",
      " [0. 0. 1. 0. 0. 0.]\n",
      " [0. 0. 1. 0. 0. 0.]\n",
      " [0. 1. 0. 0. 0. 0.]\n",
      " [0. 1. 0. 0. 0. 0.]\n",
      " [0. 1. 0. 0. 0. 0.]\n",
      " [0. 1. 0. 0. 0. 0.]\n",
      " [0. 1. 0. 0. 0. 0.]\n",
      " [0. 1. 0. 0. 0. 0.]\n",
      " [1. 0. 0. 0. 0. 0.]\n",
      " [1. 0. 0. 0. 0. 0.]\n",
      " [1. 0. 0. 0. 0. 0.]\n",
      " [1. 0. 0. 0. 0. 0.]\n",
      " [1. 0. 0. 0. 0. 0.]\n",
      " [1. 0. 0. 0. 0. 0.]\n",
      " [1. 0. 0. 0. 0. 0.]\n",
      " [1. 0. 0. 0. 0. 0.]\n",
      " [1. 0. 0. 0. 0. 0.]\n",
      " [1. 0. 0. 0. 0. 0.]\n",
      " [1. 0. 0. 0. 0. 0.]\n",
      " [1. 0. 0. 0. 0. 0.]\n",
      " [1. 0. 0. 0. 0. 0.]\n",
      " [1. 0. 0. 0. 0. 0.]\n",
      " [1. 0. 0. 0. 0. 0.]\n",
      " [1. 0. 0. 0. 0. 0.]\n",
      " [1. 0. 0. 0. 0. 0.]\n",
      " [1. 0. 0. 0. 0. 0.]\n",
      " [1. 0. 0. 0. 0. 0.]\n",
      " [0. 0. 0. 1. 0. 0.]]\n",
      "The second item in the tuple is the corresponding batch of targets with shape (32, 86, 3).\n",
      "The first element in the batch of targets is:\n",
      " [[0. 0. 0.]\n",
      " [0. 0. 0.]\n",
      " [0. 0. 0.]\n",
      " [0. 0. 0.]\n",
      " [0. 0. 0.]\n",
      " [0. 0. 0.]\n",
      " [0. 0. 0.]\n",
      " [0. 0. 0.]\n",
      " [0. 0. 0.]\n",
      " [0. 0. 0.]\n",
      " [0. 0. 0.]\n",
      " [0. 0. 0.]\n",
      " [0. 0. 0.]\n",
      " [4. 2. 3.]\n",
      " [4. 2. 3.]\n",
      " [4. 2. 3.]\n",
      " [4. 2. 3.]\n",
      " [4. 2. 3.]\n",
      " [4. 2. 3.]\n",
      " [4. 2. 3.]\n",
      " [4. 2. 3.]\n",
      " [4. 2. 3.]\n",
      " [4. 2. 3.]\n",
      " [4. 2. 3.]\n",
      " [4. 2. 3.]\n",
      " [4. 2. 3.]\n",
      " [4. 2. 3.]\n",
      " [4. 2. 3.]\n",
      " [4. 2. 3.]\n",
      " [4. 2. 3.]\n",
      " [4. 2. 3.]\n",
      " [4. 2. 3.]\n",
      " [4. 2. 3.]\n",
      " [4. 2. 3.]\n",
      " [4. 2. 3.]\n",
      " [4. 2. 3.]\n",
      " [4. 2. 3.]\n",
      " [4. 2. 3.]\n",
      " [4. 2. 3.]\n",
      " [4. 2. 3.]\n",
      " [4. 2. 3.]\n",
      " [4. 2. 3.]\n",
      " [4. 2. 3.]\n",
      " [4. 2. 3.]\n",
      " [4. 2. 3.]\n",
      " [4. 2. 3.]\n",
      " [4. 2. 3.]\n",
      " [4. 2. 3.]\n",
      " [4. 2. 3.]\n",
      " [4. 2. 3.]\n",
      " [4. 2. 3.]\n",
      " [4. 2. 3.]\n",
      " [4. 2. 3.]\n",
      " [4. 2. 3.]\n",
      " [4. 2. 3.]\n",
      " [4. 2. 3.]\n",
      " [4. 2. 3.]\n",
      " [4. 2. 3.]\n",
      " [4. 2. 3.]\n",
      " [4. 2. 3.]\n",
      " [4. 2. 3.]\n",
      " [4. 2. 3.]\n",
      " [4. 2. 3.]\n",
      " [4. 2. 3.]\n",
      " [4. 2. 3.]\n",
      " [4. 2. 3.]\n",
      " [4. 2. 3.]\n",
      " [4. 2. 3.]\n",
      " [4. 2. 3.]\n",
      " [4. 2. 3.]\n",
      " [4. 2. 3.]\n",
      " [4. 2. 3.]\n",
      " [4. 2. 3.]\n",
      " [4. 2. 3.]\n",
      " [4. 2. 3.]\n",
      " [4. 2. 3.]\n",
      " [4. 2. 3.]\n",
      " [4. 2. 3.]\n",
      " [4. 2. 3.]\n",
      " [4. 2. 3.]\n",
      " [4. 2. 3.]\n",
      " [4. 2. 3.]\n",
      " [4. 2. 3.]\n",
      " [4. 2. 3.]\n",
      " [4. 2. 3.]\n",
      " [4. 2. 3.]]\n"
     ]
    }
   ],
   "source": [
    "example_batch = gen_batch_data(32, 0, train_data_sim) # batch size = 32, idx = 0\n",
    "print(f'The return type is a {type(example_batch)} with length {len(example_batch)}.')\n",
    "print(f'The first item in the tuple is the batch of sequences with shape {example_batch[0].shape}.')\n",
    "print(f'The first element in the batch of sequences is:\\n {example_batch[0][0, :, :]}')\n",
    "print(f'The second item in the tuple is the corresponding batch of targets with shape {example_batch[1].shape}.')\n",
    "print(f'The first element in the batch of targets is:\\n {example_batch[1][0, :]}')\n",
    "# print(f'The first element in fixations is:\\n {example_batch[2][0]}')\n"
   ]
  },
  {
   "cell_type": "code",
   "execution_count": 48,
   "id": "dce04c1e-6bb2-424e-ae21-938d25d7ef8c",
   "metadata": {},
   "outputs": [
    {
     "name": "stdout",
     "output_type": "stream",
     "text": [
      "The return type is a <class 'tuple'> with length 2.\n",
      "The first item in the tuple is the batch of sequences with shape (32, 3).\n",
      "The first element in the batch of sequences is:\n",
      " [1. 0. 0.]\n",
      "The second item in the tuple is the corresponding batch of targets with shape (32, 3).\n",
      "The first element in the batch of targets is:\n",
      " [4. 2. 3.]\n"
     ]
    }
   ],
   "source": [
    "example_batch = gen_batch_data_choice_only(32, 0, train_data_sim) # batch size = 32, idx = 0\n",
    "print(f'The return type is a {type(example_batch)} with length {len(example_batch)}.')\n",
    "print(f'The first item in the tuple is the batch of sequences with shape {example_batch[0].shape}.')\n",
    "print(f'The first element in the batch of sequences is:\\n {example_batch[0][0, :]}')\n",
    "print(f'The second item in the tuple is the corresponding batch of targets with shape {example_batch[1].shape}.')\n",
    "print(f'The first element in the batch of targets is:\\n {example_batch[1][0, :]}')"
   ]
  },
  {
   "cell_type": "markdown",
   "id": "616a57c2-50ba-4d0d-ba0f-d3b9dd436111",
   "metadata": {},
   "source": [
    "## 2. Defining the Model"
   ]
  },
  {
   "cell_type": "code",
   "execution_count": 49,
   "id": "f86e602c-b396-4abe-aab2-0ecf1f4ea6b1",
   "metadata": {},
   "outputs": [],
   "source": [
    "import torch\n",
    "import torch.nn as nn\n",
    "import torch.nn.functional as F\n",
    "\n",
    "# Set the random seed for reproducible results\n",
    "\n",
    "class SimpleRNN(nn.Module):\n",
    "    def __init__(self, input_size, hidden_size, output_size):\n",
    "        # This just calls the base class constructor\n",
    "        super().__init__()\n",
    "        # Neural network layers assigned as attributes of a Module subclass\n",
    "        # have their parameters registered for training automatically.\n",
    "        self.rnn = torch.nn.RNN(input_size, hidden_size, nonlinearity='relu', batch_first=True)\n",
    "        self.linear = torch.nn.Linear(hidden_size, output_size)\n",
    "\n",
    "    def forward(self, x):\n",
    "        # The RNN also returns its hidden state but we don't use it.\n",
    "        # While the RNN can also take a hidden state as input, the RNN\n",
    "        # gets passed a hidden state initialized with zeros by default.\n",
    "        h = self.rnn(x)[0]\n",
    "        x = self.linear(h)\n",
    "        return x\n",
    "    \n",
    "class SimpleLSTM(nn.Module):\n",
    "    def __init__(self, input_size, hidden_size, output_size):\n",
    "        super().__init__()\n",
    "        self.lstm = torch.nn.LSTM(input_size, hidden_size, batch_first=True)\n",
    "        self.linear = torch.nn.Linear(hidden_size, output_size)\n",
    "\n",
    "    def forward(self, x):\n",
    "        h = self.lstm(x)[0]\n",
    "        x = self.linear(h)\n",
    "        return x\n",
    "    \n",
    "    def get_states_across_time(self, x):\n",
    "        h_c = None\n",
    "        h_list, c_list = list(), list()\n",
    "        with torch.no_grad():\n",
    "            for t in range(x.size(1)):\n",
    "                h_c = self.lstm(x[:, [t], :], h_c)[1]\n",
    "                h_list.append(h_c[0])\n",
    "                c_list.append(h_c[1])\n",
    "            h = torch.cat(h_list)\n",
    "            c = torch.cat(c_list)\n",
    "        return h, c\n",
    "    \n",
    "class SimpleMLP(nn.Module):\n",
    "    def __init__(self, input_size, hidden_size, output_size):\n",
    "        super().__init__()\n",
    "\n",
    "        self.input_hidden = nn.Linear(input_size, hidden_size)\n",
    "        self.hidden_output = nn.Linear(hidden_size, output_size)\n",
    "    def forward(self, x):\n",
    "        ha = self.input_hidden(x)\n",
    "        hb = F.relu(ha)\n",
    "        o = self.hidden_output(hb)\n",
    "        return o\n"
   ]
  },
  {
   "cell_type": "markdown",
   "id": "1a0d69b7-62b6-4660-a1f0-f4583ce49644",
   "metadata": {},
   "source": [
    "## 3. Defining the Training Loop"
   ]
  },
  {
   "cell_type": "code",
   "execution_count": 50,
   "id": "716c3703-b5cc-4758-9a82-de3ca991514d",
   "metadata": {},
   "outputs": [],
   "source": [
    "def train(model, train_sim_data, criterion, optimizer, device, batch_size, n_total_seq):\n",
    "    # Set the model to training mode. This will turn on layers that would\n",
    "    # otherwise behave differently during evaluation, such as dropout.\n",
    "    model.train()\n",
    "\n",
    "    # What metric to store?\n",
    "    # num_correct = 0\n",
    "\n",
    "    # Iterate over every batch of sequences. Note that the length of a data generator\n",
    "    # is defined as the number of batches required to produce a total of roughly 1000\n",
    "    # sequences given a batch size.\n",
    "        \n",
    "    # how many batches\n",
    "    n_batches = int(np.round(n_total_seq/batch_size));\n",
    "    \n",
    "    for batch_idx in range(n_batches):\n",
    "\n",
    "        # Request a batch of sequences and class labels, convert them into tensors\n",
    "        # of the correct type, and then send them to the appropriate device.\n",
    "        #data, target = train_data_gen[batch_idx] # just alter this to the function that produces the data?\n",
    "        data, target = gen_batch_data(batch_size, batch_idx, train_sim_data)\n",
    "        \n",
    "        data, target = torch.from_numpy(data).float().to(device), torch.from_numpy(target).long().to(device)\n",
    "\n",
    "        # Perform the forward pass of the model\n",
    "        output = model(data)  # Step ①\n",
    "\n",
    "        # Pick only the output corresponding to last sequence element (input is pre padded)\n",
    "        output = output[:, -1, :]\n",
    "\n",
    "        # Compute the value of the loss for this batch. For loss functions like CrossEntropyLoss,\n",
    "        # the second argument is actually expected to be a tensor of class indices rather than\n",
    "        # one-hot encoded class labels. One approach is to take advantage of the one-hot encoding\n",
    "        # of the target and call argmax along its second dimension to create a tensor of shape\n",
    "        # (batch_size) containing the index of the class label that was hot for each sequence.\n",
    "        \n",
    "        # for some reason target is an int, and dosn't match the output which is float32\n",
    "        target = target.to(torch.float32)\n",
    "        loss = criterion(output, target)  # Step ②\n",
    "\n",
    "        # Clear the gradient buffers of the optimized parameters.\n",
    "        # Otherwise, gradients from the previous batch would be accumulated.\n",
    "        optimizer.zero_grad()  # Step ③\n",
    "\n",
    "        loss.backward()  # Step ④\n",
    "\n",
    "        optimizer.step()  # Step ⑤\n",
    "        \n",
    "        #y_pred = output.argmax(dim=\n",
    "        \n",
    "        # this is wrong since we're doing regression...\n",
    "        #num_correct += (y_pred == target).sum().item()\n",
    "\n",
    "    #return num_correct, loss.item()\n",
    "    return loss.item()"
   ]
  },
  {
   "cell_type": "markdown",
   "id": "4cf98346-9e9c-4e3b-b4f8-8429df8df956",
   "metadata": {},
   "source": [
    "## 4. Defining the Testing Loop"
   ]
  },
  {
   "cell_type": "code",
   "execution_count": 57,
   "id": "6b6f396f-0d7f-48a8-8ee7-ed0aa1e2ecc7",
   "metadata": {},
   "outputs": [],
   "source": [
    "# Define the testing loop\n",
    "def test(model, test_sim_data, criterion, device, batch_size, n_total_seq, gen_batch_data):\n",
    "    # Set the model to evaluation mode. This will turn off layers that would\n",
    "    # otherwise behave differently during training, such as dropout.\n",
    "    model.eval()\n",
    "\n",
    "    # Store the number of sequences that were classified correctly\n",
    "    # num_correct = 0\n",
    "    \n",
    "    n_total_seq = 1000\n",
    "\n",
    "    n_batches = int(np.round(n_total_seq / batch_size));\n",
    "\n",
    "    loss_res = np.zeros((n_batches, 1), dtype=float)\n",
    "\n",
    "    # A context manager is used to disable gradient calculations during inference\n",
    "    # to reduce memory usage, as we typically don't need the gradients at this point.\n",
    "    with torch.no_grad():\n",
    "        for batch_idx in range(n_batches):\n",
    "            data, target = gen_batch_data(batch_size, batch_idx, test_sim_data)\n",
    "            data, target = torch.from_numpy(data).float().to(device), torch.from_numpy(target).long().to(device)\n",
    "\n",
    "            output = model(data)\n",
    "            \n",
    "            to_keep = target != 0\n",
    "            target = target[to_keep]\n",
    "            output = output[to_keep]\n",
    "            \n",
    "            \n",
    "            # Pick only the output corresponding to last sequence element (input is pre padded)\n",
    "            # output = output[:, -1, :]\n",
    "\n",
    "            # target = target.argmax(dim=1)\n",
    "            loss = criterion(output, target)  # is this just for the last batch?\n",
    "\n",
    "            # store the loss\n",
    "            loss_res[batch_idx] = loss.item()\n",
    "\n",
    "            # y_pred = output.argmax(dim=1)\n",
    "            # num_correct += (y_pred == target).sum().item()\n",
    "\n",
    "    # return num_correct, loss.item()\n",
    "    # print(loss_res)\n",
    "    # print(loss.item())\n",
    "\n",
    "    return np.mean(loss_res)  # loss.item()"
   ]
  },
  {
   "cell_type": "code",
   "execution_count": 51,
   "id": "1ad1b61e-9b1d-476d-991a-a192d9daabbf",
   "metadata": {},
   "outputs": [],
   "source": [
    "from IPython import display\n",
    "from IPython.display import clear_output\n",
    "\n",
    "\n",
    "def train_with_int_tests(model, train_sim_data, test_sim_data, criterion, optimizer, device, batch_size, n_total_seq, gen_batch_data, model_name = \"\"):\n",
    "    # Set the model to training mode. This will turn on layers that would\n",
    "    # otherwise behave differently during evaluation, such as dropout.\n",
    "    model.train()\n",
    "    \n",
    "    # What metric to store?\n",
    "    # num_correct = 0\n",
    "\n",
    "    # Iterate over every batch of sequences. Note that the length of a data generator\n",
    "    # is defined as the number of batches required to produce a total of roughly 1000\n",
    "    # sequences given a batch size.\n",
    "        \n",
    "    # how many batches\n",
    "    n_batches = int(np.round(n_total_seq/batch_size));\n",
    "    \n",
    "    loss_res = []\n",
    "    train_loss_res = []\n",
    "    batch_num = []\n",
    "\n",
    "    for batch_idx in range(n_batches):\n",
    "\n",
    "        # Request a batch of sequences and class labels, convert them into tensors\n",
    "        # of the correct type, and then send them to the appropriate device.\n",
    "        #data, target = train_data_gen[batch_idx] # just alter this to the function that produces the data?\n",
    "        data, target = gen_batch_data(batch_size, batch_idx, train_sim_data)\n",
    "        \n",
    "        # this needs to change... \n",
    "        data, target = torch.from_numpy(data).float().to(device), torch.from_numpy(target).long().to(device)\n",
    "\n",
    "        # Perform the forward pass of the model\n",
    "        output = model(data)  # Step ①\n",
    "\n",
    "        \n",
    "        # for some reason target is an int, and dosn't match the output which is float32\n",
    "        target = target.to(torch.float32)\n",
    "        \n",
    "        # remove padding (nicely, this is just 0's)\n",
    "        to_keep = target != 0\n",
    "        target = target[to_keep]\n",
    "        output = output[to_keep]\n",
    "        \n",
    "        # need to re-write this function... \n",
    "        loss = criterion(output, target)  # Step ②\n",
    "\n",
    "        # Clear the gradient buffers of the optimized parameters.\n",
    "        # Otherwise, gradients from the previous batch would be accumulated.\n",
    "        optimizer.zero_grad()  # Step ③\n",
    "\n",
    "        loss.backward()  # Step ④\n",
    "\n",
    "        optimizer.step()  # Step ⑤\n",
    "        \n",
    "        if ((batch_idx % 250) == 0) & (batch_idx > 0):\n",
    "            test_loss = test(model, test_data_sim, criterion, device, batch_size, n_total_seq, gen_batch_data)\n",
    "            loss_res.append(test_loss)\n",
    "            \n",
    "            train_loss_res.append(loss.item())\n",
    "            batch_num.append(batch_idx+1)\n",
    "            \n",
    "            clear_output(wait=False)\n",
    "            plt.figure(figsize=(5,5))\n",
    "            plt.plot(np.arange(1,len(loss_res)+1)*250*32, loss_res)\n",
    "            #plt.plot(range(len(train_loss_res)), train_loss_res)\n",
    "            plt.xlabel('# train examples')\n",
    "            plt.ylabel('MSE')\n",
    "            plt.title(model_name)\n",
    "            plt.show();\n",
    "\n",
    "            print('batch num' + str(batch_idx) + ' loss: ' + str(test_loss))\n",
    "\n",
    "    #return num_correct, loss.item()\n",
    "    return model, loss_res, batch_num#loss.item()"
   ]
  },
  {
   "cell_type": "code",
   "execution_count": 39,
   "id": "b965ef0d-43ab-4e01-873a-bd62ab608776",
   "metadata": {},
   "outputs": [],
   "source": [
    "batch_size     = 32\n",
    "n_total_seq = 1e6\n",
    "n_batches = int(np.round(n_total_seq/batch_size));\n",
    "n_tests = int(np.ceil(n_batches/250)) - 1\n",
    "\n",
    "input_size  = 6 # this is the length of the input vector? #train_data_gen.n_symbols\n",
    "hidden_size = 50\n",
    "output_size = 3 # this is the leågth of the output vector #train_data_gen.n_classes\n",
    "model       = SimpleLSTM(input_size, hidden_size, output_size)\n",
    "criterion   = torch.nn.MSELoss() # torch.nn.CrossEntropyLoss()\n",
    "optimizer   = torch.optim.RMSprop(model.parameters(), lr=0.001)\n",
    "# optimizer   = torch.optim.Adam(model.parameters(), lr=0.00304)\n",
    "max_epochs  = 10\n",
    "device = torch.device('cpu')#torch.device('cuda:0' if torch.cuda.is_available() else 'cpu')\\\n",
    "\n",
    "\n",
    "train_sim_data = train_data_sim\n",
    "\n",
    "# Set the model to training mode. This will turn on layers that would\n",
    "# otherwise behave differently during evaluation, such as dropout.\n",
    "model.train()\n",
    "\n",
    "# What metric to store?\n",
    "# num_correct = 0\n",
    "\n",
    "# Iterate over every batch of sequences. Note that the length of a data generator\n",
    "# is defined as the number of batches required to produce a total of roughly 1000\n",
    "# sequences given a batch size.\n",
    "\n",
    "# how many batches\n",
    "n_batches = int(np.round(n_total_seq/batch_size));\n",
    "\n",
    "loss_res = []\n",
    "train_loss_res = []\n",
    "batch_num = []\n",
    "\n",
    "#for batch_idx in range(n_batches):\n",
    "batch_idx=0\n",
    "\n",
    "# Request a batch of sequences and class labels, convert them into tensors\n",
    "# of the correct type, and then send them to the appropriate device.\n",
    "#data, target = train_data_gen[batch_idx] # just alter this to the function that produces the data?\n",
    "data, target, first_fix = gen_batch_data(batch_size, batch_idx, train_sim_data)\n",
    "\n",
    "# this needs to change... \n",
    "data, target, first_fix = torch.from_numpy(data).float().to(device), torch.from_numpy(target).long().to(device), torch.from_numpy(first_fix).long().to(device)\n",
    "\n",
    "# Perform the forward pass of the model\n",
    "output = model(data)  # Step ①\n",
    "\n",
    "# Pick only the output corresponding to last sequence element (input is pre padded)\n",
    "# output = output[:, -1, :]\n",
    "\n",
    "# Compute the value of the loss for this batch. For loss functions like CrossEntropyLoss,\n",
    "# the second argument is actually expected to be a tensor of class indices rather than\n",
    "# one-hot encoded class labels. One approach is to take advantage of the one-hot encoding\n",
    "# of the target and call argmax along its second dimension to create a tensor of shape\n",
    "# (batch_size) containing the index of the class label that was hot for each sequence.\n",
    "\n",
    "# for some reason target is an int, and dosn't match the output which is float32\n",
    "target = target.to(torch.float32)\n",
    "\n",
    "to_keep = target != 0\n",
    "target = target[to_keep]\n",
    "output = output[to_keep]\n",
    "\n",
    "# just go through each sequence \n",
    "# need to re-write this function... \n",
    "loss = criterion(output, target)  # Step ②\n",
    "\n",
    "# Clear the gradient buffers of the optimized parameters.\n",
    "# Otherwise, gradients from the previous batch would be accumulated.\n",
    "optimizer.zero_grad()  # Step ③\n",
    "\n",
    "loss.backward()  # Step ④\n",
    "\n",
    "optimizer.step()  # Step ⑤"
   ]
  },
  {
   "cell_type": "code",
   "execution_count": 37,
   "id": "d246580d-de29-4dbf-9f73-bcde7c37c2f1",
   "metadata": {},
   "outputs": [
    {
     "data": {
      "text/plain": [
       "tensor([-0.1392,  0.0765,  0.1323,  ..., -0.1095,  0.1014,  0.1363],\n",
       "       grad_fn=<IndexBackward0>)"
      ]
     },
     "execution_count": 37,
     "metadata": {},
     "output_type": "execute_result"
    }
   ],
   "source": [
    "to_keep = target != 0\n",
    "target[to_keep]\n",
    "output[to_keep]"
   ]
  },
  {
   "cell_type": "markdown",
   "id": "47c791dc-6dbd-45d4-a928-f815b554109b",
   "metadata": {},
   "source": [
    "## Run the LSTM"
   ]
  },
  {
   "cell_type": "code",
   "execution_count": 67,
   "id": "9cb97ed8-3308-4785-b999-569dc2059c40",
   "metadata": {},
   "outputs": [
    {
     "data": {
      "image/png": "[encoded data removed]",
      "text/plain": [
       "<Figure size 360x360 with 1 Axes>"
      ]
     },
     "metadata": {
      "needs_background": "light"
     },
     "output_type": "display_data"
    },
    {
     "name": "stdout",
     "output_type": "stream",
     "text": [
      "batch num3000 loss: 5.180634229413925\n",
      "--- 83.438148021698 seconds ---\n"
     ]
    }
   ],
   "source": [
    "import time\n",
    "\n",
    "# Setup the training and test data generators\n",
    "batch_size     = 32\n",
    "n_total_seq = 1e5\n",
    "n_batches = int(np.round(n_total_seq/batch_size));\n",
    "n_tests = int(np.ceil(n_batches/250)) - 1\n",
    "\n",
    "n_runs = 5\n",
    "LSTM_run_losses = np.zeros((n_runs, n_tests))\n",
    "for run_idx in range(n_runs):\n",
    "    torch.manual_seed(run_idx)\n",
    "\n",
    "    print(run_idx)\n",
    "\n",
    "    # Setup the RNN and training settings\n",
    "    input_size  = 6 # this is the length of the input vector? #train_data_gen.n_symbols\n",
    "    hidden_size = 50\n",
    "    output_size = 3 # this is the leågth of the output vector #train_data_gen.n_classes\n",
    "    model       = SimpleLSTM(input_size, hidden_size, output_size)\n",
    "    criterion   = torch.nn.MSELoss() # torch.nn.CrossEntropyLoss()\n",
    "    optimizer   = torch.optim.RMSprop(model.parameters(), lr=0.001)\n",
    "    # optimizer   = torch.optim.Adam(model.parameters(), lr=0.00304)\n",
    "    max_epochs  = 10\n",
    "    device = torch.device('cpu')#torch.device('cuda:0' if torch.cuda.is_available() else 'cpu')\n",
    "\n",
    "    # Train the model›\n",
    "    # model = train_and_test(model, train_data_gen, test_data_gen, criterion, optimizer, max_epochs)\n",
    "    start_time = time.time()\n",
    "    # model_LSTM = train_and_test(model, train_data_sim, test_data_sim, criterion, optimizer, max_epochs, batch_size, n_total_seq, verbose=True, model_name = 'LSTM')\n",
    "    device = torch.device('cpu')#torch.device('cuda:0' if torch.cuda.is_available() else 'cpu')\n",
    "    model_LSTM, loss_res, LSTM_batch_num = train_with_int_tests(model, train_data_sim, test_data_sim, criterion, optimizer, device, batch_size, n_total_seq, gen_batch_data, model_name='LSTM')\n",
    "    LSTM_run_losses[run_idx,:] = loss_res\n",
    "    print(\"--- %s seconds ---\" % (time.time() - start_time))"
   ]
  },
  {
   "cell_type": "code",
   "execution_count": 425,
   "id": "38079be5-16c0-408d-823a-87577c6bf941",
   "metadata": {},
   "outputs": [
    {
     "data": {
      "text/plain": [
       "124"
      ]
     },
     "execution_count": 425,
     "metadata": {},
     "output_type": "execute_result"
    }
   ],
   "source": [
    " int(np.ceil(n_batches/250)) - 1"
   ]
  },
  {
   "cell_type": "code",
   "execution_count": 71,
   "id": "a6dd9f2a-158a-4669-b2d8-3c0fcc9696ae",
   "metadata": {},
   "outputs": [
    {
     "data": {
      "text/plain": [
       "Text(0, 0.5, 'MSE (average over 5 runs)')"
      ]
     },
     "execution_count": 71,
     "metadata": {},
     "output_type": "execute_result"
    },
    {
     "data": {
      "image/png": "[encoded data removed]",
      "text/plain": [
       "<Figure size 500x500 with 1 Axes>"
      ]
     },
     "metadata": {
      "needs_background": "light"
     },
     "output_type": "display_data"
    },
    {
     "data": {
      "image/png": "[encoded data removed]",
      "text/plain": [
       "<Figure size 500x500 with 1 Axes>"
      ]
     },
     "metadata": {
      "needs_background": "light"
     },
     "output_type": "display_data"
    }
   ],
   "source": [
    "fig, ax = plt.subplots(1,figsize=(2.5,2.5),dpi=200)\n",
    "ax.plot(np.array(LSTM_batch_num)*32, np.mean(LSTM_run_losses,0))\n",
    "ax.errorbar(np.array(LSTM_batch_num)*32, np.mean(LSTM_run_losses,0),yerr=np.std(LSTM_run_losses,0)/np.sqrt(5))\n",
    "ax.set_xlabel('# Training Examples')\n",
    "ax.set_ylabel('MSE (average over 5 runs)')\n",
    "\n",
    "\n",
    "fig, ax = plt.subplots(1,figsize=(2.5,2.5),dpi=200)\n",
    "for i in range(5):\n",
    "    ax.plot(np.array(LSTM_batch_num)*32, LSTM_run_losses[i,:])\n",
    "ax.set_xlabel('# Training Examples')\n",
    "ax.set_ylabel('MSE (average over 5 runs)')"
   ]
  },
  {
   "cell_type": "markdown",
   "id": "84bf892d-b962-4c9e-98bc-dcebcb21e2e3",
   "metadata": {},
   "source": [
    "#### Run the MLP"
   ]
  },
  {
   "cell_type": "code",
   "execution_count": 416,
   "id": "9cce8418-9dca-45d8-aa1d-ad0e6518cf7b",
   "metadata": {},
   "outputs": [
    {
     "data": {
      "image/png": "[encoded data removed]",
      "text/plain": [
       "<Figure size 360x360 with 1 Axes>"
      ]
     },
     "metadata": {
      "needs_background": "light"
     },
     "output_type": "display_data"
    },
    {
     "name": "stdout",
     "output_type": "stream",
     "text": [
      "batch num3000 loss: 4.731320335019019\n",
      "--- 2.7542788982391357 seconds ---\n"
     ]
    }
   ],
   "source": [
    "# Setup the training and test data generators\n",
    "batch_size     = 32\n",
    "n_total_seq = 1e6\n",
    "n_batches = int(np.round(n_total_seq/batch_size));\n",
    "n_tests = int(np.floor(n_batches/250))\n",
    "\n",
    "n_runs = 10\n",
    "MLP_run_losses = np.zeros((n_runs, n_tests))\n",
    "for run_idx in range(n_runs):\n",
    "    \n",
    "    # Setup the RNN and training settings\n",
    "    input_size  = 3 # this is the length of the input vector? #train_data_gen.n_symbols\n",
    "    hidden_size = 50\n",
    "    output_size = 3 # this is the leågth of the output vector #train_data_gen.n_classes\n",
    "    model       = SimpleMLP(input_size, hidden_size, output_size)\n",
    "    criterion   = torch.nn.MSELoss() # torch.nn.CrossEntropyLoss()\n",
    "    optimizer   = torch.optim.RMSprop(model.parameters(), lr=0.001)\n",
    "    # optimizer   = torch.optim.Adam(model.parameters(), lr=0.00304)\n",
    "    max_epochs  = 10\n",
    "    device = torch.device('cpu')#torch.device('cuda:0' if torch.cuda.is_available() else 'cpu')\n",
    "\n",
    "\n",
    "    # Train the model›\n",
    "    # model = train_and_test(model, train_data_gen, test_data_gen, criterion, optimizer, max_epochs)\n",
    "    start_time = time.time()\n",
    "    # model_LSTM = train_and_test(model, train_data_sim, test_data_sim, criterion, optimizer, max_epochs, batch_size, n_total_seq, verbose=True, model_name = 'LSTM')\n",
    "    device = torch.device('cpu')#torch.device('cuda:0' if torch.cuda.is_available() else 'cpu')\n",
    "    model_MLP, loss_res, batch_num = train_with_int_tests(model, train_data_sim, test_data_sim, criterion, optimizer, device, batch_size, n_total_seq, gen_batch_data_choice_only,model_name='MLP')\n",
    "    MLP_run_losses[run_idx,:] = loss_res\n",
    "    print(\"--- %s seconds ---\" % (time.time() - start_time))"
   ]
  },
  {
   "cell_type": "code",
   "execution_count": 417,
   "id": "b0968b82-c197-42c5-9564-f6bba63cbd45",
   "metadata": {},
   "outputs": [
    {
     "data": {
      "text/plain": [
       "[<matplotlib.lines.Line2D at 0x7f7f361bdbe0>]"
      ]
     },
     "execution_count": 417,
     "metadata": {},
     "output_type": "execute_result"
    },
    {
     "data": {
      "image/png": "[encoded data removed]",
      "text/plain": [
       "<Figure size 500x500 with 1 Axes>"
      ]
     },
     "metadata": {
      "needs_background": "light"
     },
     "output_type": "display_data"
    }
   ],
   "source": [
    "fig, ax = plt.subplots(1,figsize=(5,5),dpi=100)\n",
    "ax.plot(MLP_batch_num, np.mean(MLP_run_losses,0))"
   ]
  },
  {
   "cell_type": "code",
   "execution_count": 418,
   "id": "7fd8b282-2b44-4112-be22-0647850f58d3",
   "metadata": {},
   "outputs": [
    {
     "data": {
      "text/plain": [
       "array([[5.05247456, 4.72887842, 4.73506992, 4.72626009, 4.7505078 ,\n",
       "        4.73071909, 4.73033454, 4.7349431 , 4.72969307, 4.72851447,\n",
       "        4.72912039, 4.73161277],\n",
       "       [5.10863739, 4.73397719, 4.73593975, 4.7257931 , 4.74729532,\n",
       "        4.73075965, 4.72933891, 4.73561884, 4.7290553 , 4.72824646,\n",
       "        4.72971319, 4.73211255],\n",
       "       [5.08877428, 4.73052292, 4.73636217, 4.72623747, 4.74665976,\n",
       "        4.73163445, 4.72971873, 4.73683659, 4.72876289, 4.72855996,\n",
       "        4.72979893, 4.73244918],\n",
       "       [5.29493378, 4.74667125, 4.73538903, 4.72562658, 4.74704859,\n",
       "        4.7310299 , 4.72941914, 4.73396047, 4.72904704, 4.72840331,\n",
       "        4.72961866, 4.73152178],\n",
       "       [5.03297943, 4.73072663, 4.73612312, 4.72609797, 4.74804435,\n",
       "        4.73104469, 4.72973813, 4.73594383, 4.72865758, 4.72840092,\n",
       "        4.72955482, 4.73179143],\n",
       "       [5.16677083, 4.73175038, 4.73578164, 4.7257077 , 4.74730212,\n",
       "        4.7304909 , 4.72943029, 4.73561387, 4.72859029, 4.72810727,\n",
       "        4.729405  , 4.73160476],\n",
       "       [5.22346269, 4.7356249 , 4.73562125, 4.72566402, 4.74728961,\n",
       "        4.73053968, 4.72936644, 4.73520247, 4.72849614, 4.72819128,\n",
       "        4.72943367, 4.73159988],\n",
       "       [5.0879174 , 4.73970172, 4.73557301, 4.72591551, 4.74509535,\n",
       "        4.73055183, 4.72914934, 4.7340991 , 4.72908212, 4.72855936,\n",
       "        4.73013973, 4.73190951],\n",
       "       [5.25102918, 4.74037678, 4.73541061, 4.72560829, 4.74694475,\n",
       "        4.73074853, 4.72956214, 4.73397312, 4.72892552, 4.72855688,\n",
       "        4.72928792, 4.73107721],\n",
       "       [4.98381002, 4.7284421 , 4.73442264, 4.72568337, 4.74897522,\n",
       "        4.73042419, 4.72978329, 4.73376911, 4.72906525, 4.72834516,\n",
       "        4.72912285, 4.73132034]])"
      ]
     },
     "execution_count": 418,
     "metadata": {},
     "output_type": "execute_result"
    }
   ],
   "source": [
    "# MLP_run_losses"
   ]
  },
  {
   "cell_type": "code",
   "execution_count": 63,
   "id": "7ba12711-3892-430d-a15b-9760439b9598",
   "metadata": {},
   "outputs": [],
   "source": [
    "def test_record_each_output(model, test_sim_data, criterion, device, batch_size, n_total_seq, gen_batch_data,out_idx, choice_only=False):\n",
    "    # Set the model to evaluation mode. This will turn off layers that would\n",
    "    # otherwise behave differently during training, such as dropout.\n",
    "    \n",
    "    # print(choice_only)\n",
    "    model.eval()\n",
    "\n",
    "    # Store the number of sequences that were classified correctly\n",
    "    # num_correct = 0\n",
    "\n",
    "    n_batches = int(np.round(n_total_seq/batch_size));\n",
    "\n",
    "    output_all = np.zeros((0,3))\n",
    "    target_all = np.zeros((0,3))\n",
    "\n",
    "    # A context manager is used to disable gradient calculations during inference\n",
    "    # to reduce memory usage, as we typically don't need the gradients at this point.\n",
    "    with torch.no_grad():\n",
    "        for batch_idx in range(n_batches):\n",
    "            data, target = gen_batch_data(batch_size, batch_idx, test_sim_data)\n",
    "            data, target = torch.from_numpy(data).float().to(device), torch.from_numpy(target).long().to(device)\n",
    "\n",
    "            output = model(data)\n",
    "            # Pick only the output corresponding to last sequence element (input is pre padded)\n",
    "            if not choice_only:\n",
    "                output = output[:, -out_idx, :]\n",
    "                target = target[:,-out_idx,:]\n",
    "\n",
    "            output_all = np.concatenate((output_all, output.numpy()))\n",
    "            target_all = np.concatenate((target_all, target.numpy()))\n",
    "\n",
    "    return (output_all, target_all)\n",
    "\n"
   ]
  },
  {
   "cell_type": "code",
   "execution_count": 65,
   "id": "9ae75fb3-b9ad-42a9-8125-55fbfb39d50d",
   "metadata": {},
   "outputs": [
    {
     "data": {
      "text/plain": [
       "Text(0.5, 1.0, 'LSTM Performance, MSE: 4.24 , r: 0.59 ')"
      ]
     },
     "execution_count": 65,
     "metadata": {},
     "output_type": "execute_result"
    },
    {
     "data": {
      "image/png": "[encoded data removed]",
      "text/plain": [
       "<Figure size 500x500 with 1 Axes>"
      ]
     },
     "metadata": {
      "needs_background": "light"
     },
     "output_type": "display_data"
    }
   ],
   "source": [
    "n_total_seq_vis = 1e4\n",
    "output_all_LSTM, target_all_LSTM = test_record_each_output(model_LSTM, test_data_sim, criterion, device, batch_size, n_total_seq_vis,gen_batch_data, 1)\n",
    "output_flat = output_all_LSTM.flatten()\n",
    "target_flat = target_all_LSTM.flatten()\n",
    "\n",
    "r = np.round(np.corrcoef(output_flat, target_flat)[1][0], decimals = 2)\n",
    "mse = np.round(np.mean(np.power(output_flat - target_flat,2)), decimals=2)\n",
    "target_flat_round = np.round(target_flat)\n",
    "mean_estimates = np.zeros(10)\n",
    "std_estimates = np.zeros(10)\n",
    "for i in range(1,11):\n",
    "    mean_estimates[i-1] = np.mean(output_flat[target_flat_round == i])\n",
    "    std_estimates[i-1] = np.std(output_flat[target_flat_round == i])\n",
    "\n",
    "fix,ax = plt.subplots(1,figsize = (2.5,2.5), dpi = 200)\n",
    "ax.plot(range(1,11), mean_estimates, 'o')\n",
    "ax.errorbar(range(1,11), mean_estimates, yerr = std_estimates)\n",
    "ax.set_ylim([1,10])\n",
    "ax.set_xlabel('True Value')\n",
    "ax.set_ylabel('Predicted Value (mean +/- s.d.)')\n",
    "ax.set_title('LSTM Performance, MSE: {} , r: {} '.format(mse,r))"
   ]
  },
  {
   "cell_type": "code",
   "execution_count": 66,
   "id": "a4d10a88-c180-404a-aabc-db527fe9b0ee",
   "metadata": {},
   "outputs": [
    {
     "data": {
      "text/plain": [
       "Text(0, 0.5, 'r: prediction vs target')"
      ]
     },
     "execution_count": 66,
     "metadata": {},
     "output_type": "execute_result"
    },
    {
     "data": {
      "image/png": "[encoded data removed]",
      "text/plain": [
       "<Figure size 400x400 with 1 Axes>"
      ]
     },
     "metadata": {
      "needs_background": "light"
     },
     "output_type": "display_data"
    }
   ],
   "source": [
    "# can you record from starting at end and moving backward... \n",
    "\n",
    "n_back_vals = np.arange(1,20)\n",
    "r_by_n_back = np.zeros(len(n_back_vals))\n",
    "\n",
    "n_total_seq_vis = 1e3\n",
    "\n",
    "for nb_idx, nb in enumerate(n_back_vals):\n",
    "    output_all_LSTM, target_all_LSTM = test_record_each_output(model_LSTM, test_data_sim, criterion, device, batch_size, n_total_seq_vis,gen_batch_data,nb)\n",
    "    output_flat = output_all_LSTM.flatten()\n",
    "    target_flat = target_all_LSTM.flatten()\n",
    "    output_flat = output_flat[target_flat != 0]\n",
    "    target_flat = target_flat[target_flat != 0]\n",
    "\n",
    "    r = np.round(np.corrcoef(output_flat, target_flat)[1][0], decimals = 2)\n",
    "    r_by_n_back[nb_idx] = r\n",
    "    \n",
    "fig,ax = plt.subplots(1,figsize=(2,2),dpi=200)\n",
    "ax.plot(-1*n_back_vals+1,r_by_n_back, '--o')\n",
    "ax.set_xlabel('time-steps to choice')\n",
    "ax.set_ylabel('r: prediction vs target')"
   ]
  },
  {
   "cell_type": "code",
   "execution_count": 423,
   "id": "6fe022e9-8465-4c7c-b9c3-5efc87d63c21",
   "metadata": {},
   "outputs": [
    {
     "name": "stdout",
     "output_type": "stream",
     "text": [
      "True\n"
     ]
    },
    {
     "data": {
      "text/plain": [
       "Text(0.5, 1.0, 'MLP Performance, MSE: 4.73 , r: 0.5 ')"
      ]
     },
     "execution_count": 423,
     "metadata": {},
     "output_type": "execute_result"
    },
    {
     "data": {
      "image/png": "[encoded data removed]",
      "text/plain": [
       "<Figure size 400x400 with 1 Axes>"
      ]
     },
     "metadata": {
      "needs_background": "light"
     },
     "output_type": "display_data"
    }
   ],
   "source": [
    "n_total_seq_vis = 1e3\n",
    "output_all_MLP, target_all_MLP = test_record_each_output(model_MLP, test_data_sim, criterion, device, batch_size, n_total_seq_vis, gen_batch_data_choice_only,0, choice_only=True)\n",
    "output_flat = output_all_MLP.flatten()\n",
    "target_flat = target_all_MLP.flatten()\n",
    "\n",
    "r = np.round(np.corrcoef(output_flat, target_flat)[1][0], decimals = 2)\n",
    "mse = np.round(np.mean(np.power(output_flat - target_flat,2)), decimals=2)\n",
    "target_flat_round = np.round(target_flat)\n",
    "mean_estimates = np.zeros(10)\n",
    "std_estimates = np.zeros(10)\n",
    "for i in range(1,11):\n",
    "    mean_estimates[i-1] = np.mean(output_flat[target_flat_round == i])\n",
    "    std_estimates[i-1] = np.std(output_flat[target_flat_round == i])\n",
    "\n",
    "fix,ax = plt.subplots(1,figsize = (4,4), dpi = 100)\n",
    "ax.plot(range(1,11), mean_estimates, 'o')\n",
    "ax.errorbar(range(1,11), mean_estimates, yerr = std_estimates)\n",
    "ax.set_ylim([1,10])\n",
    "ax.set_xlabel('True Value')\n",
    "ax.set_ylabel('Predicted Value (mean +/- s.d.)')\n",
    "ax.set_title('MLP Performance, MSE: {} , r: {} '.format(mse,r))"
   ]
  },
  {
   "cell_type": "code",
   "execution_count": 401,
   "id": "9d4cf814-8f3a-42d8-87fc-e3ffc489f996",
   "metadata": {},
   "outputs": [
    {
     "data": {
      "text/plain": [
       "(array([[6.0756073 , 3.35752535, 3.46393704],\n",
       "        [3.52752924, 3.37813091, 6.04007292],\n",
       "        [6.0756073 , 3.35752535, 3.46393704],\n",
       "        [3.42318654, 5.99342203, 3.50141191],\n",
       "        [6.0756073 , 3.35752535, 3.46393704]]),\n",
       " array([[4., 2., 3.],\n",
       "        [1., 3., 7.],\n",
       "        [4., 1., 3.],\n",
       "        [5., 9., 6.],\n",
       "        [7., 1., 5.]]))"
      ]
     },
     "execution_count": 401,
     "metadata": {},
     "output_type": "execute_result"
    }
   ],
   "source": [
    "output_all_MLP[:5,:], target_all_MLP[:5,:]"
   ]
  },
  {
   "cell_type": "code",
   "execution_count": 394,
   "id": "f8adf3b7-e5b4-4602-b102-d5625c67db98",
   "metadata": {},
   "outputs": [
    {
     "ename": "SyntaxError",
     "evalue": "invalid syntax (144242808.py, line 1)",
     "output_type": "error",
     "traceback": [
      "\u001b[0;36m  File \u001b[0;32m\"/var/folders/h2/yqlrymd172z_tv1_fvy1tbxm0000gn/T/ipykernel_67157/144242808.py\"\u001b[0;36m, line \u001b[0;32m1\u001b[0m\n\u001b[0;31m    print(!True)\u001b[0m\n\u001b[0m          ^\u001b[0m\n\u001b[0;31mSyntaxError\u001b[0m\u001b[0;31m:\u001b[0m invalid syntax\n"
     ]
    }
   ],
   "source": [
    "choice_only = False\n",
    "\n",
    "print(True)"
   ]
  },
  {
   "cell_type": "markdown",
   "id": "ba3ee233-47eb-4b9d-ad50-93abda1af730",
   "metadata": {},
   "source": [
    "### Does it get the correct ordering?"
   ]
  },
  {
   "cell_type": "code",
   "execution_count": 446,
   "id": "13980405-1554-4366-9a95-d978f41d396c",
   "metadata": {},
   "outputs": [
    {
     "name": "stdout",
     "output_type": "stream",
     "text": [
      "LSTM guesses correct max 74.0% of trials\n",
      "LSTM guesses correct min 53.0% of trials\n"
     ]
    }
   ],
   "source": [
    "output_all_LSTM, target_all_LSTM = test_record_each_output(model_LSTM, test_data_sim, criterion, device, batch_size, n_total_seq_vis,gen_batch_data,1)\n",
    "\n",
    "\n",
    "output_max_item = output_all_LSTM.argmax(axis=1)\n",
    "target_max_item = target_all_LSTM.argmax(axis=1)\n",
    "pct_correct_max = np.sum(output_max_item == target_max_item)/len(output_max_item)\n",
    "\n",
    "print('LSTM guesses correct max {}% of trials'.format(100*np.round(pct_correct_max,decimals=2)))\n",
    "\n",
    "output_min_item = output_all_LSTM.argmin(axis=1)\n",
    "target_min_item = target_all_LSTM.argmin(axis=1)\n",
    "pct_correct_min = np.sum(output_min_item == target_min_item)/len(output_min_item)\n",
    "\n",
    "print('LSTM guesses correct min {}% of trials'.format(100*np.round(pct_correct_min,decimals=2)))"
   ]
  },
  {
   "cell_type": "code",
   "execution_count": 447,
   "id": "c7410a92-6d85-4bfc-a029-3ed9ac410cdd",
   "metadata": {},
   "outputs": [
    {
     "name": "stdout",
     "output_type": "stream",
     "text": [
      "correct order 41.0% of trials\n",
      "max > mid 77.0% of trials\n",
      "mid > min 62.0% of trials\n",
      "max > min 85.0% of trials\n",
      "correct max 74.0% of trials\n",
      "correct min 53.0% of trials\n"
     ]
    }
   ],
   "source": [
    "# for targets \n",
    "target_orders = np.ones(target_all_LSTM.shape)\n",
    "target_max_item = target_all_LSTM.argmax(axis=1)\n",
    "target_orders[range(target_orders.shape[0]),target_max_item]=2\n",
    "target_min_item = target_all_LSTM.argmin(axis=1)\n",
    "target_orders[range(target_orders.shape[0]),target_min_item]=0\n",
    "\n",
    "output_orders = np.ones(output_all_LSTM.shape)\n",
    "output_max_item = output_all_LSTM.argmax(axis=1)\n",
    "output_orders[range(output_orders.shape[0]),target_max_item]=2\n",
    "output_min_item = output_all_LSTM.argmin(axis=1)\n",
    "output_orders[range(target_orders.shape[0]),target_min_item]=0\n",
    "\n",
    "prop_max_g_mid = np.sum(output_all_LSTM[target_orders==2]>output_all_LSTM[target_orders==1])/output_all_LSTM.shape[0]\n",
    "prop_mid_g_min = np.sum(output_all_LSTM[target_orders==1]>output_all_LSTM[target_orders==0])/output_all_LSTM.shape[0]\n",
    "prop_max_g_min = np.sum(output_all_LSTM[target_orders==2]>output_all_LSTM[target_orders==0])/output_all_LSTM.shape[0]\n",
    "prop_correct_order = np.sum((output_all_LSTM[target_orders==2]>output_all_LSTM[target_orders==1])&(output_all_LSTM[target_orders==1]>output_all_LSTM[target_orders==0]))/output_all_LSTM.shape[0]\n",
    "\n",
    "prop_correct_max = np.sum(target_max_item == output_max_item)/len(target_max_item)\n",
    "prop_correct_min = np.sum(target_min_item == output_min_item)/len(target_min_item)\n",
    "\n",
    "print('correct order {}% of trials'.format(100*np.round(prop_correct_order,decimals=2)))\n",
    "print('max > mid {}% of trials'.format(100*np.round(prop_max_g_mid,decimals=2)))\n",
    "print('mid > min {}% of trials'.format(100*np.round(prop_mid_g_min,decimals=2)))\n",
    "print('max > min {}% of trials'.format(100*np.round(prop_max_g_min,decimals=2)))\n",
    "print('correct max {}% of trials'.format(100*np.round(prop_correct_max,decimals=2)))\n",
    "print('correct min {}% of trials'.format(100*np.round(prop_correct_min,decimals=2)))\n"
   ]
  },
  {
   "cell_type": "code",
   "execution_count": null,
   "id": "aa07b305-f168-4f15-b0c3-a36a44b4857d",
   "metadata": {},
   "outputs": [],
   "source": [
    "# how well does it get the difference between max and min "
   ]
  },
  {
   "cell_type": "code",
   "execution_count": 57,
   "id": "a5a96d9f-52ef-4f30-8170-d035a7c83ff0",
   "metadata": {},
   "outputs": [
    {
     "data": {
      "text/plain": [
       "array([       nan,        nan, 4.20361695, 4.59310827, 5.12080646,\n",
       "       5.51035056, 5.77384573, 6.13292855, 6.28513572, 6.52798245])"
      ]
     },
     "execution_count": 57,
     "metadata": {},
     "output_type": "execute_result"
    }
   ],
   "source": [
    "mean_estimates"
   ]
  },
  {
   "cell_type": "code",
   "execution_count": 52,
   "id": "abecd2d8-3369-4fac-87c0-deb94f71a44c",
   "metadata": {},
   "outputs": [
    {
     "data": {
      "text/plain": [
       "array([4., 7., 4., ..., 4., 3., 8.])"
      ]
     },
     "execution_count": 52,
     "metadata": {},
     "output_type": "execute_result"
    }
   ],
   "source": [
    "max_targets"
   ]
  },
  {
   "cell_type": "code",
   "execution_count": null,
   "id": "4420cdb6-c9b2-4c73-b9ff-e2a7017921bb",
   "metadata": {},
   "outputs": [],
   "source": []
  },
  {
   "cell_type": "code",
   "execution_count": null,
   "id": "6435c93d-cc49-4807-acc6-5d54e8f17b8c",
   "metadata": {},
   "outputs": [],
   "source": []
  },
  {
   "cell_type": "code",
   "execution_count": null,
   "id": "855d916c-ed4d-4372-b069-45326a00a42d",
   "metadata": {},
   "outputs": [],
   "source": []
  }
 ],
 "metadata": {
  "kernelspec": {
   "display_name": "Python 3 (ipykernel)",
   "language": "python",
   "name": "python3"
  },
  "language_info": {
   "codemirror_mode": {
    "name": "ipython",
    "version": 3
   },
   "file_extension": ".py",
   "mimetype": "text/x-python",
   "name": "python",
   "nbconvert_exporter": "python",
   "pygments_lexer": "ipython3",
   "version": "3.8.12"
  }
 },
 "nbformat": 4,
 "nbformat_minor": 5
}
