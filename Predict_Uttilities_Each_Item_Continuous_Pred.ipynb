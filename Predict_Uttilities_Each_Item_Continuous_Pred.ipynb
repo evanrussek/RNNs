{
 "cells": [
  {
   "cell_type": "markdown",
   "id": "13cb7eab-0e46-425c-92ac-d3db8ea18be7",
   "metadata": {},
   "source": [
    "## 1. Structure Dataset"
   ]
  },
  {
   "cell_type": "code",
   "execution_count": 1,
   "id": "a02a033d-2d6d-4736-a44f-f60b900d05c4",
   "metadata": {},
   "outputs": [],
   "source": [
    "import json\n",
    "import numpy as np\n",
    "import matplotlib.pyplot as plt\n",
    "# funcs stolen from nyu deep learning course\n",
    "from res.sequential_tasks import pad_sequences, to_categorical\n",
    "import os"
   ]
  },
  {
   "cell_type": "code",
   "execution_count": 2,
   "id": "d5193ea2-f937-4d41-b62a-8ba5babfbc2b",
   "metadata": {},
   "outputs": [],
   "source": [
    "data_path = '/Users/evanrussek/Dropbox/Griffiths_Lab_Stuff/Data/RNNs/optimal_fixation_sims'\n",
    "# os.path.join(to_save_folder, file_name)\n",
    "train_file_idxs = range(1,16)\n",
    "test_file_idxs = range(16,31)\n",
    "\n",
    "train_files = [os.path.join(data_path, str(i) + '.json') for i in train_file_idxs]\n",
    "test_files = [os.path.join(data_path, str(i) + '.json') for i in test_file_idxs]\n",
    "\n",
    "a = [json.load(open(train_files[i])) for i in range(15)]\n",
    "train_trials = [item for sublist in a for item in sublist]\n",
    "del a\n",
    "train_data_sim = train_trials[:int(1e6)]\n",
    "\n",
    "test_trials = json.load(open(test_files[0]))\n",
    "test_data_sim = test_trials[:int(1e5)]\n",
    "\n"
   ]
  },
  {
   "cell_type": "code",
   "execution_count": 82,
   "id": "f608c584-e28d-4c15-88a1-848627d529fe",
   "metadata": {},
   "outputs": [
    {
     "data": {
      "text/plain": [
       "1898240"
      ]
     },
     "execution_count": 82,
     "metadata": {},
     "output_type": "execute_result"
    }
   ],
   "source": [
    "len(test_trials) + len(train_trials) # 1.8 million trials.."
   ]
  },
  {
   "cell_type": "code",
   "execution_count": 404,
   "id": "4fd424f1-e89f-4bb4-be56-a1ffe5018b57",
   "metadata": {},
   "outputs": [],
   "source": [
    "def gen_batch_data(batch_size, batch_idx, sim_data):\n",
    "# can you also pass the index on which this starts... \n",
    "#sim_data = train_data_sim\n",
    "#batch_idx = 0\n",
    "#batch_size = 32\n",
    "\n",
    "    \"\"\"\n",
    "    Create sequence and target data for a batch\n",
    "\n",
    "    Input: \n",
    "        batch_size: number of trials to include in batch\n",
    "        batch_idx: index of data\n",
    "        sim_data: list of dicts, where each dict has 'values', 'fixations', and 'choice'\n",
    "\n",
    "    Returns:\n",
    "        a tuple, (batch_data, batch_targets)\n",
    "        batch_data is 3d array: batch_size x sequence_size x one-hot categorical encoding (3 here)\n",
    "        batch_targets is 2d array: \n",
    "    \"\"\"\n",
    "\n",
    "    # filter list of trials that are in this batch\n",
    "    batch_sim_data = sim_data[batch_idx*batch_size:((batch_idx+1)*(batch_size))]\n",
    "\n",
    "    ## generate sequences of fixations + choice\n",
    "\n",
    "    # all sequences in the batch, attended item is coded as idx (as 0, 1, 2)\n",
    "    batch_sequences_idx = [trial_data['fixations'] + [trial_data['choice']-1] for trial_data in batch_sim_data]\n",
    "\n",
    "    # all sequences in the batch, attended item coded as one-hot categorical: e.g. 0: [1,0,0] 1: [0,1,0], [0,0,1]\n",
    "    batch_sequences_cat = [[to_categorical(x, num_classes = 3) for x in this_sequence] for this_sequence in batch_sequences_idx]\n",
    "\n",
    "    # pad front of each sequence with n x [0,0,0] so that all seqeunces are same length\n",
    "    batch_data = pad_sequences(batch_sequences_cat)\n",
    "    batch_data = batch_data.astype('float32')\n",
    "\n",
    "    ## generate sequences of targets \n",
    "    batch_targets = np.array([trial_data['value'] for trial_data in batch_sim_data], dtype = 'float32')\n",
    "    # extend this to match the size of the batch_data\n",
    "    \n",
    "    \n",
    "    # all sequences in the batch, attended item is coded as idx (as 0, 1, 2)\n",
    "    batch_fixation_sequences_idx = [trial_data['fixations'] for trial_data in batch_sim_data]\n",
    "    batch_choices_idx = [trial_data['choice'] - 1 for trial_data in batch_sim_data]\n",
    "\n",
    "    # first 3 are fixation, last is choice...\n",
    "    batch_sequences_cat = [[to_categorical(x, num_classes = 6) for x in this_sequence] for this_sequence in batch_sequences_idx]\n",
    "\n",
    "    # now append to each of these the choice info - the choice gets it's own channel (of 3)\n",
    "    batch_sequences_cat_w_choices = [batch_sequences_cat[i] + [to_categorical(3 + batch_choices_idx[i], num_classes = 6)] for i in range(len(batch_sequences_cat))]\n",
    "    batch_data = pad_sequences(batch_sequences_cat_w_choices)\n",
    "    batch_data = batch_data.astype('float32')\n",
    "\n",
    "    batch_targets_init = np.array([trial_data['value'] for trial_data in batch_sim_data], dtype = 'float32')\n",
    "    batch_targets_cont = [np.repeat([batch_targets_init[i]],len(batch_sequences_cat_w_choices[i]),axis=0) for i in range(len(batch_sequences_cat_w_choices))]\n",
    "    #batch_targets_cont = [np.repeat([batch_targets_init[i]],len(batch_sequences_cat[i]),axis=0) for i in range(len(batch_sequences_cat))]\n",
    "\n",
    "    batch_targets = pad_sequences(batch_targets_cont)\n",
    "    batch_targets = batch_targets.astype('float32')\n",
    "    \n",
    "    first_fixations = np.array([np.where(batch_targets[i,:,:] != [0,0,0])[0][0] for i in range(batch_targets.shape[0])])\n",
    "    \n",
    "\n",
    "    return (batch_data, batch_targets)"
   ]
  },
  {
   "cell_type": "code",
   "execution_count": 405,
   "id": "c75b5442-2ef0-413b-a4ef-002b1e3ac946",
   "metadata": {},
   "outputs": [],
   "source": [
    "def gen_batch_data_choice_only(batch_size, batch_idx, sim_data):\n",
    "    # filter list of trials that are in this batch\n",
    "    batch_sim_data = sim_data[batch_idx*batch_size:((batch_idx+1)*(batch_size))]\n",
    "\n",
    "    # all sequences in the batch, attended item is coded as idx (as 0, 1, 2)\n",
    "    batch_choices_idx = [trial_data['choice'] - 1 for trial_data in batch_sim_data]\n",
    "\n",
    "    batch_data = to_categorical(batch_choices_idx)\n",
    "    batch_data = batch_data.astype('float32')\n",
    "\n",
    "    batch_targets = np.array([trial_data['value'] for trial_data in batch_sim_data], dtype = 'float32')\n",
    "    batch_targets= batch_targets.astype('float32')\n",
    "    return (batch_data, batch_targets)\n"
   ]
  },
  {
   "cell_type": "code",
   "execution_count": 408,
   "id": "f3a2cc6b-15a6-4ca2-ba52-0d90f703cad0",
   "metadata": {},
   "outputs": [
    {
     "name": "stdout",
     "output_type": "stream",
     "text": [
      "The return type is a <class 'tuple'> with length 2.\n",
      "The first item in the tuple is the batch of sequences with shape (32, 86, 6).\n",
      "The first element in the batch of sequences is:\n",
      " [[0. 0. 0. 0. 0. 0.]\n",
      " [0. 0. 0. 0. 0. 0.]\n",
      " [0. 0. 0. 0. 0. 0.]\n",
      " [0. 0. 0. 0. 0. 0.]\n",
      " [0. 0. 0. 0. 0. 0.]\n",
      " [0. 0. 0. 0. 0. 0.]\n",
      " [0. 0. 0. 0. 0. 0.]\n",
      " [0. 0. 0. 0. 0. 0.]\n",
      " [0. 0. 0. 0. 0. 0.]\n",
      " [0. 0. 0. 0. 0. 0.]\n",
      " [0. 0. 0. 0. 0. 0.]\n",
      " [0. 0. 0. 0. 0. 0.]\n",
      " [0. 0. 0. 0. 0. 0.]\n",
      " [1. 0. 0. 0. 0. 0.]\n",
      " [0. 1. 0. 0. 0. 0.]\n",
      " [0. 1. 0. 0. 0. 0.]\n",
      " [0. 1. 0. 0. 0. 0.]\n",
      " [0. 1. 0. 0. 0. 0.]\n",
      " [0. 1. 0. 0. 0. 0.]\n",
      " [0. 1. 0. 0. 0. 0.]\n",
      " [0. 0. 1. 0. 0. 0.]\n",
      " [0. 0. 1. 0. 0. 0.]\n",
      " [0. 0. 1. 0. 0. 0.]\n",
      " [0. 0. 1. 0. 0. 0.]\n",
      " [0. 0. 1. 0. 0. 0.]\n",
      " [0. 0. 1. 0. 0. 0.]\n",
      " [0. 0. 1. 0. 0. 0.]\n",
      " [0. 0. 1. 0. 0. 0.]\n",
      " [1. 0. 0. 0. 0. 0.]\n",
      " [1. 0. 0. 0. 0. 0.]\n",
      " [1. 0. 0. 0. 0. 0.]\n",
      " [1. 0. 0. 0. 0. 0.]\n",
      " [0. 1. 0. 0. 0. 0.]\n",
      " [0. 1. 0. 0. 0. 0.]\n",
      " [0. 1. 0. 0. 0. 0.]\n",
      " [0. 1. 0. 0. 0. 0.]\n",
      " [0. 1. 0. 0. 0. 0.]\n",
      " [0. 0. 1. 0. 0. 0.]\n",
      " [0. 0. 1. 0. 0. 0.]\n",
      " [0. 0. 1. 0. 0. 0.]\n",
      " [0. 0. 1. 0. 0. 0.]\n",
      " [0. 0. 1. 0. 0. 0.]\n",
      " [0. 0. 1. 0. 0. 0.]\n",
      " [0. 0. 1. 0. 0. 0.]\n",
      " [0. 0. 1. 0. 0. 0.]\n",
      " [0. 0. 1. 0. 0. 0.]\n",
      " [0. 0. 1. 0. 0. 0.]\n",
      " [0. 0. 1. 0. 0. 0.]\n",
      " [0. 0. 1. 0. 0. 0.]\n",
      " [0. 0. 1. 0. 0. 0.]\n",
      " [0. 0. 1. 0. 0. 0.]\n",
      " [0. 0. 1. 0. 0. 0.]\n",
      " [0. 0. 1. 0. 0. 0.]\n",
      " [0. 0. 1. 0. 0. 0.]\n",
      " [0. 0. 1. 0. 0. 0.]\n",
      " [0. 0. 1. 0. 0. 0.]\n",
      " [0. 0. 1. 0. 0. 0.]\n",
      " [0. 0. 1. 0. 0. 0.]\n",
      " [0. 0. 1. 0. 0. 0.]\n",
      " [0. 0. 1. 0. 0. 0.]\n",
      " [0. 1. 0. 0. 0. 0.]\n",
      " [0. 1. 0. 0. 0. 0.]\n",
      " [0. 1. 0. 0. 0. 0.]\n",
      " [0. 1. 0. 0. 0. 0.]\n",
      " [0. 1. 0. 0. 0. 0.]\n",
      " [0. 1. 0. 0. 0. 0.]\n",
      " [1. 0. 0. 0. 0. 0.]\n",
      " [1. 0. 0. 0. 0. 0.]\n",
      " [1. 0. 0. 0. 0. 0.]\n",
      " [1. 0. 0. 0. 0. 0.]\n",
      " [1. 0. 0. 0. 0. 0.]\n",
      " [1. 0. 0. 0. 0. 0.]\n",
      " [1. 0. 0. 0. 0. 0.]\n",
      " [1. 0. 0. 0. 0. 0.]\n",
      " [1. 0. 0. 0. 0. 0.]\n",
      " [1. 0. 0. 0. 0. 0.]\n",
      " [1. 0. 0. 0. 0. 0.]\n",
      " [1. 0. 0. 0. 0. 0.]\n",
      " [1. 0. 0. 0. 0. 0.]\n",
      " [1. 0. 0. 0. 0. 0.]\n",
      " [1. 0. 0. 0. 0. 0.]\n",
      " [1. 0. 0. 0. 0. 0.]\n",
      " [1. 0. 0. 0. 0. 0.]\n",
      " [1. 0. 0. 0. 0. 0.]\n",
      " [1. 0. 0. 0. 0. 0.]\n",
      " [0. 0. 0. 1. 0. 0.]]\n",
      "The second item in the tuple is the corresponding batch of targets with shape (32, 86, 3).\n",
      "The first element in the batch of targets is:\n",
      " [[0. 0. 0.]\n",
      " [0. 0. 0.]\n",
      " [0. 0. 0.]\n",
      " [0. 0. 0.]\n",
      " [0. 0. 0.]\n",
      " [0. 0. 0.]\n",
      " [0. 0. 0.]\n",
      " [0. 0. 0.]\n",
      " [0. 0. 0.]\n",
      " [0. 0. 0.]\n",
      " [0. 0. 0.]\n",
      " [0. 0. 0.]\n",
      " [0. 0. 0.]\n",
      " [4. 2. 3.]\n",
      " [4. 2. 3.]\n",
      " [4. 2. 3.]\n",
      " [4. 2. 3.]\n",
      " [4. 2. 3.]\n",
      " [4. 2. 3.]\n",
      " [4. 2. 3.]\n",
      " [4. 2. 3.]\n",
      " [4. 2. 3.]\n",
      " [4. 2. 3.]\n",
      " [4. 2. 3.]\n",
      " [4. 2. 3.]\n",
      " [4. 2. 3.]\n",
      " [4. 2. 3.]\n",
      " [4. 2. 3.]\n",
      " [4. 2. 3.]\n",
      " [4. 2. 3.]\n",
      " [4. 2. 3.]\n",
      " [4. 2. 3.]\n",
      " [4. 2. 3.]\n",
      " [4. 2. 3.]\n",
      " [4. 2. 3.]\n",
      " [4. 2. 3.]\n",
      " [4. 2. 3.]\n",
      " [4. 2. 3.]\n",
      " [4. 2. 3.]\n",
      " [4. 2. 3.]\n",
      " [4. 2. 3.]\n",
      " [4. 2. 3.]\n",
      " [4. 2. 3.]\n",
      " [4. 2. 3.]\n",
      " [4. 2. 3.]\n",
      " [4. 2. 3.]\n",
      " [4. 2. 3.]\n",
      " [4. 2. 3.]\n",
      " [4. 2. 3.]\n",
      " [4. 2. 3.]\n",
      " [4. 2. 3.]\n",
      " [4. 2. 3.]\n",
      " [4. 2. 3.]\n",
      " [4. 2. 3.]\n",
      " [4. 2. 3.]\n",
      " [4. 2. 3.]\n",
      " [4. 2. 3.]\n",
      " [4. 2. 3.]\n",
      " [4. 2. 3.]\n",
      " [4. 2. 3.]\n",
      " [4. 2. 3.]\n",
      " [4. 2. 3.]\n",
      " [4. 2. 3.]\n",
      " [4. 2. 3.]\n",
      " [4. 2. 3.]\n",
      " [4. 2. 3.]\n",
      " [4. 2. 3.]\n",
      " [4. 2. 3.]\n",
      " [4. 2. 3.]\n",
      " [4. 2. 3.]\n",
      " [4. 2. 3.]\n",
      " [4. 2. 3.]\n",
      " [4. 2. 3.]\n",
      " [4. 2. 3.]\n",
      " [4. 2. 3.]\n",
      " [4. 2. 3.]\n",
      " [4. 2. 3.]\n",
      " [4. 2. 3.]\n",
      " [4. 2. 3.]\n",
      " [4. 2. 3.]\n",
      " [4. 2. 3.]\n",
      " [4. 2. 3.]\n",
      " [4. 2. 3.]\n",
      " [4. 2. 3.]\n",
      " [4. 2. 3.]\n",
      " [4. 2. 3.]]\n"
     ]
    }
   ],
   "source": [
    "example_batch = gen_batch_data(32, 0, train_data_sim) # batch size = 32, idx = 0\n",
    "print(f'The return type is a {type(example_batch)} with length {len(example_batch)}.')\n",
    "print(f'The first item in the tuple is the batch of sequences with shape {example_batch[0].shape}.')\n",
    "print(f'The first element in the batch of sequences is:\\n {example_batch[0][0, :, :]}')\n",
    "print(f'The second item in the tuple is the corresponding batch of targets with shape {example_batch[1].shape}.')\n",
    "print(f'The first element in the batch of targets is:\\n {example_batch[1][0, :]}')\n"
   ]
  },
  {
   "cell_type": "code",
   "execution_count": 409,
   "id": "dce04c1e-6bb2-424e-ae21-938d25d7ef8c",
   "metadata": {},
   "outputs": [
    {
     "name": "stdout",
     "output_type": "stream",
     "text": [
      "The return type is a <class 'tuple'> with length 2.\n",
      "The first item in the tuple is the batch of sequences with shape (32, 3).\n",
      "The first element in the batch of sequences is:\n",
      " [1. 0. 0.]\n",
      "The second item in the tuple is the corresponding batch of targets with shape (32, 3).\n",
      "The first element in the batch of targets is:\n",
      " [4. 2. 3.]\n"
     ]
    }
   ],
   "source": [
    "example_batch = gen_batch_data_choice_only(32, 0, train_data_sim) # batch size = 32, idx = 0\n",
    "print(f'The return type is a {type(example_batch)} with length {len(example_batch)}.')\n",
    "print(f'The first item in the tuple is the batch of sequences with shape {example_batch[0].shape}.')\n",
    "print(f'The first element in the batch of sequences is:\\n {example_batch[0][0, :]}')\n",
    "print(f'The second item in the tuple is the corresponding batch of targets with shape {example_batch[1].shape}.')\n",
    "print(f'The first element in the batch of targets is:\\n {example_batch[1][0, :]}')"
   ]
  },
  {
   "cell_type": "markdown",
   "id": "616a57c2-50ba-4d0d-ba0f-d3b9dd436111",
   "metadata": {},
   "source": [
    "## 2. Defining the Model"
   ]
  },
  {
   "cell_type": "code",
   "execution_count": 410,
   "id": "f86e602c-b396-4abe-aab2-0ecf1f4ea6b1",
   "metadata": {},
   "outputs": [],
   "source": [
    "import torch\n",
    "import torch.nn as nn\n",
    "import torch.nn.functional as F\n",
    "\n",
    "# Set the random seed for reproducible results\n",
    "torch.manual_seed(1)\n",
    "\n",
    "class SimpleRNN(nn.Module):\n",
    "    def __init__(self, input_size, hidden_size, output_size):\n",
    "        # This just calls the base class constructor\n",
    "        super().__init__()\n",
    "        # Neural network layers assigned as attributes of a Module subclass\n",
    "        # have their parameters registered for training automatically.\n",
    "        self.rnn = torch.nn.RNN(input_size, hidden_size, nonlinearity='relu', batch_first=True)\n",
    "        self.linear = torch.nn.Linear(hidden_size, output_size)\n",
    "\n",
    "    def forward(self, x):\n",
    "        # The RNN also returns its hidden state but we don't use it.\n",
    "        # While the RNN can also take a hidden state as input, the RNN\n",
    "        # gets passed a hidden state initialized with zeros by default.\n",
    "        h = self.rnn(x)[0]\n",
    "        x = self.linear(h)\n",
    "        return x\n",
    "    \n",
    "class SimpleLSTM(nn.Module):\n",
    "    def __init__(self, input_size, hidden_size, output_size):\n",
    "        super().__init__()\n",
    "        self.lstm = torch.nn.LSTM(input_size, hidden_size, batch_first=True)\n",
    "        self.linear = torch.nn.Linear(hidden_size, output_size)\n",
    "\n",
    "    def forward(self, x):\n",
    "        h = self.lstm(x)[0]\n",
    "        x = self.linear(h)\n",
    "        return x\n",
    "    \n",
    "    def get_states_across_time(self, x):\n",
    "        h_c = None\n",
    "        h_list, c_list = list(), list()\n",
    "        with torch.no_grad():\n",
    "            for t in range(x.size(1)):\n",
    "                h_c = self.lstm(x[:, [t], :], h_c)[1]\n",
    "                h_list.append(h_c[0])\n",
    "                c_list.append(h_c[1])\n",
    "            h = torch.cat(h_list)\n",
    "            c = torch.cat(c_list)\n",
    "        return h, c\n",
    "    \n",
    "class SimpleMLP(nn.Module):\n",
    "    def __init__(self, input_size, hidden_size, output_size):\n",
    "        super().__init__()\n",
    "\n",
    "        self.input_hidden = nn.Linear(input_size, hidden_size)\n",
    "        self.hidden_output = nn.Linear(hidden_size, output_size)\n",
    "    def forward(self, x):\n",
    "        ha = self.input_hidden(x)\n",
    "        hb = F.relu(ha)\n",
    "        o = self.hidden_output(hb)\n",
    "        return o\n"
   ]
  },
  {
   "cell_type": "markdown",
   "id": "1a0d69b7-62b6-4660-a1f0-f4583ce49644",
   "metadata": {},
   "source": [
    "## 3. Defining the Training Loop"
   ]
  },
  {
   "cell_type": "code",
   "execution_count": 411,
   "id": "716c3703-b5cc-4758-9a82-de3ca991514d",
   "metadata": {},
   "outputs": [],
   "source": [
    "def train(model, train_sim_data, criterion, optimizer, device, batch_size, n_total_seq):\n",
    "    # Set the model to training mode. This will turn on layers that would\n",
    "    # otherwise behave differently during evaluation, such as dropout.\n",
    "    model.train()\n",
    "\n",
    "    # What metric to store?\n",
    "    # num_correct = 0\n",
    "\n",
    "    # Iterate over every batch of sequences. Note that the length of a data generator\n",
    "    # is defined as the number of batches required to produce a total of roughly 1000\n",
    "    # sequences given a batch size.\n",
    "        \n",
    "    # how many batches\n",
    "    n_batches = int(np.round(n_total_seq/batch_size));\n",
    "    \n",
    "    for batch_idx in range(n_batches):\n",
    "\n",
    "        # Request a batch of sequences and class labels, convert them into tensors\n",
    "        # of the correct type, and then send them to the appropriate device.\n",
    "        #data, target = train_data_gen[batch_idx] # just alter this to the function that produces the data?\n",
    "        data, target = gen_batch_data(batch_size, batch_idx, train_sim_data)\n",
    "        \n",
    "        data, target = torch.from_numpy(data).float().to(device), torch.from_numpy(target).long().to(device)\n",
    "\n",
    "        # Perform the forward pass of the model\n",
    "        output = model(data)  # Step ①\n",
    "\n",
    "        # Pick only the output corresponding to last sequence element (input is pre padded)\n",
    "        output = output[:, -1, :]\n",
    "\n",
    "        # Compute the value of the loss for this batch. For loss functions like CrossEntropyLoss,\n",
    "        # the second argument is actually expected to be a tensor of class indices rather than\n",
    "        # one-hot encoded class labels. One approach is to take advantage of the one-hot encoding\n",
    "        # of the target and call argmax along its second dimension to create a tensor of shape\n",
    "        # (batch_size) containing the index of the class label that was hot for each sequence.\n",
    "        \n",
    "        # for some reason target is an int, and dosn't match the output which is float32\n",
    "        target = target.to(torch.float32)\n",
    "        loss = criterion(output, target)  # Step ②\n",
    "\n",
    "        # Clear the gradient buffers of the optimized parameters.\n",
    "        # Otherwise, gradients from the previous batch would be accumulated.\n",
    "        optimizer.zero_grad()  # Step ③\n",
    "\n",
    "        loss.backward()  # Step ④\n",
    "\n",
    "        optimizer.step()  # Step ⑤\n",
    "        \n",
    "        #y_pred = output.argmax(dim=\n",
    "        \n",
    "        # this is wrong since we're doing regression...\n",
    "        #num_correct += (y_pred == target).sum().item()\n",
    "\n",
    "    #return num_correct, loss.item()\n",
    "    return loss.item()"
   ]
  },
  {
   "cell_type": "markdown",
   "id": "4cf98346-9e9c-4e3b-b4f8-8429df8df956",
   "metadata": {},
   "source": [
    "## 4. Defining the Testing Loop"
   ]
  },
  {
   "cell_type": "code",
   "execution_count": 412,
   "id": "6b6f396f-0d7f-48a8-8ee7-ed0aa1e2ecc7",
   "metadata": {},
   "outputs": [],
   "source": [
    "# Define the testing loop\n",
    "def test(model, test_sim_data, criterion, device, batch_size, n_total_seq, gen_batch_data):\n",
    "    # Set the model to evaluation mode. This will turn off layers that would\n",
    "    # otherwise behave differently during training, such as dropout.\n",
    "    model.eval()\n",
    "\n",
    "    # Store the number of sequences that were classified correctly\n",
    "    # num_correct = 0\n",
    "    \n",
    "    n_total_seq = 1000\n",
    "\n",
    "    n_batches = int(np.round(n_total_seq / batch_size));\n",
    "\n",
    "    loss_res = np.zeros((n_batches, 1), dtype=float)\n",
    "\n",
    "    # A context manager is used to disable gradient calculations during inference\n",
    "    # to reduce memory usage, as we typically don't need the gradients at this point.\n",
    "    with torch.no_grad():\n",
    "        for batch_idx in range(n_batches):\n",
    "            data, target = gen_batch_data(batch_size, batch_idx, test_sim_data)\n",
    "            data, target = torch.from_numpy(data).float().to(device), torch.from_numpy(target).long().to(device)\n",
    "\n",
    "            output = model(data)\n",
    "            # Pick only the output corresponding to last sequence element (input is pre padded)\n",
    "            # output = output[:, -1, :]\n",
    "\n",
    "            # target = target.argmax(dim=1)\n",
    "            loss = criterion(output, target)  # is this just for the last batch?\n",
    "\n",
    "            # store the loss\n",
    "            loss_res[batch_idx] = loss.item()\n",
    "\n",
    "            # y_pred = output.argmax(dim=1)\n",
    "            # num_correct += (y_pred == target).sum().item()\n",
    "\n",
    "    # return num_correct, loss.item()\n",
    "    # print(loss_res)\n",
    "    # print(loss.item())\n",
    "\n",
    "    return np.mean(loss_res)  # loss.item()"
   ]
  },
  {
   "cell_type": "code",
   "execution_count": 413,
   "id": "1ad1b61e-9b1d-476d-991a-a192d9daabbf",
   "metadata": {},
   "outputs": [],
   "source": [
    "from IPython import display\n",
    "from IPython.display import clear_output\n",
    "\n",
    "\n",
    "def train_with_int_tests(model, train_sim_data, test_sim_data, criterion, optimizer, device, batch_size, n_total_seq, gen_batch_data, model_name = \"\"):\n",
    "    # Set the model to training mode. This will turn on layers that would\n",
    "    # otherwise behave differently during evaluation, such as dropout.\n",
    "    model.train()\n",
    "    \n",
    "    # What metric to store?\n",
    "    # num_correct = 0\n",
    "\n",
    "    # Iterate over every batch of sequences. Note that the length of a data generator\n",
    "    # is defined as the number of batches required to produce a total of roughly 1000\n",
    "    # sequences given a batch size.\n",
    "        \n",
    "    # how many batches\n",
    "    n_batches = int(np.round(n_total_seq/batch_size));\n",
    "    \n",
    "    loss_res = []\n",
    "    train_loss_res = []\n",
    "    batch_num = []\n",
    "\n",
    "    for batch_idx in range(n_batches):\n",
    "\n",
    "        # Request a batch of sequences and class labels, convert them into tensors\n",
    "        # of the correct type, and then send them to the appropriate device.\n",
    "        #data, target = train_data_gen[batch_idx] # just alter this to the function that produces the data?\n",
    "        data, target = gen_batch_data(batch_size, batch_idx, train_sim_data)\n",
    "        \n",
    "        # this needs to change... \n",
    "        data, target = torch.from_numpy(data).float().to(device), torch.from_numpy(target).long().to(device)\n",
    "\n",
    "        # Perform the forward pass of the model\n",
    "        output = model(data)  # Step ①\n",
    "\n",
    "        # Pick only the output corresponding to last sequence element (input is pre padded)\n",
    "        # output = output[:, -1, :]\n",
    "\n",
    "        # Compute the value of the loss for this batch. For loss functions like CrossEntropyLoss,\n",
    "        # the second argument is actually expected to be a tensor of class indices rather than\n",
    "        # one-hot encoded class labels. One approach is to take advantage of the one-hot encoding\n",
    "        # of the target and call argmax along its second dimension to create a tensor of shape\n",
    "        # (batch_size) containing the index of the class label that was hot for each sequence.\n",
    "        \n",
    "        # for some reason target is an int, and dosn't match the output which is float32\n",
    "        target = target.to(torch.float32)\n",
    "        loss = criterion(output, target)  # Step ②\n",
    "\n",
    "        # Clear the gradient buffers of the optimized parameters.\n",
    "        # Otherwise, gradients from the previous batch would be accumulated.\n",
    "        optimizer.zero_grad()  # Step ③\n",
    "\n",
    "        loss.backward()  # Step ④\n",
    "\n",
    "        optimizer.step()  # Step ⑤\n",
    "        \n",
    "        if ((batch_idx % 250) == 0) & (batch_idx > 0):\n",
    "            test_loss = test(model, test_data_sim, criterion, device, batch_size, n_total_seq, gen_batch_data)\n",
    "            loss_res.append(test_loss)\n",
    "            \n",
    "            train_loss_res.append(loss.item())\n",
    "            batch_num.append(batch_idx+1)\n",
    "            \n",
    "            clear_output(wait=False)\n",
    "            plt.figure(figsize=(5,5))\n",
    "            plt.plot(np.arange(1,len(loss_res)+1)*250*32, loss_res)\n",
    "            #plt.plot(range(len(train_loss_res)), train_loss_res)\n",
    "            plt.xlabel('# train examples')\n",
    "            plt.ylabel('MSE')\n",
    "            plt.title(model_name)\n",
    "            plt.show();\n",
    "\n",
    "            print('batch num' + str(batch_idx) + ' loss: ' + str(test_loss))\n",
    "\n",
    "    #return num_correct, loss.item()\n",
    "    return model, loss_res, batch_num#loss.item()"
   ]
  },
  {
   "cell_type": "markdown",
   "id": "47c791dc-6dbd-45d4-a928-f815b554109b",
   "metadata": {},
   "source": [
    "## Run the LSTM"
   ]
  },
  {
   "cell_type": "code",
   "execution_count": 427,
   "id": "9cb97ed8-3308-4785-b999-569dc2059c40",
   "metadata": {},
   "outputs": [
    {
     "data": {
      "image/png": "[encoded data removed]",
      "text/plain": [
       "<Figure size 360x360 with 1 Axes>"
      ]
     },
     "metadata": {
      "needs_background": "light"
     },
     "output_type": "display_data"
    },
    {
     "name": "stdout",
     "output_type": "stream",
     "text": [
      "batch num31000 loss: 1.6503530933010964\n",
      "--- 928.3919847011566 seconds ---\n"
     ]
    }
   ],
   "source": [
    "import time\n",
    "\n",
    "# Setup the training and test data generators\n",
    "batch_size     = 32\n",
    "n_total_seq = 1e6\n",
    "n_batches = int(np.round(n_total_seq/batch_size));\n",
    "n_tests = int(np.ceil(n_batches/250)) - 1\n",
    "\n",
    "n_runs = 5\n",
    "LSTM_run_losses = np.zeros((n_runs, n_tests))\n",
    "for run_idx in range(n_runs):\n",
    "    print(run_idx)\n",
    "\n",
    "    # Setup the RNN and training settings\n",
    "    input_size  = 6 # this is the length of the input vector? #train_data_gen.n_symbols\n",
    "    hidden_size = 50\n",
    "    output_size = 3 # this is the leågth of the output vector #train_data_gen.n_classes\n",
    "    model       = SimpleLSTM(input_size, hidden_size, output_size)\n",
    "    criterion   = torch.nn.MSELoss() # torch.nn.CrossEntropyLoss()\n",
    "    optimizer   = torch.optim.RMSprop(model.parameters(), lr=0.001)\n",
    "    # optimizer   = torch.optim.Adam(model.parameters(), lr=0.00304)\n",
    "    max_epochs  = 10\n",
    "    device = torch.device('cpu')#torch.device('cuda:0' if torch.cuda.is_available() else 'cpu')\n",
    "\n",
    "    # Train the model›\n",
    "    # model = train_and_test(model, train_data_gen, test_data_gen, criterion, optimizer, max_epochs)\n",
    "    start_time = time.time()\n",
    "    # model_LSTM = train_and_test(model, train_data_sim, test_data_sim, criterion, optimizer, max_epochs, batch_size, n_total_seq, verbose=True, model_name = 'LSTM')\n",
    "    device = torch.device('cpu')#torch.device('cuda:0' if torch.cuda.is_available() else 'cpu')\n",
    "    model_LSTM, loss_res, LSTM_batch_num = train_with_int_tests(model, train_data_sim, test_data_sim, criterion, optimizer, device, batch_size, n_total_seq, gen_batch_data, model_name='LSTM')\n",
    "    LSTM_run_losses[run_idx,:] = loss_res\n",
    "    print(\"--- %s seconds ---\" % (time.time() - start_time))"
   ]
  },
  {
   "cell_type": "code",
   "execution_count": 425,
   "id": "38079be5-16c0-408d-823a-87577c6bf941",
   "metadata": {},
   "outputs": [
    {
     "data": {
      "text/plain": [
       "124"
      ]
     },
     "execution_count": 425,
     "metadata": {},
     "output_type": "execute_result"
    }
   ],
   "source": [
    " int(np.ceil(n_batches/250)) - 1"
   ]
  },
  {
   "cell_type": "code",
   "execution_count": 433,
   "id": "999e8d5d-e9af-4b39-af32-b03edc9715a8",
   "metadata": {},
   "outputs": [
    {
     "data": {
      "text/plain": [
       "array([[2.17984128, 1.96131477, 1.83573221, 1.78986275, 1.76447519,\n",
       "        1.75488293, 1.72876219, 1.74359403, 1.72580745, 1.72099737,\n",
       "        1.72678657, 1.71615577, 1.77442559, 1.71853001, 1.73343397,\n",
       "        1.71475498, 1.70556266, 1.71258316, 1.70007211, 1.70489884,\n",
       "        1.70480315, 1.75151578, 1.71615534, 1.68839169, 1.71158697,\n",
       "        1.69092631, 1.69297704, 1.70341199, 1.70966531, 1.68745734,\n",
       "        1.68851027, 1.6598664 , 1.66427204, 1.65878141, 1.66158232,\n",
       "        1.68891542, 1.68519412, 1.66696649, 1.67510218, 1.69525652,\n",
       "        1.69594502, 1.68470798, 1.65398941, 1.71980857, 1.66776599,\n",
       "        1.65474596, 1.65521173, 1.64978666, 1.66194848, 1.6736487 ,\n",
       "        1.67875223, 1.66581377, 1.65392957, 1.65857994, 1.64796226,\n",
       "        1.65458719, 1.66486566, 1.69421206, 1.66300893, 1.66706192,\n",
       "        1.66868979, 1.65289839, 1.65450289, 1.69560079, 1.64518474,\n",
       "        1.66093176, 1.67158478, 1.64614648, 1.68903548, 1.66292721,\n",
       "        1.68543467, 1.6464556 , 1.6735281 , 1.73248917, 1.67005607,\n",
       "        1.64821297, 1.65832785, 1.65554754, 1.66193164, 1.64899338,\n",
       "        1.6614369 , 1.65898282, 1.65607449, 1.67134115, 1.71696459,\n",
       "        1.65058188, 1.65778898, 1.64810171, 1.66138554, 1.65700845,\n",
       "        1.64744497, 1.70952302, 1.68475235, 1.66735566, 1.64588574,\n",
       "        1.64030461, 1.69626255, 1.71627506, 1.67094   , 1.7017744 ,\n",
       "        1.70617927, 1.739363  , 1.7363341 , 1.64147197, 1.64209909,\n",
       "        1.66113312, 1.64064621, 1.63443097, 1.64751289, 1.64891385,\n",
       "        1.64357948, 1.64173964, 1.63978206, 1.69403774, 1.69105085,\n",
       "        1.66337247, 1.66027563, 1.65577541, 1.67679724, 1.64420239,\n",
       "        1.64516921, 1.64693108, 1.64783817, 1.64878786],\n",
       "       [2.18371438, 1.95421456, 1.83353984, 1.79986916, 1.76907977,\n",
       "        1.7533693 , 1.73446286, 1.74097806, 1.73275514, 1.73913555,\n",
       "        1.72650473, 1.72144621, 1.78574757, 1.71458684, 1.74228613,\n",
       "        1.71165873, 1.6980605 , 1.71325919, 1.69027562, 1.69472816,\n",
       "        1.71109179, 1.74067334, 1.71476487, 1.67527355, 1.69309954,\n",
       "        1.69194932, 1.68075734, 1.70796968, 1.70537159, 1.67526589,\n",
       "        1.69048784, 1.66631223, 1.67129513, 1.66112714, 1.66302527,\n",
       "        1.69129359, 1.68703401, 1.67000358, 1.67124494, 1.69656294,\n",
       "        1.7040018 , 1.70030677, 1.66182767, 1.72390008, 1.66769038,\n",
       "        1.65425511, 1.66442937, 1.65001989, 1.67047511, 1.6724466 ,\n",
       "        1.6870993 , 1.67745102, 1.65238381, 1.66269265, 1.64585715,\n",
       "        1.66725168, 1.66053529, 1.69594458, 1.65314096, 1.66012416,\n",
       "        1.67440368, 1.65643166, 1.6547167 , 1.69046352, 1.64667619,\n",
       "        1.66347511, 1.66459257, 1.65247303, 1.69246869, 1.66549809,\n",
       "        1.68369446, 1.64667241, 1.67661905, 1.73689166, 1.66604878,\n",
       "        1.65394534, 1.65336702, 1.66564829, 1.6587807 , 1.64810333,\n",
       "        1.65349323, 1.65653173, 1.65328425, 1.66848779, 1.72357172,\n",
       "        1.65096207, 1.65403951, 1.64202413, 1.68449525, 1.65300872,\n",
       "        1.64266783, 1.70143558, 1.6761517 , 1.66182023, 1.64168624,\n",
       "        1.64081001, 1.68757682, 1.71089071, 1.66560492, 1.7019355 ,\n",
       "        1.70683853, 1.74210892, 1.72652883, 1.65148364, 1.64861828,\n",
       "        1.66476405, 1.64636028, 1.64190003, 1.65374376, 1.65471363,\n",
       "        1.64134862, 1.64396021, 1.64813736, 1.69287007, 1.69329909,\n",
       "        1.66003635, 1.65678629, 1.65213586, 1.67920997, 1.65040394,\n",
       "        1.64782759, 1.65046233, 1.64578886, 1.64708181],\n",
       "       [2.25103897, 2.00429712, 1.86314654, 1.80383455, 1.76960868,\n",
       "        1.76176931, 1.74410204, 1.74301174, 1.73765944, 1.73914428,\n",
       "        1.73187009, 1.72031006, 1.78268355, 1.72358062, 1.73231307,\n",
       "        1.71810642, 1.70429618, 1.71792632, 1.69785999, 1.69891051,\n",
       "        1.71185458, 1.74226185, 1.72037655, 1.6909736 , 1.71693837,\n",
       "        1.69531143, 1.68708915, 1.71148421, 1.70422363, 1.67568105,\n",
       "        1.69124048, 1.65904829, 1.66834837, 1.66535596, 1.66081633,\n",
       "        1.68834789, 1.69579243, 1.67384274, 1.67175711, 1.70697539,\n",
       "        1.69786887, 1.68799597, 1.65104235, 1.72707175, 1.66901103,\n",
       "        1.64412233, 1.65334939, 1.64695861, 1.66560544, 1.66701477,\n",
       "        1.67804241, 1.66785913, 1.66232912, 1.65775317, 1.64726632,\n",
       "        1.65815392, 1.66637551, 1.68638673, 1.66465312, 1.65473   ,\n",
       "        1.67919609, 1.64765089, 1.65593322, 1.69605136, 1.64316114,\n",
       "        1.66882759, 1.67152954, 1.65059474, 1.70333575, 1.65987165,\n",
       "        1.69756621, 1.64916021, 1.67300139, 1.75162983, 1.67261768,\n",
       "        1.64737539, 1.65578056, 1.65409271, 1.66264443, 1.64630407,\n",
       "        1.66224882, 1.65847521, 1.65720076, 1.67185652, 1.72375901,\n",
       "        1.65605576, 1.65042856, 1.64623843, 1.66259496, 1.65871646,\n",
       "        1.64755388, 1.71122646, 1.6851913 , 1.66479247, 1.64450007,\n",
       "        1.63755152, 1.6927302 , 1.71777448, 1.66736943, 1.70941946,\n",
       "        1.70836615, 1.74857735, 1.7395215 , 1.64274532, 1.63903637,\n",
       "        1.66410124, 1.63792925, 1.63619717, 1.65041267, 1.6537537 ,\n",
       "        1.64507104, 1.64245088, 1.64384035, 1.70077822, 1.69567692,\n",
       "        1.66305243, 1.66415166, 1.64927664, 1.67769383, 1.6454986 ,\n",
       "        1.64293049, 1.64885207, 1.6452063 , 1.64550252],\n",
       "       [2.15022327, 1.93974027, 1.82487442, 1.79559312, 1.76968813,\n",
       "        1.76132527, 1.75058608, 1.7495306 , 1.74114607, 1.74501701,\n",
       "        1.73991489, 1.72706456, 1.79043839, 1.72783244, 1.74938469,\n",
       "        1.73013661, 1.71052335, 1.71763979, 1.69785432, 1.70510317,\n",
       "        1.71331807, 1.74314699, 1.72286621, 1.70652439, 1.73510971,\n",
       "        1.68590971, 1.68690344, 1.75781835, 1.71792357, 1.70409295,\n",
       "        1.68720471, 1.66695156, 1.67380951, 1.66366817, 1.66128269,\n",
       "        1.70292545, 1.67699983, 1.67149849, 1.68895779, 1.70529828,\n",
       "        1.7064053 , 1.68731111, 1.66194895, 1.71247517, 1.67479022,\n",
       "        1.66068416, 1.65741955, 1.65119469, 1.65478141, 1.68905827,\n",
       "        1.69243237, 1.66841241, 1.6557162 , 1.65391401, 1.64831739,\n",
       "        1.6602319 , 1.66175064, 1.70647607, 1.6564373 , 1.6604367 ,\n",
       "        1.65898774, 1.64926874, 1.65131298, 1.69216601, 1.64508284,\n",
       "        1.66090939, 1.66974028, 1.64182527, 1.68846299, 1.66312334,\n",
       "        1.69551434, 1.64924881, 1.6740925 , 1.74783164, 1.67031737,\n",
       "        1.65312113, 1.66174629, 1.65558456, 1.66340197, 1.6467211 ,\n",
       "        1.65879097, 1.65520162, 1.65544906, 1.6654891 , 1.72233469,\n",
       "        1.65483998, 1.65806023, 1.64708288, 1.66772727, 1.6634854 ,\n",
       "        1.65097742, 1.70879518, 1.68168519, 1.74851202, 1.64748751,\n",
       "        1.64096162, 1.70884645, 1.71302585, 1.67031843, 1.71357991,\n",
       "        1.71431295, 1.74266199, 1.74482759, 1.64868706, 1.64544693,\n",
       "        1.66064896, 1.64070522, 1.64281549, 1.64612083, 1.6520925 ,\n",
       "        1.64318117, 1.64382282, 1.64382987, 1.71515638, 1.6977877 ,\n",
       "        1.66193161, 1.6515901 , 1.65033422, 1.67131048, 1.64424532,\n",
       "        1.64437107, 1.64658416, 1.64903786, 1.64487205],\n",
       "       [2.28048363, 1.97309616, 1.83975907, 1.80219559, 1.77087521,\n",
       "        1.7532264 , 1.74629419, 1.75255057, 1.73735312, 1.73779453,\n",
       "        1.73592034, 1.73358235, 1.78409647, 1.7247345 , 1.73828181,\n",
       "        1.72011385, 1.7168772 , 1.71885107, 1.70182563, 1.70305315,\n",
       "        1.71508066, 1.76792632, 1.71031466, 1.68255532, 1.70283977,\n",
       "        1.68695364, 1.69244634, 1.70544278, 1.71598965, 1.68566321,\n",
       "        1.68513519, 1.67003804, 1.6684999 , 1.66717286, 1.66909062,\n",
       "        1.69614894, 1.71212435, 1.68304352, 1.6830732 , 1.70397912,\n",
       "        1.71285825, 1.6948305 , 1.6579364 , 1.73403716, 1.67206182,\n",
       "        1.65622267, 1.66243188, 1.64696089, 1.66273204, 1.67410363,\n",
       "        1.68994502, 1.663713  , 1.65554622, 1.65759463, 1.64501734,\n",
       "        1.65806223, 1.66549054, 1.69717891, 1.66671276, 1.66313217,\n",
       "        1.67484869, 1.65543958, 1.6559711 , 1.69563029, 1.6475751 ,\n",
       "        1.66713834, 1.66714422, 1.64961576, 1.69257091, 1.66853251,\n",
       "        1.68699243, 1.64840943, 1.67942057, 1.74068106, 1.67166688,\n",
       "        1.65489614, 1.65457745, 1.66058909, 1.66314993, 1.64835796,\n",
       "        1.65639084, 1.65635628, 1.65675537, 1.66757199, 1.71836655,\n",
       "        1.6478926 , 1.65233542, 1.64571243, 1.67049818, 1.65922233,\n",
       "        1.64713164, 1.70811029, 1.68415902, 1.66584662, 1.64472196,\n",
       "        1.64273481, 1.70312074, 1.7162335 , 1.6664449 , 1.70583451,\n",
       "        1.71036266, 1.74521475, 1.74334463, 1.65250238, 1.64859919,\n",
       "        1.65866736, 1.64118691, 1.6360388 , 1.64405108, 1.65376406,\n",
       "        1.64327919, 1.64441342, 1.64168448, 1.6940196 , 1.69552169,\n",
       "        1.66383241, 1.66639406, 1.65540376, 1.68045925, 1.64921814,\n",
       "        1.64813378, 1.65048262, 1.65221152, 1.65035309]])"
      ]
     },
     "execution_count": 433,
     "metadata": {},
     "output_type": "execute_result"
    }
   ],
   "source": [
    "LSTM_run_losses"
   ]
  },
  {
   "cell_type": "code",
   "execution_count": 440,
   "id": "a6dd9f2a-158a-4669-b2d8-3c0fcc9696ae",
   "metadata": {},
   "outputs": [
    {
     "data": {
      "text/plain": [
       "Text(0, 0.5, 'MSE (average over 5 runs)')"
      ]
     },
     "execution_count": 440,
     "metadata": {},
     "output_type": "execute_result"
    },
    {
     "data": {
      "image/png": "[encoded data removed]",
      "text/plain": [
       "<Figure size 500x500 with 1 Axes>"
      ]
     },
     "metadata": {
      "needs_background": "light"
     },
     "output_type": "display_data"
    }
   ],
   "source": [
    "fig, ax = plt.subplots(1,figsize=(2.5,2.5),dpi=200)\n",
    "ax.plot(np.array(LSTM_batch_num)*32, np.mean(LSTM_run_losses,0))\n",
    "ax.errorbar(np.array(LSTM_batch_num)*32, np.mean(LSTM_run_losses,0),yerr=np.std(LSTM_run_losses,0))\n",
    "ax.set_xlabel('# Training Examples')\n",
    "ax.set_ylabel('MSE (average over 5 runs)')"
   ]
  },
  {
   "cell_type": "markdown",
   "id": "84bf892d-b962-4c9e-98bc-dcebcb21e2e3",
   "metadata": {},
   "source": [
    "#### Run the MLP"
   ]
  },
  {
   "cell_type": "code",
   "execution_count": 416,
   "id": "9cce8418-9dca-45d8-aa1d-ad0e6518cf7b",
   "metadata": {},
   "outputs": [
    {
     "data": {
      "image/png": "[encoded data removed]",
      "text/plain": [
       "<Figure size 360x360 with 1 Axes>"
      ]
     },
     "metadata": {
      "needs_background": "light"
     },
     "output_type": "display_data"
    },
    {
     "name": "stdout",
     "output_type": "stream",
     "text": [
      "batch num3000 loss: 4.731320335019019\n",
      "--- 2.7542788982391357 seconds ---\n"
     ]
    }
   ],
   "source": [
    "# Setup the training and test data generators\n",
    "batch_size     = 32\n",
    "n_total_seq = 1e5\n",
    "n_batches = int(np.round(n_total_seq/batch_size));\n",
    "n_tests = int(np.floor(n_batches/250))\n",
    "\n",
    "n_runs = 10\n",
    "MLP_run_losses = np.zeros((n_runs, n_tests))\n",
    "for run_idx in range(n_runs):\n",
    "    \n",
    "    # Setup the RNN and training settings\n",
    "    input_size  = 3 # this is the length of the input vector? #train_data_gen.n_symbols\n",
    "    hidden_size = 50\n",
    "    output_size = 3 # this is the leågth of the output vector #train_data_gen.n_classes\n",
    "    model       = SimpleMLP(input_size, hidden_size, output_size)\n",
    "    criterion   = torch.nn.MSELoss() # torch.nn.CrossEntropyLoss()\n",
    "    optimizer   = torch.optim.RMSprop(model.parameters(), lr=0.001)\n",
    "    # optimizer   = torch.optim.Adam(model.parameters(), lr=0.00304)\n",
    "    max_epochs  = 10\n",
    "    device = torch.device('cpu')#torch.device('cuda:0' if torch.cuda.is_available() else 'cpu')\n",
    "\n",
    "\n",
    "    # Train the model›\n",
    "    # model = train_and_test(model, train_data_gen, test_data_gen, criterion, optimizer, max_epochs)\n",
    "    start_time = time.time()\n",
    "    # model_LSTM = train_and_test(model, train_data_sim, test_data_sim, criterion, optimizer, max_epochs, batch_size, n_total_seq, verbose=True, model_name = 'LSTM')\n",
    "    device = torch.device('cpu')#torch.device('cuda:0' if torch.cuda.is_available() else 'cpu')\n",
    "    model_MLP, loss_res, batch_num = train_with_int_tests(model, train_data_sim, test_data_sim, criterion, optimizer, device, batch_size, n_total_seq, gen_batch_data_choice_only,model_name='MLP')\n",
    "    MLP_run_losses[run_idx,:] = loss_res\n",
    "    print(\"--- %s seconds ---\" % (time.time() - start_time))"
   ]
  },
  {
   "cell_type": "code",
   "execution_count": 417,
   "id": "b0968b82-c197-42c5-9564-f6bba63cbd45",
   "metadata": {},
   "outputs": [
    {
     "data": {
      "text/plain": [
       "[<matplotlib.lines.Line2D at 0x7f7f361bdbe0>]"
      ]
     },
     "execution_count": 417,
     "metadata": {},
     "output_type": "execute_result"
    },
    {
     "data": {
      "image/png": "[encoded data removed]",
      "text/plain": [
       "<Figure size 500x500 with 1 Axes>"
      ]
     },
     "metadata": {
      "needs_background": "light"
     },
     "output_type": "display_data"
    }
   ],
   "source": [
    "fig, ax = plt.subplots(1,figsize=(5,5),dpi=100)\n",
    "ax.plot(MLP_batch_num, np.mean(MLP_run_losses,0))"
   ]
  },
  {
   "cell_type": "code",
   "execution_count": 418,
   "id": "7fd8b282-2b44-4112-be22-0647850f58d3",
   "metadata": {},
   "outputs": [
    {
     "data": {
      "text/plain": [
       "array([[5.05247456, 4.72887842, 4.73506992, 4.72626009, 4.7505078 ,\n",
       "        4.73071909, 4.73033454, 4.7349431 , 4.72969307, 4.72851447,\n",
       "        4.72912039, 4.73161277],\n",
       "       [5.10863739, 4.73397719, 4.73593975, 4.7257931 , 4.74729532,\n",
       "        4.73075965, 4.72933891, 4.73561884, 4.7290553 , 4.72824646,\n",
       "        4.72971319, 4.73211255],\n",
       "       [5.08877428, 4.73052292, 4.73636217, 4.72623747, 4.74665976,\n",
       "        4.73163445, 4.72971873, 4.73683659, 4.72876289, 4.72855996,\n",
       "        4.72979893, 4.73244918],\n",
       "       [5.29493378, 4.74667125, 4.73538903, 4.72562658, 4.74704859,\n",
       "        4.7310299 , 4.72941914, 4.73396047, 4.72904704, 4.72840331,\n",
       "        4.72961866, 4.73152178],\n",
       "       [5.03297943, 4.73072663, 4.73612312, 4.72609797, 4.74804435,\n",
       "        4.73104469, 4.72973813, 4.73594383, 4.72865758, 4.72840092,\n",
       "        4.72955482, 4.73179143],\n",
       "       [5.16677083, 4.73175038, 4.73578164, 4.7257077 , 4.74730212,\n",
       "        4.7304909 , 4.72943029, 4.73561387, 4.72859029, 4.72810727,\n",
       "        4.729405  , 4.73160476],\n",
       "       [5.22346269, 4.7356249 , 4.73562125, 4.72566402, 4.74728961,\n",
       "        4.73053968, 4.72936644, 4.73520247, 4.72849614, 4.72819128,\n",
       "        4.72943367, 4.73159988],\n",
       "       [5.0879174 , 4.73970172, 4.73557301, 4.72591551, 4.74509535,\n",
       "        4.73055183, 4.72914934, 4.7340991 , 4.72908212, 4.72855936,\n",
       "        4.73013973, 4.73190951],\n",
       "       [5.25102918, 4.74037678, 4.73541061, 4.72560829, 4.74694475,\n",
       "        4.73074853, 4.72956214, 4.73397312, 4.72892552, 4.72855688,\n",
       "        4.72928792, 4.73107721],\n",
       "       [4.98381002, 4.7284421 , 4.73442264, 4.72568337, 4.74897522,\n",
       "        4.73042419, 4.72978329, 4.73376911, 4.72906525, 4.72834516,\n",
       "        4.72912285, 4.73132034]])"
      ]
     },
     "execution_count": 418,
     "metadata": {},
     "output_type": "execute_result"
    }
   ],
   "source": [
    "# MLP_run_losses"
   ]
  },
  {
   "cell_type": "code",
   "execution_count": 395,
   "id": "7ba12711-3892-430d-a15b-9760439b9598",
   "metadata": {},
   "outputs": [],
   "source": [
    "def test_record_each_output(model, test_sim_data, criterion, device, batch_size, n_total_seq, gen_batch_data,out_idx, choice_only=False):\n",
    "    # Set the model to evaluation mode. This will turn off layers that would\n",
    "    # otherwise behave differently during training, such as dropout.\n",
    "    print(choice_only)\n",
    "    model.eval()\n",
    "\n",
    "    # Store the number of sequences that were classified correctly\n",
    "    # num_correct = 0\n",
    "\n",
    "    n_batches = int(np.round(n_total_seq/batch_size));\n",
    "\n",
    "    output_all = np.zeros((0,3))\n",
    "    target_all = np.zeros((0,3))\n",
    "\n",
    "    # A context manager is used to disable gradient calculations during inference\n",
    "    # to reduce memory usage, as we typically don't need the gradients at this point.\n",
    "    with torch.no_grad():\n",
    "        for batch_idx in range(n_batches):\n",
    "            data, target = gen_batch_data(batch_size, batch_idx, test_sim_data)\n",
    "            data, target = torch.from_numpy(data).float().to(device), torch.from_numpy(target).long().to(device)\n",
    "\n",
    "            output = model(data)\n",
    "            # Pick only the output corresponding to last sequence element (input is pre padded)\n",
    "            if not choice_only:\n",
    "                output = output[:, -out_idx, :]\n",
    "                target = target[:,-out_idx,:]\n",
    "\n",
    "            output_all = np.concatenate((output_all, output.numpy()))\n",
    "            target_all = np.concatenate((target_all, target.numpy()))\n",
    "\n",
    "    return (output_all, target_all)\n",
    "\n"
   ]
  },
  {
   "cell_type": "code",
   "execution_count": 421,
   "id": "9ae75fb3-b9ad-42a9-8125-55fbfb39d50d",
   "metadata": {},
   "outputs": [
    {
     "name": "stdout",
     "output_type": "stream",
     "text": [
      "False\n"
     ]
    },
    {
     "data": {
      "text/plain": [
       "Text(0.5, 1.0, 'LSTM Performance, MSE: 4.12 , r: 0.6 ')"
      ]
     },
     "execution_count": 421,
     "metadata": {},
     "output_type": "execute_result"
    },
    {
     "data": {
      "image/png": "[encoded data removed]",
      "text/plain": [
       "<Figure size 500x500 with 1 Axes>"
      ]
     },
     "metadata": {
      "needs_background": "light"
     },
     "output_type": "display_data"
    }
   ],
   "source": [
    "n_total_seq_vis = 1e3\n",
    "output_all_LSTM, target_all_LSTM = test_record_each_output(model_LSTM, test_data_sim, criterion, device, batch_size, n_total_seq_vis,gen_batch_data, 1)\n",
    "output_flat = output_all_LSTM.flatten()\n",
    "target_flat = target_all_LSTM.flatten()\n",
    "\n",
    "r = np.round(np.corrcoef(output_flat, target_flat)[1][0], decimals = 2)\n",
    "mse = np.round(np.mean(np.power(output_flat - target_flat,2)), decimals=2)\n",
    "target_flat_round = np.round(target_flat)\n",
    "mean_estimates = np.zeros(10)\n",
    "std_estimates = np.zeros(10)\n",
    "for i in range(1,11):\n",
    "    mean_estimates[i-1] = np.mean(output_flat[target_flat_round == i])\n",
    "    std_estimates[i-1] = np.std(output_flat[target_flat_round == i])\n",
    "\n",
    "fix,ax = plt.subplots(1,figsize = (2.5,2.5), dpi = 200)\n",
    "ax.plot(range(1,11), mean_estimates, 'o')\n",
    "ax.errorbar(range(1,11), mean_estimates, yerr = std_estimates)\n",
    "ax.set_ylim([1,10])\n",
    "ax.set_xlabel('True Value')\n",
    "ax.set_ylabel('Predicted Value (mean +/- s.d.)')\n",
    "ax.set_title('LSTM Performance, MSE: {} , r: {} '.format(mse,r))"
   ]
  },
  {
   "cell_type": "code",
   "execution_count": 422,
   "id": "a4d10a88-c180-404a-aabc-db527fe9b0ee",
   "metadata": {},
   "outputs": [
    {
     "name": "stdout",
     "output_type": "stream",
     "text": [
      "False\n",
      "False\n",
      "False\n",
      "False\n",
      "False\n",
      "False\n",
      "False\n",
      "False\n",
      "False\n",
      "False\n",
      "False\n",
      "False\n",
      "False\n",
      "False\n",
      "False\n",
      "False\n",
      "False\n",
      "False\n",
      "False\n"
     ]
    },
    {
     "data": {
      "text/plain": [
       "Text(0, 0.5, 'r: prediction vs target')"
      ]
     },
     "execution_count": 422,
     "metadata": {},
     "output_type": "execute_result"
    },
    {
     "data": {
      "image/png": "[encoded data removed]",
      "text/plain": [
       "<Figure size 400x400 with 1 Axes>"
      ]
     },
     "metadata": {
      "needs_background": "light"
     },
     "output_type": "display_data"
    }
   ],
   "source": [
    "# can you record from starting at end and moving backward... \n",
    "\n",
    "n_back_vals = np.arange(1,20)\n",
    "r_by_n_back = np.zeros(len(n_back_vals))\n",
    "\n",
    "n_total_seq_vis = 1e3\n",
    "\n",
    "for nb_idx, nb in enumerate(n_back_vals):\n",
    "    output_all_LSTM, target_all_LSTM = test_record_each_output(model_LSTM, test_data_sim, criterion, device, batch_size, n_total_seq_vis,gen_batch_data,nb)\n",
    "    output_flat = output_all_LSTM.flatten()\n",
    "    target_flat = target_all_LSTM.flatten()\n",
    "    output_flat = output_flat[target_flat != 0]\n",
    "    target_flat = target_flat[target_flat != 0]\n",
    "\n",
    "    r = np.round(np.corrcoef(output_flat, target_flat)[1][0], decimals = 2)\n",
    "    r_by_n_back[nb_idx] = r\n",
    "    \n",
    "fig,ax = plt.subplots(1,figsize=(2,2),dpi=200)\n",
    "ax.plot(-1*n_back_vals+1,r_by_n_back, '--o')\n",
    "ax.set_xlabel('time-steps to choice')\n",
    "ax.set_ylabel('r: prediction vs target')"
   ]
  },
  {
   "cell_type": "code",
   "execution_count": 423,
   "id": "6fe022e9-8465-4c7c-b9c3-5efc87d63c21",
   "metadata": {},
   "outputs": [
    {
     "name": "stdout",
     "output_type": "stream",
     "text": [
      "True\n"
     ]
    },
    {
     "data": {
      "text/plain": [
       "Text(0.5, 1.0, 'MLP Performance, MSE: 4.73 , r: 0.5 ')"
      ]
     },
     "execution_count": 423,
     "metadata": {},
     "output_type": "execute_result"
    },
    {
     "data": {
      "image/png": "[encoded data removed]",
      "text/plain": [
       "<Figure size 400x400 with 1 Axes>"
      ]
     },
     "metadata": {
      "needs_background": "light"
     },
     "output_type": "display_data"
    }
   ],
   "source": [
    "n_total_seq_vis = 1e3\n",
    "output_all_MLP, target_all_MLP = test_record_each_output(model_MLP, test_data_sim, criterion, device, batch_size, n_total_seq_vis, gen_batch_data_choice_only,0, choice_only=True)\n",
    "output_flat = output_all_MLP.flatten()\n",
    "target_flat = target_all_MLP.flatten()\n",
    "\n",
    "r = np.round(np.corrcoef(output_flat, target_flat)[1][0], decimals = 2)\n",
    "mse = np.round(np.mean(np.power(output_flat - target_flat,2)), decimals=2)\n",
    "target_flat_round = np.round(target_flat)\n",
    "mean_estimates = np.zeros(10)\n",
    "std_estimates = np.zeros(10)\n",
    "for i in range(1,11):\n",
    "    mean_estimates[i-1] = np.mean(output_flat[target_flat_round == i])\n",
    "    std_estimates[i-1] = np.std(output_flat[target_flat_round == i])\n",
    "\n",
    "fix,ax = plt.subplots(1,figsize = (4,4), dpi = 100)\n",
    "ax.plot(range(1,11), mean_estimates, 'o')\n",
    "ax.errorbar(range(1,11), mean_estimates, yerr = std_estimates)\n",
    "ax.set_ylim([1,10])\n",
    "ax.set_xlabel('True Value')\n",
    "ax.set_ylabel('Predicted Value (mean +/- s.d.)')\n",
    "ax.set_title('MLP Performance, MSE: {} , r: {} '.format(mse,r))"
   ]
  },
  {
   "cell_type": "code",
   "execution_count": 401,
   "id": "9d4cf814-8f3a-42d8-87fc-e3ffc489f996",
   "metadata": {},
   "outputs": [
    {
     "data": {
      "text/plain": [
       "(array([[6.0756073 , 3.35752535, 3.46393704],\n",
       "        [3.52752924, 3.37813091, 6.04007292],\n",
       "        [6.0756073 , 3.35752535, 3.46393704],\n",
       "        [3.42318654, 5.99342203, 3.50141191],\n",
       "        [6.0756073 , 3.35752535, 3.46393704]]),\n",
       " array([[4., 2., 3.],\n",
       "        [1., 3., 7.],\n",
       "        [4., 1., 3.],\n",
       "        [5., 9., 6.],\n",
       "        [7., 1., 5.]]))"
      ]
     },
     "execution_count": 401,
     "metadata": {},
     "output_type": "execute_result"
    }
   ],
   "source": [
    "output_all_MLP[:5,:], target_all_MLP[:5,:]"
   ]
  },
  {
   "cell_type": "code",
   "execution_count": 394,
   "id": "f8adf3b7-e5b4-4602-b102-d5625c67db98",
   "metadata": {},
   "outputs": [
    {
     "ename": "SyntaxError",
     "evalue": "invalid syntax (144242808.py, line 1)",
     "output_type": "error",
     "traceback": [
      "\u001b[0;36m  File \u001b[0;32m\"/var/folders/h2/yqlrymd172z_tv1_fvy1tbxm0000gn/T/ipykernel_67157/144242808.py\"\u001b[0;36m, line \u001b[0;32m1\u001b[0m\n\u001b[0;31m    print(!True)\u001b[0m\n\u001b[0m          ^\u001b[0m\n\u001b[0;31mSyntaxError\u001b[0m\u001b[0;31m:\u001b[0m invalid syntax\n"
     ]
    }
   ],
   "source": [
    "choice_only = False\n",
    "\n",
    "print(True)"
   ]
  },
  {
   "cell_type": "markdown",
   "id": "ba3ee233-47eb-4b9d-ad50-93abda1af730",
   "metadata": {},
   "source": [
    "### Does it get the correct ordering?"
   ]
  },
  {
   "cell_type": "code",
   "execution_count": 254,
   "id": "13980405-1554-4366-9a95-d978f41d396c",
   "metadata": {},
   "outputs": [
    {
     "name": "stdout",
     "output_type": "stream",
     "text": [
      "LSTM guesses correct max 72.0% of trials\n",
      "LSTM guesses correct min 51.0% of trials\n"
     ]
    }
   ],
   "source": [
    "output_max_item = output_all_LSTM.argmax(axis=1)\n",
    "target_max_item = target_all_LSTM.argmax(axis=1)\n",
    "pct_correct_max = np.sum(output_max_item == target_max_item)/len(output_max_item)\n",
    "\n",
    "print('LSTM guesses correct max {}% of trials'.format(100*np.round(pct_correct_max,decimals=2)))\n",
    "\n",
    "output_min_item = output_all_LSTM.argmin(axis=1)\n",
    "target_min_item = target_all_LSTM.argmin(axis=1)\n",
    "pct_correct_min = np.sum(output_min_item == target_min_item)/len(output_min_item)\n",
    "\n",
    "print('LSTM guesses correct min {}% of trials'.format(100*np.round(pct_correct_min,decimals=2)))"
   ]
  },
  {
   "cell_type": "code",
   "execution_count": 182,
   "id": "c7410a92-6d85-4bfc-a029-3ed9ac410cdd",
   "metadata": {},
   "outputs": [
    {
     "name": "stdout",
     "output_type": "stream",
     "text": [
      "correct order 39.0% of trials\n",
      "max > mid 75.0% of trials\n",
      "mid > min 61.0% of trials\n",
      "max > min 84.0% of trials\n",
      "correct max 72.0% of trials\n",
      "correct min 50.0% of trials\n"
     ]
    }
   ],
   "source": [
    "# for targets \n",
    "target_orders = np.ones(target_all_LSTM.shape)\n",
    "target_max_item = target_all_LSTM.argmax(axis=1)\n",
    "target_orders[range(target_orders.shape[0]),target_max_item]=2\n",
    "target_min_item = target_all_LSTM.argmin(axis=1)\n",
    "target_orders[range(target_orders.shape[0]),target_min_item]=0\n",
    "\n",
    "output_orders = np.ones(output_all_LSTM.shape)\n",
    "output_max_item = output_all_LSTM.argmax(axis=1)\n",
    "output_orders[range(output_orders.shape[0]),target_max_item]=2\n",
    "output_min_item = output_all_LSTM.argmin(axis=1)\n",
    "output_orders[range(target_orders.shape[0]),target_min_item]=0\n",
    "\n",
    "prop_max_g_mid = np.sum(output_all_LSTM[target_orders==2]>output_all_LSTM[target_orders==1])/output_all_LSTM.shape[0]\n",
    "prop_mid_g_min = np.sum(output_all_LSTM[target_orders==1]>output_all_LSTM[target_orders==0])/output_all_LSTM.shape[0]\n",
    "prop_max_g_min = np.sum(output_all_LSTM[target_orders==2]>output_all_LSTM[target_orders==0])/output_all_LSTM.shape[0]\n",
    "prop_correct_order = np.sum((output_all_LSTM[target_orders==2]>output_all_LSTM[target_orders==1])&(output_all_LSTM[target_orders==1]>output_all_LSTM[target_orders==0]))/output_all_LSTM.shape[0]\n",
    "\n",
    "prop_correct_max = np.sum(target_max_item == output_max_item)/len(target_max_item)\n",
    "prop_correct_min = np.sum(target_min_item == output_min_item)/len(target_min_item)\n",
    "\n",
    "print('correct order {}% of trials'.format(100*np.round(prop_correct_order,decimals=2)))\n",
    "print('max > mid {}% of trials'.format(100*np.round(prop_max_g_mid,decimals=2)))\n",
    "print('mid > min {}% of trials'.format(100*np.round(prop_mid_g_min,decimals=2)))\n",
    "print('max > min {}% of trials'.format(100*np.round(prop_max_g_min,decimals=2)))\n",
    "print('correct max {}% of trials'.format(100*np.round(prop_correct_max,decimals=2)))\n",
    "print('correct min {}% of trials'.format(100*np.round(prop_correct_min,decimals=2)))\n"
   ]
  },
  {
   "cell_type": "code",
   "execution_count": null,
   "id": "aa07b305-f168-4f15-b0c3-a36a44b4857d",
   "metadata": {},
   "outputs": [],
   "source": [
    "# how well does it get the difference between max and min "
   ]
  },
  {
   "cell_type": "code",
   "execution_count": 99,
   "id": "540f9914-6c1c-49eb-b11a-d0d482d8d035",
   "metadata": {},
   "outputs": [
    {
     "data": {
      "text/plain": [
       "Text(0.5, 1.0, 'LSTM Performance, MSE: 4.63 , r: 0.41 ')"
      ]
     },
     "execution_count": 99,
     "metadata": {},
     "output_type": "execute_result"
    },
    {
     "data": {
      "image/png": "[encoded data removed]",
      "text/plain": [
       "<Figure size 400x400 with 1 Axes>"
      ]
     },
     "metadata": {
      "needs_background": "light"
     },
     "output_type": "display_data"
    }
   ],
   "source": [
    "# contains the max index for each trial\n",
    "max_idxs = np.argmax(target_all_LSTM, axis = 1)\n",
    "min_idxs = np.argmin(target_all_LSTM, axis = 1)\n",
    "\n",
    "max_targets = np.round(target_all_LSTM[range(target_all_LSTM.shape[0]), max_idxs])\n",
    "max_outputs = output_all_LSTM[range(target_all_LSTM.shape[0]), max_idxs]\n",
    "\n",
    "r = np.round(np.corrcoef(max_outputs, max_targets)[1][0], decimals = 2)\n",
    "mse = np.round(np.mean(np.power(max_outputs - max_targets,2)), decimals=2)\n",
    "\n",
    "mean_estimates = np.zeros(10)\n",
    "std_estimates = np.zeros(10)\n",
    "for i in range(3,11):\n",
    "    mean_estimates[i-1] = np.mean(max_outputs[max_targets == i])\n",
    "    std_estimates[i-1] = np.std(max_outputs[max_targets == i])\n",
    "\n",
    "fix,ax = plt.subplots(1,figsize = (4,4), dpi = 100)\n",
    "ax.plot(range(3,11), mean_estimates[2:], 'o')\n",
    "ax.errorbar(range(3,11), mean_estimates[2:], yerr = std_estimates[2:])\n",
    "ax.set_ylim([1,10])\n",
    "ax.set_xlabel('True Value')\n",
    "ax.set_ylabel('Predicted Value')\n",
    "ax.set_title('LSTM Performance, MSE: {} , r: {} '.format(mse,r))"
   ]
  },
  {
   "cell_type": "code",
   "execution_count": 57,
   "id": "a5a96d9f-52ef-4f30-8170-d035a7c83ff0",
   "metadata": {},
   "outputs": [
    {
     "data": {
      "text/plain": [
       "array([       nan,        nan, 4.20361695, 4.59310827, 5.12080646,\n",
       "       5.51035056, 5.77384573, 6.13292855, 6.28513572, 6.52798245])"
      ]
     },
     "execution_count": 57,
     "metadata": {},
     "output_type": "execute_result"
    }
   ],
   "source": [
    "mean_estimates"
   ]
  },
  {
   "cell_type": "code",
   "execution_count": 52,
   "id": "abecd2d8-3369-4fac-87c0-deb94f71a44c",
   "metadata": {},
   "outputs": [
    {
     "data": {
      "text/plain": [
       "array([4., 7., 4., ..., 4., 3., 8.])"
      ]
     },
     "execution_count": 52,
     "metadata": {},
     "output_type": "execute_result"
    }
   ],
   "source": [
    "max_targets"
   ]
  },
  {
   "cell_type": "code",
   "execution_count": 47,
   "id": "96180b3e-b38c-4cc2-81db-395bc6fb4e82",
   "metadata": {},
   "outputs": [],
   "source": [
    "# contains the max index for each trial\n",
    "max_idxs = np.argmax(target_all_LSTM, axis = 1)\n",
    "min_idxs = np.argmin(target_all_LSTM, axis = 1)"
   ]
  },
  {
   "cell_type": "code",
   "execution_count": null,
   "id": "4420cdb6-c9b2-4c73-b9ff-e2a7017921bb",
   "metadata": {},
   "outputs": [],
   "source": []
  },
  {
   "cell_type": "code",
   "execution_count": null,
   "id": "6435c93d-cc49-4807-acc6-5d54e8f17b8c",
   "metadata": {},
   "outputs": [],
   "source": []
  },
  {
   "cell_type": "code",
   "execution_count": null,
   "id": "855d916c-ed4d-4372-b069-45326a00a42d",
   "metadata": {},
   "outputs": [],
   "source": []
  }
 ],
 "metadata": {
  "kernelspec": {
   "display_name": "Python 3 (ipykernel)",
   "language": "python",
   "name": "python3"
  },
  "language_info": {
   "codemirror_mode": {
    "name": "ipython",
    "version": 3
   },
   "file_extension": ".py",
   "mimetype": "text/x-python",
   "name": "python",
   "nbconvert_exporter": "python",
   "pygments_lexer": "ipython3",
   "version": "3.8.12"
  }
 },
 "nbformat": 4,
 "nbformat_minor": 5
}
