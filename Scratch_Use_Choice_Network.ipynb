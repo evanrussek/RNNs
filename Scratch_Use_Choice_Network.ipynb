{
 "cells": [
  {
   "cell_type": "markdown",
   "id": "fcf765ff-dfd6-4340-bd77-7260a099303b",
   "metadata": {},
   "source": [
    "#### Get the best choice networks for each run, and test them at predicting for each time-point"
   ]
  },
  {
   "cell_type": "code",
   "execution_count": 1,
   "id": "12a71100-8fb6-4b86-b3e6-ebedf5d7d537",
   "metadata": {},
   "outputs": [],
   "source": [
    "import numpy as np\n",
    "import matplotlib.pyplot as plt\n",
    "import os\n",
    "import pickle\n",
    "import itertools\n",
    "\n",
    "import numpy as np\n",
    "import matplotlib.pyplot as plt\n",
    "import pickle\n",
    "# import optuna\n",
    "import time\n",
    "import sys\n",
    "import torch\n",
    "import os\n",
    "import argparse\n",
    "import random"
   ]
  },
  {
   "cell_type": "code",
   "execution_count": 2,
   "id": "22f4ce74-f831-454a-8e0e-d61e98758731",
   "metadata": {},
   "outputs": [],
   "source": [
    "from load_data_funs import load_data, gen_batch_data_fixations_choice, gen_batch_data_fixations_only, gen_batch_data_choice_only\n",
    "from train_and_test_funs import test, train_on_simulation_then_human_with_intermediate_tests, test_record_each_output, compute_heldout_performance\n",
    "from neural_nets import SimpleLSTM, SimpleMLP, SimpleGRU, SimpleTransformer"
   ]
  },
  {
   "cell_type": "code",
   "execution_count": 3,
   "id": "9761a3d6-731b-4b91-bd67-8b7062760f86",
   "metadata": {},
   "outputs": [],
   "source": [
    "train_names = ['train_sim_test_sim', 'train_sim_test_human', 'train_human_test_human', 'train_sim_human_test_human']"
   ]
  },
  {
   "cell_type": "code",
   "execution_count": 4,
   "id": "65b816d4-0e4a-4cb2-b084-42c052377b11",
   "metadata": {},
   "outputs": [],
   "source": [
    "run_idx = 0\n",
    "\n",
    "n_sim_seqs = 1e5\n",
    "n_human_seqs = 0\n",
    "\n",
    "train_name = 'train_sim_test_sim'\n",
    "save_file_name = 'run_{}_train_name_{}_choice_only'.format(run_idx, train_name)\n",
    "\n",
    "\n",
    "run_idx = run_idx\n",
    "model_name = 'MLP'\n",
    "train_seq_part = 'choice_only'\n",
    "d_model = 16\n",
    "sim_lr = .001\n",
    "human_lr = .001\n",
    "n_simulation_sequences_train = 1e5\n",
    "n_human_sequences_train = 0\n",
    "dropout = 0\n",
    "on_cluster = True\n",
    "save_folder_name = 'Best_Param_Results'\n",
    "\n",
    "batch_size = 32\n",
    "n_sequences_test = 500\n",
    "n_sequences_final_performance = 500\n",
    "\n",
    "sim_data_path = '/scratch/gpfs/erussek/RNN_project/optimal_fixation_sims'\n",
    "human_data_path = '/scratch/gpfs/erussek/RNN_project/human_trials.json'\n",
    "\n",
    "\n",
    "res_dict = {}\n",
    "random.seed(run_idx)\n",
    "\n",
    "gen_data_func_by_train_seq_part = {\"fix_and_choice\": gen_batch_data_fixations_choice, \"fix_only\": gen_batch_data_fixations_only, \"choice_only\": gen_batch_data_choice_only}\n",
    "gen_data_func_pre = gen_data_func_by_train_seq_part[train_seq_part]\n",
    "gen_data_func = lambda a, b, c, use_human_data=False : gen_data_func_pre(a, b, c, fix_unit = fix_unit, use_human_data = use_human_data)\n",
    "\n",
    "n_tokens_by_train_seq_part = {\"fix_and_choice\": 6, \"fix_only\": 3, \"choice_only\": 3}\n",
    "\n",
    "n_tokens = n_tokens_by_train_seq_part[train_seq_part]\n"
   ]
  },
  {
   "cell_type": "code",
   "execution_count": 5,
   "id": "5c85253c-332b-4fd8-ada7-3d8b57c632eb",
   "metadata": {},
   "outputs": [
    {
     "name": "stdout",
     "output_type": "stream",
     "text": [
      "Loading Data\n"
     ]
    }
   ],
   "source": [
    "    ######################\n",
    "    ####### LOAD DATA ###\n",
    "    #####################\n",
    "print(\"Loading Data\")\n",
    "train_data_sim, val_data_sim, test_data_sim, train_data_human, val_data_human, test_data_human = load_data(sim_data_path, human_data_path,this_seed=run_idx,split_human_data=True)"
   ]
  },
  {
   "cell_type": "code",
   "execution_count": 6,
   "id": "acba7cb2-1d36-47e7-aa12-a603544d897b",
   "metadata": {},
   "outputs": [
    {
     "name": "stdout",
     "output_type": "stream",
     "text": [
      "cpu\n"
     ]
    }
   ],
   "source": [
    "##########################\n",
    "#### SETUP MODEL #########\n",
    "##########################\n",
    "\n",
    "output_size = 3 # always return len 3 output size\n",
    "\n",
    "if model_name == 'MLP': # this should only be called w/ choice only setting\n",
    "    model       = SimpleMLP(n_tokens, d_model, output_size)\n",
    "elif model_name == 'Transformer':    \n",
    "    dim_feedforward = 4*d_model\n",
    "    model = SimpleTransformer(n_tokens,d_model,dim_feedforward,output_size,nlayers = n_layers, nhead = n_head, dropout = dropout)\n",
    "elif model_name == 'GRU':\n",
    "    model = SimpleGRU(n_tokens, d_model, output_size, dropout = dropout)\n",
    "elif model_name == 'LSTM':\n",
    "    model = SimpleLSTM(n_tokens, d_model, output_size, dropout = dropout)\n",
    "else:\n",
    "    exit(\"Invalid model name entered\")\n",
    "\n",
    "\n",
    "# non neural net training parameters\n",
    "criterion   = torch.nn.MSELoss()\n",
    "start_time = time.time()\n",
    "device = torch.device('cuda:0' if torch.cuda.is_available() else 'cpu')\n",
    "print(device)"
   ]
  },
  {
   "cell_type": "code",
   "execution_count": 7,
   "id": "0c6bf44d-6002-4d3b-b6b6-543f9cb90921",
   "metadata": {},
   "outputs": [
    {
     "name": "stdout",
     "output_type": "stream",
     "text": [
      "Training the model\n",
      "Training on simulated data\n",
      "number of simulation seqeuences: 6432number of human seqeuences: 0 sim test loss: 15.577419757843018 human test loss 16.281753838062286\n",
      "number of simulation seqeuences: 12832number of human seqeuences: 0 sim test loss: 6.870703309774399 human test loss 7.3528386652469635\n",
      "number of simulation seqeuences: 19232number of human seqeuences: 0 sim test loss: 5.533267915248871 human test loss 5.97330504655838\n",
      "number of simulation seqeuences: 25632number of human seqeuences: 0 sim test loss: 5.218896448612213 human test loss 5.687895834445953\n",
      "number of simulation seqeuences: 32032number of human seqeuences: 0 sim test loss: 4.959545940160751 human test loss 5.46495595574379\n",
      "number of simulation seqeuences: 38432number of human seqeuences: 0 sim test loss: 4.739007651805878 human test loss 5.2810766994953156\n",
      "number of simulation seqeuences: 44832number of human seqeuences: 0 sim test loss: 4.5665202885866165 human test loss 5.137877643108368\n",
      "number of simulation seqeuences: 51232number of human seqeuences: 0 sim test loss: 4.446361839771271 human test loss 5.066170513629913\n",
      "number of simulation seqeuences: 57632number of human seqeuences: 0 sim test loss: 4.376309648156166 human test loss 5.023576945066452\n",
      "number of simulation seqeuences: 64032number of human seqeuences: 0 sim test loss: 4.355685234069824 human test loss 5.012230187654495\n",
      "number of simulation seqeuences: 70432number of human seqeuences: 0 sim test loss: 4.336854726076126 human test loss 5.010134667158127\n",
      "number of simulation seqeuences: 76832number of human seqeuences: 0 sim test loss: 4.330052435398102 human test loss 5.01920910179615\n",
      "number of simulation seqeuences: 83232number of human seqeuences: 0 sim test loss: 4.327661782503128 human test loss 5.017633631825447\n",
      "number of simulation seqeuences: 89632number of human seqeuences: 0 sim test loss: 4.329223066568375 human test loss 5.019170120358467\n",
      "number of simulation seqeuences: 96032number of human seqeuences: 0 sim test loss: 4.332270398736 human test loss 5.031342580914497\n",
      "Training on human data\n"
     ]
    }
   ],
   "source": [
    "print(\"Training the model\")\n",
    "test_batch_increment_sim =  200\n",
    "test_batch_increment_human = 200\n",
    "fix_unit= 'ID'\n",
    "simulation_loss_results, human_loss_results, train_sequence_number,human_sequence_number, simulation_sequence_number, model = train_on_simulation_then_human_with_intermediate_tests(model,train_data_sim, train_data_human,val_data_sim,val_data_human,criterion,device,batch_size,n_simulation_sequences_train, n_human_sequences_train, n_sequences_test, gen_data_func, sim_lr = sim_lr, human_lr = human_lr, test_batch_increment_sim=test_batch_increment_sim, test_batch_increment_human=test_batch_increment_human)"
   ]
  },
  {
   "cell_type": "code",
   "execution_count": 10,
   "id": "1041394c-5562-4dfa-a0d4-821cbe3e5ee2",
   "metadata": {},
   "outputs": [
    {
     "data": {
      "text/plain": [
       "array([0., 0., 0., 0., 0., 0., 0., 0., 0., 0., 0., 0., 0., 0., 0., 0., 0.,\n",
       "       0., 0.])"
      ]
     },
     "execution_count": 10,
     "metadata": {},
     "output_type": "execute_result"
    }
   ],
   "source": [
    "r_human_by_n_back"
   ]
  },
  {
   "cell_type": "code",
   "execution_count": null,
   "id": "6abeaf6f-c0fa-4f80-834a-ce75d1c52fb1",
   "metadata": {},
   "outputs": [],
   "source": [
    "\n",
    "r_sim_by_n_back[nb_idx], pct_correct_max_sim_by_n_back[nb_idx], pct_correct_min_sim_by_n_back[nb_idx], pct_correct_order_sim_by_n_back[nb_idx] = compute_heldout_performance(model, test_data_sim, device, batch_size, n_sequences_final_performance,gen_data_func, nb, use_human_data=False)\n"
   ]
  },
  {
   "cell_type": "code",
   "execution_count": 14,
   "id": "a399e83c-2d8d-482d-a2c2-31a672d5fba8",
   "metadata": {},
   "outputs": [],
   "source": [
    "trained_model = model"
   ]
  },
  {
   "cell_type": "code",
   "execution_count": 16,
   "id": "dee0d7e4-02fd-4b5c-a4f8-2cf80aadb868",
   "metadata": {},
   "outputs": [
    {
     "ename": "NameError",
     "evalue": "name 'n_back' is not defined",
     "output_type": "error",
     "traceback": [
      "\u001b[0;31m---------------------------------------------------------------------------\u001b[0m",
      "\u001b[0;31mNameError\u001b[0m                                 Traceback (most recent call last)",
      "\u001b[0;32m/tmp/ipykernel_215042/2002989182.py\u001b[0m in \u001b[0;36m<module>\u001b[0;34m\u001b[0m\n\u001b[1;32m      4\u001b[0m \u001b[0;34m\u001b[0m\u001b[0m\n\u001b[1;32m      5\u001b[0m \u001b[0mtest_data\u001b[0m \u001b[0;34m=\u001b[0m \u001b[0mtest_data_sim\u001b[0m\u001b[0;34m\u001b[0m\u001b[0;34m\u001b[0m\u001b[0m\n\u001b[0;32m----> 6\u001b[0;31m \u001b[0moutput_all\u001b[0m\u001b[0;34m,\u001b[0m \u001b[0mtarget_all\u001b[0m \u001b[0;34m=\u001b[0m \u001b[0mtest_record_each_output\u001b[0m\u001b[0;34m(\u001b[0m\u001b[0mtrained_model\u001b[0m\u001b[0;34m,\u001b[0m \u001b[0mtest_data\u001b[0m\u001b[0;34m,\u001b[0m \u001b[0mdevice\u001b[0m\u001b[0;34m,\u001b[0m \u001b[0mbatch_size\u001b[0m\u001b[0;34m,\u001b[0m \u001b[0mn_sequences_test\u001b[0m\u001b[0;34m,\u001b[0m\u001b[0mgen_batch_data\u001b[0m\u001b[0;34m,\u001b[0m \u001b[0mn_back\u001b[0m\u001b[0;34m,\u001b[0m\u001b[0mchoice_only\u001b[0m\u001b[0;34m=\u001b[0m\u001b[0mchoice_only\u001b[0m\u001b[0;34m,\u001b[0m \u001b[0muse_human_data\u001b[0m\u001b[0;34m=\u001b[0m\u001b[0muse_human_data\u001b[0m\u001b[0;34m)\u001b[0m\u001b[0;34m\u001b[0m\u001b[0;34m\u001b[0m\u001b[0m\n\u001b[0m",
      "\u001b[0;31mNameError\u001b[0m: name 'n_back' is not defined"
     ]
    }
   ],
   "source": [
    "# gen_batch_data = gen_data_fun\n",
    "\n",
    "gen_batch_data = gen_batch_data_fixations_only\n",
    "\n",
    "test_data = test_data_sim\n",
    "output_all, target_all = test_record_each_output(trained_model, test_data, device, batch_size, n_sequences_test,gen_batch_data, n_back,choice_only=False, use_human_data=use_human_data)\n"
   ]
  },
  {
   "cell_type": "code",
   "execution_count": 9,
   "id": "ab303b99-438f-4ee8-a6ad-523d3525e6c8",
   "metadata": {},
   "outputs": [],
   "source": [
    "n_back_vals = np.arange(1,20)\n",
    "\n",
    "r_sim_by_n_back = np.zeros(len(n_back_vals))\n",
    "r_human_by_n_back = np.zeros(len(n_back_vals))\n",
    "\n",
    "pct_correct_max_sim_by_n_back = np.zeros(len(n_back_vals))\n",
    "pct_correct_max_human_by_n_back = np.zeros(len(n_back_vals))\n",
    "\n",
    "pct_correct_min_sim_by_n_back = np.zeros(len(n_back_vals))\n",
    "pct_correct_min_human_by_n_back = np.zeros(len(n_back_vals))\n",
    "\n",
    "pct_correct_order_sim_by_n_back = np.zeros(len(n_back_vals))\n",
    "pct_correct_order_human_by_n_back = np.zeros(len(n_back_vals))\n"
   ]
  },
  {
   "cell_type": "code",
   "execution_count": 42,
   "id": "1d103eb5-9932-42c7-b79e-80810098f223",
   "metadata": {},
   "outputs": [
    {
     "data": {
      "text/plain": [
       "'choice_only'"
      ]
     },
     "execution_count": 42,
     "metadata": {},
     "output_type": "execute_result"
    }
   ],
   "source": [
    "train_seq_part"
   ]
  },
  {
   "cell_type": "code",
   "execution_count": 21,
   "id": "abc40312-a992-4307-a107-33f2b8042dac",
   "metadata": {},
   "outputs": [],
   "source": [
    "gen_batch_data = gen_batch_data_fixations_only\n",
    "\n",
    "\n",
    "model.eval()\n",
    "n_batches = int(np.round(n_sequences_test/batch_size));\n",
    "output_all = np.zeros((0,3))\n",
    "target_all = np.zeros((0,3))\n",
    "batch_idx = 0"
   ]
  },
  {
   "cell_type": "code",
   "execution_count": 25,
   "id": "1ffeed14-2791-45f8-8648-3c98e3a6516f",
   "metadata": {},
   "outputs": [],
   "source": [
    "data, target = gen_batch_data(batch_size, batch_idx, test_data, use_human_data = False)\n",
    "data, target = torch.from_numpy(data).float().to(device), torch.from_numpy(target).long().to(device)\n"
   ]
  },
  {
   "cell_type": "code",
   "execution_count": 27,
   "id": "134be89f-d46b-41ff-b738-b9286a626c47",
   "metadata": {},
   "outputs": [],
   "source": [
    "output = model(data)\n"
   ]
  },
  {
   "cell_type": "code",
   "execution_count": 28,
   "id": "6077b524-2c8c-45c0-8064-a1cf40017c6a",
   "metadata": {},
   "outputs": [
    {
     "data": {
      "text/plain": [
       "tensor([[[2.4880, 2.4910, 2.3175],\n",
       "         [2.4880, 2.4910, 2.3175],\n",
       "         [2.4880, 2.4910, 2.3175],\n",
       "         ...,\n",
       "         [3.4825, 3.5395, 6.1702],\n",
       "         [3.4825, 3.5395, 6.1702],\n",
       "         [3.4825, 3.5395, 6.1702]],\n",
       "\n",
       "        [[2.4880, 2.4910, 2.3175],\n",
       "         [2.4880, 2.4910, 2.3175],\n",
       "         [2.4880, 2.4910, 2.3175],\n",
       "         ...,\n",
       "         [6.1198, 3.4999, 3.5705],\n",
       "         [6.1198, 3.4999, 3.5705],\n",
       "         [6.1198, 3.4999, 3.5705]],\n",
       "\n",
       "        [[2.4880, 2.4910, 2.3175],\n",
       "         [2.4880, 2.4910, 2.3175],\n",
       "         [2.4880, 2.4910, 2.3175],\n",
       "         ...,\n",
       "         [3.4825, 3.5395, 6.1702],\n",
       "         [3.4825, 3.5395, 6.1702],\n",
       "         [3.4825, 3.5395, 6.1702]],\n",
       "\n",
       "        ...,\n",
       "\n",
       "        [[2.4880, 2.4910, 2.3175],\n",
       "         [2.4880, 2.4910, 2.3175],\n",
       "         [2.4880, 2.4910, 2.3175],\n",
       "         ...,\n",
       "         [6.1198, 3.4999, 3.5705],\n",
       "         [3.3590, 6.1479, 3.4606],\n",
       "         [3.3590, 6.1479, 3.4606]],\n",
       "\n",
       "        [[2.4880, 2.4910, 2.3175],\n",
       "         [2.4880, 2.4910, 2.3175],\n",
       "         [2.4880, 2.4910, 2.3175],\n",
       "         ...,\n",
       "         [3.4825, 3.5395, 6.1702],\n",
       "         [3.4825, 3.5395, 6.1702],\n",
       "         [3.4825, 3.5395, 6.1702]],\n",
       "\n",
       "        [[2.4880, 2.4910, 2.3175],\n",
       "         [2.4880, 2.4910, 2.3175],\n",
       "         [2.4880, 2.4910, 2.3175],\n",
       "         ...,\n",
       "         [3.4825, 3.5395, 6.1702],\n",
       "         [3.4825, 3.5395, 6.1702],\n",
       "         [3.4825, 3.5395, 6.1702]]], grad_fn=<AddBackward0>)"
      ]
     },
     "execution_count": 28,
     "metadata": {},
     "output_type": "execute_result"
    }
   ],
   "source": [
    "output"
   ]
  },
  {
   "cell_type": "code",
   "execution_count": null,
   "id": "95d5d5f3-6921-41d7-bdce-8405d2c8080e",
   "metadata": {},
   "outputs": [],
   "source": [
    "## so all you need to do is change the data generation func at the end..."
   ]
  }
 ],
 "metadata": {
  "kernelspec": {
   "display_name": "pDL [~/.conda/envs/pDL/]",
   "language": "python",
   "name": "conda_pdl"
  },
  "language_info": {
   "codemirror_mode": {
    "name": "ipython",
    "version": 3
   },
   "file_extension": ".py",
   "mimetype": "text/x-python",
   "name": "python",
   "nbconvert_exporter": "python",
   "pygments_lexer": "ipython3",
   "version": "3.8.12"
  }
 },
 "nbformat": 4,
 "nbformat_minor": 5
}
