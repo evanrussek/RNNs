{
 "cells": [
  {
   "cell_type": "markdown",
   "id": "33689d6f-307b-402d-80c7-0e20d9569c07",
   "metadata": {},
   "source": [
    "### Select correct amount of pretraining and training data which optimizes prediciton of human data"
   ]
  },
  {
   "cell_type": "code",
   "execution_count": 1,
   "id": "39583b09-1381-4d53-88ff-3722fcee1f08",
   "metadata": {},
   "outputs": [],
   "source": [
    "import json\n",
    "import numpy as np\n",
    "import matplotlib.pyplot as plt\n",
    "# funcs stolen from nyu deep learning course\n",
    "import os\n",
    "import random"
   ]
  },
  {
   "cell_type": "code",
   "execution_count": 2,
   "id": "f2ed1cfb-fee8-4f4a-8fe3-c8d5d111be5b",
   "metadata": {},
   "outputs": [],
   "source": [
    "def load_this_res(train_setting, prop_pretrain_setting, job_idx):\n",
    "    \n",
    "    #if train_setting == 2:\n",
    "    #    print(job_idx)\n",
    "    \n",
    "    on_cluster = False\n",
    "    if on_cluster:\n",
    "        to_save_folder = '/scratch/gpfs/erussek/RNN_project/train_on_sim_and_human_results'\n",
    "    else:\n",
    "        to_save_folder = '/Users/erussek/Dropbox/Griffiths_Lab_Stuff/Code/RNNs/train_on_sim_and_human_results'\n",
    "    # save loss curve\n",
    "    loss_file_name = 'loss_res_train_setting_{}_pp_{}_job_{}.npy'.format(train_setting,prop_pretrain_setting,job_idx)\n",
    "    loss_full_file_name = os.path.join(to_save_folder, loss_file_name)\n",
    "\n",
    "   # print(loss_file_name)\n",
    "    with open(loss_full_file_name, 'rb') as f:\n",
    "        sim_loss_res = np.load(f)\n",
    "        human_loss_res = np.load(f)\n",
    "        train_num = np.load(f)\n",
    "        r_sim_by_n_back = np.load(f)\n",
    "        r_human_by_n_back = np.load(f)\n",
    "    \n",
    "    return sim_loss_res,human_loss_res,train_num,r_sim_by_n_back,r_human_by_n_back\n",
    "\n",
    "\n",
    "def load_all_res(train_setting, prop_pretrain_setting):\n",
    "    \n",
    "    # just load one to get the size\n",
    "    job_idx=0\n",
    "    sim_loss_res,human_loss_res,train_num,r_sim_by_n_back,r_human_by_n_back=load_this_res(train_setting, prop_pretrain_setting, job_idx)\n",
    "\n",
    "    all_jobs = np.arange(50)\n",
    "    if train_setting < 2:\n",
    "        bad_jobs = []\n",
    "    else:\n",
    "        bad_jobs = [1,10]\n",
    "    \n",
    "    good_jobs = np.delete(all_jobs,bad_jobs);\n",
    "    \n",
    "\n",
    "    n_train_examples = len(sim_loss_res)\n",
    "    n_jobs = len(good_jobs)\n",
    "    n_nback=19\n",
    "    \n",
    "    if train_setting == 2:\n",
    "        n_nback=1\n",
    "\n",
    "    all_sim_loss_res = np.zeros((n_jobs,n_train_examples))\n",
    "    all_human_loss_res = np.zeros((n_jobs,n_train_examples))\n",
    "    all_train_num = np.zeros((n_jobs,n_train_examples))\n",
    "    all_r_sim_by_n_back = np.zeros((n_jobs,n_nback))\n",
    "    all_r_human_by_n_back = np.zeros((n_jobs,n_nback))\n",
    "\n",
    "    on_cluster = True\n",
    "    for job_idx in range(len(good_jobs)):\n",
    "        this_job = good_jobs[job_idx]\n",
    "        sim_loss_res,human_loss_res,train_num,r_sim_by_n_back,r_human_by_n_back=load_this_res(train_setting, prop_pretrain_setting, this_job)\n",
    "        all_sim_loss_res[job_idx, :] = sim_loss_res\n",
    "        all_human_loss_res[job_idx, :] = human_loss_res\n",
    "        all_train_num[job_idx, :] = train_num\n",
    "        all_r_sim_by_n_back[job_idx, :] = r_sim_by_n_back\n",
    "        all_r_human_by_n_back[job_idx, :] = r_human_by_n_back\n",
    "        \n",
    "    return all_sim_loss_res,all_human_loss_res,all_train_num,all_r_sim_by_n_back,all_r_human_by_n_back"
   ]
  },
  {
   "cell_type": "code",
   "execution_count": 3,
   "id": "11c432ff-387c-4c6e-9c17-660c0efb3665",
   "metadata": {},
   "outputs": [
    {
     "name": "stdout",
     "output_type": "stream",
     "text": [
      "Train Setting: 0\n"
     ]
    },
    {
     "ename": "FileNotFoundError",
     "evalue": "[Errno 2] No such file or directory: '/Users/erussek/Dropbox/Griffiths_Lab_Stuff/Code/RNNs/train_on_sim_and_human_results/loss_res_train_setting_0_pp_4_job_0.npy'",
     "output_type": "error",
     "traceback": [
      "\u001b[0;31m---------------------------------------------------------------------------\u001b[0m",
      "\u001b[0;31mFileNotFoundError\u001b[0m                         Traceback (most recent call last)",
      "Cell \u001b[0;32mIn [3], line 11\u001b[0m\n\u001b[1;32m      9\u001b[0m fig,ax \u001b[38;5;241m=\u001b[39m plt\u001b[38;5;241m.\u001b[39msubplots(\u001b[38;5;241m1\u001b[39m,figsize\u001b[38;5;241m=\u001b[39m(\u001b[38;5;241m4\u001b[39m,\u001b[38;5;241m4\u001b[39m),dpi\u001b[38;5;241m=\u001b[39m\u001b[38;5;241m100\u001b[39m)\n\u001b[1;32m     10\u001b[0m \u001b[38;5;28;01mfor\u001b[39;00m pretrain_idx \u001b[38;5;129;01min\u001b[39;00m \u001b[38;5;28mrange\u001b[39m(\u001b[38;5;241m4\u001b[39m,\u001b[38;5;241m-\u001b[39m\u001b[38;5;241m1\u001b[39m,\u001b[38;5;241m-\u001b[39m\u001b[38;5;241m1\u001b[39m):\n\u001b[0;32m---> 11\u001b[0m     all_sim_loss_res_fc,all_human_loss_res_fc,all_train_num_fc,all_r_sim_by_n_back_fc,all_r_human_by_n_back_fc\u001b[38;5;241m=\u001b[39m\u001b[43mload_all_res\u001b[49m\u001b[43m(\u001b[49m\u001b[43mtrain_setting\u001b[49m\u001b[43m,\u001b[49m\u001b[43mpretrain_idx\u001b[49m\u001b[43m)\u001b[49m\n\u001b[1;32m     12\u001b[0m     \u001b[38;5;66;03m#ax.plot(all_train_num_fc[1,:],np.mean(all_sim_loss_res_fc,0))\u001b[39;00m\n\u001b[1;32m     13\u001b[0m     min_val \u001b[38;5;241m=\u001b[39m np\u001b[38;5;241m.\u001b[39mamin(np\u001b[38;5;241m.\u001b[39mmean(all_human_loss_res_fc,\u001b[38;5;241m0\u001b[39m))\n",
      "Cell \u001b[0;32mIn [2], line 30\u001b[0m, in \u001b[0;36mload_all_res\u001b[0;34m(train_setting, prop_pretrain_setting)\u001b[0m\n\u001b[1;32m     26\u001b[0m \u001b[38;5;28;01mdef\u001b[39;00m \u001b[38;5;21mload_all_res\u001b[39m(train_setting, prop_pretrain_setting):\n\u001b[1;32m     27\u001b[0m     \n\u001b[1;32m     28\u001b[0m     \u001b[38;5;66;03m# just load one to get the size\u001b[39;00m\n\u001b[1;32m     29\u001b[0m     job_idx\u001b[38;5;241m=\u001b[39m\u001b[38;5;241m0\u001b[39m\n\u001b[0;32m---> 30\u001b[0m     sim_loss_res,human_loss_res,train_num,r_sim_by_n_back,r_human_by_n_back\u001b[38;5;241m=\u001b[39m\u001b[43mload_this_res\u001b[49m\u001b[43m(\u001b[49m\u001b[43mtrain_setting\u001b[49m\u001b[43m,\u001b[49m\u001b[43m \u001b[49m\u001b[43mprop_pretrain_setting\u001b[49m\u001b[43m,\u001b[49m\u001b[43m \u001b[49m\u001b[43mjob_idx\u001b[49m\u001b[43m)\u001b[49m\n\u001b[1;32m     32\u001b[0m     all_jobs \u001b[38;5;241m=\u001b[39m np\u001b[38;5;241m.\u001b[39marange(\u001b[38;5;241m50\u001b[39m)\n\u001b[1;32m     33\u001b[0m     \u001b[38;5;28;01mif\u001b[39;00m train_setting \u001b[38;5;241m<\u001b[39m \u001b[38;5;241m2\u001b[39m:\n",
      "Cell \u001b[0;32mIn [2], line 16\u001b[0m, in \u001b[0;36mload_this_res\u001b[0;34m(train_setting, prop_pretrain_setting, job_idx)\u001b[0m\n\u001b[1;32m     13\u001b[0m  loss_full_file_name \u001b[38;5;241m=\u001b[39m os\u001b[38;5;241m.\u001b[39mpath\u001b[38;5;241m.\u001b[39mjoin(to_save_folder, loss_file_name)\n\u001b[1;32m     15\u001b[0m \u001b[38;5;66;03m# print(loss_file_name)\u001b[39;00m\n\u001b[0;32m---> 16\u001b[0m  \u001b[38;5;28;01mwith\u001b[39;00m \u001b[38;5;28;43mopen\u001b[39;49m\u001b[43m(\u001b[49m\u001b[43mloss_full_file_name\u001b[49m\u001b[43m,\u001b[49m\u001b[43m \u001b[49m\u001b[38;5;124;43m'\u001b[39;49m\u001b[38;5;124;43mrb\u001b[39;49m\u001b[38;5;124;43m'\u001b[39;49m\u001b[43m)\u001b[49m \u001b[38;5;28;01mas\u001b[39;00m f:\n\u001b[1;32m     17\u001b[0m      sim_loss_res \u001b[38;5;241m=\u001b[39m np\u001b[38;5;241m.\u001b[39mload(f)\n\u001b[1;32m     18\u001b[0m      human_loss_res \u001b[38;5;241m=\u001b[39m np\u001b[38;5;241m.\u001b[39mload(f)\n",
      "File \u001b[0;32m~/opt/anaconda3/envs/pDL/lib/python3.8/site-packages/IPython/core/interactiveshell.py:282\u001b[0m, in \u001b[0;36m_modified_open\u001b[0;34m(file, *args, **kwargs)\u001b[0m\n\u001b[1;32m    275\u001b[0m \u001b[38;5;28;01mif\u001b[39;00m file \u001b[38;5;129;01min\u001b[39;00m {\u001b[38;5;241m0\u001b[39m, \u001b[38;5;241m1\u001b[39m, \u001b[38;5;241m2\u001b[39m}:\n\u001b[1;32m    276\u001b[0m     \u001b[38;5;28;01mraise\u001b[39;00m \u001b[38;5;167;01mValueError\u001b[39;00m(\n\u001b[1;32m    277\u001b[0m         \u001b[38;5;124mf\u001b[39m\u001b[38;5;124m\"\u001b[39m\u001b[38;5;124mIPython won\u001b[39m\u001b[38;5;124m'\u001b[39m\u001b[38;5;124mt let you open fd=\u001b[39m\u001b[38;5;132;01m{\u001b[39;00mfile\u001b[38;5;132;01m}\u001b[39;00m\u001b[38;5;124m by default \u001b[39m\u001b[38;5;124m\"\u001b[39m\n\u001b[1;32m    278\u001b[0m         \u001b[38;5;124m\"\u001b[39m\u001b[38;5;124mas it is likely to crash IPython. If you know what you are doing, \u001b[39m\u001b[38;5;124m\"\u001b[39m\n\u001b[1;32m    279\u001b[0m         \u001b[38;5;124m\"\u001b[39m\u001b[38;5;124myou can use builtins\u001b[39m\u001b[38;5;124m'\u001b[39m\u001b[38;5;124m open.\u001b[39m\u001b[38;5;124m\"\u001b[39m\n\u001b[1;32m    280\u001b[0m     )\n\u001b[0;32m--> 282\u001b[0m \u001b[38;5;28;01mreturn\u001b[39;00m \u001b[43mio_open\u001b[49m\u001b[43m(\u001b[49m\u001b[43mfile\u001b[49m\u001b[43m,\u001b[49m\u001b[43m \u001b[49m\u001b[38;5;241;43m*\u001b[39;49m\u001b[43margs\u001b[49m\u001b[43m,\u001b[49m\u001b[43m \u001b[49m\u001b[38;5;241;43m*\u001b[39;49m\u001b[38;5;241;43m*\u001b[39;49m\u001b[43mkwargs\u001b[49m\u001b[43m)\u001b[49m\n",
      "\u001b[0;31mFileNotFoundError\u001b[0m: [Errno 2] No such file or directory: '/Users/erussek/Dropbox/Griffiths_Lab_Stuff/Code/RNNs/train_on_sim_and_human_results/loss_res_train_setting_0_pp_4_job_0.npy'"
     ]
    },
    {
     "data": {
      "image/png": "[encoded data removed]",
      "text/plain": [
       "<Figure size 400x400 with 1 Axes>"
      ]
     },
     "metadata": {},
     "output_type": "display_data"
    }
   ],
   "source": [
    "n_pretrain = np.round(np.linspace(0,1,5)*1.5e6).astype(int);\n",
    "these_colors = ['b', 'g', 'r', 'c', 'm']\n",
    "\n",
    "titles = ['fixation + choice', 'fixation only', 'choice only']\n",
    "\n",
    "for train_setting in range(3):\n",
    "    print('Train Setting: {}'.format(train_setting))\n",
    "\n",
    "    fig,ax = plt.subplots(1,figsize=(4,4),dpi=100)\n",
    "    for pretrain_idx in range(4,-1,-1):\n",
    "        all_sim_loss_res_fc,all_human_loss_res_fc,all_train_num_fc,all_r_sim_by_n_back_fc,all_r_human_by_n_back_fc=load_all_res(train_setting,pretrain_idx)\n",
    "        #ax.plot(all_train_num_fc[1,:],np.mean(all_sim_loss_res_fc,0))\n",
    "        min_val = np.amin(np.mean(all_human_loss_res_fc,0))\n",
    "        min_idx = np.argmin(np.mean(all_human_loss_res_fc,0))\n",
    "        min_train_num = all_train_num_fc[0,min_idx]#-n_pretrain[pretrain_idx]\n",
    "        print(\"Pretrain Examples: {}, Best MSE: {}, N_Train: {} \".format(n_pretrain[pretrain_idx],min_val,min_train_num))\n",
    "\n",
    "        ax.plot(all_train_num_fc[1,:],np.mean(all_human_loss_res_fc,0), these_colors[pretrain_idx])\n",
    "        ax.errorbar(all_train_num_fc[1,:],np.mean(all_human_loss_res_fc,0), np.std(all_human_loss_res_fc,0)/np.sqrt(50), alpha=.5)\n",
    "        ax.vlines(n_pretrain[pretrain_idx], 5.6,7.2, these_colors[pretrain_idx], linestyles='dashed',alpha=.3)\n",
    "\n",
    "    ax.set_ylabel('M.S.E. (Human Data)')\n",
    "    ax.set_xlabel('Num. Train Examples')\n",
    "    ax.set_title(titles[train_setting])\n",
    "    \n",
    "    fig,ax = plt.subplots(1,figsize=(4,4),dpi=100)\n",
    "\n",
    "    for pretrain_idx in range(4,-1,-1):\n",
    "        all_sim_loss_res_fc,all_human_loss_res_fc,all_train_num_fc,all_r_sim_by_n_back_fc,all_r_human_by_n_back_fc=load_all_res(train_setting,pretrain_idx)\n",
    "        ax.plot(all_train_num_fc[1,:],np.mean(all_sim_loss_res_fc,0), these_colors[pretrain_idx])\n",
    "        ax.errorbar(all_train_num_fc[1,:],np.mean(all_human_loss_res_fc,0), np.std(all_human_loss_res_fc,0)/np.sqrt(50), alpha=.8)\n",
    "\n",
    "        ax.vlines(n_pretrain[pretrain_idx], 5,7, these_colors[pretrain_idx], linestyles='dashed',alpha=.3)\n",
    "    ax.set_ylabel('M.S.E. (Simulated Data)')\n",
    "    ax.set_xlabel('Num. Train Examples')\n",
    "    ax.set_title(titles[train_setting])\n"
   ]
  },
  {
   "cell_type": "code",
   "execution_count": 83,
   "id": "ecb17ea2-7841-4d52-9426-e326fc26f9ca",
   "metadata": {},
   "outputs": [],
   "source": [
    "# 0 -- \n",
    "# Pretrain Examples: 750000, Best MSE: 5.683799989454208, N_Train: 8432.0 \n",
    "\n",
    "# 1\n",
    "# Pretrain Examples: 750000, Best MSE: 5.733049273644724, N_Train: 5232.0 \n",
    "\n",
    "# 2: 0, 500000\n",
    "\n"
   ]
  }
 ],
 "metadata": {
  "kernelspec": {
   "display_name": "Python 3 (ipykernel)",
   "language": "python",
   "name": "python3"
  },
  "language_info": {
   "codemirror_mode": {
    "name": "ipython",
    "version": 3
   },
   "file_extension": ".py",
   "mimetype": "text/x-python",
   "name": "python",
   "nbconvert_exporter": "python",
   "pygments_lexer": "ipython3",
   "version": "3.8.13"
  }
 },
 "nbformat": 4,
 "nbformat_minor": 5
}
