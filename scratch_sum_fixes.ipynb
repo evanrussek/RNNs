{
 "cells": [
  {
   "cell_type": "code",
   "execution_count": 1,
   "id": "e735a820-8393-463f-851d-92a608f6f6bd",
   "metadata": {},
   "outputs": [],
   "source": [
    "import numpy as np\n",
    "import matplotlib.pyplot as plt\n",
    "import pickle\n",
    "# import optuna\n",
    "import time\n",
    "import sys\n",
    "import torch\n",
    "import os\n",
    "import argparse\n",
    "import random\n",
    "from neural_nets import SimpleLSTM, SimpleMLP, SimpleGRU, SimpleTransformer\n"
   ]
  },
  {
   "cell_type": "code",
   "execution_count": 2,
   "id": "473c3668-7d99-4d75-82a3-478f93c9c91b",
   "metadata": {},
   "outputs": [],
   "source": [
    "on_cluster = True\n",
    "\n",
    "from load_data_funs import load_data, gen_batch_data_fixations_choice, gen_batch_data_fixations_only, gen_batch_data_choice_only\n",
    "\n",
    "# set path to the human and simulation data\n",
    "if on_cluster:\n",
    "    sim_data_path = '/scratch/gpfs/erussek/RNN_project/optimal_fixation_sims'\n",
    "    human_data_path = '/scratch/gpfs/erussek/RNN_project/human_trials.json'\n",
    "else:\n",
    "    sim_data_path = '/Users/erussek/Dropbox/Griffiths_Lab_Stuff/Data/RNNs/optimal_fixation_sims'\n",
    "    human_data_path = '/Users/erussek/Dropbox/Griffiths_Lab_Stuff/Data/RNNs/human_trials.json'\n",
    "\n"
   ]
  },
  {
   "cell_type": "code",
   "execution_count": 3,
   "id": "79c60355-c09d-4801-9b7d-0b563ac2d93a",
   "metadata": {},
   "outputs": [],
   "source": [
    "# compute a model which is proportion of fixation time thus far into the trial...\n",
    "%run load_data_funs\n",
    "# so this will be from fixation data only...\n",
    "run_idx = 0\n",
    "train_data_sim, val_data_sim, test_data_sim, train_data_human, val_data_human, test_data_human = load_data(sim_data_path, human_data_path,this_seed=run_idx,split_human_data=True)\n",
    "use_human_data=True\n"
   ]
  },
  {
   "cell_type": "code",
   "execution_count": 4,
   "id": "b1652d7c-741c-4329-b924-431adad86d06",
   "metadata": {},
   "outputs": [],
   "source": [
    "%run load_data_funs\n",
    "\n",
    "train_seq_part = 'fix_and_choice'\n",
    "fix_unit = 'all'\n",
    "# Functions to generate data\n",
    "gen_data_func_by_train_seq_part = {\"fix_and_choice\": gen_batch_data_fixations_choice, \"fix_only\": gen_batch_data_fixations_only, \"choice_only\": gen_batch_data_choice_only}\n",
    "gen_data_func_pre = gen_data_func_by_train_seq_part[train_seq_part]\n",
    "# set the fix unit\n",
    "gen_data_func = lambda a, b, c, use_human_data=False : gen_data_func_pre(a, b, c, fix_unit = fix_unit, use_human_data = use_human_data)"
   ]
  },
  {
   "cell_type": "code",
   "execution_count": null,
   "id": "0285bda3-4a0e-4f1a-84a1-143229530a19",
   "metadata": {},
   "outputs": [],
   "source": []
  },
  {
   "cell_type": "code",
   "execution_count": 5,
   "id": "4f26119d-6bc2-4667-986a-c815324603c1",
   "metadata": {},
   "outputs": [],
   "source": [
    "fix_unit = 'all'\n",
    "use_human_data = False\n",
    "batch_size = 32\n",
    "batch_idx = 0\n",
    "data = train_data_sim\n",
    "\n",
    "# filter list of trials that are in this batch\n",
    "batch_sim_data = data[batch_idx*batch_size:((batch_idx+1)*(batch_size))]\n",
    "\n",
    "# all sequences in the batch, attended item is coded as idx (as 0, 1, 2)\n",
    "if use_human_data:\n",
    "    batch_fixation_sequences_idx = [(np.array(trial_data['fixations'])-1).tolist() for trial_data in batch_sim_data]\n",
    "else:\n",
    "    batch_fixation_sequences_idx = [trial_data['fixations'] for trial_data in batch_sim_data]\n",
    "\n",
    "batch_choices_idx = [trial_data['choice'] - 1 for trial_data in batch_sim_data]\n",
    "\n",
    "# first 3 are fixation, last is choice...\n",
    "batch_sequences_cat = [np.array([to_categorical(x, num_classes = 3) for x in this_sequence]) for this_sequence in batch_fixation_sequences_idx]\n",
    "\n",
    "# pick a better name for this\n",
    "if fix_unit != 'ID':\n",
    "    batch_sequences_cat = [compute_sum_fixations(this_seq, fix_unit = fix_unit) for this_seq in batch_sequences_cat]\n",
    "\n",
    "# append zeros horizontally\n",
    "batch_sequences_cat = [np.hstack((batch_sequences_cat[i], np.zeros((batch_sequences_cat[i].shape[0],3)))) if len(batch_sequences_cat[i]) > 0 else np.array([]) for i in range(len(batch_sequences_cat))]\n",
    "\n",
    "if fix_unit == 'all':\n",
    "    num_tokens = 12\n",
    "else:\n",
    "    num_tokens = 6\n",
    "\n",
    "# now append to each of these the choice info - the choice gets it's own channel (of 3)\n",
    "batch_sequences_cat_w_choices = [  np.vstack((batch_sequences_cat[i], [to_categorical(num_tokens - 3 + batch_choices_idx[i], num_classes = num_tokens)])) if len(batch_sequences_cat[i]) > 0 else np.array([]) for i in range(len(batch_sequences_cat))]\n",
    "\n",
    "batch_data = pad_sequences(batch_sequences_cat_w_choices)\n",
    "batch_data = batch_data.astype('float32')\n",
    "\n",
    "batch_targets_init = np.array([trial_data['value'] for trial_data in batch_sim_data], dtype = 'float32')\n",
    "batch_targets_cont = [np.repeat([batch_targets_init[i]],len(batch_sequences_cat_w_choices[i]),axis=0) for i in range(len(batch_sequences_cat_w_choices))]\n",
    "\n",
    "batch_targets = pad_sequences(batch_targets_cont)\n",
    "batch_targets = batch_targets.astype('float32')"
   ]
  },
  {
   "cell_type": "code",
   "execution_count": 32,
   "id": "9a88a4c1-527e-43b8-ae60-2f0ac3ea683c",
   "metadata": {},
   "outputs": [
    {
     "data": {
      "text/plain": [
       "array([[0., 0., 0., ..., 0., 0., 0.],\n",
       "       [0., 0., 0., ..., 0., 0., 0.],\n",
       "       [0., 0., 0., ..., 0., 0., 0.],\n",
       "       ...,\n",
       "       [0., 1., 0., ..., 0., 0., 0.],\n",
       "       [0., 1., 0., ..., 0., 0., 0.],\n",
       "       [0., 0., 0., ..., 0., 1., 0.]], dtype=float32)"
      ]
     },
     "execution_count": 32,
     "metadata": {},
     "output_type": "execute_result"
    }
   ],
   "source": [
    "batch_data[0]"
   ]
  },
  {
   "cell_type": "code",
   "execution_count": 23,
   "id": "e74a076d-0d81-488d-b035-81cd30cba952",
   "metadata": {},
   "outputs": [],
   "source": [
    "batch_sequences_cat = [np.hstack((batch_sequences_cat[i], np.zeros((batch_sequences_cat[i].shape[0],3)))) if len(batch_sequences_cat[i]) > 0 else np.array([]) for i in range(len(batch_sequences_cat))]\n"
   ]
  },
  {
   "cell_type": "code",
   "execution_count": 17,
   "id": "4cd08c06-9a22-41c6-825a-fcd9da3713f9",
   "metadata": {},
   "outputs": [
    {
     "name": "stdout",
     "output_type": "stream",
     "text": [
      "0\n"
     ]
    }
   ],
   "source": [
    "print(len(batch_sequences_cat[10]))"
   ]
  },
  {
   "cell_type": "code",
   "execution_count": 20,
   "id": "614a3d2b-d8db-46d7-9533-0ae99c0e3f1f",
   "metadata": {},
   "outputs": [
    {
     "data": {
      "text/plain": [
       "array([[1., 0., 0., 0., 0., 0.],\n",
       "       [0., 0., 1., 0., 0., 0.],\n",
       "       [0., 0., 1., 0., 0., 0.],\n",
       "       [0., 0., 1., 0., 0., 0.],\n",
       "       [0., 0., 1., 0., 0., 0.],\n",
       "       [0., 0., 1., 0., 0., 0.],\n",
       "       [0., 0., 1., 0., 0., 0.],\n",
       "       [0., 1., 0., 0., 0., 0.],\n",
       "       [0., 1., 0., 0., 0., 0.],\n",
       "       [0., 1., 0., 0., 0., 0.],\n",
       "       [0., 1., 0., 0., 0., 0.],\n",
       "       [0., 0., 1., 0., 0., 0.],\n",
       "       [0., 0., 1., 0., 0., 0.],\n",
       "       [0., 0., 1., 0., 0., 0.],\n",
       "       [0., 0., 1., 0., 0., 0.]])"
      ]
     },
     "execution_count": 20,
     "metadata": {},
     "output_type": "execute_result"
    }
   ],
   "source": [
    "i = 9\n",
    "np.hstack((batch_sequences_cat[i], np.zeros((batch_sequences_cat[i].shape[0],3))))"
   ]
  },
  {
   "cell_type": "code",
   "execution_count": null,
   "id": "20fa12e3-20a3-4afe-8d8c-92004fff402f",
   "metadata": {},
   "outputs": [],
   "source": []
  },
  {
   "cell_type": "code",
   "execution_count": null,
   "id": "95008a81-50ed-4250-a314-fb9d9efc485e",
   "metadata": {},
   "outputs": [],
   "source": []
  },
  {
   "cell_type": "code",
   "execution_count": 44,
   "id": "865d46b1-bd62-43d7-857b-ee205407662b",
   "metadata": {},
   "outputs": [
    {
     "ename": "ValueError",
     "evalue": "all the input array dimensions for the concatenation axis must match exactly, but along dimension 1, the array at index 0 has size 3 and the array at index 1 has size 12",
     "output_type": "error",
     "traceback": [
      "\u001b[0;31m---------------------------------------------------------------------------\u001b[0m",
      "\u001b[0;31mValueError\u001b[0m                                Traceback (most recent call last)",
      "\u001b[0;32m/tmp/ipykernel_956767/3160960294.py\u001b[0m in \u001b[0;36m<module>\u001b[0;34m\u001b[0m\n\u001b[0;32m----> 1\u001b[0;31m \u001b[0mfix_seqs\u001b[0m \u001b[0;34m=\u001b[0m \u001b[0mgen_data_func\u001b[0m\u001b[0;34m(\u001b[0m\u001b[0;36m32\u001b[0m\u001b[0;34m,\u001b[0m\u001b[0;36m0\u001b[0m\u001b[0;34m,\u001b[0m\u001b[0mtrain_data_sim\u001b[0m\u001b[0;34m,\u001b[0m \u001b[0muse_human_data\u001b[0m \u001b[0;34m=\u001b[0m \u001b[0;32mFalse\u001b[0m\u001b[0;34m)\u001b[0m\u001b[0;34m\u001b[0m\u001b[0;34m\u001b[0m\u001b[0m\n\u001b[0m",
      "\u001b[0;32m/tmp/ipykernel_956767/431286468.py\u001b[0m in \u001b[0;36m<lambda>\u001b[0;34m(a, b, c, use_human_data)\u001b[0m\n\u001b[1;32m      7\u001b[0m \u001b[0mgen_data_func_pre\u001b[0m \u001b[0;34m=\u001b[0m \u001b[0mgen_data_func_by_train_seq_part\u001b[0m\u001b[0;34m[\u001b[0m\u001b[0mtrain_seq_part\u001b[0m\u001b[0;34m]\u001b[0m\u001b[0;34m\u001b[0m\u001b[0;34m\u001b[0m\u001b[0m\n\u001b[1;32m      8\u001b[0m \u001b[0;31m# set the fix unit\u001b[0m\u001b[0;34m\u001b[0m\u001b[0;34m\u001b[0m\u001b[0;34m\u001b[0m\u001b[0m\n\u001b[0;32m----> 9\u001b[0;31m \u001b[0mgen_data_func\u001b[0m \u001b[0;34m=\u001b[0m \u001b[0;32mlambda\u001b[0m \u001b[0ma\u001b[0m\u001b[0;34m,\u001b[0m \u001b[0mb\u001b[0m\u001b[0;34m,\u001b[0m \u001b[0mc\u001b[0m\u001b[0;34m,\u001b[0m \u001b[0muse_human_data\u001b[0m\u001b[0;34m=\u001b[0m\u001b[0;32mFalse\u001b[0m \u001b[0;34m:\u001b[0m \u001b[0mgen_data_func_pre\u001b[0m\u001b[0;34m(\u001b[0m\u001b[0ma\u001b[0m\u001b[0;34m,\u001b[0m \u001b[0mb\u001b[0m\u001b[0;34m,\u001b[0m \u001b[0mc\u001b[0m\u001b[0;34m,\u001b[0m \u001b[0mfix_unit\u001b[0m \u001b[0;34m=\u001b[0m \u001b[0mfix_unit\u001b[0m\u001b[0;34m,\u001b[0m \u001b[0muse_human_data\u001b[0m \u001b[0;34m=\u001b[0m \u001b[0muse_human_data\u001b[0m\u001b[0;34m)\u001b[0m\u001b[0;34m\u001b[0m\u001b[0;34m\u001b[0m\u001b[0m\n\u001b[0m",
      "\u001b[0;32m~/projects/RNNs/load_data_funs.py\u001b[0m in \u001b[0;36mgen_batch_data_fixations_choice\u001b[0;34m(batch_size, batch_idx, data, fix_unit, use_human_data)\u001b[0m\n\u001b[1;32m    173\u001b[0m \u001b[0;34m\u001b[0m\u001b[0m\n\u001b[1;32m    174\u001b[0m     \u001b[0;31m# now append to each of these the choice info - the choice gets it's own channel (of 3)\u001b[0m\u001b[0;34m\u001b[0m\u001b[0;34m\u001b[0m\u001b[0;34m\u001b[0m\u001b[0m\n\u001b[0;32m--> 175\u001b[0;31m     \u001b[0mbatch_sequences_cat_w_choices\u001b[0m \u001b[0;34m=\u001b[0m \u001b[0;34m[\u001b[0m  \u001b[0mnp\u001b[0m\u001b[0;34m.\u001b[0m\u001b[0mvstack\u001b[0m\u001b[0;34m(\u001b[0m\u001b[0;34m(\u001b[0m\u001b[0mbatch_sequences_cat\u001b[0m\u001b[0;34m[\u001b[0m\u001b[0mi\u001b[0m\u001b[0;34m]\u001b[0m\u001b[0;34m,\u001b[0m \u001b[0;34m[\u001b[0m\u001b[0mto_categorical\u001b[0m\u001b[0;34m(\u001b[0m\u001b[0mnum_tokens\u001b[0m \u001b[0;34m-\u001b[0m \u001b[0;36m3\u001b[0m \u001b[0;34m+\u001b[0m \u001b[0mbatch_choices_idx\u001b[0m\u001b[0;34m[\u001b[0m\u001b[0mi\u001b[0m\u001b[0;34m]\u001b[0m\u001b[0;34m,\u001b[0m \u001b[0mnum_classes\u001b[0m \u001b[0;34m=\u001b[0m \u001b[0mnum_tokens\u001b[0m\u001b[0;34m)\u001b[0m\u001b[0;34m]\u001b[0m\u001b[0;34m)\u001b[0m\u001b[0;34m)\u001b[0m \u001b[0;32mif\u001b[0m \u001b[0mlen\u001b[0m\u001b[0;34m(\u001b[0m\u001b[0mbatch_sequences_cat\u001b[0m\u001b[0;34m[\u001b[0m\u001b[0mi\u001b[0m\u001b[0;34m]\u001b[0m\u001b[0;34m)\u001b[0m \u001b[0;34m>\u001b[0m \u001b[0;36m0\u001b[0m \u001b[0;32melse\u001b[0m \u001b[0mnp\u001b[0m\u001b[0;34m.\u001b[0m\u001b[0marray\u001b[0m\u001b[0;34m(\u001b[0m\u001b[0;34m[\u001b[0m\u001b[0;34m]\u001b[0m\u001b[0;34m)\u001b[0m \u001b[0;32mfor\u001b[0m \u001b[0mi\u001b[0m \u001b[0;32min\u001b[0m \u001b[0mrange\u001b[0m\u001b[0;34m(\u001b[0m\u001b[0mlen\u001b[0m\u001b[0;34m(\u001b[0m\u001b[0mbatch_sequences_cat\u001b[0m\u001b[0;34m)\u001b[0m\u001b[0;34m)\u001b[0m\u001b[0;34m]\u001b[0m\u001b[0;34m\u001b[0m\u001b[0;34m\u001b[0m\u001b[0m\n\u001b[0m\u001b[1;32m    176\u001b[0m \u001b[0;34m\u001b[0m\u001b[0m\n\u001b[1;32m    177\u001b[0m     \u001b[0mbatch_data\u001b[0m \u001b[0;34m=\u001b[0m \u001b[0mpad_sequences\u001b[0m\u001b[0;34m(\u001b[0m\u001b[0mbatch_sequences_cat_w_choices\u001b[0m\u001b[0;34m)\u001b[0m\u001b[0;34m\u001b[0m\u001b[0;34m\u001b[0m\u001b[0m\n",
      "\u001b[0;32m~/projects/RNNs/load_data_funs.py\u001b[0m in \u001b[0;36m<listcomp>\u001b[0;34m(.0)\u001b[0m\n\u001b[1;32m    173\u001b[0m \u001b[0;34m\u001b[0m\u001b[0m\n\u001b[1;32m    174\u001b[0m     \u001b[0;31m# now append to each of these the choice info - the choice gets it's own channel (of 3)\u001b[0m\u001b[0;34m\u001b[0m\u001b[0;34m\u001b[0m\u001b[0;34m\u001b[0m\u001b[0m\n\u001b[0;32m--> 175\u001b[0;31m     \u001b[0mbatch_sequences_cat_w_choices\u001b[0m \u001b[0;34m=\u001b[0m \u001b[0;34m[\u001b[0m  \u001b[0mnp\u001b[0m\u001b[0;34m.\u001b[0m\u001b[0mvstack\u001b[0m\u001b[0;34m(\u001b[0m\u001b[0;34m(\u001b[0m\u001b[0mbatch_sequences_cat\u001b[0m\u001b[0;34m[\u001b[0m\u001b[0mi\u001b[0m\u001b[0;34m]\u001b[0m\u001b[0;34m,\u001b[0m \u001b[0;34m[\u001b[0m\u001b[0mto_categorical\u001b[0m\u001b[0;34m(\u001b[0m\u001b[0mnum_tokens\u001b[0m \u001b[0;34m-\u001b[0m \u001b[0;36m3\u001b[0m \u001b[0;34m+\u001b[0m \u001b[0mbatch_choices_idx\u001b[0m\u001b[0;34m[\u001b[0m\u001b[0mi\u001b[0m\u001b[0;34m]\u001b[0m\u001b[0;34m,\u001b[0m \u001b[0mnum_classes\u001b[0m \u001b[0;34m=\u001b[0m \u001b[0mnum_tokens\u001b[0m\u001b[0;34m)\u001b[0m\u001b[0;34m]\u001b[0m\u001b[0;34m)\u001b[0m\u001b[0;34m)\u001b[0m \u001b[0;32mif\u001b[0m \u001b[0mlen\u001b[0m\u001b[0;34m(\u001b[0m\u001b[0mbatch_sequences_cat\u001b[0m\u001b[0;34m[\u001b[0m\u001b[0mi\u001b[0m\u001b[0;34m]\u001b[0m\u001b[0;34m)\u001b[0m \u001b[0;34m>\u001b[0m \u001b[0;36m0\u001b[0m \u001b[0;32melse\u001b[0m \u001b[0mnp\u001b[0m\u001b[0;34m.\u001b[0m\u001b[0marray\u001b[0m\u001b[0;34m(\u001b[0m\u001b[0;34m[\u001b[0m\u001b[0;34m]\u001b[0m\u001b[0;34m)\u001b[0m \u001b[0;32mfor\u001b[0m \u001b[0mi\u001b[0m \u001b[0;32min\u001b[0m \u001b[0mrange\u001b[0m\u001b[0;34m(\u001b[0m\u001b[0mlen\u001b[0m\u001b[0;34m(\u001b[0m\u001b[0mbatch_sequences_cat\u001b[0m\u001b[0;34m)\u001b[0m\u001b[0;34m)\u001b[0m\u001b[0;34m]\u001b[0m\u001b[0;34m\u001b[0m\u001b[0;34m\u001b[0m\u001b[0m\n\u001b[0m\u001b[1;32m    176\u001b[0m \u001b[0;34m\u001b[0m\u001b[0m\n\u001b[1;32m    177\u001b[0m     \u001b[0mbatch_data\u001b[0m \u001b[0;34m=\u001b[0m \u001b[0mpad_sequences\u001b[0m\u001b[0;34m(\u001b[0m\u001b[0mbatch_sequences_cat_w_choices\u001b[0m\u001b[0;34m)\u001b[0m\u001b[0;34m\u001b[0m\u001b[0;34m\u001b[0m\u001b[0m\n",
      "\u001b[0;32m<__array_function__ internals>\u001b[0m in \u001b[0;36mvstack\u001b[0;34m(*args, **kwargs)\u001b[0m\n",
      "\u001b[0;32m~/.conda/envs/pDL/lib/python3.8/site-packages/numpy/core/shape_base.py\u001b[0m in \u001b[0;36mvstack\u001b[0;34m(tup)\u001b[0m\n\u001b[1;32m    280\u001b[0m     \u001b[0;32mif\u001b[0m \u001b[0;32mnot\u001b[0m \u001b[0misinstance\u001b[0m\u001b[0;34m(\u001b[0m\u001b[0marrs\u001b[0m\u001b[0;34m,\u001b[0m \u001b[0mlist\u001b[0m\u001b[0;34m)\u001b[0m\u001b[0;34m:\u001b[0m\u001b[0;34m\u001b[0m\u001b[0;34m\u001b[0m\u001b[0m\n\u001b[1;32m    281\u001b[0m         \u001b[0marrs\u001b[0m \u001b[0;34m=\u001b[0m \u001b[0;34m[\u001b[0m\u001b[0marrs\u001b[0m\u001b[0;34m]\u001b[0m\u001b[0;34m\u001b[0m\u001b[0;34m\u001b[0m\u001b[0m\n\u001b[0;32m--> 282\u001b[0;31m     \u001b[0;32mreturn\u001b[0m \u001b[0m_nx\u001b[0m\u001b[0;34m.\u001b[0m\u001b[0mconcatenate\u001b[0m\u001b[0;34m(\u001b[0m\u001b[0marrs\u001b[0m\u001b[0;34m,\u001b[0m \u001b[0;36m0\u001b[0m\u001b[0;34m)\u001b[0m\u001b[0;34m\u001b[0m\u001b[0;34m\u001b[0m\u001b[0m\n\u001b[0m\u001b[1;32m    283\u001b[0m \u001b[0;34m\u001b[0m\u001b[0m\n\u001b[1;32m    284\u001b[0m \u001b[0;34m\u001b[0m\u001b[0m\n",
      "\u001b[0;32m<__array_function__ internals>\u001b[0m in \u001b[0;36mconcatenate\u001b[0;34m(*args, **kwargs)\u001b[0m\n",
      "\u001b[0;31mValueError\u001b[0m: all the input array dimensions for the concatenation axis must match exactly, but along dimension 1, the array at index 0 has size 3 and the array at index 1 has size 12"
     ]
    }
   ],
   "source": [
    "fix_seqs = gen_data_func(32,0,train_data_sim, use_human_data = False)"
   ]
  },
  {
   "cell_type": "code",
   "execution_count": 45,
   "id": "5c3358df-b933-4275-bd3f-438c69264c8e",
   "metadata": {},
   "outputs": [
    {
     "data": {
      "text/plain": [
       "array([0., 1., 0., 0., 1., 0., 0., 1., 0., 0., 0., 0.])"
      ]
     },
     "execution_count": 45,
     "metadata": {},
     "output_type": "execute_result"
    }
   ],
   "source": [
    "batch_sequences_cat[0][0]"
   ]
  },
  {
   "cell_type": "code",
   "execution_count": 46,
   "id": "6a28d7d5-bba6-4d59-8ee0-b6659b3cb8d6",
   "metadata": {},
   "outputs": [
    {
     "data": {
      "text/plain": [
       "array([0., 1., 0., 0., 1., 0., 0., 1., 0., 0., 1., 0.])"
      ]
     },
     "execution_count": 46,
     "metadata": {},
     "output_type": "execute_result"
    }
   ],
   "source": [
    "batch_sequences_cat_w_choices[0][0]"
   ]
  },
  {
   "cell_type": "code",
   "execution_count": 64,
   "id": "3203e6a0-7dc0-4bb7-b70e-b4cbb545d2dd",
   "metadata": {},
   "outputs": [
    {
     "data": {
      "text/plain": [
       "(1, 16, 3)"
      ]
     },
     "execution_count": 64,
     "metadata": {},
     "output_type": "execute_result"
    }
   ],
   "source": [
    "s.shape"
   ]
  },
  {
   "cell_type": "code",
   "execution_count": null,
   "id": "2df89b7c-c081-4ede-86c2-74bee0caec29",
   "metadata": {},
   "outputs": [],
   "source": []
  },
  {
   "cell_type": "code",
   "execution_count": null,
   "id": "f9db872c-0c3b-494b-83aa-e4bbf841e9cf",
   "metadata": {},
   "outputs": [],
   "source": []
  },
  {
   "cell_type": "code",
   "execution_count": null,
   "id": "861abd4c-5651-4c0c-b424-5dacc076ca48",
   "metadata": {},
   "outputs": [],
   "source": []
  },
  {
   "cell_type": "code",
   "execution_count": null,
   "id": "e945ada0-e670-451d-8f06-0b37d9f7ca37",
   "metadata": {},
   "outputs": [],
   "source": []
  },
  {
   "cell_type": "code",
   "execution_count": null,
   "id": "50e9718a-4738-41a2-bd2a-0d99976d0339",
   "metadata": {},
   "outputs": [],
   "source": []
  },
  {
   "cell_type": "code",
   "execution_count": null,
   "id": "f7ce09cf-b6fc-4fb6-98a3-c4841f17aa79",
   "metadata": {},
   "outputs": [],
   "source": []
  },
  {
   "cell_type": "code",
   "execution_count": 6,
   "id": "e9a0e72d-3115-4ed7-8b83-8ce12cbe0d42",
   "metadata": {},
   "outputs": [
    {
     "ename": "NameError",
     "evalue": "name 'si' is not defined",
     "output_type": "error",
     "traceback": [
      "\u001b[0;31m---------------------------------------------------------------------------\u001b[0m",
      "\u001b[0;31mNameError\u001b[0m                                 Traceback (most recent call last)",
      "\u001b[0;32m/tmp/ipykernel_956767/2105603097.py\u001b[0m in \u001b[0;36m<module>\u001b[0;34m\u001b[0m\n\u001b[1;32m     43\u001b[0m \u001b[0;34m\u001b[0m\u001b[0m\n\u001b[1;32m     44\u001b[0m \u001b[0mbatch_targets_init\u001b[0m \u001b[0;34m=\u001b[0m \u001b[0mnp\u001b[0m\u001b[0;34m.\u001b[0m\u001b[0marray\u001b[0m\u001b[0;34m(\u001b[0m\u001b[0;34m[\u001b[0m\u001b[0mtrial_data\u001b[0m\u001b[0;34m[\u001b[0m\u001b[0;34m'value'\u001b[0m\u001b[0;34m]\u001b[0m \u001b[0;32mfor\u001b[0m \u001b[0mtrial_data\u001b[0m \u001b[0;32min\u001b[0m \u001b[0mbatch_sim_data\u001b[0m\u001b[0;34m]\u001b[0m\u001b[0;34m,\u001b[0m \u001b[0mdtype\u001b[0m \u001b[0;34m=\u001b[0m \u001b[0;34m'float32'\u001b[0m\u001b[0;34m)\u001b[0m\u001b[0;34m\u001b[0m\u001b[0;34m\u001b[0m\u001b[0m\n\u001b[0;32m---> 45\u001b[0;31m \u001b[0mbatch_targets_cont\u001b[0m \u001b[0;34m=\u001b[0m \u001b[0;34m[\u001b[0m\u001b[0mnp\u001b[0m\u001b[0;34m.\u001b[0m\u001b[0mrepeat\u001b[0m\u001b[0;34m(\u001b[0m\u001b[0;34m[\u001b[0m\u001b[0mbatch_targets_init\u001b[0m\u001b[0;34m[\u001b[0m\u001b[0msi\u001b[0m\u001b[0;34m]\u001b[0m\u001b[0;34m]\u001b[0m\u001b[0;34m,\u001b[0m\u001b[0mlen\u001b[0m\u001b[0;34m(\u001b[0m\u001b[0mbatch_sequences_cat\u001b[0m\u001b[0;34m[\u001b[0m\u001b[0mi\u001b[0m\u001b[0;34m]\u001b[0m\u001b[0;34m)\u001b[0m\u001b[0;34m,\u001b[0m\u001b[0maxis\u001b[0m\u001b[0;34m=\u001b[0m\u001b[0;36m0\u001b[0m\u001b[0;34m)\u001b[0m \u001b[0;32mfor\u001b[0m \u001b[0mi\u001b[0m \u001b[0;32min\u001b[0m \u001b[0mrange\u001b[0m\u001b[0;34m(\u001b[0m\u001b[0mlen\u001b[0m\u001b[0;34m(\u001b[0m\u001b[0mbatch_sequences_cat\u001b[0m\u001b[0;34m)\u001b[0m\u001b[0;34m)\u001b[0m\u001b[0;34m]\u001b[0m\u001b[0;34m\u001b[0m\u001b[0;34m\u001b[0m\u001b[0m\n\u001b[0m\u001b[1;32m     46\u001b[0m \u001b[0;34m\u001b[0m\u001b[0m\n\u001b[1;32m     47\u001b[0m \u001b[0mbatch_targets\u001b[0m \u001b[0;34m=\u001b[0m \u001b[0mpad_sequences\u001b[0m\u001b[0;34m(\u001b[0m\u001b[0mbatch_targets_cont\u001b[0m\u001b[0;34m)\u001b[0m\u001b[0;34m\u001b[0m\u001b[0;34m\u001b[0m\u001b[0m\n",
      "\u001b[0;32m/tmp/ipykernel_956767/2105603097.py\u001b[0m in \u001b[0;36m<listcomp>\u001b[0;34m(.0)\u001b[0m\n\u001b[1;32m     43\u001b[0m \u001b[0;34m\u001b[0m\u001b[0m\n\u001b[1;32m     44\u001b[0m \u001b[0mbatch_targets_init\u001b[0m \u001b[0;34m=\u001b[0m \u001b[0mnp\u001b[0m\u001b[0;34m.\u001b[0m\u001b[0marray\u001b[0m\u001b[0;34m(\u001b[0m\u001b[0;34m[\u001b[0m\u001b[0mtrial_data\u001b[0m\u001b[0;34m[\u001b[0m\u001b[0;34m'value'\u001b[0m\u001b[0;34m]\u001b[0m \u001b[0;32mfor\u001b[0m \u001b[0mtrial_data\u001b[0m \u001b[0;32min\u001b[0m \u001b[0mbatch_sim_data\u001b[0m\u001b[0;34m]\u001b[0m\u001b[0;34m,\u001b[0m \u001b[0mdtype\u001b[0m \u001b[0;34m=\u001b[0m \u001b[0;34m'float32'\u001b[0m\u001b[0;34m)\u001b[0m\u001b[0;34m\u001b[0m\u001b[0;34m\u001b[0m\u001b[0m\n\u001b[0;32m---> 45\u001b[0;31m \u001b[0mbatch_targets_cont\u001b[0m \u001b[0;34m=\u001b[0m \u001b[0;34m[\u001b[0m\u001b[0mnp\u001b[0m\u001b[0;34m.\u001b[0m\u001b[0mrepeat\u001b[0m\u001b[0;34m(\u001b[0m\u001b[0;34m[\u001b[0m\u001b[0mbatch_targets_init\u001b[0m\u001b[0;34m[\u001b[0m\u001b[0msi\u001b[0m\u001b[0;34m]\u001b[0m\u001b[0;34m]\u001b[0m\u001b[0;34m,\u001b[0m\u001b[0mlen\u001b[0m\u001b[0;34m(\u001b[0m\u001b[0mbatch_sequences_cat\u001b[0m\u001b[0;34m[\u001b[0m\u001b[0mi\u001b[0m\u001b[0;34m]\u001b[0m\u001b[0;34m)\u001b[0m\u001b[0;34m,\u001b[0m\u001b[0maxis\u001b[0m\u001b[0;34m=\u001b[0m\u001b[0;36m0\u001b[0m\u001b[0;34m)\u001b[0m \u001b[0;32mfor\u001b[0m \u001b[0mi\u001b[0m \u001b[0;32min\u001b[0m \u001b[0mrange\u001b[0m\u001b[0;34m(\u001b[0m\u001b[0mlen\u001b[0m\u001b[0;34m(\u001b[0m\u001b[0mbatch_sequences_cat\u001b[0m\u001b[0;34m)\u001b[0m\u001b[0;34m)\u001b[0m\u001b[0;34m]\u001b[0m\u001b[0;34m\u001b[0m\u001b[0;34m\u001b[0m\u001b[0m\n\u001b[0m\u001b[1;32m     46\u001b[0m \u001b[0;34m\u001b[0m\u001b[0m\n\u001b[1;32m     47\u001b[0m \u001b[0mbatch_targets\u001b[0m \u001b[0;34m=\u001b[0m \u001b[0mpad_sequences\u001b[0m\u001b[0;34m(\u001b[0m\u001b[0mbatch_targets_cont\u001b[0m\u001b[0;34m)\u001b[0m\u001b[0;34m\u001b[0m\u001b[0;34m\u001b[0m\u001b[0m\n",
      "\u001b[0;31mNameError\u001b[0m: name 'si' is not defined"
     ]
    }
   ],
   "source": [
    "def compute_sum_fixations(this_seq, return_type = 'sum'):\n",
    "    this_seq = np.array(batch_sequences_cat[0])\n",
    "    sum_fix = np.cumsum(this_seq,0)\n",
    "    total_fix = np.sum(sum_fix,1)\n",
    "    prop_fix = np.array([sum_fix[i,:] / total_fix[i] for i in range(len(this_seq))])\n",
    "    \n",
    "    if return_type == 'sum':\n",
    "        return sum_fix\n",
    "    \n",
    "    elif return_type == 'prop':\n",
    "        return prop_fix\n",
    "    else:\n",
    "        display('surprise')\n",
    "\n",
    "return_type = 'sum'\n",
    "    \n",
    "from sequential_tasks import pad_sequences, to_categorical\n",
    "\n",
    "batch_size = 32\n",
    "batch_idx = 5\n",
    "data = train_data_sim\n",
    "use_human_data=True\n",
    "# filter list of trials that are in this batch\n",
    "batch_sim_data = data[batch_idx*batch_size:((batch_idx+1)*(batch_size))]\n",
    "\n",
    "# all sequences in the batch, attended item is coded as idx (as 0, 1, 2)\n",
    "if use_human_data:\n",
    "    batch_fixation_sequences_idx = [(np.array(trial_data['fixations'])-1).tolist() for trial_data in batch_sim_data]\n",
    "else:\n",
    "    batch_fixation_sequences_idx = [trial_data['fixations'] for trial_data in batch_sim_data]\n",
    "\n",
    "# first 3 are fixation, last is choice...\n",
    "batch_sequences_cat = [[to_categorical(x, num_classes = 3) for x in this_sequence] for this_sequence in batch_fixation_sequences_idx]\n",
    "\n",
    "# pick a better name for this\n",
    "if return_type != 'flat':\n",
    "    batch_sequences_cat = [compute_sum_fixations(this_seq, return_type = return_type) for this_seq in batch_sequences_cat]\n",
    "    \n",
    "# now append to each of these the choice info - the choice gets it's own channel (of 3)\n",
    "batch_data = pad_sequences(batch_sequences_cat)\n",
    "batch_data = batch_data.astype('float32')\n",
    "\n",
    "batch_targets_init = np.array([trial_data['value'] for trial_data in batch_sim_data], dtype = 'float32')\n",
    "batch_targets_cont = [np.repeat([batch_targets_init[si]],len(batch_sequences_cat[i]),axis=0) for i in range(len(batch_sequences_cat))]\n",
    "\n",
    "batch_targets = pad_sequences(batch_targets_cont)\n",
    "batch_targets = batch_targets.astype('float32')"
   ]
  },
  {
   "cell_type": "code",
   "execution_count": null,
   "id": "28107a01-efac-4dd2-8d9b-4c290147685f",
   "metadata": {},
   "outputs": [],
   "source": [
    "batch_data"
   ]
  },
  {
   "cell_type": "code",
   "execution_count": null,
   "id": "cd62716d-0e56-4547-857a-69ac673ef249",
   "metadata": {},
   "outputs": [],
   "source": []
  }
 ],
 "metadata": {
  "kernelspec": {
   "display_name": "pDL [~/.conda/envs/pDL/]",
   "language": "python",
   "name": "conda_pdl"
  },
  "language_info": {
   "codemirror_mode": {
    "name": "ipython",
    "version": 3
   },
   "file_extension": ".py",
   "mimetype": "text/x-python",
   "name": "python",
   "nbconvert_exporter": "python",
   "pygments_lexer": "ipython3",
   "version": "3.8.12"
  }
 },
 "nbformat": 4,
 "nbformat_minor": 5
}
