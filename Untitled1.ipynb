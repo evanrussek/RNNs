{
 "cells": [
  {
   "cell_type": "code",
   "execution_count": 15,
   "id": "568695f9-7101-4533-ac5d-ee2e999bfa89",
   "metadata": {},
   "outputs": [
    {
     "name": "stderr",
     "output_type": "stream",
     "text": [
      "\u001b[32m[I 2022-06-22 15:09:29,411]\u001b[0m A new study created in memory with name: no-name-f140dcb6-1e1b-4134-b3d2-b132bdbe809e\u001b[0m\n",
      "/Users/evanrussek/opt/anaconda3/envs/pDL/lib/python3.8/site-packages/optuna/distributions.py:560: UserWarning: The distribution is specified by [2, 200] and step=5, but the range is not divisible by `step`. It will be replaced by [2, 197].\n",
      "  warnings.warn(\n"
     ]
    },
    {
     "name": "stdout",
     "output_type": "stream",
     "text": [
      "0\n"
     ]
    },
    {
     "name": "stderr",
     "output_type": "stream",
     "text": [
      "\u001b[32m[I 2022-06-22 15:09:29,659]\u001b[0m Trial 0 finished with value: 18.15826906834308 and parameters: {'hidden_size': 192, 'lr': 0.00018453303926886883}. Best is trial 0 with value: 18.15826906834308.\u001b[0m\n"
     ]
    },
    {
     "name": "stdout",
     "output_type": "stream",
     "text": [
      "--- 0.24762320518493652 seconds ---\n"
     ]
    }
   ],
   "source": [
    "%run predict_sim_find_optimal_params.py"
   ]
  },
  {
   "cell_type": "code",
   "execution_count": null,
   "id": "bb63d09a-237c-43e3-9bf6-f2f71a7eb75f",
   "metadata": {},
   "outputs": [],
   "source": []
  }
 ],
 "metadata": {
  "kernelspec": {
   "display_name": "Python 3 (ipykernel)",
   "language": "python",
   "name": "python3"
  },
  "language_info": {
   "codemirror_mode": {
    "name": "ipython",
    "version": 3
   },
   "file_extension": ".py",
   "mimetype": "text/x-python",
   "name": "python",
   "nbconvert_exporter": "python",
   "pygments_lexer": "ipython3",
   "version": "3.8.12"
  }
 },
 "nbformat": 4,
 "nbformat_minor": 5
}
