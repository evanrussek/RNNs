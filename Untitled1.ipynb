{
 "cells": [
  {
   "cell_type": "code",
   "execution_count": 1,
   "id": "74414171-8297-4d0d-b648-4796f15f66ef",
   "metadata": {},
   "outputs": [],
   "source": [
    "#### Train the choice only model"
   ]
  },
  {
   "cell_type": "code",
   "execution_count": 3,
   "id": "1f3d1659-6407-4686-835a-b5a7305f24cf",
   "metadata": {},
   "outputs": [
    {
     "name": "stdout",
     "output_type": "stream",
     "text": [
      "{'model_name': 'MLP', 'train_seq_part': 'choice_only', 'n_simulation_sequences_train': 100000.0, 'n_human_sequences_train': 0, 'n_sequences_test': 500, 'n_sequences_final_performance': 500, 'd_model': 16, 'n_layers': 2, 'n_head': 2, 'sim_lr': 0.001, 'human_lr': 0.001, 'batch_size': 32, 'dropout': 0, 'run_idx': 0, 'on_cluster': True, 'test_batch_increment_sim': 200, 'test_batch_increment_human': 200, 'save_folder_name': 'Best_Param_Results', 'save_file_name': 'run_0_train_name_train_sim_test_sim_choice_only', 'fix_unit': 'ID'}\n",
      "<class 'float'>\n",
      "Loading Data\n",
      "cpu\n",
      "Training the model\n",
      "Training on simulated data\n",
      "number of simulation seqeuences: 6432number of human seqeuences: 0 sim test loss: 13.578017115592957 human test loss 14.123372852802277\n",
      "number of simulation seqeuences: 12832number of human seqeuences: 0 sim test loss: 6.221524775028229 human test loss 6.569128692150116\n",
      "number of simulation seqeuences: 19232number of human seqeuences: 0 sim test loss: 5.424359023571014 human test loss 5.8265611827373505\n",
      "number of simulation seqeuences: 25632number of human seqeuences: 0 sim test loss: 5.0011923015117645 human test loss 5.475215405225754\n",
      "number of simulation seqeuences: 32032number of human seqeuences: 0 sim test loss: 4.646124601364136 human test loss 5.195005565881729\n",
      "number of simulation seqeuences: 38432number of human seqeuences: 0 sim test loss: 4.43781840801239 human test loss 5.050763666629791\n",
      "number of simulation seqeuences: 44832number of human seqeuences: 0 sim test loss: 4.360845133662224 human test loss 5.008726552128792\n",
      "number of simulation seqeuences: 51232number of human seqeuences: 0 sim test loss: 4.3334280252456665 human test loss 5.019631132483482\n",
      "number of simulation seqeuences: 57632number of human seqeuences: 0 sim test loss: 4.32389859855175 human test loss 5.017824947834015\n",
      "number of simulation seqeuences: 64032number of human seqeuences: 0 sim test loss: 4.3381592482328415 human test loss 5.022768631577492\n",
      "number of simulation seqeuences: 70432number of human seqeuences: 0 sim test loss: 4.32891272008419 human test loss 5.015816733241081\n",
      "number of simulation seqeuences: 76832number of human seqeuences: 0 sim test loss: 4.327180504798889 human test loss 5.028144434094429\n",
      "number of simulation seqeuences: 83232number of human seqeuences: 0 sim test loss: 4.325449883937836 human test loss 5.019600346684456\n",
      "number of simulation seqeuences: 89632number of human seqeuences: 0 sim test loss: 4.329200565814972 human test loss 5.021759822964668\n",
      "number of simulation seqeuences: 96032number of human seqeuences: 0 sim test loss: 4.334282368421555 human test loss 5.035614237189293\n",
      "Training on human data\n",
      "Evaluating trained model performance\n",
      "Saving the model and results\n"
     ]
    }
   ],
   "source": [
    "from main_as_fun import main_as_fun\n",
    "\n",
    "to_save_folder = '/scratch/gpfs/erussek/RNN_project/Best_Param_Results'\n",
    "\n",
    "n_runs = 1\n",
    "\n",
    "run_idx = 0\n",
    "\n",
    "n_sim_seqs = 1e5\n",
    "n_human_seqs = 0\n",
    "\n",
    "train_name = 'train_sim_test_sim'\n",
    "save_file_name = 'run_{}_train_name_{}_choice_only'.format(run_idx, train_name)\n",
    "\n",
    "main_as_fun(\n",
    "    run_idx = run_idx,\n",
    "    model_name = 'MLP',\n",
    "    train_seq_part = 'choice_only',\n",
    "    d_model = 16,\n",
    "    sim_lr = .001,\n",
    "    human_lr = .001,\n",
    "    n_simulation_sequences_train = 1e5,\n",
    "    n_human_sequences_train = 0,\n",
    "    dropout = 0,\n",
    "    on_cluster = True,\n",
    "    save_folder_name = 'Best_Param_Results',\n",
    "    save_file_name = save_file_name)\n",
    "\n",
    "train_name = 'train_human_test_human'\n",
    "save_file_name = 'run_{}_train_name_{}_choice_only'.format(run_idx, train_name)\n",
    "\n",
    "main_as_fun(\n",
    "    run_idx = run_idx,\n",
    "    model_name = 'MLP',\n",
    "    train_seq_part = 'choice_only',\n",
    "    d_model = 16,\n",
    "    sim_lr = .001,\n",
    "    human_lr = .001,\n",
    "    n_simulation_sequences_train = 0,\n",
    "    n_human_sequences_train = 1e5,\n",
    "    dropout = 0,\n",
    "    on_cluster = True,\n",
    "    save_folder_name = 'Best_Param_Results',\n",
    "    save_file_name = save_file_name)\n",
    "\n",
    "train_name = 'train_sim_human_test_human'\n",
    "save_file_name = 'run_{}_train_name_{}_choice_only'.format(run_idx, train_name)\n",
    "\n",
    "main_as_fun(\n",
    "    run_idx = run_idx,\n",
    "    model_name = 'MLP',\n",
    "    train_seq_part = 'choice_only',\n",
    "    d_model = 16,\n",
    "    sim_lr = .001,\n",
    "    human_lr = .001,\n",
    "    n_simulation_sequences_train = 1e5,\n",
    "    n_human_sequences_train = 1e5,\n",
    "    dropout = 0,\n",
    "    on_cluster = True,\n",
    "    save_folder_name = 'Best_Param_Results',\n",
    "    save_file_name = save_file_name)"
   ]
  },
  {
   "cell_type": "code",
   "execution_count": 5,
   "id": "93eedb31-f5bc-4b68-8135-7c1622d314c0",
   "metadata": {},
   "outputs": [
    {
     "data": {
      "text/plain": [
       "'run_0_train_name_train_sim_test_sim_choice_only'"
      ]
     },
     "execution_count": 5,
     "metadata": {},
     "output_type": "execute_result"
    }
   ],
   "source": [
    "save_file_name"
   ]
  },
  {
   "cell_type": "code",
   "execution_count": null,
   "id": "e0b3014c-fc21-4a90-81d7-be0155da535d",
   "metadata": {},
   "outputs": [],
   "source": []
  }
 ],
 "metadata": {
  "kernelspec": {
   "display_name": "pDL [~/.conda/envs/pDL/]",
   "language": "python",
   "name": "conda_pdl"
  },
  "language_info": {
   "codemirror_mode": {
    "name": "ipython",
    "version": 3
   },
   "file_extension": ".py",
   "mimetype": "text/x-python",
   "name": "python",
   "nbconvert_exporter": "python",
   "pygments_lexer": "ipython3",
   "version": "3.8.12"
  }
 },
 "nbformat": 4,
 "nbformat_minor": 5
}
