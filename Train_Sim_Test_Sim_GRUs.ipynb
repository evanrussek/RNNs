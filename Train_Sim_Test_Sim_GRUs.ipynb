{
 "cells": [
  {
   "cell_type": "code",
   "execution_count": 1,
   "id": "f8cdf97a-252d-4d36-a398-4234957505b3",
   "metadata": {},
   "outputs": [],
   "source": [
    "# set up packages\n",
    "import numpy as np\n",
    "import matplotlib.pyplot as plt\n",
    "import pickle\n",
    "import time\n",
    "import sys\n",
    "import torch\n",
    "import os\n",
    "import random\n",
    "\n",
    "from load_data_funs import load_data, gen_batch_data_fixations_choice, gen_batch_data_fixations_only, gen_batch_data_choice_only\n",
    "from neural_nets import SimpleLSTM, SimpleMLP"
   ]
  },
  {
   "cell_type": "code",
   "execution_count": 7,
   "id": "935d3903-1354-492b-aa50-f042b1bc5861",
   "metadata": {},
   "outputs": [],
   "source": [
    "train_setting = 0\n",
    "job_idx = 0"
   ]
  },
  {
   "cell_type": "code",
   "execution_count": 8,
   "id": "2346f592-ec49-4b54-b206-cfafc578b045",
   "metadata": {},
   "outputs": [],
   "source": [
    "train_data_funcs = [gen_batch_data_fixations_choice, gen_batch_data_fixations_only, gen_batch_data_choice_only]\n",
    "this_data_func = train_data_funcs[train_setting]"
   ]
  },
  {
   "cell_type": "code",
   "execution_count": 5,
   "id": "7cbc64d6-8bc4-4520-930b-17ac7e8e5b4b",
   "metadata": {},
   "outputs": [],
   "source": [
    "\n",
    "# function to test model...\n",
    "def test(model, test_sim_data, criterion, device, batch_size, n_total_seq, gen_batch_data,human_data = False):\n",
    "    # Set the model to evaluation mode. This will turn off layers that would\n",
    "    # otherwise behave differently during training, such as dropout.\n",
    "    model.eval()\n",
    "    \n",
    "    n_total_seq = 1000\n",
    "\n",
    "    n_batches = int(np.round(n_total_seq / batch_size));\n",
    "\n",
    "    loss_res = np.zeros((n_batches, 1), dtype=float)\n",
    "\n",
    "    # A context manager is used to disable gradient calculations during inference\n",
    "    # to reduce memory usage, as we typically don't need the gradients at this point.\n",
    "    with torch.no_grad():\n",
    "        for batch_idx in range(n_batches):\n",
    "            data, target = gen_batch_data(batch_size, batch_idx, test_sim_data, human_data=human_data)\n",
    "            data, target = torch.from_numpy(data).float().to(device), torch.from_numpy(target).long().to(device)\n",
    "\n",
    "            output = model(data)\n",
    "            \n",
    "            to_keep = target != 0\n",
    "            target = target[to_keep]\n",
    "            output = output[to_keep]\n",
    "            \n",
    "            # target = target.argmax(dim=1)\n",
    "            loss = criterion(output, target)  # is this just for the last batch?\n",
    "\n",
    "            # store the loss\n",
    "            loss_res[batch_idx] = loss.item()\n",
    "\n",
    "    return np.mean(loss_res)"
   ]
  },
  {
   "cell_type": "code",
   "execution_count": 6,
   "id": "24df7b65-5801-43a2-a25c-42a33e6d9d55",
   "metadata": {},
   "outputs": [],
   "source": [
    "\n",
    "def train_with_intermediate_tests(model, train_sim_data, test_sim_data, criterion, optimizer, device, batch_size, n_total_seq, gen_batch_data, human_data = False, model_name = \"\", n_epochs = 1):\n",
    "    # Set the model to training mode. This will turn on layers that would\n",
    "    # otherwise behave differently during evaluation, such as dropout.\n",
    "    model.train()\n",
    "    \n",
    "    # What metric to store?\n",
    "    # num_correct = 0\n",
    "\n",
    "    # Iterate over every batch of sequences. Note that the length of a data generator\n",
    "    # is defined as the number of batches required to produce a total of roughly 1000\n",
    "    # sequences given a batch size.\n",
    "        \n",
    "    # how many batches\n",
    "    n_batches = int(np.round(n_total_seq/batch_size));\n",
    "    \n",
    "    loss_res = []\n",
    "    train_loss_res = []\n",
    "    train_num = []\n",
    "    \n",
    "    print('n_epochs: '+str(n_epochs))\n",
    "    \n",
    "    for epoch_idx in range(n_epochs):\n",
    "        print(epoch_idx)\n",
    "        for batch_idx in range(n_batches):\n",
    "            \n",
    "            this_batch_idx = n_batches*epoch_idx + batch_idx\n",
    "            #print(this_batch_idx)\n",
    "\n",
    "            # Request a batch of sequences and class labels, convert them into tensors\n",
    "            # of the correct type, and then send them to the appropriate device.\n",
    "            data, target = gen_batch_data(batch_size, batch_idx, train_sim_data, human_data=human_data)\n",
    "\n",
    "            data, target = torch.from_numpy(data).float().to(device), torch.from_numpy(target).long().to(device)\n",
    "\n",
    "            # Perform the forward pass of the model\n",
    "            output = model(data)  # Step\n",
    "\n",
    "\n",
    "            # for some reason target is an int, and dosn't match the output which is float32\n",
    "            target = target.to(torch.float32)\n",
    "\n",
    "            # remove padding (nicely, this is just 0's)\n",
    "            to_keep = target != 0\n",
    "            target = target[to_keep]\n",
    "            output = output[to_keep]\n",
    "\n",
    "            # need to re-write this function... \n",
    "            loss = criterion(output, target)  # Step\n",
    "\n",
    "            # Clear the gradient buffers of the optimized parameters.\n",
    "            # Otherwise, gradients from the previous batch would be accumulated.\n",
    "            optimizer.zero_grad()  # Step\n",
    "\n",
    "            loss.backward()  # Step\n",
    "\n",
    "            optimizer.step()  # Step\n",
    "\n",
    "            # \n",
    "            if ((this_batch_idx % 100) == 0) & (batch_idx > 0):\n",
    "                test_loss = test(model, test_sim_data, criterion, device, batch_size, n_total_seq, gen_batch_data, human_data=human_data)\n",
    "                loss_res.append(test_loss)\n",
    "\n",
    "                train_loss_res.append(loss.item())\n",
    "                train_num.append(200*(this_batch_idx+1))\n",
    "                \n",
    "                print('batch num' + str(batch_idx) + ' loss: ' + str(test_loss))\n",
    "\n",
    "        #return num_correct, loss.item()\n",
    "    return model, np.array(loss_res), np.array(train_num)#loss.item()"
   ]
  },
  {
   "cell_type": "code",
   "execution_count": 9,
   "id": "49c97542-b14b-480d-9079-cf93d0536000",
   "metadata": {},
   "outputs": [
    {
     "ename": "NameError",
     "evalue": "name 'sim_data_path' is not defined",
     "output_type": "error",
     "traceback": [
      "\u001b[0;31m---------------------------------------------------------------------------\u001b[0m",
      "\u001b[0;31mNameError\u001b[0m                                 Traceback (most recent call last)",
      "Cell \u001b[0;32mIn [9], line 1\u001b[0m\n\u001b[0;32m----> 1\u001b[0m train_data_sim, test_data_sim, human_data \u001b[38;5;241m=\u001b[39m load_data(\u001b[43msim_data_path\u001b[49m, human_data_path,this_seed\u001b[38;5;241m=\u001b[39mjob_idx)\n",
      "\u001b[0;31mNameError\u001b[0m: name 'sim_data_path' is not defined"
     ]
    }
   ],
   "source": [
    "train_data_sim, test_data_sim, human_data = load_data(sim_data_path, human_data_path,this_seed=job_idx)\n"
   ]
  },
  {
   "cell_type": "code",
   "execution_count": null,
   "id": "342453b2-d18c-4d0f-95b4-6d9b010ba293",
   "metadata": {},
   "outputs": [],
   "source": []
  }
 ],
 "metadata": {
  "kernelspec": {
   "display_name": "Python 3 (ipykernel)",
   "language": "python",
   "name": "python3"
  },
  "language_info": {
   "codemirror_mode": {
    "name": "ipython",
    "version": 3
   },
   "file_extension": ".py",
   "mimetype": "text/x-python",
   "name": "python",
   "nbconvert_exporter": "python",
   "pygments_lexer": "ipython3",
   "version": "3.8.13"
  }
 },
 "nbformat": 4,
 "nbformat_minor": 5
}
