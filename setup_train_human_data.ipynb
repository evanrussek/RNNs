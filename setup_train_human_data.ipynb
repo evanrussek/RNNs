{
 "cells": [
  {
   "cell_type": "code",
   "execution_count": 1,
   "id": "c24dc781-30a7-4917-8a5c-72ebacfbb91f",
   "metadata": {},
   "outputs": [],
   "source": [
    "# set up packages\n",
    "import numpy as np\n",
    "import matplotlib.pyplot as plt\n",
    "import pickle\n",
    "# import optuna\n",
    "import time\n",
    "import sys\n",
    "import torch\n",
    "import os\n",
    "import random\n",
    "\n",
    "from load_data_funs import load_data, gen_batch_data_fixations_choice, gen_batch_data_fixations_only, gen_batch_data_choice_only\n",
    "from neural_nets import SimpleLSTM, SimpleMLP\n",
    "\n",
    "is_array_job=False\n",
    "on_cluster = False\n",
    "\n",
    "if is_array_job:\n",
    "    job_idx = int(os.environ[\"SLURM_ARRAY_TASK_ID\"]) - 1\n",
    "    train_setting= int(sys.argv[1])\n",
    "else:\n",
    "    job_idx = 0\n",
    "    train_setting=0\n",
    "\n",
    "# set the random seed.\n",
    "random.seed(job_idx)\n",
    "\n",
    "if on_cluster:\n",
    "    sim_data_path = '/scratch/gpfs/erussek/RNN_project/optimal_fixation_sims'\n",
    "    human_data_path = '/scratch/gpfs/erussek/RNN_project/human_trials.json'\n",
    "else:\n",
    "    sim_data_path = '/Users/evanrussek/Dropbox/Griffiths_Lab_Stuff/Data/RNNs/optimal_fixation_sims'\n",
    "    human_data_path = '/Users/evanrussek/Dropbox/Griffiths_Lab_Stuff/Data/RNNs/human_trials.json'\n",
    "\n",
    "    \n",
    "train_data_funcs = [gen_batch_data_fixations_choice, gen_batch_data_fixations_only, gen_batch_data_choice_only]\n",
    "this_data_func = train_data_funcs[train_setting]\n",
    "\n",
    "best_lrs = [0.0019260129757659558, 0.0044066090959512735, .001]# 0.0001002995005652193]\n",
    "best_hiddens = [97, 37, 50]"
   ]
  },
  {
   "cell_type": "code",
   "execution_count": 25,
   "id": "979bd2f2-e3b6-4c82-abfe-16c6d9b4d539",
   "metadata": {},
   "outputs": [],
   "source": [
    "# function to test model...\n",
    "def test(model, test_sim_data, criterion, device, batch_size, n_total_seq, gen_batch_data,human_data = False):\n",
    "    # Set the model to evaluation mode. This will turn off layers that would\n",
    "    # otherwise behave differently during training, such as dropout.\n",
    "    model.eval()\n",
    "    \n",
    "    n_total_seq = np.amin([1000, len(test_sim_data)])\n",
    "\n",
    "    n_batches = int(np.round(n_total_seq / batch_size));\n",
    "\n",
    "    loss_res = np.zeros((n_batches, 1), dtype=float)\n",
    "\n",
    "    # A context manager is used to disable gradient calculations during inference\n",
    "    # to reduce memory usage, as we typically don't need the gradients at this point.\n",
    "    with torch.no_grad():\n",
    "        for batch_idx in range(n_batches):\n",
    "            data, target = gen_batch_data(batch_size, batch_idx, test_sim_data, human_data=human_data)\n",
    "            data, target = torch.from_numpy(data).float().to(device), torch.from_numpy(target).long().to(device)\n",
    "\n",
    "            output = model(data)\n",
    "            \n",
    "            to_keep = target != 0\n",
    "            target = target[to_keep]\n",
    "            output = output[to_keep]\n",
    "            \n",
    "            # target = target.argmax(dim=1)\n",
    "            loss = criterion(output, target)  # is this just for the last batch?\n",
    "\n",
    "            # store the loss\n",
    "            loss_res[batch_idx] = loss.item()\n",
    "\n",
    "    return np.mean(loss_res)\n",
    "\n"
   ]
  },
  {
   "cell_type": "code",
   "execution_count": 3,
   "id": "ac4b82be-519d-4e4a-86d1-fd4f6f13673e",
   "metadata": {},
   "outputs": [],
   "source": [
    "# load data\n",
    "    # load data \n",
    "train_data_sim, test_data_sim, human_train_data,human_test_data = load_data(sim_data_path, human_data_path,this_seed=job_idx,split_human_data=True)\n",
    "this_data_func = train_data_funcs[train_setting]\n"
   ]
  },
  {
   "cell_type": "code",
   "execution_count": 4,
   "id": "cab84575-605d-4d7f-842d-df0adb9ae052",
   "metadata": {},
   "outputs": [
    {
     "data": {
      "text/plain": [
       "(1976, 989)"
      ]
     },
     "execution_count": 4,
     "metadata": {},
     "output_type": "execute_result"
    }
   ],
   "source": [
    "len(human_train_data), len(human_test_data)"
   ]
  },
  {
   "cell_type": "code",
   "execution_count": 7,
   "id": "c8d2c34e-150a-4c1a-8a45-857159161bcb",
   "metadata": {},
   "outputs": [],
   "source": [
    "# want to pretrain on some number of (1 epoch only) sequences of train_sim_data, and then train fully on some number of epochs of human_test_data...\n",
    "# train on a 1 mil. examples, generate learning curves... \n",
    "batch_size  = 32\n",
    "n_total_seq = 1.5e6\n",
    "n_batches = int(np.round(n_total_seq/batch_size));\n",
    "n_tests = int(np.ceil(n_batches/200)) - 1\n",
    "\n",
    "input_sizes = [6,3,3]\n",
    "\n",
    "torch.manual_seed(job_idx)\n",
    "\n",
    "input_size  = input_sizes[train_setting] # this is the length of the input vector? #train_data_gen.n_symbols\n",
    "hidden_size = best_hiddens[train_setting]\n",
    "output_size = 3 # \n",
    "\n",
    "if train_setting == 2:\n",
    "    model       = SimpleMLP(input_size, hidden_size, output_size)\n",
    "else:\n",
    "    model       = SimpleLSTM(input_size, hidden_size, output_size)\n",
    "\n",
    "criterion   = torch.nn.MSELoss()\n",
    "optimizer   = torch.optim.RMSprop(model.parameters(), lr=best_lrs[train_setting])\n",
    "start_time = time.time()\n",
    "device = torch.device('cuda:0' if torch.cuda.is_available() else 'cpu')"
   ]
  },
  {
   "cell_type": "code",
   "execution_count": 42,
   "id": "ad4a9d99-9630-4115-bda4-e1ead1521577",
   "metadata": {},
   "outputs": [],
   "source": [
    "\n",
    "def train_sim_then_human_with_intermediate_tests(model, train_data_sim, train_data_human, test_data_sim, test_data_human, criterion, optimizer, device, batch_size, n_sim_seq, n_human_epochs, gen_batch_data):\n",
    "\n",
    "    n_human_seq = len(human_train_data) # about 2000\n",
    "\n",
    "    # now we want to train on some number of \n",
    "    model.train()\n",
    "\n",
    "    n_batches_sim = int(np.round(n_sim_seq/batch_size));\n",
    "    n_batches_human = int(np.round(n_human_seq/batch_size));\n",
    "    # first train on sim data...\n",
    "\n",
    "    sim_loss_res=[]\n",
    "    human_loss_res=[]\n",
    "    train_num=[]\n",
    "\n",
    "\n",
    "    # train on simulated data...\n",
    "    print('Training on simulated data')\n",
    "    for batch_idx in range(n_batches_sim):\n",
    "\n",
    "        # Request a batch of sequences and class labels, convert them into tensors\n",
    "        # of the correct type, and then send them to the appropriate device.\n",
    "        data, target = gen_batch_data(batch_size, batch_idx, train_data_sim, human_data=False)\n",
    "        data, target = torch.from_numpy(data).float().to(device), torch.from_numpy(target).long().to(device)\n",
    "\n",
    "        # Perform the forward pass of the model\n",
    "        output = model(data)\n",
    "\n",
    "        # make sure target is correct type\n",
    "        target = target.to(torch.float32)\n",
    "\n",
    "        # filter out padding\n",
    "        to_keep = target != 0\n",
    "        target = target[to_keep]\n",
    "        output = output[to_keep]\n",
    "\n",
    "        # compute loss and backpropogate\n",
    "        loss = criterion(output, target)  # Step\n",
    "        optimizer.zero_grad()  # Step\n",
    "        loss.backward()  # Step\n",
    "        optimizer.step()  # Step\n",
    "\n",
    "        # test every 100 batches... \n",
    "\n",
    "        # compute loss on both sim and human\n",
    "\n",
    "        if ((batch_idx % 100) == 0) & (batch_idx > 0):\n",
    "            sim_test_loss = test(model, test_data_sim, criterion, device, batch_size, n_total_seq, gen_batch_data, human_data=False)\n",
    "            sim_loss_res.append(sim_test_loss)\n",
    "\n",
    "            human_test_loss = test(model, test_data_human, criterion, device, batch_size, n_total_seq, gen_batch_data, human_data=True)\n",
    "            human_loss_res.append(human_test_loss)\n",
    "\n",
    "            train_num.append(32*(batch_idx+1))\n",
    "\n",
    "            print('batch num' + str(batch_idx) + ' sim test loss: ' + str(sim_test_loss) + ' human test loss ' + str(human_test_loss))\n",
    "\n",
    "\n",
    "    # now train on human data\n",
    "    print('Training on human data')\n",
    "    for epoch_idx in range(n_human_epochs):\n",
    "        print('Human epoch: {}'.format(epoch_idx))\n",
    "        for batch_idx in range(n_batches_human):\n",
    "\n",
    "            this_batch_idx = n_batches_sim + n_batches_human*epoch_idx + batch_idx\n",
    "\n",
    "            # Request a batch of sequences and class labels, convert them into tensors\n",
    "            # of the correct type, and then send them to the appropriate device.\n",
    "            data, target = gen_batch_data(batch_size, batch_idx, train_data_human, human_data=True)\n",
    "            data, target = torch.from_numpy(data).float().to(device), torch.from_numpy(target).long().to(device)\n",
    "\n",
    "            # Perform the forward pass of the model\n",
    "            output = model(data)\n",
    "\n",
    "            # make sure target is correct type\n",
    "            target = target.to(torch.float32)\n",
    "\n",
    "            # filter out padding\n",
    "            to_keep = target != 0\n",
    "            target = target[to_keep]\n",
    "            output = output[to_keep]\n",
    "\n",
    "            # compute loss and backpropogate\n",
    "            loss = criterion(output, target)  # Step\n",
    "            optimizer.zero_grad()  # Step\n",
    "            loss.backward()  # Step\n",
    "            optimizer.step()  # Step\n",
    "\n",
    "            # test every 100 batches... \n",
    "\n",
    "            # compute loss on both sim and human\n",
    "\n",
    "            if ((this_batch_idx % 100) == 0) & (batch_idx > 0):\n",
    "                sim_test_loss = test(model, test_data_sim, criterion, device, batch_size, n_total_seq, gen_batch_data, human_data=False)\n",
    "                sim_loss_res.append(sim_test_loss)\n",
    "\n",
    "                human_test_loss = test(model, test_data_human, criterion, device, batch_size, n_total_seq, gen_batch_data, human_data=True)\n",
    "                human_loss_res.append(human_test_loss)\n",
    "\n",
    "                train_num.append(32*(this_batch_idx+1))\n",
    "\n",
    "                print('batch num' + str(batch_idx) + ' sim test loss: ' + str(sim_test_loss) + ' human test loss ' + str(human_test_loss))\n",
    "            \n",
    "    return np.array(sim_loss_res), np.array(human_loss_res), np.array(train_num), model\n",
    "\n",
    "\n",
    "\n",
    "    "
   ]
  },
  {
   "cell_type": "code",
   "execution_count": 45,
   "id": "9d786003-ce01-4ed1-a529-408dc27d8969",
   "metadata": {},
   "outputs": [
    {
     "name": "stdout",
     "output_type": "stream",
     "text": [
      "Training on simulated data\n",
      "Training on human data\n",
      "Human epoch: 0\n",
      "Human epoch: 1\n",
      "batch num38 sim test loss: 5.342221444652926 human test loss 5.684050144687776\n",
      "Human epoch: 2\n",
      "Human epoch: 3\n",
      "batch num14 sim test loss: 5.2950607269041 human test loss 5.715719607568556\n",
      "Human epoch: 4\n",
      "batch num52 sim test loss: 5.2580090492002425 human test loss 5.675458592753256\n",
      "Human epoch: 5\n",
      "Human epoch: 6\n",
      "batch num28 sim test loss: 5.3774265627707205 human test loss 5.808531684260214\n",
      "Human epoch: 7\n",
      "Human epoch: 8\n",
      "batch num4 sim test loss: 5.216174625581311 human test loss 5.724429622773202\n",
      "Human epoch: 9\n",
      "batch num42 sim test loss: 5.386243981699789 human test loss 5.75118746296052\n"
     ]
    }
   ],
   "source": [
    "n_sim_seq = 0 # split this between \n",
    "n_human_epochs = 500 # multiply this by 2000 to get effective res... \n",
    "gen_batch_data = this_data_func\n",
    "train_data_sim = train_data_sim\n",
    "train_data_human = human_train_data\n",
    "test_data_sim = test_data_sim\n",
    "test_data_human = human_test_data\n",
    "\n",
    "sim_loss_res, human_loss_res, train_num, model = train_sim_then_human_with_intermediate_tests(model, train_data_sim, train_data_human, test_data_sim, test_data_human, criterion, optimizer, device, batch_size, n_sim_seq, n_human_epochs, gen_batch_data)"
   ]
  },
  {
   "cell_type": "code",
   "execution_count": 46,
   "id": "22802db1-afcd-4ebd-adae-67312cf5b6f3",
   "metadata": {},
   "outputs": [
    {
     "data": {
      "text/plain": [
       "[<matplotlib.lines.Line2D at 0x7f8721dbbb80>]"
      ]
     },
     "execution_count": 46,
     "metadata": {},
     "output_type": "execute_result"
    },
    {
     "data": {
      "image/png": "[encoded data removed]",
      "text/plain": [
       "<Figure size 400x400 with 1 Axes>"
      ]
     },
     "metadata": {
      "needs_background": "light"
     },
     "output_type": "display_data"
    }
   ],
   "source": [
    "fig,ax = plt.subplots(1,figsize=(4,4),dpi=100)\n",
    "ax.plot(train_num,sim_loss_res)\n",
    "ax.plot(train_num, human_loss_res)"
   ]
  },
  {
   "cell_type": "code",
   "execution_count": 47,
   "id": "28195b88-df16-4643-8419-04cf4f001ee3",
   "metadata": {},
   "outputs": [
    {
     "data": {
      "text/plain": [
       "500.0"
      ]
     },
     "execution_count": 47,
     "metadata": {},
     "output_type": "execute_result"
    }
   ],
   "source": [
    "1e6/2000"
   ]
  },
  {
   "cell_type": "code",
   "execution_count": null,
   "id": "8f82a148-7d57-43ea-bd16-6488adaa4379",
   "metadata": {},
   "outputs": [],
   "source": []
  }
 ],
 "metadata": {
  "kernelspec": {
   "display_name": "Python [conda env:pDL] *",
   "language": "python",
   "name": "conda-env-pDL-py"
  },
  "language_info": {
   "codemirror_mode": {
    "name": "ipython",
    "version": 3
   },
   "file_extension": ".py",
   "mimetype": "text/x-python",
   "name": "python",
   "nbconvert_exporter": "python",
   "pygments_lexer": "ipython3",
   "version": "3.8.12"
  }
 },
 "nbformat": 4,
 "nbformat_minor": 5
}
