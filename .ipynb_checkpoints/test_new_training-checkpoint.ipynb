{
 "cells": [
  {
   "cell_type": "code",
   "execution_count": 1,
   "id": "e0b368cc-b1e1-473d-99cb-997372cb1344",
   "metadata": {},
   "outputs": [],
   "source": [
    "import numpy as np\n",
    "import matplotlib.pyplot as plt\n",
    "import os\n",
    "import pickle\n",
    "import itertools"
   ]
  },
  {
   "cell_type": "code",
   "execution_count": null,
   "id": "6298befe-197a-4627-962c-d589c083bf94",
   "metadata": {},
   "outputs": [
    {
     "name": "stdout",
     "output_type": "stream",
     "text": [
      "{'model_name': 'MLP', 'train_seq_part': 'fix_only', 'n_simulation_sequences_train': 300000.0, 'n_human_sequences_train': 0, 'n_sequences_test': 500, 'n_sequences_final_performance': 500, 'd_model': 5, 'n_layers': 2, 'n_head': 2, 'sim_lr': 0.001, 'human_lr': 0.001, 'batch_size': 32, 'dropout': 0, 'run_idx': 0, 'on_cluster': True, 'test_batch_increment_sim': 200, 'test_batch_increment_human': 200, 'save_folder_name': 'control_model_testing', 'save_file_name': 'ID0', 'fix_unit': 'ID'}\n",
      "<class 'float'>\n",
      "Loading Data\n"
     ]
    }
   ],
   "source": [
    "from main_as_fun import main_as_fun\n",
    "\n",
    "model_name = 'MLP'\n",
    "train_seq_part = 'fix_only'\n",
    "d_model = 5\n",
    "fix_unit = 'prop'\n",
    "save_folder_name = 'control_model_testing'\n",
    "\n",
    "for fix_unit in ['ID', 'prop', 'sum']:\n",
    "    for run_idx in range(1):\n",
    "        main_as_fun(run_idx = run_idx, model_name = model_name, train_seq_part = train_seq_part, d_model = d_model, n_simulation_sequences_train = 3e5, save_folder_name = save_folder_name, fix_unit = fix_unit, save_file_name = fix_unit+str(run_idx))"
   ]
  },
  {
   "cell_type": "code",
   "execution_count": 12,
   "id": "91ef75b7-28b1-4b5b-b75f-1b920c6f91dc",
   "metadata": {},
   "outputs": [],
   "source": [
    "# plot the learning curve?\n",
    "def load_results(fix_unit):\n",
    "    \n",
    "    to_save_folder = '/scratch/gpfs/erussek/RNN_project/control_model_testing'\n",
    "    res_name_full = fix_unit\n",
    "    res_file_name = res_name_full + '.pickle'\n",
    "    res_full_file_name = os.path.join(to_save_folder, res_file_name)\n",
    "    file = open(res_full_file_name, 'rb')\n",
    "    res = pickle.load(file)\n",
    "    return res\n",
    "\n",
    "\n",
    "def get_learning_curve_train_sim_or_human(fix_unit, which_loss = 'simulation_loss_results'): \n",
    "    \n",
    "    results_list = load_results_all_runs(model_name,train_name, n_runs = n_runs)\n",
    "    \n",
    "    loss_results_by_run = np.array([res[which_loss] for res in results_list])\n",
    "        \n",
    "    return np.mean(loss_results_by_run, axis=0), np.std(loss_results_by_run, axis=0)/np.sqrt(n_runs), results_list[0]['train_sequence_number'], results_list[0]['simulation_sequence_number'], results_list[0]['human_sequence_number']\n",
    "\n",
    "\n",
    "res = load_results(fix_unit)"
   ]
  },
  {
   "cell_type": "code",
   "execution_count": 13,
   "id": "b6be8540-319f-48da-910d-c380ec3449bb",
   "metadata": {},
   "outputs": [
    {
     "data": {
      "text/plain": [
       "{'simulation_loss_results': array([15.65979993]),\n",
       " 'human_loss_results': array([19.86998653]),\n",
       " 'train_sequence_number': array([6432]),\n",
       " 'human_sequence_number': array([0]),\n",
       " 'simulation_sequence_number': array([6432]),\n",
       " 'r_sim_by_n_back': array([ 0.09659253,  0.08388047,  0.07617995,  0.07508571,  0.07239577,\n",
       "         0.0528124 ,  0.06071025,  0.06609336,  0.06447837,  0.052842  ,\n",
       "         0.03237252,  0.0287953 ,  0.01081361, -0.00982934,  0.02684945,\n",
       "         0.02758548,  0.02497406,  0.02316666,  0.00514492]),\n",
       " 'pct_correct_max_sim_by_n_back': array([0.36328125, 0.36328125, 0.36220472, 0.358     , 0.3553719 ,\n",
       "        0.35903084, 0.36342593, 0.35835351, 0.36132316, 0.35945946,\n",
       "        0.34693878, 0.34042553, 0.34201954, 0.32871972, 0.33208955,\n",
       "        0.33333333, 0.33333333, 0.33333333, 0.31794872]),\n",
       " 'pct_correct_min_sim_by_n_back': array([0.28320312, 0.27734375, 0.28346457, 0.296     , 0.34090909,\n",
       "        0.33039648, 0.3287037 , 0.33898305, 0.33333333, 0.32972973,\n",
       "        0.30612245, 0.32522796, 0.30618893, 0.30449827, 0.29477612,\n",
       "        0.28968254, 0.31196581, 0.33789954, 0.32820513]),\n",
       " 'pct_correct_order_sim_by_n_back': array([0.18554688, 0.17382812, 0.17125984, 0.17      , 0.17975207,\n",
       "        0.17180617, 0.16203704, 0.1598063 , 0.15776081, 0.15945946,\n",
       "        0.13411079, 0.14893617, 0.15309446, 0.15570934, 0.14925373,\n",
       "        0.14285714, 0.14529915, 0.15981735, 0.15384615]),\n",
       " 'r_human_by_n_back': array([ 0.03392509,  0.00774789,  0.00525759,  0.00808379,  0.0180424 ,\n",
       "         0.02362398, -0.00180871, -0.01992589, -0.00897256, -0.00465642,\n",
       "        -0.02333525, -0.00794919,  0.00409164,  0.01369699,  0.00551338,\n",
       "        -0.00664273, -0.0088766 , -0.01835099, -0.00788184]),\n",
       " 'pct_correct_max_human_by_n_back': array([0.32093933, 0.32220039, 0.3201581 , 0.31944444, 0.31781377,\n",
       "        0.31524008, 0.30989011, 0.31105991, 0.31796117, 0.31733333,\n",
       "        0.30635838, 0.30625   , 0.32291667, 0.32713755, 0.316     ,\n",
       "        0.32444444, 0.32850242, 0.32291667, 0.32402235]),\n",
       " 'pct_correct_min_human_by_n_back': array([0.22309198, 0.24165029, 0.25296443, 0.25992063, 0.26923077,\n",
       "        0.2776618 , 0.26813187, 0.28110599, 0.29854369, 0.29066667,\n",
       "        0.30057803, 0.340625  , 0.35069444, 0.32342007, 0.316     ,\n",
       "        0.31555556, 0.30434783, 0.296875  , 0.29608939]),\n",
       " 'pct_correct_order_human_by_n_back': array([0.11937378, 0.12573674, 0.13241107, 0.13492063, 0.13562753,\n",
       "        0.13778706, 0.13186813, 0.13364055, 0.13349515, 0.12      ,\n",
       "        0.12427746, 0.15625   , 0.17708333, 0.1598513 , 0.164     ,\n",
       "        0.16444444, 0.14975845, 0.13541667, 0.1452514 ])}"
      ]
     },
     "execution_count": 13,
     "metadata": {},
     "output_type": "execute_result"
    }
   ],
   "source": [
    "res"
   ]
  },
  {
   "cell_type": "code",
   "execution_count": null,
   "id": "6a8b37c7-7515-442b-93cc-bd96498e73a1",
   "metadata": {},
   "outputs": [],
   "source": []
  }
 ],
 "metadata": {
  "kernelspec": {
   "display_name": "pDL [~/.conda/envs/pDL/]",
   "language": "python",
   "name": "conda_pdl"
  },
  "language_info": {
   "codemirror_mode": {
    "name": "ipython",
    "version": 3
   },
   "file_extension": ".py",
   "mimetype": "text/x-python",
   "name": "python",
   "nbconvert_exporter": "python",
   "pygments_lexer": "ipython3",
   "version": "3.8.12"
  }
 },
 "nbformat": 4,
 "nbformat_minor": 5
}
