{
 "cells": [
  {
   "cell_type": "code",
   "execution_count": 1,
   "id": "0f576866-943c-442f-a373-18e0c0cd861b",
   "metadata": {},
   "outputs": [],
   "source": [
    "import json\n",
    "import numpy as np\n",
    "import matplotlib.pyplot as plt\n",
    "# funcs stolen from nyu deep learning course\n",
    "import os\n",
    "import random"
   ]
  },
  {
   "cell_type": "code",
   "execution_count": 33,
   "id": "642ad723-1788-456f-9b05-ad2692461619",
   "metadata": {},
   "outputs": [],
   "source": [
    "def load_this_res(train_setting, job_idx):\n",
    "    \n",
    "    #if train_setting == 2:\n",
    "    #    print(job_idx)\n",
    "    \n",
    "    on_cluster = True\n",
    "    if on_cluster:\n",
    "        to_save_folder = '/scratch/gpfs/erussek/RNN_project/train_on_sim_and_human_results_optimal'\n",
    "    else:\n",
    "        to_save_folder = '/Users/evanrussek/Dropbox/Griffiths_Lab_Stuff/Code/RNNs/train_on_sim_and_human_results_optimal'\n",
    "    # save loss curve\n",
    "    loss_file_name = 'loss_res_train_setting_{}_job_{}.npy'.format(train_setting,job_idx)\n",
    "    loss_full_file_name = os.path.join(to_save_folder, loss_file_name)\n",
    "\n",
    "   # print(loss_file_name)\n",
    "    with open(loss_full_file_name, 'rb') as f:\n",
    "        sim_loss_res = np.load(f)\n",
    "        human_loss_res = np.load(f)\n",
    "        train_num = np.load(f)\n",
    "        r_sim_by_n_back = np.load(f)\n",
    "        r_human_by_n_back = np.load(f)\n",
    "    \n",
    "    return sim_loss_res,human_loss_res,train_num,r_sim_by_n_back,r_human_by_n_back\n",
    "\n",
    "\n",
    "def load_all_res(train_setting):\n",
    "    \n",
    "    # just load one to get the size\n",
    "    job_idx=0\n",
    "    sim_loss_res,human_loss_res,train_num,r_sim_by_n_back,r_human_by_n_back=load_this_res(train_setting, job_idx)\n",
    "\n",
    "    all_jobs = np.arange(20)\n",
    "    if train_setting < 2:\n",
    "        bad_jobs = []\n",
    "    else:\n",
    "        bad_jobs = [1,10]\n",
    "    \n",
    "    good_jobs = np.delete(all_jobs,bad_jobs);\n",
    "    \n",
    "\n",
    "    n_train_examples = len(sim_loss_res)\n",
    "    n_jobs = len(good_jobs)\n",
    "    n_nback=19\n",
    "    \n",
    "    if train_setting == 2:\n",
    "        n_nback=1\n",
    "\n",
    "    all_sim_loss_res = np.zeros((n_jobs,n_train_examples))\n",
    "    all_human_loss_res = np.zeros((n_jobs,n_train_examples))\n",
    "    all_train_num = np.zeros((n_jobs,n_train_examples))\n",
    "    all_r_sim_by_n_back = np.zeros((n_jobs,n_nback))\n",
    "    all_r_human_by_n_back = np.zeros((n_jobs,n_nback))\n",
    "\n",
    "    on_cluster = True\n",
    "    for job_idx in range(len(good_jobs)):\n",
    "        this_job = good_jobs[job_idx]\n",
    "        sim_loss_res,human_loss_res,train_num,r_sim_by_n_back,r_human_by_n_back=load_this_res(train_setting, this_job)\n",
    "        all_sim_loss_res[job_idx, :] = sim_loss_res\n",
    "        all_human_loss_res[job_idx, :] = human_loss_res\n",
    "        all_train_num[job_idx, :] = train_num\n",
    "        all_r_sim_by_n_back[job_idx, :] = r_sim_by_n_back\n",
    "        all_r_human_by_n_back[job_idx, :] = r_human_by_n_back\n",
    "        \n",
    "    return all_sim_loss_res,all_human_loss_res,all_train_num,all_r_sim_by_n_back,all_r_human_by_n_back"
   ]
  },
  {
   "cell_type": "code",
   "execution_count": 34,
   "id": "50b967f0-4465-447f-beda-09ccb64434ea",
   "metadata": {},
   "outputs": [
    {
     "name": "stdout",
     "output_type": "stream",
     "text": [
      "Train Setting: 0\n",
      "Pretrain Examples: 1500000, Best MSE: 5.697925712985377, N_Train: -741568.0 \n"
     ]
    },
    {
     "data": {
      "image/png": "[encoded data removed]",
      "text/plain": [
       "<Figure size 400x400 with 1 Axes>"
      ]
     },
     "metadata": {
      "needs_background": "light"
     },
     "output_type": "display_data"
    }
   ],
   "source": [
    "#n_pretrain = np.round(np.linspace(0,1,5)*1.5e6).astype(int);\n",
    "#these_colors = ['b', 'g', 'r', 'c', 'm']\n",
    "\n",
    "titles = ['fixation + choice', 'fixation only', 'choice only']\n",
    "\n",
    "for train_setting in range(1):\n",
    "    print('Train Setting: {}'.format(train_setting))\n",
    "\n",
    "    fig,ax = plt.subplots(1,figsize=(4,4),dpi=100)\n",
    "    all_sim_loss_res_fc,all_human_loss_res_fc,all_train_num_fc,all_r_sim_by_n_back_fc,all_r_human_by_n_back_fc=load_all_res(train_setting)\n",
    "    #ax.plot(all_train_num_fc[1,:],np.mean(all_sim_loss_res_fc,0))\n",
    "    min_val = np.amin(np.mean(all_human_loss_res_fc,0))\n",
    "    min_idx = np.argmin(np.mean(all_human_loss_res_fc,0))\n",
    "    min_train_num = all_train_num_fc[0,min_idx]-n_pretrain[pretrain_idx]\n",
    "    print(\"Pretrain Examples: {}, Best MSE: {}, N_Train: {} \".format(n_pretrain[pretrain_idx],min_val,min_train_num))\n",
    "\n",
    "    ax.plot(all_train_num_fc[1,:],np.mean(all_human_loss_res_fc,0), these_colors[pretrain_idx])\n",
    "    ax.errorbar(all_train_num_fc[1,:],np.mean(all_human_loss_res_fc,0), np.std(all_human_loss_res_fc,0)/np.sqrt(50), alpha=.5)\n",
    "    ax.vlines(n_pretrain[pretrain_idx], 5.6,7.2, these_colors[pretrain_idx], linestyles='dashed',alpha=.3)\n",
    "\n",
    "    ax.set_ylabel('M.S.E. (Human Data)')\n",
    "    ax.set_xlabel('Num. Train Examples')\n",
    "    ax.set_title(titles[train_setting])\n",
    "    \n",
    "    # did this wrong... "
   ]
  },
  {
   "cell_type": "code",
   "execution_count": 11,
   "id": "cbce161a-31aa-4269-88aa-8499ade097d5",
   "metadata": {},
   "outputs": [],
   "source": [
    "train_setting = 0\n",
    "best_n_pretrain = [7.5e5, 7.5e5, 0]\n",
    "best_n_train = [8432, 5232, 500000]"
   ]
  },
  {
   "cell_type": "code",
   "execution_count": 17,
   "id": "cab67734-3ee0-4dfa-9327-f575e73b48e4",
   "metadata": {},
   "outputs": [],
   "source": [
    "n_human_epochs = int(np.round(best_n_train[train_setting]/2000/32)) # multiply this by 2000 to get effective res... \n"
   ]
  },
  {
   "cell_type": "code",
   "execution_count": 18,
   "id": "0aef4030-fd92-4536-b2df-fda03d0f9e1b",
   "metadata": {},
   "outputs": [
    {
     "data": {
      "text/plain": [
       "750000.0"
      ]
     },
     "execution_count": 18,
     "metadata": {},
     "output_type": "execute_result"
    }
   ],
   "source": [
    "best_n_pretrain[train_setting]+n_human_epochs*32"
   ]
  },
  {
   "cell_type": "code",
   "execution_count": 32,
   "id": "9fa29ae5-9c9c-4872-9deb-ff6a0e31847a",
   "metadata": {},
   "outputs": [
    {
     "data": {
      "text/plain": [
       "4.25"
      ]
     },
     "execution_count": 32,
     "metadata": {},
     "output_type": "execute_result"
    }
   ],
   "source": [
    "8432/(32*np.round(1976/32))"
   ]
  },
  {
   "cell_type": "code",
   "execution_count": 26,
   "id": "d9aac141-98c3-451e-8546-858d235aa0dc",
   "metadata": {},
   "outputs": [],
   "source": [
    "on_cluster=True\n",
    "job_idx=100\n",
    "if on_cluster:\n",
    "    sim_data_path = '/scratch/gpfs/erussek/RNN_project/optimal_fixation_sims'\n",
    "    human_data_path = '/scratch/gpfs/erussek/RNN_project/human_trials.json'\n",
    "else:\n",
    "    sim_data_path = '/Users/evanrussek/Dropbox/Griffiths_Lab_Stuff/Data/RNNs/optimal_fixation_sims'\n",
    "    human_data_path = '/Users/evanrussek/Dropbox/Griffiths_Lab_Stuff/Data/RNNs/human_trials.json'\n",
    "    \n",
    "# how many epochs is that? \n",
    "from load_data_funs import load_data, gen_batch_data_fixations_choice, gen_batch_data_fixations_only, gen_batch_data_choice_only\n",
    "train_data_sim, test_data_sim, human_train_data,human_test_data = load_data(sim_data_path, human_data_path,this_seed=job_idx,split_human_data=True)"
   ]
  },
  {
   "cell_type": "code",
   "execution_count": 27,
   "id": "661d2005-531b-4e82-b639-c0751960cbbe",
   "metadata": {},
   "outputs": [
    {
     "data": {
      "text/plain": [
       "1976"
      ]
     },
     "execution_count": 27,
     "metadata": {},
     "output_type": "execute_result"
    }
   ],
   "source": [
    "len(human_train_data)"
   ]
  },
  {
   "cell_type": "code",
   "execution_count": null,
   "id": "68ae052a-c0f9-4115-9b26-2a092a80f5d0",
   "metadata": {},
   "outputs": [],
   "source": []
  }
 ],
 "metadata": {
  "kernelspec": {
   "display_name": "pDL [~/.conda/envs/pDL/]",
   "language": "python",
   "name": "conda_pdl"
  },
  "language_info": {
   "codemirror_mode": {
    "name": "ipython",
    "version": 3
   },
   "file_extension": ".py",
   "mimetype": "text/x-python",
   "name": "python",
   "nbconvert_exporter": "python",
   "pygments_lexer": "ipython3",
   "version": "3.8.12"
  }
 },
 "nbformat": 4,
 "nbformat_minor": 5
}
