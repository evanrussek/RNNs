{
 "cells": [
  {
   "cell_type": "markdown",
   "id": "13cb7eab-0e46-425c-92ac-d3db8ea18be7",
   "metadata": {},
   "source": [
    "## 1. Structure Dataset"
   ]
  },
  {
   "cell_type": "code",
   "execution_count": 1,
   "id": "a02a033d-2d6d-4736-a44f-f60b900d05c4",
   "metadata": {},
   "outputs": [],
   "source": [
    "import json\n",
    "import numpy as np\n",
    "import matplotlib.pyplot as plt\n",
    "# funcs stolen from nyu deep learning course\n",
    "from res.sequential_tasks import pad_sequences, to_categorical\n",
    "import os"
   ]
  },
  {
   "cell_type": "code",
   "execution_count": 2,
   "id": "d5193ea2-f937-4d41-b62a-8ba5babfbc2b",
   "metadata": {},
   "outputs": [],
   "source": [
    "data_path = '/Users/evanrussek/Dropbox/Griffiths_Lab_Stuff/Data/RNNs/optimal_fixation_sims'\n",
    "# os.path.join(to_save_folder, file_name)\n",
    "train_file_idxs = range(1,16)\n",
    "test_file_idxs = range(16,31)\n",
    "\n",
    "train_files = [os.path.join(data_path, str(i) + '.json') for i in train_file_idxs]\n",
    "test_files = [os.path.join(data_path, str(i) + '.json') for i in test_file_idxs]\n",
    "\n",
    "a = [json.load(open(train_files[i])) for i in range(15)]\n",
    "train_trials = [item for sublist in a for item in sublist]\n",
    "del a\n",
    "train_data_sim = train_trials[:int(1e6)]\n",
    "\n",
    "test_trials = json.load(open(test_files[0]))\n",
    "test_data_sim = test_trials[:int(1e5)]\n",
    "\n"
   ]
  },
  {
   "cell_type": "code",
   "execution_count": 82,
   "id": "f608c584-e28d-4c15-88a1-848627d529fe",
   "metadata": {},
   "outputs": [
    {
     "data": {
      "text/plain": [
       "1898240"
      ]
     },
     "execution_count": 82,
     "metadata": {},
     "output_type": "execute_result"
    }
   ],
   "source": [
    "len(test_trials) + len(train_trials) # 1.8 million trials.."
   ]
  },
  {
   "cell_type": "code",
   "execution_count": 233,
   "id": "4fd424f1-e89f-4bb4-be56-a1ffe5018b57",
   "metadata": {},
   "outputs": [],
   "source": [
    "def gen_batch_data(batch_size, batch_idx, sim_data):\n",
    "# can you also pass the index on which this starts... \n",
    "#sim_data = train_data_sim\n",
    "#batch_idx = 0\n",
    "#batch_size = 32\n",
    "\n",
    "    \"\"\"\n",
    "    Create sequence and target data for a batch\n",
    "\n",
    "    Input: \n",
    "        batch_size: number of trials to include in batch\n",
    "        batch_idx: index of data\n",
    "        sim_data: list of dicts, where each dict has 'values', 'fixations', and 'choice'\n",
    "\n",
    "    Returns:\n",
    "        a tuple, (batch_data, batch_targets)\n",
    "        batch_data is 3d array: batch_size x sequence_size x one-hot categorical encoding (3 here)\n",
    "        batch_targets is 2d array: \n",
    "    \"\"\"\n",
    "\n",
    "    # filter list of trials that are in this batch\n",
    "    batch_sim_data = sim_data[batch_idx*batch_size:((batch_idx+1)*(batch_size))]\n",
    "\n",
    "    ## generate sequences of fixations + choice\n",
    "\n",
    "    # all sequences in the batch, attended item is coded as idx (as 0, 1, 2)\n",
    "    batch_sequences_idx = [trial_data['fixations'] + [trial_data['choice']-1] for trial_data in batch_sim_data]\n",
    "\n",
    "    # all sequences in the batch, attended item coded as one-hot categorical: e.g. 0: [1,0,0] 1: [0,1,0], [0,0,1]\n",
    "    batch_sequences_cat = [[to_categorical(x, num_classes = 3) for x in this_sequence] for this_sequence in batch_sequences_idx]\n",
    "\n",
    "    # pad front of each sequence with n x [0,0,0] so that all seqeunces are same length\n",
    "    batch_data = pad_sequences(batch_sequences_cat)\n",
    "    batch_data = batch_data.astype('float32')\n",
    "\n",
    "    ## generate sequences of targets \n",
    "    batch_targets = np.array([trial_data['value'] for trial_data in batch_sim_data], dtype = 'float32')\n",
    "    # extend this to match the size of the batch_data\n",
    "    \n",
    "    \n",
    "    # all sequences in the batch, attended item is coded as idx (as 0, 1, 2)\n",
    "    batch_fixation_sequences_idx = [trial_data['fixations'] for trial_data in batch_sim_data]\n",
    "    batch_choices_idx = [trial_data['choice'] - 1 for trial_data in batch_sim_data]\n",
    "\n",
    "    # first 3 are fixation, last is choice...\n",
    "    batch_sequences_cat = [[to_categorical(x, num_classes = 6) for x in this_sequence] for this_sequence in batch_sequences_idx]\n",
    "\n",
    "    # now append to each of these the choice info - the choice gets it's own channel (of 3)\n",
    "    batch_sequences_cat_w_choices = [batch_sequences_cat[i] + [to_categorical(3 + batch_choices_idx[i], num_classes = 6)] for i in range(len(batch_sequences_cat))]\n",
    "    batch_data = pad_sequences(batch_sequences_cat_w_choices)\n",
    "    batch_data = batch_data.astype('float32')\n",
    "\n",
    "    batch_targets_init = np.array([trial_data['value'] for trial_data in batch_sim_data], dtype = 'float32')\n",
    "    batch_targets_cont = [np.repeat([batch_targets_init[i]],len(batch_sequences_cat_w_choices[i]),axis=0) for i in range(len(batch_sequences_cat_w_choices))]\n",
    "    #batch_targets_cont = [np.repeat([batch_targets_init[i]],len(batch_sequences_cat[i]),axis=0) for i in range(len(batch_sequences_cat))]\n",
    "\n",
    "    batch_targets = pad_sequences(batch_targets_cont)\n",
    "    batch_targets = batch_targets.astype('float32')\n",
    "    \n",
    "    first_fixations = np.array([np.where(batch_targets[i,:,:] != [0,0,0])[0][0] for i in range(batch_targets.shape[0])])\n",
    "    \n",
    "\n",
    "    return (batch_data, batch_targets, first_fixations)"
   ]
  },
  {
   "cell_type": "code",
   "execution_count": 218,
   "id": "f3a2cc6b-15a6-4ca2-ba52-0d90f703cad0",
   "metadata": {},
   "outputs": [
    {
     "name": "stdout",
     "output_type": "stream",
     "text": [
      "The return type is a <class 'tuple'> with length 3.\n",
      "The first item in the tuple is the batch of sequences with shape (32, 86, 6).\n",
      "The first element in the batch of sequences is:\n",
      " [[0. 0. 0. 0. 0. 0.]\n",
      " [0. 0. 0. 0. 0. 0.]\n",
      " [0. 0. 0. 0. 0. 0.]\n",
      " [0. 0. 0. 0. 0. 0.]\n",
      " [0. 0. 0. 0. 0. 0.]\n",
      " [0. 0. 0. 0. 0. 0.]\n",
      " [0. 0. 0. 0. 0. 0.]\n",
      " [0. 0. 0. 0. 0. 0.]\n",
      " [0. 0. 0. 0. 0. 0.]\n",
      " [0. 0. 0. 0. 0. 0.]\n",
      " [0. 0. 0. 0. 0. 0.]\n",
      " [0. 0. 0. 0. 0. 0.]\n",
      " [0. 0. 0. 0. 0. 0.]\n",
      " [1. 0. 0. 0. 0. 0.]\n",
      " [0. 1. 0. 0. 0. 0.]\n",
      " [0. 1. 0. 0. 0. 0.]\n",
      " [0. 1. 0. 0. 0. 0.]\n",
      " [0. 1. 0. 0. 0. 0.]\n",
      " [0. 1. 0. 0. 0. 0.]\n",
      " [0. 1. 0. 0. 0. 0.]\n",
      " [0. 0. 1. 0. 0. 0.]\n",
      " [0. 0. 1. 0. 0. 0.]\n",
      " [0. 0. 1. 0. 0. 0.]\n",
      " [0. 0. 1. 0. 0. 0.]\n",
      " [0. 0. 1. 0. 0. 0.]\n",
      " [0. 0. 1. 0. 0. 0.]\n",
      " [0. 0. 1. 0. 0. 0.]\n",
      " [0. 0. 1. 0. 0. 0.]\n",
      " [1. 0. 0. 0. 0. 0.]\n",
      " [1. 0. 0. 0. 0. 0.]\n",
      " [1. 0. 0. 0. 0. 0.]\n",
      " [1. 0. 0. 0. 0. 0.]\n",
      " [0. 1. 0. 0. 0. 0.]\n",
      " [0. 1. 0. 0. 0. 0.]\n",
      " [0. 1. 0. 0. 0. 0.]\n",
      " [0. 1. 0. 0. 0. 0.]\n",
      " [0. 1. 0. 0. 0. 0.]\n",
      " [0. 0. 1. 0. 0. 0.]\n",
      " [0. 0. 1. 0. 0. 0.]\n",
      " [0. 0. 1. 0. 0. 0.]\n",
      " [0. 0. 1. 0. 0. 0.]\n",
      " [0. 0. 1. 0. 0. 0.]\n",
      " [0. 0. 1. 0. 0. 0.]\n",
      " [0. 0. 1. 0. 0. 0.]\n",
      " [0. 0. 1. 0. 0. 0.]\n",
      " [0. 0. 1. 0. 0. 0.]\n",
      " [0. 0. 1. 0. 0. 0.]\n",
      " [0. 0. 1. 0. 0. 0.]\n",
      " [0. 0. 1. 0. 0. 0.]\n",
      " [0. 0. 1. 0. 0. 0.]\n",
      " [0. 0. 1. 0. 0. 0.]\n",
      " [0. 0. 1. 0. 0. 0.]\n",
      " [0. 0. 1. 0. 0. 0.]\n",
      " [0. 0. 1. 0. 0. 0.]\n",
      " [0. 0. 1. 0. 0. 0.]\n",
      " [0. 0. 1. 0. 0. 0.]\n",
      " [0. 0. 1. 0. 0. 0.]\n",
      " [0. 0. 1. 0. 0. 0.]\n",
      " [0. 0. 1. 0. 0. 0.]\n",
      " [0. 0. 1. 0. 0. 0.]\n",
      " [0. 1. 0. 0. 0. 0.]\n",
      " [0. 1. 0. 0. 0. 0.]\n",
      " [0. 1. 0. 0. 0. 0.]\n",
      " [0. 1. 0. 0. 0. 0.]\n",
      " [0. 1. 0. 0. 0. 0.]\n",
      " [0. 1. 0. 0. 0. 0.]\n",
      " [1. 0. 0. 0. 0. 0.]\n",
      " [1. 0. 0. 0. 0. 0.]\n",
      " [1. 0. 0. 0. 0. 0.]\n",
      " [1. 0. 0. 0. 0. 0.]\n",
      " [1. 0. 0. 0. 0. 0.]\n",
      " [1. 0. 0. 0. 0. 0.]\n",
      " [1. 0. 0. 0. 0. 0.]\n",
      " [1. 0. 0. 0. 0. 0.]\n",
      " [1. 0. 0. 0. 0. 0.]\n",
      " [1. 0. 0. 0. 0. 0.]\n",
      " [1. 0. 0. 0. 0. 0.]\n",
      " [1. 0. 0. 0. 0. 0.]\n",
      " [1. 0. 0. 0. 0. 0.]\n",
      " [1. 0. 0. 0. 0. 0.]\n",
      " [1. 0. 0. 0. 0. 0.]\n",
      " [1. 0. 0. 0. 0. 0.]\n",
      " [1. 0. 0. 0. 0. 0.]\n",
      " [1. 0. 0. 0. 0. 0.]\n",
      " [1. 0. 0. 0. 0. 0.]\n",
      " [0. 0. 0. 1. 0. 0.]]\n",
      "The second item in the tuple is the corresponding batch of targets with shape (32, 86, 3).\n",
      "The first element in the batch of targets is:\n",
      " [[0. 0. 0.]\n",
      " [0. 0. 0.]\n",
      " [0. 0. 0.]\n",
      " [0. 0. 0.]\n",
      " [0. 0. 0.]\n",
      " [0. 0. 0.]\n",
      " [0. 0. 0.]\n",
      " [0. 0. 0.]\n",
      " [0. 0. 0.]\n",
      " [0. 0. 0.]\n",
      " [0. 0. 0.]\n",
      " [0. 0. 0.]\n",
      " [0. 0. 0.]\n",
      " [4. 2. 3.]\n",
      " [4. 2. 3.]\n",
      " [4. 2. 3.]\n",
      " [4. 2. 3.]\n",
      " [4. 2. 3.]\n",
      " [4. 2. 3.]\n",
      " [4. 2. 3.]\n",
      " [4. 2. 3.]\n",
      " [4. 2. 3.]\n",
      " [4. 2. 3.]\n",
      " [4. 2. 3.]\n",
      " [4. 2. 3.]\n",
      " [4. 2. 3.]\n",
      " [4. 2. 3.]\n",
      " [4. 2. 3.]\n",
      " [4. 2. 3.]\n",
      " [4. 2. 3.]\n",
      " [4. 2. 3.]\n",
      " [4. 2. 3.]\n",
      " [4. 2. 3.]\n",
      " [4. 2. 3.]\n",
      " [4. 2. 3.]\n",
      " [4. 2. 3.]\n",
      " [4. 2. 3.]\n",
      " [4. 2. 3.]\n",
      " [4. 2. 3.]\n",
      " [4. 2. 3.]\n",
      " [4. 2. 3.]\n",
      " [4. 2. 3.]\n",
      " [4. 2. 3.]\n",
      " [4. 2. 3.]\n",
      " [4. 2. 3.]\n",
      " [4. 2. 3.]\n",
      " [4. 2. 3.]\n",
      " [4. 2. 3.]\n",
      " [4. 2. 3.]\n",
      " [4. 2. 3.]\n",
      " [4. 2. 3.]\n",
      " [4. 2. 3.]\n",
      " [4. 2. 3.]\n",
      " [4. 2. 3.]\n",
      " [4. 2. 3.]\n",
      " [4. 2. 3.]\n",
      " [4. 2. 3.]\n",
      " [4. 2. 3.]\n",
      " [4. 2. 3.]\n",
      " [4. 2. 3.]\n",
      " [4. 2. 3.]\n",
      " [4. 2. 3.]\n",
      " [4. 2. 3.]\n",
      " [4. 2. 3.]\n",
      " [4. 2. 3.]\n",
      " [4. 2. 3.]\n",
      " [4. 2. 3.]\n",
      " [4. 2. 3.]\n",
      " [4. 2. 3.]\n",
      " [4. 2. 3.]\n",
      " [4. 2. 3.]\n",
      " [4. 2. 3.]\n",
      " [4. 2. 3.]\n",
      " [4. 2. 3.]\n",
      " [4. 2. 3.]\n",
      " [4. 2. 3.]\n",
      " [4. 2. 3.]\n",
      " [4. 2. 3.]\n",
      " [4. 2. 3.]\n",
      " [4. 2. 3.]\n",
      " [4. 2. 3.]\n",
      " [4. 2. 3.]\n",
      " [4. 2. 3.]\n",
      " [4. 2. 3.]\n",
      " [4. 2. 3.]\n",
      " [4. 2. 3.]]\n",
      "The first fixation occurs at:\n",
      " 13\n"
     ]
    }
   ],
   "source": [
    "example_batch = gen_batch_data(32, 0, train_data_sim) # batch size = 32, idx = 0\n",
    "print(f'The return type is a {type(example_batch)} with length {len(example_batch)}.')\n",
    "print(f'The first item in the tuple is the batch of sequences with shape {example_batch[0].shape}.')\n",
    "print(f'The first element in the batch of sequences is:\\n {example_batch[0][0, :, :]}')\n",
    "print(f'The second item in the tuple is the corresponding batch of targets with shape {example_batch[1].shape}.')\n",
    "print(f'The first element in the batch of targets is:\\n {example_batch[1][0, :]}')\n",
    "print(f'The first fixation occurs at:\\n {example_batch[2][0]}')\n"
   ]
  },
  {
   "cell_type": "code",
   "execution_count": 219,
   "id": "df6e58c2-e5ed-4833-bdb8-73110b7b9b05",
   "metadata": {},
   "outputs": [
    {
     "data": {
      "text/plain": [
       "[13,\n",
       " 63,\n",
       " 68,\n",
       " 66,\n",
       " 69,\n",
       " 47,\n",
       " 75,\n",
       " 81,\n",
       " 66,\n",
       " 0,\n",
       " 70,\n",
       " 48,\n",
       " 71,\n",
       " 69,\n",
       " 66,\n",
       " 47,\n",
       " 76,\n",
       " 70,\n",
       " 63,\n",
       " 74,\n",
       " 73,\n",
       " 22,\n",
       " 51,\n",
       " 72,\n",
       " 66,\n",
       " 81,\n",
       " 75,\n",
       " 79,\n",
       " 64,\n",
       " 73,\n",
       " 61,\n",
       " 62]"
      ]
     },
     "execution_count": 219,
     "metadata": {},
     "output_type": "execute_result"
    }
   ],
   "source": [
    "[np.where(example_batch[1][i,:,:] != [0,0,0])[0][0] for i in range(example_batch[1].shape[0])]"
   ]
  },
  {
   "cell_type": "code",
   "execution_count": 220,
   "id": "d39e0cc7-97f4-4fbd-a445-90b618676b15",
   "metadata": {},
   "outputs": [],
   "source": [
    "example_target = example_batch[1][6, :]\n",
    "first_entry = np.where(example_target != [0,0,0])[0][0]\n"
   ]
  },
  {
   "cell_type": "markdown",
   "id": "616a57c2-50ba-4d0d-ba0f-d3b9dd436111",
   "metadata": {},
   "source": [
    "## 2. Defining the Model"
   ]
  },
  {
   "cell_type": "code",
   "execution_count": 221,
   "id": "f86e602c-b396-4abe-aab2-0ecf1f4ea6b1",
   "metadata": {},
   "outputs": [],
   "source": [
    "import torch\n",
    "import torch.nn as nn\n",
    "\n",
    "# Set the random seed for reproducible results\n",
    "torch.manual_seed(1)\n",
    "\n",
    "class SimpleRNN(nn.Module):\n",
    "    def __init__(self, input_size, hidden_size, output_size):\n",
    "        # This just calls the base class constructor\n",
    "        super().__init__()\n",
    "        # Neural network layers assigned as attributes of a Module subclass\n",
    "        # have their parameters registered for training automatically.\n",
    "        self.rnn = torch.nn.RNN(input_size, hidden_size, nonlinearity='relu', batch_first=True)\n",
    "        self.linear = torch.nn.Linear(hidden_size, output_size)\n",
    "\n",
    "    def forward(self, x):\n",
    "        # The RNN also returns its hidden state but we don't use it.\n",
    "        # While the RNN can also take a hidden state as input, the RNN\n",
    "        # gets passed a hidden state initialized with zeros by default.\n",
    "        h = self.rnn(x)[0]\n",
    "        x = self.linear(h)\n",
    "        return x\n",
    "    \n",
    "class SimpleLSTM(nn.Module):\n",
    "    def __init__(self, input_size, hidden_size, output_size):\n",
    "        super().__init__()\n",
    "        self.lstm = torch.nn.LSTM(input_size, hidden_size, batch_first=True)\n",
    "        self.linear = torch.nn.Linear(hidden_size, output_size)\n",
    "\n",
    "    def forward(self, x):\n",
    "        h = self.lstm(x)[0]\n",
    "        x = self.linear(h)\n",
    "        return x\n",
    "    \n",
    "    def get_states_across_time(self, x):\n",
    "        h_c = None\n",
    "        h_list, c_list = list(), list()\n",
    "        with torch.no_grad():\n",
    "            for t in range(x.size(1)):\n",
    "                h_c = self.lstm(x[:, [t], :], h_c)[1]\n",
    "                h_list.append(h_c[0])\n",
    "                c_list.append(h_c[1])\n",
    "            h = torch.cat(h_list)\n",
    "            c = torch.cat(c_list)\n",
    "        return h, c\n",
    "    \n",
    "class SimpleMLP(nn.Module):\n",
    "    def __init__(self, input_size, hidden_size, output_size):\n",
    "        super().__init__()\n",
    "\n",
    "        self.input_hidden = nn.Linear(input_size, hidden_size)\n",
    "        self.hidden_output = nn.Linear(hidden_size, output_size)\n",
    "    def forward(self, x):\n",
    "        \n",
    "\n",
    "\n",
    "    model = nn.Sequential(\n",
    "        nn.Linear(D, H),\n",
    "        nn.ReLU() if mod < n_networks // 2 else nn.Tanh(),\n",
    "        nn.Linear(H, C)\n",
    "    )\n",
    "    \n",
    "class MLP(nn.Module):\n",
    "    def __init__(self, input_dim, output_dim):\n",
    "        super().__init__()\n",
    "\n",
    "        self.input_fc = nn.Linear(input_dim, 250)\n",
    "        self.hidden_fc = nn.Linear(250, 100)\n",
    "        self.output_fc = nn.Linear(100, output_dim)\n",
    "\n",
    "    def forward(self, x):\n",
    "\n",
    "        # x = [batch size, height, width]\n",
    "\n",
    "        batch_size = x.shape[0]\n",
    "\n",
    "        x = x.view(batch_size, -1)\n",
    "\n",
    "        # x = [batch size, height * width]\n",
    "\n",
    "        h_1 = F.relu(self.input_fc(x))\n",
    "\n",
    "        # h_1 = [batch size, 250]\n",
    "\n",
    "        h_2 = F.relu(self.hidden_fc(h_1))\n",
    "\n",
    "        # h_2 = [batch size, 100]\n",
    "\n",
    "        y_pred = self.output_fc(h_2)\n",
    "\n",
    "        # y_pred = [batch size, output dim]\n",
    "\n",
    "        return y_pred, h_2"
   ]
  },
  {
   "cell_type": "code",
   "execution_count": 314,
   "id": "e1e7423d-b24a-4d00-8cc7-be2b7231ef01",
   "metadata": {},
   "outputs": [
    {
     "data": {
      "text/plain": [
       "\u001b[0;31mInit signature:\u001b[0m \u001b[0mtorch\u001b[0m\u001b[0;34m.\u001b[0m\u001b[0mnn\u001b[0m\u001b[0;34m.\u001b[0m\u001b[0mSequential\u001b[0m\u001b[0;34m(\u001b[0m\u001b[0;34m*\u001b[0m\u001b[0margs\u001b[0m\u001b[0;34m)\u001b[0m\u001b[0;34m\u001b[0m\u001b[0;34m\u001b[0m\u001b[0m\n",
       "\u001b[0;31mDocstring:\u001b[0m     \n",
       "A sequential container.\n",
       "Modules will be added to it in the order they are passed in the\n",
       "constructor. Alternatively, an ``OrderedDict`` of modules can be\n",
       "passed in. The ``forward()`` method of ``Sequential`` accepts any\n",
       "input and forwards it to the first module it contains. It then\n",
       "\"chains\" outputs to inputs sequentially for each subsequent module,\n",
       "finally returning the output of the last module.\n",
       "\n",
       "The value a ``Sequential`` provides over manually calling a sequence\n",
       "of modules is that it allows treating the whole container as a\n",
       "single module, such that performing a transformation on the\n",
       "``Sequential`` applies to each of the modules it stores (which are\n",
       "each a registered submodule of the ``Sequential``).\n",
       "\n",
       "What's the difference between a ``Sequential`` and a\n",
       ":class:`torch.nn.ModuleList`? A ``ModuleList`` is exactly what it\n",
       "sounds like--a list for storing ``Module`` s! On the other hand,\n",
       "the layers in a ``Sequential`` are connected in a cascading way.\n",
       "\n",
       "Example::\n",
       "\n",
       "    # Using Sequential to create a small model. When `model` is run,\n",
       "    # input will first be passed to `Conv2d(1,20,5)`. The output of\n",
       "    # `Conv2d(1,20,5)` will be used as the input to the first\n",
       "    # `ReLU`; the output of the first `ReLU` will become the input\n",
       "    # for `Conv2d(20,64,5)`. Finally, the output of\n",
       "    # `Conv2d(20,64,5)` will be used as input to the second `ReLU`\n",
       "    model = nn.Sequential(\n",
       "              nn.Conv2d(1,20,5),\n",
       "              nn.ReLU(),\n",
       "              nn.Conv2d(20,64,5),\n",
       "              nn.ReLU()\n",
       "            )\n",
       "\n",
       "    # Using Sequential with OrderedDict. This is functionally the\n",
       "    # same as the above code\n",
       "    model = nn.Sequential(OrderedDict([\n",
       "              ('conv1', nn.Conv2d(1,20,5)),\n",
       "              ('relu1', nn.ReLU()),\n",
       "              ('conv2', nn.Conv2d(20,64,5)),\n",
       "              ('relu2', nn.ReLU())\n",
       "            ]))\n",
       "\u001b[0;31mInit docstring:\u001b[0m Initializes internal Module state, shared by both nn.Module and ScriptModule.\n",
       "\u001b[0;31mFile:\u001b[0m           ~/opt/anaconda3/envs/pDL/lib/python3.8/site-packages/torch/nn/modules/container.py\n",
       "\u001b[0;31mType:\u001b[0m           type\n",
       "\u001b[0;31mSubclasses:\u001b[0m     _FusedModule\n"
      ]
     },
     "metadata": {},
     "output_type": "display_data"
    }
   ],
   "source": [
    "?torch.nn.Sequential"
   ]
  },
  {
   "cell_type": "markdown",
   "id": "1a0d69b7-62b6-4660-a1f0-f4583ce49644",
   "metadata": {},
   "source": [
    "## 3. Defining the Training Loop"
   ]
  },
  {
   "cell_type": "code",
   "execution_count": 222,
   "id": "716c3703-b5cc-4758-9a82-de3ca991514d",
   "metadata": {},
   "outputs": [],
   "source": [
    "def train(model, train_sim_data, criterion, optimizer, device, batch_size, n_total_seq):\n",
    "    # Set the model to training mode. This will turn on layers that would\n",
    "    # otherwise behave differently during evaluation, such as dropout.\n",
    "    model.train()\n",
    "\n",
    "    # What metric to store?\n",
    "    # num_correct = 0\n",
    "\n",
    "    # Iterate over every batch of sequences. Note that the length of a data generator\n",
    "    # is defined as the number of batches required to produce a total of roughly 1000\n",
    "    # sequences given a batch size.\n",
    "        \n",
    "    # how many batches\n",
    "    n_batches = int(np.round(n_total_seq/batch_size));\n",
    "    \n",
    "    for batch_idx in range(n_batches):\n",
    "\n",
    "        # Request a batch of sequences and class labels, convert them into tensors\n",
    "        # of the correct type, and then send them to the appropriate device.\n",
    "        #data, target = train_data_gen[batch_idx] # just alter this to the function that produces the data?\n",
    "        data, target = gen_batch_data(batch_size, batch_idx, train_sim_data)\n",
    "        \n",
    "        data, target = torch.from_numpy(data).float().to(device), torch.from_numpy(target).long().to(device)\n",
    "\n",
    "        # Perform the forward pass of the model\n",
    "        output = model(data)  # Step ①\n",
    "\n",
    "        # Pick only the output corresponding to last sequence element (input is pre padded)\n",
    "        output = output[:, -1, :]\n",
    "\n",
    "        # Compute the value of the loss for this batch. For loss functions like CrossEntropyLoss,\n",
    "        # the second argument is actually expected to be a tensor of class indices rather than\n",
    "        # one-hot encoded class labels. One approach is to take advantage of the one-hot encoding\n",
    "        # of the target and call argmax along its second dimension to create a tensor of shape\n",
    "        # (batch_size) containing the index of the class label that was hot for each sequence.\n",
    "        \n",
    "        # for some reason target is an int, and dosn't match the output which is float32\n",
    "        target = target.to(torch.float32)\n",
    "        loss = criterion(output, target)  # Step ②\n",
    "\n",
    "        # Clear the gradient buffers of the optimized parameters.\n",
    "        # Otherwise, gradients from the previous batch would be accumulated.\n",
    "        optimizer.zero_grad()  # Step ③\n",
    "\n",
    "        loss.backward()  # Step ④\n",
    "\n",
    "        optimizer.step()  # Step ⑤\n",
    "        \n",
    "        #y_pred = output.argmax(dim=1)\n",
    "        \n",
    "        # this is wrong since we're doing regression...\n",
    "        #num_correct += (y_pred == target).sum().item()\n",
    "\n",
    "    #return num_correct, loss.item()\n",
    "    return loss.item()"
   ]
  },
  {
   "cell_type": "markdown",
   "id": "4cf98346-9e9c-4e3b-b4f8-8429df8df956",
   "metadata": {},
   "source": [
    "## 4. Defining the Testing Loop"
   ]
  },
  {
   "cell_type": "code",
   "execution_count": 244,
   "id": "6b6f396f-0d7f-48a8-8ee7-ed0aa1e2ecc7",
   "metadata": {},
   "outputs": [],
   "source": [
    "# Define the testing loop\n",
    "def test(model, test_sim_data, criterion, device, batch_size, n_total_seq):\n",
    "    # Set the model to evaluation mode. This will turn off layers that would\n",
    "    # otherwise behave differently during training, such as dropout.\n",
    "    model.eval()\n",
    "\n",
    "    # Store the number of sequences that were classified correctly\n",
    "    # num_correct = 0\n",
    "    \n",
    "    n_total_seq = 1000\n",
    "\n",
    "    n_batches = int(np.round(n_total_seq / batch_size));\n",
    "\n",
    "    loss_res = np.zeros((n_batches, 1), dtype=float)\n",
    "\n",
    "    # A context manager is used to disable gradient calculations during inference\n",
    "    # to reduce memory usage, as we typically don't need the gradients at this point.\n",
    "    with torch.no_grad():\n",
    "        for batch_idx in range(n_batches):\n",
    "            data, target, first_fixations = gen_batch_data(batch_size, batch_idx, test_sim_data)\n",
    "            data, target = torch.from_numpy(data).float().to(device), torch.from_numpy(target).long().to(device)\n",
    "\n",
    "            output = model(data)\n",
    "            # Pick only the output corresponding to last sequence element (input is pre padded)\n",
    "            # output = output[:, -1, :]\n",
    "\n",
    "            # target = target.argmax(dim=1)\n",
    "            loss = criterion(output, target)  # is this just for the last batch?\n",
    "\n",
    "            # store the loss\n",
    "            loss_res[batch_idx] = loss.item()\n",
    "\n",
    "            # y_pred = output.argmax(dim=1)\n",
    "            # num_correct += (y_pred == target).sum().item()\n",
    "\n",
    "    # return num_correct, loss.item()\n",
    "    # print(loss_res)\n",
    "    # print(loss.item())\n",
    "\n",
    "    return np.mean(loss_res)  # loss.item()"
   ]
  },
  {
   "cell_type": "code",
   "execution_count": 245,
   "id": "1ad1b61e-9b1d-476d-991a-a192d9daabbf",
   "metadata": {},
   "outputs": [],
   "source": [
    "from IPython import display\n",
    "from IPython.display import clear_output\n",
    "\n",
    "\n",
    "def train_with_int_tests(model, train_sim_data, test_sim_data, criterion, optimizer, device, batch_size, n_total_seq, model_name = \"\"):\n",
    "    # Set the model to training mode. This will turn on layers that would\n",
    "    # otherwise behave differently during evaluation, such as dropout.\n",
    "    model.train()\n",
    "    \n",
    "    # What metric to store?\n",
    "    # num_correct = 0\n",
    "\n",
    "    # Iterate over every batch of sequences. Note that the length of a data generator\n",
    "    # is defined as the number of batches required to produce a total of roughly 1000\n",
    "    # sequences given a batch size.\n",
    "        \n",
    "    # how many batches\n",
    "    n_batches = int(np.round(n_total_seq/batch_size));\n",
    "    \n",
    "    loss_res = []\n",
    "    train_loss_res = []\n",
    "    batch_num = []\n",
    "\n",
    "    for batch_idx in range(n_batches):\n",
    "\n",
    "        # Request a batch of sequences and class labels, convert them into tensors\n",
    "        # of the correct type, and then send them to the appropriate device.\n",
    "        #data, target = train_data_gen[batch_idx] # just alter this to the function that produces the data?\n",
    "        data, target, first_fixations = gen_batch_data(batch_size, batch_idx, train_sim_data)\n",
    "        \n",
    "        # this needs to change... \n",
    "        data, target = torch.from_numpy(data).float().to(device), torch.from_numpy(target).long().to(device)\n",
    "\n",
    "        # Perform the forward pass of the model\n",
    "        output = model(data)  # Step ①\n",
    "\n",
    "        # Pick only the output corresponding to last sequence element (input is pre padded)\n",
    "        # output = output[:, -1, :]\n",
    "\n",
    "        # Compute the value of the loss for this batch. For loss functions like CrossEntropyLoss,\n",
    "        # the second argument is actually expected to be a tensor of class indices rather than\n",
    "        # one-hot encoded class labels. One approach is to take advantage of the one-hot encoding\n",
    "        # of the target and call argmax along its second dimension to create a tensor of shape\n",
    "        # (batch_size) containing the index of the class label that was hot for each sequence.\n",
    "        \n",
    "        # for some reason target is an int, and dosn't match the output which is float32\n",
    "        target = target.to(torch.float32)\n",
    "        loss = criterion(output, target)  # Step ②\n",
    "\n",
    "        # Clear the gradient buffers of the optimized parameters.\n",
    "        # Otherwise, gradients from the previous batch would be accumulated.\n",
    "        optimizer.zero_grad()  # Step ③\n",
    "\n",
    "        loss.backward()  # Step ④\n",
    "\n",
    "        optimizer.step()  # Step ⑤\n",
    "        \n",
    "        if ((batch_idx % 250) == 0) & (batch_idx > 0):\n",
    "            test_loss = test(model, test_data_sim, criterion, device, batch_size, n_total_seq)\n",
    "            loss_res.append(test_loss)\n",
    "            \n",
    "            train_loss_res.append(loss.item())\n",
    "            batch_num.append(batch_idx+1)\n",
    "            \n",
    "            clear_output(wait=False)\n",
    "            plt.figure(figsize=(5,5))\n",
    "            plt.plot(np.arange(1,len(loss_res)+1)*250*32, loss_res)\n",
    "            #plt.plot(range(len(train_loss_res)), train_loss_res)\n",
    "            plt.xlabel('# train examples')\n",
    "            plt.ylabel('MSE')\n",
    "            plt.title(model_name)\n",
    "            plt.show();\n",
    "\n",
    "            print('batch num' + str(batch_idx) + ' loss: ' + str(test_loss))\n",
    "\n",
    "    #return num_correct, loss.item()\n",
    "    return model, loss_res, batch_num#loss.item()"
   ]
  },
  {
   "cell_type": "code",
   "execution_count": 241,
   "id": "bbaf0c04-9699-415f-9e32-76936ed257c8",
   "metadata": {},
   "outputs": [],
   "source": [
    "# def train_with_int_tests(model, train_sim_data, test_sim_data, criterion, optimizer, device, batch_size, n_total_seq, model_name = \"\"):\n",
    "    # Set the model to training mode. This will turn on layers that would\n",
    "    # otherwise behave differently during evaluation, such as dropout.\n",
    "    \n",
    "    \n",
    "batch_size     = 32\n",
    "n_total_seq = 1e5\n",
    "n_batches = int(np.round(n_total_seq/batch_size));\n",
    "n_tests = int(np.floor(n_batches/250))\n",
    "    \n",
    "# Setup the RNN and training settings\n",
    "input_size  = 6 # this is the length of the input vector? #train_data_gen.n_symbols\n",
    "hidden_size = 50\n",
    "output_size = 3 # this is the leågth of the output vector #train_data_gen.n_classes\n",
    "model       = SimpleLSTM(input_size, hidden_size, output_size)\n",
    "criterion   = torch.nn.MSELoss() # torch.nn.CrossEntropyLoss()\n",
    "optimizer   = torch.optim.RMSprop(model.parameters(), lr=0.001)\n",
    "# optimizer   = torch.optim.Adam(model.parameters(), lr=0.00304)\n",
    "max_epochs  = 10\n",
    "device = torch.device('cpu')#torch.device('cuda:0' if torch.cuda.is_available() else 'cpu')\n",
    "\n",
    "model.train()\n",
    "\n",
    "train_sim_data = train_data_sim\n",
    "test_sim_data = test_data_sim\n",
    "\n",
    "# What metric to store?\n",
    "# num_correct = 0\n",
    "\n",
    "# Iterate over every batch of sequences. Note that the length of a data generator\n",
    "# is defined as the number of batches required to produce a total of roughly 1000\n",
    "# sequences given a batch size.\n",
    "\n",
    "# how many batches\n",
    "n_batches = int(np.round(n_total_seq/batch_size));\n",
    "\n",
    "loss_res = []\n",
    "train_loss_res = []\n",
    "batch_num = []\n",
    "\n",
    "#for batch_idx in range(n_batches):\n",
    "\n",
    "batch_idx = 0\n",
    "# Request a batch of sequences and class labels, convert them into tensors\n",
    "# of the correct type, and then send them to the appropriate device.\n",
    "#data, target = train_data_gen[batch_idx] # just alter this to the function that produces the data?\n",
    "\n",
    "# this needs to change... \n",
    "data, target, first_fixations = gen_batch_data(batch_size, batch_idx, train_sim_data)\n",
    "data, target = torch.from_numpy(data).float().to(device), torch.from_numpy(target).long().to(device)\n",
    "\n",
    "# Perform the forward pass of the model\n",
    "output = model(data)  # Step ①\n",
    "\n",
    "# Pick only the output corresponding to last sequence element (input is pre padded)\n",
    "# output = output[:, -1, :]\n",
    "\n",
    "# Compute the value of the loss for this batch. For loss functions like CrossEntropyLoss,\n",
    "# the second argument is actually expected to be a tensor of class indices rather than\n",
    "# one-hot encoded class labels. One approach is to take advantage of the one-hot encoding\n",
    "# of the target and call argmax along its second dimension to create a tensor of shape\n",
    "# (batch_size) containing the index of the class label that was hot for each sequence.\n",
    "\n",
    "# for some reason target is an int, and dosn't match the output which is float32\n",
    "target = target.to(torch.float32)\n",
    "loss = criterion(output, target)  # Step ②\n",
    "\n",
    "# Clear the gradient buffers of the optimized parameters.\n",
    "# Otherwise, gradients from the previous batch would be accumulated.\n",
    "optimizer.zero_grad()  # Step ③\n",
    "\n",
    "loss.backward()  # Step ④\n",
    "\n",
    "optimizer.step()  # Step ⑤\n",
    "\n",
    "#        test_loss = test(model, test_data_sim, criterion, device, batch_size, n_total_seq)\n",
    "\n"
   ]
  },
  {
   "cell_type": "code",
   "execution_count": 242,
   "id": "f7b3afb1-140d-4e9e-9501-fa233a038a9b",
   "metadata": {},
   "outputs": [
    {
     "data": {
      "text/plain": [
       "torch.Size([32, 86, 3])"
      ]
     },
     "execution_count": 242,
     "metadata": {},
     "output_type": "execute_result"
    }
   ],
   "source": [
    "output.shape"
   ]
  },
  {
   "cell_type": "code",
   "execution_count": 216,
   "id": "7f67c3bc-7ad8-4def-8d29-cd02e47fd2ba",
   "metadata": {},
   "outputs": [
    {
     "data": {
      "text/plain": [
       "array([[[0., 0., 0., 0., 0., 0.],\n",
       "        [0., 0., 0., 0., 0., 0.],\n",
       "        [0., 0., 0., 0., 0., 0.],\n",
       "        ...,\n",
       "        [1., 0., 0., 0., 0., 0.],\n",
       "        [1., 0., 0., 0., 0., 0.],\n",
       "        [0., 0., 0., 1., 0., 0.]],\n",
       "\n",
       "       [[0., 0., 0., 0., 0., 0.],\n",
       "        [0., 0., 0., 0., 0., 0.],\n",
       "        [0., 0., 0., 0., 0., 0.],\n",
       "        ...,\n",
       "        [0., 0., 1., 0., 0., 0.],\n",
       "        [0., 0., 1., 0., 0., 0.],\n",
       "        [0., 0., 0., 0., 0., 1.]],\n",
       "\n",
       "       [[0., 0., 0., 0., 0., 0.],\n",
       "        [0., 0., 0., 0., 0., 0.],\n",
       "        [0., 0., 0., 0., 0., 0.],\n",
       "        ...,\n",
       "        [1., 0., 0., 0., 0., 0.],\n",
       "        [1., 0., 0., 0., 0., 0.],\n",
       "        [0., 0., 0., 1., 0., 0.]],\n",
       "\n",
       "       ...,\n",
       "\n",
       "       [[0., 0., 0., 0., 0., 0.],\n",
       "        [0., 0., 0., 0., 0., 0.],\n",
       "        [0., 0., 0., 0., 0., 0.],\n",
       "        ...,\n",
       "        [1., 0., 0., 0., 0., 0.],\n",
       "        [1., 0., 0., 0., 0., 0.],\n",
       "        [0., 0., 0., 1., 0., 0.]],\n",
       "\n",
       "       [[0., 0., 0., 0., 0., 0.],\n",
       "        [0., 0., 0., 0., 0., 0.],\n",
       "        [0., 0., 0., 0., 0., 0.],\n",
       "        ...,\n",
       "        [1., 0., 0., 0., 0., 0.],\n",
       "        [1., 0., 0., 0., 0., 0.],\n",
       "        [0., 0., 0., 1., 0., 0.]],\n",
       "\n",
       "       [[0., 0., 0., 0., 0., 0.],\n",
       "        [0., 0., 0., 0., 0., 0.],\n",
       "        [0., 0., 0., 0., 0., 0.],\n",
       "        ...,\n",
       "        [1., 0., 0., 0., 0., 0.],\n",
       "        [1., 0., 0., 0., 0., 0.],\n",
       "        [0., 0., 0., 1., 0., 0.]]], dtype=float32)"
      ]
     },
     "execution_count": 216,
     "metadata": {},
     "output_type": "execute_result"
    }
   ],
   "source": [
    "data"
   ]
  },
  {
   "cell_type": "markdown",
   "id": "47c791dc-6dbd-45d4-a928-f815b554109b",
   "metadata": {},
   "source": [
    "## Run the LSTM"
   ]
  },
  {
   "cell_type": "code",
   "execution_count": 246,
   "id": "9cb97ed8-3308-4785-b999-569dc2059c40",
   "metadata": {},
   "outputs": [
    {
     "data": {
      "image/png": "[encoded data removed]",
      "text/plain": [
       "<Figure size 360x360 with 1 Axes>"
      ]
     },
     "metadata": {
      "needs_background": "light"
     },
     "output_type": "display_data"
    },
    {
     "name": "stdout",
     "output_type": "stream",
     "text": [
      "batch num15500 loss: 1.662285585557261\n",
      "--- 601.5147190093994 seconds ---\n"
     ]
    }
   ],
   "source": [
    "import time\n",
    "\n",
    "# Setup the training and test data generators\n",
    "batch_size     = 32\n",
    "n_total_seq = 5e5\n",
    "n_batches = int(np.round(n_total_seq/batch_size));\n",
    "n_tests = int(np.floor(n_batches/250))\n",
    "\n",
    "n_runs = 2\n",
    "run_losses = np.zeros((n_runs, n_tests))\n",
    "for run_idx in range(n_runs):\n",
    "\n",
    "    # Setup the RNN and training settings\n",
    "    input_size  = 6 # this is the length of the input vector? #train_data_gen.n_symbols\n",
    "    hidden_size = 50\n",
    "    output_size = 3 # this is the leågth of the output vector #train_data_gen.n_classes\n",
    "    model       = SimpleLSTM(input_size, hidden_size, output_size)\n",
    "    criterion   = torch.nn.MSELoss() # torch.nn.CrossEntropyLoss()\n",
    "    optimizer   = torch.optim.RMSprop(model.parameters(), lr=0.001)\n",
    "    # optimizer   = torch.optim.Adam(model.parameters(), lr=0.00304)\n",
    "    max_epochs  = 10\n",
    "    device = torch.device('cpu')#torch.device('cuda:0' if torch.cuda.is_available() else 'cpu')\n",
    "\n",
    "\n",
    "    # Train the model›\n",
    "    # model = train_and_test(model, train_data_gen, test_data_gen, criterion, optimizer, max_epochs)\n",
    "    start_time = time.time()\n",
    "    # model_LSTM = train_and_test(model, train_data_sim, test_data_sim, criterion, optimizer, max_epochs, batch_size, n_total_seq, verbose=True, model_name = 'LSTM')\n",
    "    device = torch.device('cpu')#torch.device('cuda:0' if torch.cuda.is_available() else 'cpu')\n",
    "    model_LSTM, loss_res, batch_num = train_with_int_tests(model, train_data_sim, test_data_sim, criterion, optimizer, device, batch_size, n_total_seq, model_name='LSTM')\n",
    "    run_losses[run_idx,:] = loss_res\n",
    "    print(\"--- %s seconds ---\" % (time.time() - start_time))"
   ]
  },
  {
   "cell_type": "code",
   "execution_count": 247,
   "id": "a6dd9f2a-158a-4669-b2d8-3c0fcc9696ae",
   "metadata": {},
   "outputs": [
    {
     "data": {
      "text/plain": [
       "[<matplotlib.lines.Line2D at 0x7f7f480fa610>]"
      ]
     },
     "execution_count": 247,
     "metadata": {},
     "output_type": "execute_result"
    },
    {
     "data": {
      "image/png": "[encoded data removed]",
      "text/plain": [
       "<Figure size 500x500 with 1 Axes>"
      ]
     },
     "metadata": {
      "needs_background": "light"
     },
     "output_type": "display_data"
    }
   ],
   "source": [
    "fig, ax = plt.subplots(1,figsize=(5,5),dpi=100)\n",
    "ax.plot(batch_num, np.mean(run_losses,0))"
   ]
  },
  {
   "cell_type": "code",
   "execution_count": 248,
   "id": "b04cedc1-47fe-46af-94d0-448500bae8b3",
   "metadata": {},
   "outputs": [
    {
     "data": {
      "text/plain": [
       "array([[2.29150947, 1.97747659, 1.83057182, 1.78851121, 1.7657448 ,\n",
       "        1.75349944, 1.73103174, 1.7368775 , 1.73195079, 1.7264963 ,\n",
       "        1.73298457, 1.71580361, 1.78029132, 1.71685496, 1.72652802,\n",
       "        1.70586886, 1.71488707, 1.70651239, 1.69855662, 1.68647715,\n",
       "        1.70869376, 1.76570344, 1.71361339, 1.67872825, 1.70897996,\n",
       "        1.68365798, 1.68518922, 1.71129892, 1.72976737, 1.68504207,\n",
       "        1.72889027, 1.66440231, 1.66874378, 1.66096134, 1.67508478,\n",
       "        1.69828165, 1.68929787, 1.67449938, 1.68267515, 1.69336147,\n",
       "        1.72386923, 1.69749853, 1.66300837, 1.70959438, 1.6750193 ,\n",
       "        1.66870359, 1.65575337, 1.65302284, 1.66776485, 1.67458519,\n",
       "        1.69885821, 1.66731378, 1.65417336, 1.6624111 , 1.64884533,\n",
       "        1.66153062, 1.66350718, 1.71600869, 1.66420932, 1.66938739,\n",
       "        1.67949021, 1.65574131],\n",
       "       [2.17017177, 1.96687981, 1.84521163, 1.80795139, 1.77924759,\n",
       "        1.76605254, 1.75179051, 1.75449504, 1.75246026, 1.75140094,\n",
       "        1.7524417 , 1.74485586, 1.78739253, 1.75566276, 1.75320936,\n",
       "        1.73779044, 1.74158963, 1.73137001, 1.72672482, 1.72752852,\n",
       "        1.72301832, 1.76974195, 1.73969146, 1.70654858, 1.73293787,\n",
       "        1.71104432, 1.71479858, 1.72446445, 1.72731385, 1.70389217,\n",
       "        1.71767858, 1.68990358, 1.69298267, 1.67935699, 1.68007881,\n",
       "        1.70540935, 1.69694754, 1.69142126, 1.69405108, 1.69879386,\n",
       "        1.71474682, 1.69011065, 1.66844028, 1.72909637, 1.69801647,\n",
       "        1.66186081, 1.67489652, 1.65538385, 1.67273918, 1.67262534,\n",
       "        1.69364712, 1.66581562, 1.65944912, 1.6624229 , 1.66074663,\n",
       "        1.65980354, 1.67514247, 1.70124591, 1.66493573, 1.67747113,\n",
       "        1.68227893, 1.66228559]])"
      ]
     },
     "execution_count": 248,
     "metadata": {},
     "output_type": "execute_result"
    }
   ],
   "source": [
    "run_losses"
   ]
  },
  {
   "cell_type": "code",
   "execution_count": 273,
   "id": "7ba12711-3892-430d-a15b-9760439b9598",
   "metadata": {},
   "outputs": [],
   "source": [
    "def test_record_each_output(model, test_sim_data, criterion, device, batch_size, n_total_seq, out_idx):\n",
    "    # Set the model to evaluation mode. This will turn off layers that would\n",
    "    # otherwise behave differently during training, such as dropout.\n",
    "    model.eval()\n",
    "\n",
    "    # Store the number of sequences that were classified correctly\n",
    "    # num_correct = 0\n",
    "\n",
    "    n_batches = int(np.round(n_total_seq/batch_size));\n",
    "\n",
    "    output_all = np.zeros((0,3))\n",
    "    target_all = np.zeros((0,3))\n",
    "\n",
    "\n",
    "    # A context manager is used to disable gradient calculations during inference\n",
    "    # to reduce memory usage, as we typically don't need the gradients at this point.\n",
    "    with torch.no_grad():\n",
    "        for batch_idx in range(n_batches):\n",
    "            data, target, _ = gen_batch_data(batch_size, batch_idx, test_sim_data)\n",
    "            data, target = torch.from_numpy(data).float().to(device), torch.from_numpy(target).long().to(device)\n",
    "\n",
    "            output = model(data)\n",
    "            # Pick only the output corresponding to last sequence element (input is pre padded)\n",
    "            output = output[:, -out_idx, :]\n",
    "            target = target[:,-out_idx,:]\n",
    "\n",
    "            output_all = np.concatenate((output_all, output.numpy()))\n",
    "            target_all = np.concatenate((target_all, target.numpy()))\n",
    "\n",
    "    return (output_all, target_all)\n",
    "\n",
    "        #target = target.argmax(dim=1)\n",
    "        #loss = criterion(output, target)\n",
    "\n",
    "            # y_pred = output.argmax(dim=1)\n",
    "            # num_correct += (y_pred == target).sum().item()\n",
    "\n",
    "    #return num_correct, loss.item()\n",
    "    #return loss.item()"
   ]
  },
  {
   "cell_type": "code",
   "execution_count": 260,
   "id": "9ae75fb3-b9ad-42a9-8125-55fbfb39d50d",
   "metadata": {},
   "outputs": [
    {
     "data": {
      "text/plain": [
       "Text(0.5, 1.0, 'LSTM Performance, MSE: 4.26 , r: 0.58 ')"
      ]
     },
     "execution_count": 260,
     "metadata": {},
     "output_type": "execute_result"
    },
    {
     "data": {
      "image/png": "[encoded data removed]",
      "text/plain": [
       "<Figure size 400x400 with 1 Axes>"
      ]
     },
     "metadata": {
      "needs_background": "light"
     },
     "output_type": "display_data"
    }
   ],
   "source": [
    "n_total_seq_vis = 1e3\n",
    "output_all_LSTM, target_all_LSTM = test_record_each_output(model_LSTM, test_data_sim, criterion, device, batch_size, n_total_seq_vis)\n",
    "output_flat = output_all_LSTM.flatten()\n",
    "target_flat = target_all_LSTM.flatten()\n",
    "\n",
    "r = np.round(np.corrcoef(output_flat, target_flat)[1][0], decimals = 2)\n",
    "mse = np.round(np.mean(np.power(output_flat - target_flat,2)), decimals=2)\n",
    "target_flat_round = np.round(target_flat)\n",
    "mean_estimates = np.zeros(10)\n",
    "std_estimates = np.zeros(10)\n",
    "for i in range(1,11):\n",
    "    mean_estimates[i-1] = np.mean(output_flat[target_flat_round == i])\n",
    "    std_estimates[i-1] = np.std(output_flat[target_flat_round == i])\n",
    "\n",
    "fix,ax = plt.subplots(1,figsize = (4,4), dpi = 100)\n",
    "ax.plot(range(1,11), mean_estimates, 'o')\n",
    "ax.errorbar(range(1,11), mean_estimates, yerr = std_estimates)\n",
    "ax.set_ylim([1,10])\n",
    "ax.set_xlabel('True Value')\n",
    "ax.set_ylabel('Predicted Value (mean +/- s.d.)')\n",
    "ax.set_title('LSTM Performance, MSE: {} , r: {} '.format(mse,r))"
   ]
  },
  {
   "cell_type": "code",
   "execution_count": 312,
   "id": "a4d10a88-c180-404a-aabc-db527fe9b0ee",
   "metadata": {},
   "outputs": [],
   "source": [
    "# can you record from starting at end and moving backward... \n",
    "\n",
    "n_back_vals = np.arange(1,20)\n",
    "r_by_n_back = np.zeros(len(n_back_vals))\n",
    "\n",
    "n_total_seq_vis = 1e3\n",
    "\n",
    "for nb_idx, nb in enumerate(n_back_vals):\n",
    "    output_all_LSTM, target_all_LSTM = test_record_each_output(model_LSTM, test_data_sim, criterion, device, batch_size, n_total_seq_vis,nb)\n",
    "    output_flat = output_all_LSTM.flatten()\n",
    "    target_flat = target_all_LSTM.flatten()\n",
    "    output_flat = output_flat[target_flat != 0]\n",
    "    target_flat = target_flat[target_flat != 0]\n",
    "\n",
    "    r = np.round(np.corrcoef(output_flat, target_flat)[1][0], decimals = 2)\n",
    "    r_by_n_back[nb_idx] = r"
   ]
  },
  {
   "cell_type": "code",
   "execution_count": 313,
   "id": "73d8ad90-94bc-4034-bf46-a1a2b2c28b10",
   "metadata": {},
   "outputs": [
    {
     "data": {
      "text/plain": [
       "Text(0, 0.5, 'r: prediction vs target')"
      ]
     },
     "execution_count": 313,
     "metadata": {},
     "output_type": "execute_result"
    },
    {
     "data": {
      "image/png": "[encoded data removed]",
      "text/plain": [
       "<Figure size 400x400 with 1 Axes>"
      ]
     },
     "metadata": {
      "needs_background": "light"
     },
     "output_type": "display_data"
    }
   ],
   "source": [
    "fig,ax = plt.subplots(1,figsize=(2,2),dpi=200)\n",
    "ax.plot(-1*n_back_vals+1,r_by_n_back, '--o')\n",
    "ax.set_xlabel('time-steps to choice')\n",
    "ax.set_ylabel('r: prediction vs target')"
   ]
  },
  {
   "cell_type": "markdown",
   "id": "ba3ee233-47eb-4b9d-ad50-93abda1af730",
   "metadata": {},
   "source": [
    "### Does it get the correct ordering?"
   ]
  },
  {
   "cell_type": "code",
   "execution_count": 254,
   "id": "13980405-1554-4366-9a95-d978f41d396c",
   "metadata": {},
   "outputs": [
    {
     "name": "stdout",
     "output_type": "stream",
     "text": [
      "LSTM guesses correct max 72.0% of trials\n",
      "LSTM guesses correct min 51.0% of trials\n"
     ]
    }
   ],
   "source": [
    "output_max_item = output_all_LSTM.argmax(axis=1)\n",
    "target_max_item = target_all_LSTM.argmax(axis=1)\n",
    "pct_correct_max = np.sum(output_max_item == target_max_item)/len(output_max_item)\n",
    "\n",
    "print('LSTM guesses correct max {}% of trials'.format(100*np.round(pct_correct_max,decimals=2)))\n",
    "\n",
    "output_min_item = output_all_LSTM.argmin(axis=1)\n",
    "target_min_item = target_all_LSTM.argmin(axis=1)\n",
    "pct_correct_min = np.sum(output_min_item == target_min_item)/len(output_min_item)\n",
    "\n",
    "print('LSTM guesses correct min {}% of trials'.format(100*np.round(pct_correct_min,decimals=2)))"
   ]
  },
  {
   "cell_type": "code",
   "execution_count": 182,
   "id": "c7410a92-6d85-4bfc-a029-3ed9ac410cdd",
   "metadata": {},
   "outputs": [
    {
     "name": "stdout",
     "output_type": "stream",
     "text": [
      "correct order 39.0% of trials\n",
      "max > mid 75.0% of trials\n",
      "mid > min 61.0% of trials\n",
      "max > min 84.0% of trials\n",
      "correct max 72.0% of trials\n",
      "correct min 50.0% of trials\n"
     ]
    }
   ],
   "source": [
    "# for targets \n",
    "target_orders = np.ones(target_all_LSTM.shape)\n",
    "target_max_item = target_all_LSTM.argmax(axis=1)\n",
    "target_orders[range(target_orders.shape[0]),target_max_item]=2\n",
    "target_min_item = target_all_LSTM.argmin(axis=1)\n",
    "target_orders[range(target_orders.shape[0]),target_min_item]=0\n",
    "\n",
    "output_orders = np.ones(output_all_LSTM.shape)\n",
    "output_max_item = output_all_LSTM.argmax(axis=1)\n",
    "output_orders[range(output_orders.shape[0]),target_max_item]=2\n",
    "output_min_item = output_all_LSTM.argmin(axis=1)\n",
    "output_orders[range(target_orders.shape[0]),target_min_item]=0\n",
    "\n",
    "prop_max_g_mid = np.sum(output_all_LSTM[target_orders==2]>output_all_LSTM[target_orders==1])/output_all_LSTM.shape[0]\n",
    "prop_mid_g_min = np.sum(output_all_LSTM[target_orders==1]>output_all_LSTM[target_orders==0])/output_all_LSTM.shape[0]\n",
    "prop_max_g_min = np.sum(output_all_LSTM[target_orders==2]>output_all_LSTM[target_orders==0])/output_all_LSTM.shape[0]\n",
    "prop_correct_order = np.sum((output_all_LSTM[target_orders==2]>output_all_LSTM[target_orders==1])&(output_all_LSTM[target_orders==1]>output_all_LSTM[target_orders==0]))/output_all_LSTM.shape[0]\n",
    "\n",
    "prop_correct_max = np.sum(target_max_item == output_max_item)/len(target_max_item)\n",
    "prop_correct_min = np.sum(target_min_item == output_min_item)/len(target_min_item)\n",
    "\n",
    "print('correct order {}% of trials'.format(100*np.round(prop_correct_order,decimals=2)))\n",
    "print('max > mid {}% of trials'.format(100*np.round(prop_max_g_mid,decimals=2)))\n",
    "print('mid > min {}% of trials'.format(100*np.round(prop_mid_g_min,decimals=2)))\n",
    "print('max > min {}% of trials'.format(100*np.round(prop_max_g_min,decimals=2)))\n",
    "print('correct max {}% of trials'.format(100*np.round(prop_correct_max,decimals=2)))\n",
    "print('correct min {}% of trials'.format(100*np.round(prop_correct_min,decimals=2)))\n"
   ]
  },
  {
   "cell_type": "code",
   "execution_count": null,
   "id": "aa07b305-f168-4f15-b0c3-a36a44b4857d",
   "metadata": {},
   "outputs": [],
   "source": [
    "# how well does it get the difference between max and min "
   ]
  },
  {
   "cell_type": "code",
   "execution_count": 99,
   "id": "540f9914-6c1c-49eb-b11a-d0d482d8d035",
   "metadata": {},
   "outputs": [
    {
     "data": {
      "text/plain": [
       "Text(0.5, 1.0, 'LSTM Performance, MSE: 4.63 , r: 0.41 ')"
      ]
     },
     "execution_count": 99,
     "metadata": {},
     "output_type": "execute_result"
    },
    {
     "data": {
      "image/png": "[encoded data removed]",
      "text/plain": [
       "<Figure size 400x400 with 1 Axes>"
      ]
     },
     "metadata": {
      "needs_background": "light"
     },
     "output_type": "display_data"
    }
   ],
   "source": [
    "# contains the max index for each trial\n",
    "max_idxs = np.argmax(target_all_LSTM, axis = 1)\n",
    "min_idxs = np.argmin(target_all_LSTM, axis = 1)\n",
    "\n",
    "max_targets = np.round(target_all_LSTM[range(target_all_LSTM.shape[0]), max_idxs])\n",
    "max_outputs = output_all_LSTM[range(target_all_LSTM.shape[0]), max_idxs]\n",
    "\n",
    "r = np.round(np.corrcoef(max_outputs, max_targets)[1][0], decimals = 2)\n",
    "mse = np.round(np.mean(np.power(max_outputs - max_targets,2)), decimals=2)\n",
    "\n",
    "mean_estimates = np.zeros(10)\n",
    "std_estimates = np.zeros(10)\n",
    "for i in range(3,11):\n",
    "    mean_estimates[i-1] = np.mean(max_outputs[max_targets == i])\n",
    "    std_estimates[i-1] = np.std(max_outputs[max_targets == i])\n",
    "\n",
    "fix,ax = plt.subplots(1,figsize = (4,4), dpi = 100)\n",
    "ax.plot(range(3,11), mean_estimates[2:], 'o')\n",
    "ax.errorbar(range(3,11), mean_estimates[2:], yerr = std_estimates[2:])\n",
    "ax.set_ylim([1,10])\n",
    "ax.set_xlabel('True Value')\n",
    "ax.set_ylabel('Predicted Value')\n",
    "ax.set_title('LSTM Performance, MSE: {} , r: {} '.format(mse,r))"
   ]
  },
  {
   "cell_type": "code",
   "execution_count": 57,
   "id": "a5a96d9f-52ef-4f30-8170-d035a7c83ff0",
   "metadata": {},
   "outputs": [
    {
     "data": {
      "text/plain": [
       "array([       nan,        nan, 4.20361695, 4.59310827, 5.12080646,\n",
       "       5.51035056, 5.77384573, 6.13292855, 6.28513572, 6.52798245])"
      ]
     },
     "execution_count": 57,
     "metadata": {},
     "output_type": "execute_result"
    }
   ],
   "source": [
    "mean_estimates"
   ]
  },
  {
   "cell_type": "code",
   "execution_count": 52,
   "id": "abecd2d8-3369-4fac-87c0-deb94f71a44c",
   "metadata": {},
   "outputs": [
    {
     "data": {
      "text/plain": [
       "array([4., 7., 4., ..., 4., 3., 8.])"
      ]
     },
     "execution_count": 52,
     "metadata": {},
     "output_type": "execute_result"
    }
   ],
   "source": [
    "max_targets"
   ]
  },
  {
   "cell_type": "code",
   "execution_count": 47,
   "id": "96180b3e-b38c-4cc2-81db-395bc6fb4e82",
   "metadata": {},
   "outputs": [],
   "source": [
    "# contains the max index for each trial\n",
    "max_idxs = np.argmax(target_all_LSTM, axis = 1)\n",
    "min_idxs = np.argmin(target_all_LSTM, axis = 1)"
   ]
  },
  {
   "cell_type": "code",
   "execution_count": null,
   "id": "4420cdb6-c9b2-4c73-b9ff-e2a7017921bb",
   "metadata": {},
   "outputs": [],
   "source": []
  },
  {
   "cell_type": "code",
   "execution_count": null,
   "id": "6435c93d-cc49-4807-acc6-5d54e8f17b8c",
   "metadata": {},
   "outputs": [],
   "source": []
  },
  {
   "cell_type": "code",
   "execution_count": null,
   "id": "855d916c-ed4d-4372-b069-45326a00a42d",
   "metadata": {},
   "outputs": [],
   "source": []
  }
 ],
 "metadata": {
  "kernelspec": {
   "display_name": "Python 3 (ipykernel)",
   "language": "python",
   "name": "python3"
  },
  "language_info": {
   "codemirror_mode": {
    "name": "ipython",
    "version": 3
   },
   "file_extension": ".py",
   "mimetype": "text/x-python",
   "name": "python",
   "nbconvert_exporter": "python",
   "pygments_lexer": "ipython3",
   "version": "3.8.12"
  }
 },
 "nbformat": 4,
 "nbformat_minor": 5
}
