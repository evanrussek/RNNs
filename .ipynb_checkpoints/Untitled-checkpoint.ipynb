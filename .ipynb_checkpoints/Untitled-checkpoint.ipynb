{
 "cells": [
  {
   "cell_type": "markdown",
   "id": "8023f1cc-95bf-4c71-851c-9465778524e5",
   "metadata": {},
   "source": [
    "#### This runs"
   ]
  },
  {
   "cell_type": "code",
   "execution_count": 5,
   "id": "24d0a9d6-318b-4f92-bef0-3f44c74d1e07",
   "metadata": {},
   "outputs": [
    {
     "name": "stdout",
     "output_type": "stream",
     "text": [
      "{'model_name': 'LSTM', 'train_seq_part': 'fix_and_choice', 'n_simulation_sequences_train': 1000.0, 'n_human_sequences_train': 0, 'n_sequences_test': 500, 'n_sequences_final_performance': 500, 'd_model': 32, 'n_layers': 0, 'n_head': 0, 'sim_lr': 0.0001, 'human_lr': 0, 'batch_size': 32, 'run_idx': 0, 'on_cluster': False, 'test_batch_increment_sim': 1000.0, 'test_batch_increment_human': 1000.0, 'save_folder_name': 'Scratch_Hyper_Param', 'save_file_name': 'run_0_model_name_LSTM_d_model_32_sim_lr_0.0001_human_lr_0_n_head_0_n_layers_0_nsim_1000.0_nhum_0'}\n",
      "<class 'float'>\n",
      "Loading Data\n",
      "SimpleLSTM(\n",
      "  (lstm): LSTM(6, 32, batch_first=True)\n",
      "  (linear): Linear(in_features=32, out_features=3, bias=True)\n",
      ")\n",
      "Training the model\n",
      "Training on simulated data\n",
      "Training on human data\n",
      "Evaluating trained model performance\n",
      "Saving the model and results\n"
     ]
    }
   ],
   "source": [
    "%run hyper_param_testing.py"
   ]
  },
  {
   "cell_type": "code",
   "execution_count": 4,
   "id": "01ef7ae2-f6d8-463a-8626-cea4039fd395",
   "metadata": {},
   "outputs": [],
   "source": [
    "# what's the file name\n",
    "run_idx = job_runs[job_idx]\n",
    "model_name = job_model_names[job_idx]\n",
    "d_model = job_hidden_sizes[job_idx]\n",
    "sim_lr = job_sim_lrs[job_idx]\n",
    "human_lr = job_human_lrs[job_idx]\n",
    "n_head = job_attention_heads[job_idx]\n",
    "n_layers = job_layers[job_idx]\n",
    "n_simulation_sequences_train = job_n_sim_seqs[job_idx]\n",
    "n_human_sequences_train = job_n_human_seqs[job_idx]\n",
    "\n",
    "save_file_name = 'run_{}_model_name_{}_d_model_{}_sim_lr_{}_human_lr_{}_n_head_{}_n_layers_{}_nsim_{}_nhum_{}'.format(run_idx, model_name, d_model, sim_lr, human_lr, n_head, n_layers, n_simulation_sequences_train, n_human_sequences_train)"
   ]
  },
  {
   "cell_type": "code",
   "execution_count": 5,
   "id": "4405cfb0-8c8b-4fbe-983a-6f218de5f1c8",
   "metadata": {},
   "outputs": [
    {
     "data": {
      "text/plain": [
       "'run_0_model_name_LSTM_d_model_32_sim_lr_0.0001_human_lr_0_n_head_0_n_layers_0_nsim_1000.0_nhum_0'"
      ]
     },
     "execution_count": 5,
     "metadata": {},
     "output_type": "execute_result"
    }
   ],
   "source": [
    "save_file_name"
   ]
  },
  {
   "cell_type": "code",
   "execution_count": null,
   "id": "2ca66d86-a651-4a0d-b7a7-4a1c503d7bb8",
   "metadata": {},
   "outputs": [],
   "source": []
  },
  {
   "cell_type": "code",
   "execution_count": null,
   "id": "b4b9a897-4442-4c48-8625-7087995c7210",
   "metadata": {},
   "outputs": [],
   "source": []
  }
 ],
 "metadata": {
  "kernelspec": {
   "display_name": "Python 3 (ipykernel)",
   "language": "python",
   "name": "python3"
  },
  "language_info": {
   "codemirror_mode": {
    "name": "ipython",
    "version": 3
   },
   "file_extension": ".py",
   "mimetype": "text/x-python",
   "name": "python",
   "nbconvert_exporter": "python",
   "pygments_lexer": "ipython3",
   "version": "3.9.13"
  }
 },
 "nbformat": 4,
 "nbformat_minor": 5
}
