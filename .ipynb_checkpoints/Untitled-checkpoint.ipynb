{
 "cells": [
  {
   "cell_type": "code",
   "execution_count": 8,
   "id": "1bd67e60-1047-4069-abd4-e3990594bd42",
   "metadata": {},
   "outputs": [
    {
     "name": "stderr",
     "output_type": "stream",
     "text": [
      "\u001b[32m[I 2022-01-18 18:38:22,192]\u001b[0m A new study created in memory with name: no-name-c26b324d-0144-4ed8-ad25-1ec237a98b9e\u001b[0m\n",
      "/home/erussek/.conda/envs/pDL/lib/python3.8/site-packages/optuna/distributions.py:560: UserWarning: The distribution is specified by [2, 100] and step=5, but the range is not divisible by `step`. It will be replaced by [2, 97].\n",
      "  warnings.warn(\n"
     ]
    },
    {
     "name": "stdout",
     "output_type": "stream",
     "text": [
      "[Epoch 100/100] loss: 0.0590 (MSE) - test_loss: 0.0971 (MSE)\n"
     ]
    },
    {
     "data": {
      "image/png": "[encoded data removed]",
      "text/plain": [
       "<Figure size 316.8x324 with 1 Axes>"
      ]
     },
     "metadata": {
      "needs_background": "light"
     },
     "output_type": "display_data"
    },
    {
     "name": "stderr",
     "output_type": "stream",
     "text": [
      "\u001b[32m[I 2022-01-18 18:38:45,944]\u001b[0m Trial 0 finished with value: 0.09706907767441965 and parameters: {'hidden_size': 7, 'lr': 0.0031416924184396746}. Best is trial 0 with value: 0.09706907767441965.\u001b[0m\n"
     ]
    },
    {
     "name": "stdout",
     "output_type": "stream",
     "text": [
      "--- 23.752514362335205 seconds ---\n"
     ]
    }
   ],
   "source": [
    "%run scratch1_as_script.py"
   ]
  },
  {
   "cell_type": "code",
   "execution_count": null,
   "id": "88eb423a-0ca3-4b94-985f-bb66682c289b",
   "metadata": {},
   "outputs": [],
   "source": [
    "### TODO: install pandas, install optuna"
   ]
  },
  {
   "cell_type": "code",
   "execution_count": 4,
   "id": "020429f1-5cfc-4338-8ff3-7309bdf9b454",
   "metadata": {},
   "outputs": [
    {
     "data": {
      "text/plain": [
       "{'hidden_size': 47, 'lr': 0.00010769819702835522}"
      ]
     },
     "execution_count": 4,
     "metadata": {},
     "output_type": "execute_result"
    }
   ],
   "source": [
    "study.best_params"
   ]
  },
  {
   "cell_type": "code",
   "execution_count": 9,
   "id": "26177244-e9d0-4c8b-bf81-af579d17351d",
   "metadata": {},
   "outputs": [
    {
     "name": "stdout",
     "output_type": "stream",
     "text": [
      "Sampler is TPESampler\n"
     ]
    }
   ],
   "source": [
    "print(f\"Sampler is {study.sampler.__class__.__name__}\")"
   ]
  },
  {
   "cell_type": "code",
   "execution_count": 10,
   "id": "60d47f3b-62c8-4748-b813-7a6b0234ab37",
   "metadata": {},
   "outputs": [
    {
     "name": "stdout",
     "output_type": "stream",
     "text": [
      "Sampler is MedianPruner\n"
     ]
    }
   ],
   "source": [
    "print(f\"Sampler is {study.pruner.__class__.__name__}\")"
   ]
  },
  {
   "cell_type": "code",
   "execution_count": 4,
   "id": "aea5f75d-b2f4-41d9-a216-5ab20deaa57b",
   "metadata": {},
   "outputs": [],
   "source": [
    "a = [1,2,3]\n",
    "import pickle\n",
    "afile = open(r'd.pkl', 'wb')\n",
    "pickle.dump(a, afile)\n",
    "afile.close()"
   ]
  },
  {
   "cell_type": "code",
   "execution_count": 5,
   "id": "e536fb6c-f3b1-4cb7-83e9-0bc88fb3df5f",
   "metadata": {},
   "outputs": [],
   "source": [
    "## get the location to save this..."
   ]
  },
  {
   "cell_type": "code",
   "execution_count": 13,
   "id": "7f9b4af1-4f00-4a36-9176-ae20d2c5b543",
   "metadata": {},
   "outputs": [],
   "source": [
    "import os\n",
    "\n",
    "on_cluster = False\n",
    "\n",
    "if on_cluster:\n",
    "    to_save_folder = '/scratch/gpfs/erussek/RNN_project/optuna_results'\n",
    "else:\n",
    "    to_save_folder = '/Users/evanrussek/Dropbox/Griffiths_Lab_Stuff/Code/RNNs/optuna_results'\n",
    "\n",
    "if not os.path.exists(to_save_folder):\n",
    "    os.mkdir(to_save_folder)\n"
   ]
  },
  {
   "cell_type": "code",
   "execution_count": 10,
   "id": "027953b5-5cc0-4a37-b62b-f61a69947a49",
   "metadata": {},
   "outputs": [
    {
     "data": {
      "text/plain": [
       "'/Users/evanrussek/Dropbox/Griffiths_Lab_Stuff/Code/RNNs'"
      ]
     },
     "execution_count": 10,
     "metadata": {},
     "output_type": "execute_result"
    }
   ],
   "source": [
    "os.getcwd()"
   ]
  },
  {
   "cell_type": "code",
   "execution_count": null,
   "id": "b655dc84-8255-435d-b8c6-655d1cc4de9b",
   "metadata": {},
   "outputs": [],
   "source": []
  }
 ],
 "metadata": {
  "kernelspec": {
   "display_name": "Python [conda env:pDL] *",
   "language": "python",
   "name": "conda-env-pDL-py"
  },
  "language_info": {
   "codemirror_mode": {
    "name": "ipython",
    "version": 3
   },
   "file_extension": ".py",
   "mimetype": "text/x-python",
   "name": "python",
   "nbconvert_exporter": "python",
   "pygments_lexer": "ipython3",
   "version": "3.8.12"
  }
 },
 "nbformat": 4,
 "nbformat_minor": 5
}
