{
 "cells": [
  {
   "cell_type": "code",
   "execution_count": 1,
   "id": "02f72673-e8c3-4fd8-bddb-0621681dc375",
   "metadata": {},
   "outputs": [],
   "source": [
    "import os\n",
    "import numpy as np\n",
    "import pickle\n",
    "\n",
    "# %run main_as_fun.py\n",
    "from main_as_fun import main_as_fun\n",
    "\n",
    "is_array_job=False\n",
    "\n",
    "if is_array_job:\n",
    "    this_job_idx = int(os.environ[\"SLURM_ARRAY_TASK_ID\"]) - 1\n",
    "else:\n",
    "    this_job_idx = 0\n",
    "    "
   ]
  },
  {
   "cell_type": "code",
   "execution_count": 2,
   "id": "1179e641-1be8-470a-9ad5-93c4d071ec66",
   "metadata": {},
   "outputs": [
    {
     "name": "stdout",
     "output_type": "stream",
     "text": [
      "{'model_name': 'Choice2P', 'train_seq_part': 'choice_only', 'n_simulation_sequences_train': 100000.0, 'n_human_sequences_train': 100000.0, 'n_sequences_test': 500, 'n_sequences_final_performance': 500, 'd_model': 128, 'n_layers': 2, 'n_head': 2, 'sim_lr': 0.001, 'human_lr': 0.001, 'batch_size': 32, 'dropout': 0, 'run_idx': 0, 'on_cluster': True, 'test_batch_increment_sim': 200, 'test_batch_increment_human': 200, 'save_folder_name': 'Choice_Only_2P_Results', 'save_file_name': 'Simulated_Only_run_0', 'fix_unit': 'ID'}\n",
      "<class 'float'>\n",
      "Loading Data\n",
      "cpu\n",
      "Training the model\n",
      "Training on simulated data\n",
      "number of simulation seqeuences: 6432number of human seqeuences: 0 sim test loss: 18.337559163570404 human test loss 18.309876918792725\n",
      "number of simulation seqeuences: 12832number of human seqeuences: 0 sim test loss: 16.440300226211548 human test loss 16.42364501953125\n",
      "number of simulation seqeuences: 19232number of human seqeuences: 0 sim test loss: 14.74902629852295 human test loss 14.742946743965149\n",
      "number of simulation seqeuences: 25632number of human seqeuences: 0 sim test loss: 13.246495366096497 human test loss 13.250642597675323\n",
      "number of simulation seqeuences: 32032number of human seqeuences: 0 sim test loss: 11.909634530544281 human test loss 11.923765003681183\n",
      "number of simulation seqeuences: 38432number of human seqeuences: 0 sim test loss: 10.742034643888474 human test loss 10.765681266784668\n",
      "number of simulation seqeuences: 44832number of human seqeuences: 0 sim test loss: 9.725805163383484 human test loss 9.75859135389328\n",
      "number of simulation seqeuences: 51232number of human seqeuences: 0 sim test loss: 8.848016738891602 human test loss 8.889349848031998\n",
      "number of simulation seqeuences: 57632number of human seqeuences: 0 sim test loss: 8.087542206048965 human test loss 8.13704138994217\n",
      "number of simulation seqeuences: 64032number of human seqeuences: 0 sim test loss: 7.435775935649872 human test loss 7.493095517158508\n",
      "number of simulation seqeuences: 70432number of human seqeuences: 0 sim test loss: 6.884558290243149 human test loss 6.949130952358246\n",
      "number of simulation seqeuences: 76832number of human seqeuences: 0 sim test loss: 6.4301822781562805 human test loss 6.5015895664691925\n",
      "number of simulation seqeuences: 83232number of human seqeuences: 0 sim test loss: 6.054180324077606 human test loss 6.131631314754486\n",
      "number of simulation seqeuences: 89632number of human seqeuences: 0 sim test loss: 5.7384480237960815 human test loss 5.8219757080078125\n",
      "number of simulation seqeuences: 96032number of human seqeuences: 0 sim test loss: 5.491028681397438 human test loss 5.580119073390961\n",
      "Training on human data\n",
      "number of simulation seqeuences: 96032number of human seqeuences: 6400 sim test loss: 5.088247284293175 human test loss 5.189486443996429\n",
      "number of simulation seqeuences: 96032number of human seqeuences: 12800 sim test loss: 4.953038528561592 human test loss 5.059831231832504\n",
      "number of simulation seqeuences: 96032number of human seqeuences: 19200 sim test loss: 4.898284509778023 human test loss 5.0071814358234406\n",
      "number of simulation seqeuences: 96032number of human seqeuences: 25600 sim test loss: 4.8805448561906815 human test loss 4.988995462656021\n",
      "number of simulation seqeuences: 96032number of human seqeuences: 32000 sim test loss: 4.876472175121307 human test loss 4.982654303312302\n",
      "number of simulation seqeuences: 96032number of human seqeuences: 38400 sim test loss: 4.876752644777298 human test loss 4.980188280344009\n",
      "number of simulation seqeuences: 96032number of human seqeuences: 51200 sim test loss: 4.880075588822365 human test loss 4.978046774864197\n",
      "number of simulation seqeuences: 96032number of human seqeuences: 57600 sim test loss: 4.881742760539055 human test loss 4.9775174260139465\n",
      "number of simulation seqeuences: 96032number of human seqeuences: 64000 sim test loss: 4.883261471986771 human test loss 4.9771855771541595\n",
      "number of simulation seqeuences: 96032number of human seqeuences: 70400 sim test loss: 4.8843637853860855 human test loss 4.976989239454269\n",
      "number of simulation seqeuences: 96032number of human seqeuences: 76800 sim test loss: 4.885517939925194 human test loss 4.976847320795059\n",
      "number of simulation seqeuences: 96032number of human seqeuences: 83200 sim test loss: 4.886254087090492 human test loss 4.976773262023926\n",
      "number of simulation seqeuences: 96032number of human seqeuences: 96000 sim test loss: 4.887443110346794 human test loss 4.9766959846019745\n",
      "Evaluating trained model performance\n",
      "Saving results\n"
     ]
    }
   ],
   "source": [
    "part_names = [\"Simulated_Only\", \"Human_Only\", \"Simulated_and_Human\"]\n",
    "n_sim_seqs = [5e5, 0, 5e5]\n",
    "n_hum_seqs = [5e5, 0, 5e5]\n",
    "\n",
    "\n",
    "\n",
    "job_runs = []\n",
    "job_full_names = []\n",
    "job_n_sim_seqs = []\n",
    "job_n_human_seqs = []\n",
    "\n",
    "n_runs = 1\n",
    "for run in range(n_runs):\n",
    "    for part_idx, part_name in enumerate(part_names):\n",
    "        full_name = \"{}\".format(part_name)\n",
    "        job_full_names.append(full_name + '_run_{}'.format(run))\n",
    "        job_runs.append(run)\n",
    "        job_n_sim_seqs.append(n_sim_seqs[part_idx])\n",
    "        job_n_human_seqs.append(n_sim_seqs[part_idx])\n",
    "\n",
    "        \n",
    "job_idx = this_job_idx    \n",
    "save_file_name = job_full_names[job_idx]\n",
    "\n",
    "main_as_fun(\n",
    "    run_idx = job_runs[job_idx],\n",
    "    model_name = 'Choice2P',\n",
    "    sim_lr = .001,\n",
    "    human_lr = .001,\n",
    "    train_seq_part = 'choice_only',\n",
    "    n_simulation_sequences_train = job_n_sim_seqs[job_idx],\n",
    "    n_human_sequences_train = job_n_human_seqs[job_idx],\n",
    "    on_cluster = True,\n",
    "    save_folder_name = 'Choice_Only_2P_Results',\n",
    "    save_file_name = save_file_name)"
   ]
  },
  {
   "cell_type": "code",
   "execution_count": null,
   "id": "f79f1c74-2641-4f02-919d-357109d15194",
   "metadata": {},
   "outputs": [],
   "source": []
  }
 ],
 "metadata": {
  "kernelspec": {
   "display_name": "pDL [~/.conda/envs/pDL/]",
   "language": "python",
   "name": "conda_pdl"
  },
  "language_info": {
   "codemirror_mode": {
    "name": "ipython",
    "version": 3
   },
   "file_extension": ".py",
   "mimetype": "text/x-python",
   "name": "python",
   "nbconvert_exporter": "python",
   "pygments_lexer": "ipython3",
   "version": "3.8.12"
  }
 },
 "nbformat": 4,
 "nbformat_minor": 5
}
