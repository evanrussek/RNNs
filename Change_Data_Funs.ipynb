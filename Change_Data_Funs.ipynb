{
 "cells": [
  {
   "cell_type": "code",
   "execution_count": 1,
   "id": "07f6422a-6042-469a-8d0f-a0e5a4015a85",
   "metadata": {},
   "outputs": [],
   "source": [
    "import numpy as np\n",
    "import matplotlib.pyplot as plt\n",
    "import pickle\n",
    "# import optuna\n",
    "import time\n",
    "import sys\n",
    "import torch\n",
    "import os\n",
    "import argparse\n",
    "import random\n"
   ]
  },
  {
   "cell_type": "code",
   "execution_count": 6,
   "id": "220bcbba-cc19-4be8-824a-c84073d1fa07",
   "metadata": {},
   "outputs": [],
   "source": [
    "fix_unit = 'ID'\n",
    "train_seq_part = 'fix_only'\n",
    "d_model = 16\n",
    "model_name = 'MLP'\n",
    "batch_size = 32\n",
    "batch_idx = 4\n",
    "run_idx = 10"
   ]
  },
  {
   "cell_type": "code",
   "execution_count": 7,
   "id": "f1e125dc-553b-4247-87de-c0cbf10b4d9e",
   "metadata": {},
   "outputs": [],
   "source": [
    "sim_data_path = '/scratch/gpfs/erussek/RNN_project/optimal_fixation_sims'\n",
    "human_data_path = '/scratch/gpfs/erussek/RNN_project/human_trials.json'"
   ]
  },
  {
   "cell_type": "code",
   "execution_count": 8,
   "id": "507d8c65-4f4f-4657-9591-d4e631744cec",
   "metadata": {},
   "outputs": [],
   "source": [
    "%run load_data_funs\n",
    "\n",
    "train_data_sim, val_data_sim, test_data_sim, train_data_human, val_data_human, test_data_human = load_data(sim_data_path, human_data_path,this_seed=run_idx,split_human_data=True)\n"
   ]
  },
  {
   "cell_type": "code",
   "execution_count": 13,
   "id": "85a6369c-512d-408b-8753-4211af9b2a9d",
   "metadata": {},
   "outputs": [],
   "source": [
    "%run load_data_funs\n",
    "(batch_data, batch_targets) = gen_batch_data_fixations_only(batch_size, batch_idx, train_data_human, use_human_data=True, fix_unit = 'sum')"
   ]
  },
  {
   "cell_type": "code",
   "execution_count": 14,
   "id": "402052b4-dcf6-405e-982f-f5cfada27f0f",
   "metadata": {},
   "outputs": [
    {
     "data": {
      "text/plain": [
       "array([[0., 0., 0.],\n",
       "       [0., 0., 0.],\n",
       "       [0., 0., 0.],\n",
       "       [0., 0., 0.],\n",
       "       [0., 0., 0.],\n",
       "       [0., 0., 0.],\n",
       "       [0., 0., 0.],\n",
       "       [0., 0., 0.],\n",
       "       [0., 0., 0.],\n",
       "       [0., 0., 0.],\n",
       "       [0., 0., 0.],\n",
       "       [0., 0., 0.],\n",
       "       [0., 0., 0.],\n",
       "       [0., 0., 0.],\n",
       "       [0., 0., 0.],\n",
       "       [0., 0., 0.],\n",
       "       [0., 0., 0.],\n",
       "       [0., 0., 0.],\n",
       "       [0., 0., 0.],\n",
       "       [0., 0., 0.],\n",
       "       [0., 0., 0.],\n",
       "       [0., 0., 0.],\n",
       "       [0., 0., 0.],\n",
       "       [0., 0., 0.],\n",
       "       [0., 0., 0.],\n",
       "       [0., 0., 0.],\n",
       "       [0., 0., 0.],\n",
       "       [0., 0., 0.],\n",
       "       [0., 0., 0.],\n",
       "       [0., 0., 0.],\n",
       "       [0., 0., 0.],\n",
       "       [0., 0., 0.],\n",
       "       [0., 0., 0.],\n",
       "       [1., 0., 0.],\n",
       "       [2., 0., 0.],\n",
       "       [2., 1., 0.],\n",
       "       [2., 2., 0.],\n",
       "       [2., 3., 0.],\n",
       "       [2., 3., 1.],\n",
       "       [2., 3., 2.],\n",
       "       [2., 3., 3.],\n",
       "       [2., 3., 4.],\n",
       "       [3., 3., 4.],\n",
       "       [4., 3., 4.],\n",
       "       [5., 3., 4.],\n",
       "       [6., 3., 4.]], dtype=float32)"
      ]
     },
     "execution_count": 14,
     "metadata": {},
     "output_type": "execute_result"
    }
   ],
   "source": [
    "batch_data[0]"
   ]
  },
  {
   "cell_type": "code",
   "execution_count": 35,
   "id": "faa36289-1afb-4dbd-874b-503c80915ab1",
   "metadata": {},
   "outputs": [],
   "source": [
    "def compute_sum_fixations(this_seq, fix_unit = 'sum'):\n",
    "    \n",
    "    #print(this_seq)\n",
    "    \n",
    "    if len(this_seq) == 0:\n",
    "        return this_seq\n",
    "    \n",
    "    sum_fix = np.cumsum(this_seq,0)\n",
    "    # print(sum_fix)\n",
    "\n",
    "    total_fix = np.sum(sum_fix,1)\n",
    "    prop_fix = np.array([sum_fix[i,:] / total_fix[i] for i in range(len(this_seq))], dtype = 'float32')\n",
    "\n",
    "    if fix_unit == 'sum':\n",
    "        return sum_fix\n",
    "    \n",
    "    elif fix_unit == 'prop':\n",
    "        return prop_fix\n",
    "    elif fix_unit == 'all':\n",
    "        return np.hstack((this_seq, sum_fix, prop_fix))\n",
    "    else:\n",
    "        print('surprise input type')\n",
    "\n",
    "        \n",
    "fix_unit = 'all'\n",
    "\n",
    "# this is for fixations only\n",
    "# def gen_batch_data_fixations_only(batch_size, batch_idx, data, use_human_data=False, fix_unit = 'ID'):\n",
    "data = train_data_human\n",
    "use_human_data = True\n",
    "\n",
    "# filter list of trials that are in this batch\n",
    "batch_sim_data = data[batch_idx*batch_size:((batch_idx+1)*(batch_size))]\n",
    "\n",
    "# all sequences in the batch, attended item is coded as idx (as 0, 1, 2)\n",
    "if use_human_data:\n",
    "    batch_fixation_sequences_idx = [(np.array(trial_data['fixations'])-1).tolist() for trial_data in batch_sim_data]\n",
    "else:\n",
    "    batch_fixation_sequences_idx = [trial_data['fixations'] for trial_data in batch_sim_data]\n",
    "\n",
    "# first 3 are fixation, last is choice...\n",
    "batch_sequences_cat = [[to_categorical(x, num_classes = 3) for x in this_sequence] for this_sequence in batch_fixation_sequences_idx]\n",
    "\n",
    "# pick a better name for this\n",
    "if fix_unit != 'ID':\n",
    "    batch_sequences_cat = [compute_sum_fixations(this_seq, fix_unit = fix_unit) for this_seq in batch_sequences_cat]\n",
    "\n",
    "# now append to each of these the choice info - the choice gets it's own channel (of 3)\n",
    "batch_data = pad_sequences(batch_sequences_cat, dtype = 'float32')\n",
    "# batch_data = np.array(batch_sequences_cat)\n",
    "# batch_data = batch_data.astype('float32')\n",
    "\n",
    "batch_targets_init = np.array([trial_data['value'] for trial_data in batch_sim_data], dtype = 'float32')\n",
    "batch_targets_cont = [np.repeat([batch_targets_init[i]],len(batch_sequences_cat[i]),axis=0) for i in range(len(batch_sequences_cat))]\n",
    "\n",
    "batch_targets = pad_sequences(batch_targets_cont)\n",
    "batch_targets = batch_targets.astype('float32')"
   ]
  },
  {
   "cell_type": "code",
   "execution_count": 37,
   "id": "ed1d7693-aa35-48c1-a164-ed2a535b482c",
   "metadata": {},
   "outputs": [
    {
     "data": {
      "text/plain": [
       "array([[0.        , 0.        , 0.        , 0.        , 0.        ,\n",
       "        0.        , 0.        , 0.        , 0.        ],\n",
       "       [0.        , 0.        , 0.        , 0.        , 0.        ,\n",
       "        0.        , 0.        , 0.        , 0.        ],\n",
       "       [0.        , 0.        , 0.        , 0.        , 0.        ,\n",
       "        0.        , 0.        , 0.        , 0.        ],\n",
       "       [0.        , 0.        , 0.        , 0.        , 0.        ,\n",
       "        0.        , 0.        , 0.        , 0.        ],\n",
       "       [0.        , 0.        , 0.        , 0.        , 0.        ,\n",
       "        0.        , 0.        , 0.        , 0.        ],\n",
       "       [0.        , 0.        , 0.        , 0.        , 0.        ,\n",
       "        0.        , 0.        , 0.        , 0.        ],\n",
       "       [0.        , 0.        , 0.        , 0.        , 0.        ,\n",
       "        0.        , 0.        , 0.        , 0.        ],\n",
       "       [0.        , 0.        , 0.        , 0.        , 0.        ,\n",
       "        0.        , 0.        , 0.        , 0.        ],\n",
       "       [0.        , 0.        , 0.        , 0.        , 0.        ,\n",
       "        0.        , 0.        , 0.        , 0.        ],\n",
       "       [0.        , 0.        , 0.        , 0.        , 0.        ,\n",
       "        0.        , 0.        , 0.        , 0.        ],\n",
       "       [0.        , 0.        , 0.        , 0.        , 0.        ,\n",
       "        0.        , 0.        , 0.        , 0.        ],\n",
       "       [0.        , 0.        , 0.        , 0.        , 0.        ,\n",
       "        0.        , 0.        , 0.        , 0.        ],\n",
       "       [0.        , 0.        , 0.        , 0.        , 0.        ,\n",
       "        0.        , 0.        , 0.        , 0.        ],\n",
       "       [0.        , 0.        , 0.        , 0.        , 0.        ,\n",
       "        0.        , 0.        , 0.        , 0.        ],\n",
       "       [0.        , 0.        , 0.        , 0.        , 0.        ,\n",
       "        0.        , 0.        , 0.        , 0.        ],\n",
       "       [0.        , 0.        , 0.        , 0.        , 0.        ,\n",
       "        0.        , 0.        , 0.        , 0.        ],\n",
       "       [0.        , 0.        , 0.        , 0.        , 0.        ,\n",
       "        0.        , 0.        , 0.        , 0.        ],\n",
       "       [0.        , 0.        , 0.        , 0.        , 0.        ,\n",
       "        0.        , 0.        , 0.        , 0.        ],\n",
       "       [0.        , 0.        , 0.        , 0.        , 0.        ,\n",
       "        0.        , 0.        , 0.        , 0.        ],\n",
       "       [0.        , 0.        , 0.        , 0.        , 0.        ,\n",
       "        0.        , 0.        , 0.        , 0.        ],\n",
       "       [0.        , 0.        , 0.        , 0.        , 0.        ,\n",
       "        0.        , 0.        , 0.        , 0.        ],\n",
       "       [0.        , 0.        , 0.        , 0.        , 0.        ,\n",
       "        0.        , 0.        , 0.        , 0.        ],\n",
       "       [0.        , 0.        , 0.        , 0.        , 0.        ,\n",
       "        0.        , 0.        , 0.        , 0.        ],\n",
       "       [0.        , 0.        , 0.        , 0.        , 0.        ,\n",
       "        0.        , 0.        , 0.        , 0.        ],\n",
       "       [0.        , 0.        , 0.        , 0.        , 0.        ,\n",
       "        0.        , 0.        , 0.        , 0.        ],\n",
       "       [0.        , 0.        , 0.        , 0.        , 0.        ,\n",
       "        0.        , 0.        , 0.        , 0.        ],\n",
       "       [0.        , 0.        , 0.        , 0.        , 0.        ,\n",
       "        0.        , 0.        , 0.        , 0.        ],\n",
       "       [0.        , 0.        , 0.        , 0.        , 0.        ,\n",
       "        0.        , 0.        , 0.        , 0.        ],\n",
       "       [0.        , 0.        , 0.        , 0.        , 0.        ,\n",
       "        0.        , 0.        , 0.        , 0.        ],\n",
       "       [0.        , 0.        , 0.        , 0.        , 0.        ,\n",
       "        0.        , 0.        , 0.        , 0.        ],\n",
       "       [0.        , 0.        , 0.        , 0.        , 0.        ,\n",
       "        0.        , 0.        , 0.        , 0.        ],\n",
       "       [0.        , 0.        , 0.        , 0.        , 0.        ,\n",
       "        0.        , 0.        , 0.        , 0.        ],\n",
       "       [0.        , 0.        , 0.        , 0.        , 0.        ,\n",
       "        0.        , 0.        , 0.        , 0.        ],\n",
       "       [1.        , 0.        , 0.        , 1.        , 0.        ,\n",
       "        0.        , 1.        , 0.        , 0.        ],\n",
       "       [1.        , 0.        , 0.        , 2.        , 0.        ,\n",
       "        0.        , 1.        , 0.        , 0.        ],\n",
       "       [0.        , 1.        , 0.        , 2.        , 1.        ,\n",
       "        0.        , 0.6666667 , 0.33333334, 0.        ],\n",
       "       [0.        , 1.        , 0.        , 2.        , 2.        ,\n",
       "        0.        , 0.5       , 0.5       , 0.        ],\n",
       "       [0.        , 1.        , 0.        , 2.        , 3.        ,\n",
       "        0.        , 0.4       , 0.6       , 0.        ],\n",
       "       [0.        , 0.        , 1.        , 2.        , 3.        ,\n",
       "        1.        , 0.33333334, 0.5       , 0.16666667],\n",
       "       [0.        , 0.        , 1.        , 2.        , 3.        ,\n",
       "        2.        , 0.2857143 , 0.42857143, 0.2857143 ],\n",
       "       [0.        , 0.        , 1.        , 2.        , 3.        ,\n",
       "        3.        , 0.25      , 0.375     , 0.375     ],\n",
       "       [0.        , 0.        , 1.        , 2.        , 3.        ,\n",
       "        4.        , 0.22222222, 0.33333334, 0.44444445],\n",
       "       [1.        , 0.        , 0.        , 3.        , 3.        ,\n",
       "        4.        , 0.3       , 0.3       , 0.4       ],\n",
       "       [1.        , 0.        , 0.        , 4.        , 3.        ,\n",
       "        4.        , 0.36363637, 0.27272728, 0.36363637],\n",
       "       [1.        , 0.        , 0.        , 5.        , 3.        ,\n",
       "        4.        , 0.41666666, 0.25      , 0.33333334],\n",
       "       [1.        , 0.        , 0.        , 6.        , 3.        ,\n",
       "        4.        , 0.46153846, 0.23076923, 0.30769232]], dtype=float32)"
      ]
     },
     "execution_count": 37,
     "metadata": {},
     "output_type": "execute_result"
    }
   ],
   "source": [
    "batch_data[0]"
   ]
  },
  {
   "cell_type": "code",
   "execution_count": 23,
   "id": "3291f4da-f16c-48d2-90f6-957567d66d06",
   "metadata": {},
   "outputs": [],
   "source": [
    "this_seq = batch_sequences_cat[0]\n",
    "this_seq\n",
    "\n",
    "sum_fix = np.cumsum(this_seq,0)\n",
    "# print(sum_fix)\n",
    "\n",
    "total_fix = np.sum(sum_fix,1)\n",
    "prop_fix = np.array([sum_fix[i,:] / total_fix[i] for i in range(len(this_seq))], dtype = 'float32')\n"
   ]
  },
  {
   "cell_type": "code",
   "execution_count": 33,
   "id": "45b328b9-d735-41be-95a8-158378d98772",
   "metadata": {},
   "outputs": [
    {
     "data": {
      "text/plain": [
       "array([[1.        , 0.        , 0.        , 1.        , 0.        ,\n",
       "        0.        , 1.        , 0.        , 0.        ],\n",
       "       [1.        , 0.        , 0.        , 2.        , 0.        ,\n",
       "        0.        , 1.        , 0.        , 0.        ],\n",
       "       [0.        , 1.        , 0.        , 2.        , 1.        ,\n",
       "        0.        , 0.6666667 , 0.33333334, 0.        ],\n",
       "       [0.        , 1.        , 0.        , 2.        , 2.        ,\n",
       "        0.        , 0.5       , 0.5       , 0.        ],\n",
       "       [0.        , 1.        , 0.        , 2.        , 3.        ,\n",
       "        0.        , 0.4       , 0.6       , 0.        ],\n",
       "       [0.        , 0.        , 1.        , 2.        , 3.        ,\n",
       "        1.        , 0.33333334, 0.5       , 0.16666667],\n",
       "       [0.        , 0.        , 1.        , 2.        , 3.        ,\n",
       "        2.        , 0.2857143 , 0.42857143, 0.2857143 ],\n",
       "       [0.        , 0.        , 1.        , 2.        , 3.        ,\n",
       "        3.        , 0.25      , 0.375     , 0.375     ],\n",
       "       [0.        , 0.        , 1.        , 2.        , 3.        ,\n",
       "        4.        , 0.22222222, 0.33333334, 0.44444445],\n",
       "       [1.        , 0.        , 0.        , 3.        , 3.        ,\n",
       "        4.        , 0.3       , 0.3       , 0.4       ],\n",
       "       [1.        , 0.        , 0.        , 4.        , 3.        ,\n",
       "        4.        , 0.36363637, 0.27272728, 0.36363637],\n",
       "       [1.        , 0.        , 0.        , 5.        , 3.        ,\n",
       "        4.        , 0.41666666, 0.25      , 0.33333334],\n",
       "       [1.        , 0.        , 0.        , 6.        , 3.        ,\n",
       "        4.        , 0.46153846, 0.23076923, 0.30769232]], dtype=float32)"
      ]
     },
     "execution_count": 33,
     "metadata": {},
     "output_type": "execute_result"
    }
   ],
   "source": [
    "all_seq = np.hstack((this_seq, sum_fix, prop_fix))\n",
    "all_seq"
   ]
  },
  {
   "cell_type": "code",
   "execution_count": 39,
   "id": "eb6cea9f-620d-47b6-9345-16e9f62cfacf",
   "metadata": {},
   "outputs": [
    {
     "data": {
      "text/plain": [
       "(0,)"
      ]
     },
     "execution_count": 39,
     "metadata": {},
     "output_type": "execute_result"
    }
   ],
   "source": [
    "np.hstack(([],[],[])).shape"
   ]
  },
  {
   "cell_type": "code",
   "execution_count": null,
   "id": "7afdaeea-d67d-4143-8471-d666a7647b1e",
   "metadata": {},
   "outputs": [],
   "source": []
  }
 ],
 "metadata": {
  "kernelspec": {
   "display_name": "pDL [~/.conda/envs/pDL/]",
   "language": "python",
   "name": "conda_pdl"
  },
  "language_info": {
   "codemirror_mode": {
    "name": "ipython",
    "version": 3
   },
   "file_extension": ".py",
   "mimetype": "text/x-python",
   "name": "python",
   "nbconvert_exporter": "python",
   "pygments_lexer": "ipython3",
   "version": "3.8.12"
  }
 },
 "nbformat": 4,
 "nbformat_minor": 5
}
