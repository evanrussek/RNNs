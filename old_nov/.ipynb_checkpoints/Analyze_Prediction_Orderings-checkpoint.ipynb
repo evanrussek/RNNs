{
 "cells": [
  {
   "cell_type": "markdown",
   "id": "20dea7a8-734c-427a-8105-bc7deb3714ae",
   "metadata": {},
   "source": [
    "## Load trained models, and take new metric of test performance - how often correct max or mins are selected"
   ]
  },
  {
   "cell_type": "code",
   "execution_count": 1,
   "id": "fd900d96-2678-4d52-90c9-d87d076bbde8",
   "metadata": {},
   "outputs": [],
   "source": [
    "import json\n",
    "import numpy as np\n",
    "import matplotlib.pyplot as plt\n",
    "# funcs stolen from nyu deep learning course\n",
    "from sequential_tasks import pad_sequences, to_categorical\n",
    "import os\n",
    "import random\n",
    "import torch\n",
    "from load_data_funs import load_data, gen_batch_data_fixations_choice, gen_batch_data_fixations_only, gen_batch_data_choice_only\n",
    "\n",
    "on_cluster=True\n",
    "if on_cluster:\n",
    "    sim_data_path = '/scratch/gpfs/erussek/RNN_project/optimal_fixation_sims'\n",
    "    human_data_path = '/scratch/gpfs/erussek/RNN_project/human_trials.json'\n",
    "else:\n",
    "    sim_data_path = '/Users/evanrussek/Dropbox/Griffiths_Lab_Stuff/Data/RNNs/optimal_fixation_sims'\n",
    "    human_data_path = '/Users/evanrussek/Dropbox/Griffiths_Lab_Stuff/Data/RNNs/human_trials.json'"
   ]
  },
  {
   "cell_type": "code",
   "execution_count": 2,
   "id": "fdb4a668-b23a-4b99-91cd-f8af796d6d2a",
   "metadata": {},
   "outputs": [],
   "source": [
    "# load data train and test sets...\n",
    "train_data_sim, test_data_sim, human_data = load_data(sim_data_path, human_data_path, this_seed=0)"
   ]
  },
  {
   "cell_type": "code",
   "execution_count": 3,
   "id": "b2d1d871-27ec-4bc3-b2aa-5a1958b4e40f",
   "metadata": {},
   "outputs": [],
   "source": [
    "# compoute correlation with held-out test data... \n",
    "def test_record_each_output(model, test_sim_data, device, batch_size, n_total_seq, gen_batch_data,out_idx, choice_only=False, use_human_data=False):\n",
    "    # Set the model to evaluation mode. This will turn off layers that would\n",
    "    # otherwise behave differently during training, such as dropout.\n",
    "    \n",
    "    # print(choice_only)\n",
    "    model.eval()\n",
    "\n",
    "    # Store the number of sequences that were classified correctly\n",
    "    # num_correct = 0\n",
    "\n",
    "    n_batches = int(np.round(n_total_seq/batch_size));\n",
    "\n",
    "    output_all = np.zeros((0,3))\n",
    "    target_all = np.zeros((0,3))\n",
    "\n",
    "    # A context manager is used to disable gradient calculations during inference\n",
    "    # to reduce memory usage, as we typically don't need the gradients at this point.\n",
    "    with torch.no_grad():\n",
    "        for batch_idx in range(n_batches):\n",
    "            data, target = gen_batch_data(batch_size, batch_idx, test_sim_data, use_human_data = use_human_data)\n",
    "            data, target = torch.from_numpy(data).float().to(device), torch.from_numpy(target).long().to(device)\n",
    "\n",
    "            output = model(data)\n",
    "            # Pick only the output corresponding to last sequence element (input is pre padded)\n",
    "            if not choice_only:\n",
    "                output = output[:, -out_idx, :]\n",
    "                target = target[:,-out_idx,:]\n",
    "\n",
    "            output_all = np.concatenate((output_all, output.numpy()))\n",
    "            target_all = np.concatenate((target_all, target.numpy()))\n",
    "#            print(target)\n",
    "\n",
    "    return (output_all, target_all)\n"
   ]
  },
  {
   "cell_type": "code",
   "execution_count": 4,
   "id": "7364ca79-dc9d-4edc-a8a3-c63e5486e8d8",
   "metadata": {},
   "outputs": [],
   "source": [
    "def load_model(to_save_folder, train_setting, job_idx):\n",
    "    \n",
    "    model_full_file_name = os.path.join(to_save_folder, 'model_train_setting_{}_job_{}'.format(train_setting,job_idx))\n",
    "    trained_model = torch.load(model_full_file_name)\n",
    "\n",
    "    return trained_model\n",
    "\n"
   ]
  },
  {
   "cell_type": "code",
   "execution_count": 5,
   "id": "fb183885-7910-4dfa-891c-a060c8afa774",
   "metadata": {},
   "outputs": [],
   "source": [
    "\n",
    "\n",
    "\n",
    "train_setting=0\n",
    "job_idx=0\n",
    "\n",
    "on_cluster = True\n",
    "# set up folder to save results\n",
    "if on_cluster:\n",
    "    to_save_folder = '/scratch/gpfs/erussek/RNN_project/train_on_sim_results_oct'\n",
    "else:\n",
    "    to_save_folder = '/Users/evanrussek/Dropbox/Griffiths_Lab_Stuff/Code/RNNs/train_on_sim_results'\n",
    "\n",
    "def get_pct_max_min(trained_model, test_data_sim, train_setting, n_back):\n",
    "\n",
    "    train_data_funcs = [gen_batch_data_fixations_choice, gen_batch_data_fixations_only, gen_batch_data_choice_only]\n",
    "    this_data_func = train_data_funcs[train_setting]\n",
    "\n",
    "    # train on a 1 mil. examples, generate learning curves... \n",
    "    batch_size  = 32\n",
    "    n_total_seq = 1.5e6\n",
    "    device = torch.device('cuda:0' if torch.cuda.is_available() else 'cpu')\n",
    "\n",
    "    n_seq_test = 1000\n",
    "    \n",
    "    choice_only=False\n",
    "    if train_setting==2:\n",
    "        choice_only=True\n",
    "        \n",
    "    output_all_LSTM, target_all_LSTM = test_record_each_output(trained_model, test_data_sim, device, batch_size, n_seq_test,this_data_func, n_back,choice_only=choice_only, use_human_data=False)\n",
    "    target_all_FILT = target_all_LSTM[target_all_LSTM[:,1] != 0, :]\n",
    "    output_all_FILT = output_all_LSTM[target_all_LSTM[:,1] != 0, :]\n",
    "\n",
    "    output_max_item = output_all_FILT.argmax(axis=1)\n",
    "    target_max_item = target_all_FILT.argmax(axis=1)\n",
    "    pct_correct_max = np.sum(output_max_item == target_max_item)/len(output_max_item)\n",
    "\n",
    "    output_min_item = output_all_FILT.argmin(axis=1)\n",
    "    target_min_item = target_all_FILT.argmin(axis=1)\n",
    "\n",
    "    #print(output_min_item)\n",
    "    \n",
    "    pct_correct_min = np.sum(output_min_item == target_min_item)/len(output_min_item)\n",
    "    correct_order = (output_min_item == target_min_item) & (output_max_item == target_max_item)\n",
    "    pct_correct_order = np.sum(correct_order)/len(correct_order)\n",
    "    \n",
    "    return pct_correct_max, pct_correct_min, pct_correct_order\n",
    "\n",
    "\n",
    "#get_pct_max_min(trained_model, test_data_sim, 1, 1)"
   ]
  },
  {
   "cell_type": "code",
   "execution_count": 6,
   "id": "de325361-70db-49a4-9a70-080ffc20b2b6",
   "metadata": {},
   "outputs": [
    {
     "name": "stdout",
     "output_type": "stream",
     "text": [
      "0\n",
      "0 1 2 3 4 5 6 7 8 9 10 11 12 13 14 15 16 17 18 1\n",
      "0 1 2 3 4 5 6 7 8 9 10 11 12 13 14 15 16 17 18 2\n",
      "0 1 2 3 4 5 6 7 8 9 10 11 12 13 14 15 16 17 18 3\n",
      "0 1 2 3 4 5 6 7 8 9 10 11 12 13 14 15 16 17 18 4\n",
      "0 1 2 3 4 5 6 7 8 9 10 11 12 13 14 15 16 17 18 5\n",
      "0 1 2 3 4 5 6 7 8 9 10 11 12 13 14 15 16 17 18 6\n",
      "0 1 2 3 4 5 6 7 8 9 10 11 12 13 14 15 16 17 18 7\n",
      "0 1 2 3 4 5 6 7 8 9 10 11 12 13 14 15 16 17 18 8\n",
      "0 1 2 3 4 5 6 7 8 9 10 11 12 13 14 15 16 17 18 9\n",
      "0 1 2 3 4 5 6 7 8 9 10 11 12 13 14 15 16 17 18 "
     ]
    }
   ],
   "source": [
    "def load_model_and_get_pct_max_min(to_save_folder, train_setting, job_idx, n_back=1):\n",
    "    trained_model = load_model(to_save_folder, train_setting, job_idx)\n",
    "    return get_pct_max_min(trained_model, test_data_sim, train_setting, n_back)\n",
    "\n",
    "\n",
    "n_jobs = 10\n",
    "n_nback_tps = 19\n",
    "\n",
    "max_min_res0 = np.zeros((n_jobs, n_nback_tps, 3))\n",
    "\n",
    "for job_idx in range(n_jobs):\n",
    "    print(job_idx)\n",
    "    for n_back_idx in range(n_nback_tps):\n",
    "        print(n_back_idx, end=' ')\n",
    "\n",
    "        max_min_res0[job_idx, n_back_idx,:] = load_model_and_get_pct_max_min(to_save_folder, 0, job_idx, n_back=n_back_idx+1);\n",
    "  "
   ]
  },
  {
   "cell_type": "code",
   "execution_count": 36,
   "id": "093b84dd-0ce9-4cb1-9d4e-1144234753a4",
   "metadata": {},
   "outputs": [
    {
     "data": {
      "text/plain": [
       "Text(0.5, 0, 'Time-point relative to choice')"
      ]
     },
     "execution_count": 36,
     "metadata": {},
     "output_type": "execute_result"
    },
    {
     "data": {
      "image/png": "[encoded data removed]",
      "text/plain": [
       "<Figure size 300x300 with 1 Axes>"
      ]
     },
     "metadata": {
      "needs_background": "light"
     },
     "output_type": "display_data"
    }
   ],
   "source": [
    "correct_max_over_time = np.mean(max_min_res0[:,:,0],axis=0)\n",
    "correct_min_over_time = np.mean(max_min_res0[:,:,1],axis=0)\n",
    "correct_order_over_time = np.mean(max_min_res0[:,:,2],axis=0)\n",
    "\n",
    "these_tps = np.arange(-18,1,1)\n",
    "\n",
    "fig,ax = plt.subplots(figsize=(3,3),dpi=100)\n",
    "ax.plot(these_tps,np.flip(correct_max_over_time), color = 'b', label = 'Max')\n",
    "ax.plot(these_tps,np.flip(correct_min_over_time), color = 'g', label = 'Min')\n",
    "#ax.plot( , 1/3, color = 'b', linestyle = '--')\n",
    "ax.axhline(y = 1/3, color = 'gray', linestyle = '--')\n",
    "ax.plot(these_tps,np.flip(correct_order_over_time), color = 'r', label = 'Full Order')\n",
    "ax.plot(these_tps,np.flip(correct_order_over_time), color = 'r')\n",
    "ax.axhline(y = 1/6, color = 'r', linestyle = '--')\n",
    "ax.legend()#loc=(1.01,0))\n",
    "ax.set_ylim(0,.75)\n",
    "ax.set_ylabel(\"Proportion Correct\")\n",
    "ax.set_xlabel(\"Time-point relative to choice\")"
   ]
  },
  {
   "cell_type": "code",
   "execution_count": null,
   "id": "e5987520-9e2d-4c15-ada9-425a45c348af",
   "metadata": {},
   "outputs": [],
   "source": [
    "len(np.arange(-18,1,1))"
   ]
  },
  {
   "cell_type": "code",
   "execution_count": null,
   "id": "29760367-90ed-4edc-bf42-c76d6852e11d",
   "metadata": {},
   "outputs": [],
   "source": [
    "trained_model = load_model(to_save_folder, 0, 0)\n",
    "n_back = 1\n",
    "\n",
    "train_data_funcs = [gen_batch_data_fixations_choice, gen_batch_data_fixations_only, gen_batch_data_choice_only]\n",
    "this_data_func = train_data_funcs[train_setting]\n",
    "\n",
    "# train on a 1 mil. examples, generate learning curves... \n",
    "batch_size  = 32\n",
    "n_total_seq = 1.5e6\n",
    "device = torch.device('cuda:0' if torch.cuda.is_available() else 'cpu')\n",
    "\n",
    "n_seq_test = 1000\n",
    "\n",
    "choice_only=False\n",
    "if train_setting==2:\n",
    "    choice_only=True\n",
    "\n",
    "output_all_LSTM, target_all_LSTM = test_record_each_output(trained_model, test_data_sim, device, batch_size, n_seq_test,this_data_func, n_back,choice_only=choice_only, use_human_data=False)\n",
    "target_all_FILT = target_all_LSTM[target_all_LSTM[:,1] != 0, :]\n",
    "output_all_FILT = output_all_LSTM[target_all_LSTM[:,1] != 0, :]\n",
    "\n",
    "output_max_item = output_all_FILT.argmax(axis=1)\n",
    "target_max_item = target_all_FILT.argmax(axis=1)\n",
    "pct_correct_max = np.sum(output_max_item == target_max_item)/len(output_max_item)\n",
    "\n",
    "output_min_item = output_all_FILT.argmin(axis=1)\n",
    "target_min_item = target_all_FILT.argmin(axis=1)\n",
    "\n",
    "#print(output_min_item)\n",
    "\n",
    "pct_correct_min = np.sum(output_min_item == target_min_item)/len(output_min_item)\n",
    "\n",
    "correct_order = (output_min_item == target_min_item) & (output_max_item == target_max_item)\n",
    "pct_correct_order = np.sum(correct_order)/len(correct_order)"
   ]
  },
  {
   "cell_type": "code",
   "execution_count": null,
   "id": "59dbedf3-c2af-4b06-9b4b-f3cc647b6d49",
   "metadata": {},
   "outputs": [],
   "source": [
    "pct_correct_order"
   ]
  },
  {
   "cell_type": "code",
   "execution_count": null,
   "id": "0b0b975b-31ea-44ca-afc2-696945e397f7",
   "metadata": {},
   "outputs": [],
   "source": [
    "1/6"
   ]
  },
  {
   "cell_type": "code",
   "execution_count": 24,
   "id": "0e0067c5-9be9-4f3d-8411-66665ce7d44a",
   "metadata": {},
   "outputs": [],
   "source": [
    "target_all_FILT = target_all_LSTM[target_all_LSTM[:,1] != 0, :]"
   ]
  },
  {
   "cell_type": "code",
   "execution_count": 25,
   "id": "37d69143-f02a-4a8f-8f36-c2efb6da41f0",
   "metadata": {},
   "outputs": [
    {
     "data": {
      "text/plain": [
       "array([[2., 5., 3.],\n",
       "       [6., 5., 1.],\n",
       "       [3., 1., 2.],\n",
       "       ...,\n",
       "       [1., 2., 3.],\n",
       "       [1., 3., 7.],\n",
       "       [1., 9., 8.]])"
      ]
     },
     "execution_count": 25,
     "metadata": {},
     "output_type": "execute_result"
    }
   ],
   "source": [
    "target_all_FILT"
   ]
  },
  {
   "cell_type": "code",
   "execution_count": null,
   "id": "d837b6a4-7062-4636-871c-a026c5c4d247",
   "metadata": {},
   "outputs": [],
   "source": []
  }
 ],
 "metadata": {
  "kernelspec": {
   "display_name": "pDL [~/.conda/envs/pDL/]",
   "language": "python",
   "name": "conda_pdl"
  },
  "language_info": {
   "codemirror_mode": {
    "name": "ipython",
    "version": 3
   },
   "file_extension": ".py",
   "mimetype": "text/x-python",
   "name": "python",
   "nbconvert_exporter": "python",
   "pygments_lexer": "ipython3",
   "version": "3.8.12"
  }
 },
 "nbformat": 4,
 "nbformat_minor": 5
}
