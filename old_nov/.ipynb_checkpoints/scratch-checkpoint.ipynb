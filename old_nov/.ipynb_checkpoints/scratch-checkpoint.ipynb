{
 "cells": [
  {
   "cell_type": "code",
   "execution_count": null,
   "id": "667fe701-921e-403b-b1d3-d4d5ced413c7",
   "metadata": {},
   "outputs": [],
   "source": [
    "%run pref_master_file"
   ]
  },
  {
   "cell_type": "code",
   "execution_count": null,
   "id": "0cf6814b-f7ca-43f8-87df-bea03002e4e6",
   "metadata": {},
   "outputs": [],
   "source": [
    "n_human_epochs_train"
   ]
  },
  {
   "cell_type": "code",
   "execution_count": null,
   "id": "be7e9582-81ac-40fe-80d5-f96637d09d56",
   "metadata": {},
   "outputs": [],
   "source": [
    "1.5e5/2000"
   ]
  },
  {
   "cell_type": "code",
   "execution_count": null,
   "id": "d7f750b6-4f1e-4520-98f1-e1599215e1d3",
   "metadata": {},
   "outputs": [],
   "source": [
    "1.75e6"
   ]
  },
  {
   "cell_type": "code",
   "execution_count": null,
   "id": "32402f94-cf61-4e42-a120-20f700c9431e",
   "metadata": {},
   "outputs": [],
   "source": []
  }
 ],
 "metadata": {
  "kernelspec": {
   "display_name": "pDL [~/.conda/envs/pDL/]",
   "language": "python",
   "name": "conda_pdl"
  },
  "language_info": {
   "codemirror_mode": {
    "name": "ipython",
    "version": 3
   },
   "file_extension": ".py",
   "mimetype": "text/x-python",
   "name": "python",
   "nbconvert_exporter": "python",
   "pygments_lexer": "ipython3",
   "version": "3.8.12"
  }
 },
 "nbformat": 4,
 "nbformat_minor": 5
}
