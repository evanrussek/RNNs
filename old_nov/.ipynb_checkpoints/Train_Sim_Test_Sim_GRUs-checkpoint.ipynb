{
 "cells": [
  {
   "cell_type": "code",
   "execution_count": 21,
   "id": "f8cdf97a-252d-4d36-a398-4234957505b3",
   "metadata": {},
   "outputs": [],
   "source": [
    "# set up packages\n",
    "import numpy as np\n",
    "import matplotlib.pyplot as plt\n",
    "import pickle\n",
    "import time\n",
    "import sys\n",
    "import torch\n",
    "import os\n",
    "import random\n",
    "import math\n",
    "\n",
    "from load_data_funs import load_data, gen_batch_data_fixations_choice, gen_batch_data_fixations_only, gen_batch_data_choice_only\n",
    "from neural_nets import SimpleLSTM, SimpleMLP"
   ]
  },
  {
   "cell_type": "code",
   "execution_count": 2,
   "id": "935d3903-1354-492b-aa50-f042b1bc5861",
   "metadata": {},
   "outputs": [],
   "source": [
    "train_setting = 0\n",
    "job_idx = 0\n",
    "\n",
    "on_cluster = True\n",
    "if on_cluster:\n",
    "    sim_data_path = '/scratch/gpfs/erussek/RNN_project/optimal_fixation_sims'\n",
    "    human_data_path = '/scratch/gpfs/erussek/RNN_project/human_trials.json'\n",
    "else:\n",
    "    sim_data_path = '/Users/erussek/Dropbox/Griffiths_Lab_Stuff/Data/RNNs/optimal_fixation_sims'\n",
    "    human_data_path = '/Users/erussek/Dropbox/Griffiths_Lab_Stuff/Data/RNNs/human_trials.json'"
   ]
  },
  {
   "cell_type": "code",
   "execution_count": 3,
   "id": "2346f592-ec49-4b54-b206-cfafc578b045",
   "metadata": {},
   "outputs": [],
   "source": [
    "train_data_funcs = [gen_batch_data_fixations_choice, gen_batch_data_fixations_only, gen_batch_data_choice_only]\n",
    "this_data_func = train_data_funcs[train_setting]"
   ]
  },
  {
   "cell_type": "code",
   "execution_count": 4,
   "id": "7cbc64d6-8bc4-4520-930b-17ac7e8e5b4b",
   "metadata": {},
   "outputs": [],
   "source": [
    "\n",
    "# function to test model...\n",
    "def test(model, test_sim_data, criterion, device, batch_size, n_total_seq, gen_batch_data,use_human_data = False):\n",
    "    # Set the model to evaluation mode. This will turn off layers that would\n",
    "    # otherwise behave differently during training, such as dropout.\n",
    "    model.eval()\n",
    "    \n",
    "    n_total_seq = 1000\n",
    "\n",
    "    n_batches = int(np.round(n_total_seq / batch_size));\n",
    "\n",
    "    loss_res = np.zeros((n_batches, 1), dtype=float)\n",
    "\n",
    "    # A context manager is used to disable gradient calculations during inference\n",
    "    # to reduce memory usage, as we typically don't need the gradients at this point.\n",
    "    with torch.no_grad():\n",
    "        for batch_idx in range(n_batches):\n",
    "            data, target = gen_batch_data(batch_size, batch_idx, test_sim_data, use_human_data=use_human_data)\n",
    "            data, target = torch.from_numpy(data).float().to(device), torch.from_numpy(target).long().to(device)\n",
    "\n",
    "            output = model(data)\n",
    "            \n",
    "            to_keep = target != 0\n",
    "            target = target[to_keep]\n",
    "            output = output[to_keep]\n",
    "            \n",
    "            # target = target.argmax(dim=1)\n",
    "            loss = criterion(output, target)  # is this just for the last batch?\n",
    "\n",
    "            # store the loss\n",
    "            loss_res[batch_idx] = loss.item()\n",
    "\n",
    "    return np.mean(loss_res)"
   ]
  },
  {
   "cell_type": "code",
   "execution_count": 5,
   "id": "24df7b65-5801-43a2-a25c-42a33e6d9d55",
   "metadata": {},
   "outputs": [],
   "source": [
    "\n",
    "def train_with_intermediate_tests(model, train_sim_data, test_sim_data, criterion, optimizer, device, batch_size, n_total_seq, gen_batch_data, use_human_data = False, model_name = \"\", n_epochs = 1):\n",
    "    # Set the model to training mode. This will turn on layers that would\n",
    "    # otherwise behave differently during evaluation, such as dropout.\n",
    "    model.train()\n",
    "    \n",
    "    # What metric to store?\n",
    "    # num_correct = 0\n",
    "\n",
    "    # Iterate over every batch of sequences. Note that the length of a data generator\n",
    "    # is defined as the number of batches required to produce a total of roughly 1000\n",
    "    # sequences given a batch size.\n",
    "        \n",
    "    # how many batches\n",
    "    n_batches = int(np.round(n_total_seq/batch_size));\n",
    "    \n",
    "    loss_res = []\n",
    "    train_loss_res = []\n",
    "    train_num = []\n",
    "    \n",
    "    print('n_epochs: '+str(n_epochs))\n",
    "    \n",
    "    for epoch_idx in range(n_epochs):\n",
    "        print(epoch_idx)\n",
    "        for batch_idx in range(n_batches):\n",
    "            \n",
    "            this_batch_idx = n_batches*epoch_idx + batch_idx\n",
    "            #print(this_batch_idx)\n",
    "\n",
    "            # Request a batch of sequences and class labels, convert them into tensors\n",
    "            # of the correct type, and then send them to the appropriate device.\n",
    "            data, target = gen_batch_data(batch_size, batch_idx, train_sim_data, use_human_data=use_human_data)\n",
    "\n",
    "            data, target = torch.from_numpy(data).float().to(device), torch.from_numpy(target).long().to(device)\n",
    "\n",
    "            # Perform the forward pass of the model\n",
    "            output = model(data)  # Step\n",
    "\n",
    "\n",
    "            # for some reason target is an int, and dosn't match the output which is float32\n",
    "            target = target.to(torch.float32)\n",
    "\n",
    "            # remove padding (nicely, this is just 0's)\n",
    "            to_keep = target != 0\n",
    "            target = target[to_keep]\n",
    "            output = output[to_keep]\n",
    "\n",
    "            # need to re-write this function... \n",
    "            loss = criterion(output, target)  # Step\n",
    "\n",
    "            # Clear the gradient buffers of the optimized parameters.\n",
    "            # Otherwise, gradients from the previous batch would be accumulated.\n",
    "            optimizer.zero_grad()  # Step\n",
    "\n",
    "            loss.backward()  # Step\n",
    "\n",
    "            optimizer.step()  # Step\n",
    "\n",
    "            # \n",
    "            if ((this_batch_idx % 50) == 0) & (batch_idx > 0):\n",
    "                test_loss = test(model, test_sim_data, criterion, device, batch_size, n_total_seq, gen_batch_data, use_human_data=use_human_data)\n",
    "                loss_res.append(test_loss)\n",
    "\n",
    "                train_loss_res.append(loss.item())\n",
    "                train_num.append(200*(this_batch_idx+1))\n",
    "                \n",
    "                print('batch num' + str(batch_idx) + ' loss: ' + str(test_loss), flush=True)\n",
    "\n",
    "        #return num_correct, loss.item()\n",
    "    return model, np.array(loss_res), np.array(train_num)#loss.item()"
   ]
  },
  {
   "cell_type": "code",
   "execution_count": 6,
   "id": "49c97542-b14b-480d-9079-cf93d0536000",
   "metadata": {},
   "outputs": [],
   "source": [
    "train_data_sim, test_data_sim, human_data = load_data(sim_data_path, human_data_path,this_seed=job_idx)\n",
    "this_data_func = train_data_funcs[train_setting]"
   ]
  },
  {
   "cell_type": "code",
   "execution_count": 7,
   "id": "342453b2-d18c-4d0f-95b4-6d9b010ba293",
   "metadata": {},
   "outputs": [],
   "source": [
    "# train on a 1.5 mil examples, generate learning curves... \n",
    "batch_size  = 32\n",
    "n_total_seq = 5e4\n",
    "n_batches = int(np.round(n_total_seq/batch_size));\n",
    "n_tests = int(np.ceil(n_batches/200)) - 1\n",
    "input_sizes = [6,3,3]\n",
    "torch.manual_seed(job_idx)\n",
    "input_size  = input_sizes[train_setting] # this is the length of the input vector? #train_data_gen.n_symbols\n",
    "hidden_size = 50#best_hiddens[train_setting] # is this relevant for everything?\n",
    "output_size = 3 # "
   ]
  },
  {
   "cell_type": "code",
   "execution_count": 41,
   "id": "f3e351fa-bd04-4a5e-a32f-7cfe0adb318c",
   "metadata": {},
   "outputs": [],
   "source": [
    "#### now create the model\n",
    "import torch\n",
    "import torch.nn as nn\n",
    "import torch.nn.functional as F\n",
    "\n",
    "# set up neural networks\n",
    "class SimpleGRU(nn.Module):\n",
    "    def __init__(self, input_size, hidden_size, output_size):\n",
    "        super().__init__()\n",
    "        self.gru = torch.nn.GRU(input_size, hidden_size, batch_first=True)\n",
    "        self.linear = torch.nn.Linear(hidden_size, output_size)\n",
    "\n",
    "    def forward(self, x):\n",
    "        h = self.gru(x)[0]\n",
    "        x = self.linear(h)\n",
    "        return x\n",
    "    "
   ]
  },
  {
   "cell_type": "code",
   "execution_count": 36,
   "id": "c6f19243-0de5-4ccb-b30e-c7eefdfa5392",
   "metadata": {},
   "outputs": [],
   "source": [
    "#### now create the transfoermer model # we want a position encoding -> transformer encoder -> linear readout -- for now, just a single layer\n",
    "class PositionalEncoding(nn.Module):\n",
    "    r\"\"\"Inject some information about the relative or absolute position of the tokens in the sequence.\n",
    "        The positional encodings have the same dimension as the embeddings, so that the two can be summed.\n",
    "        Here, we use sine and cosine functions of different frequencies.\n",
    "    .. math:\n",
    "        \\text{PosEncoder}(pos, 2i) = sin(pos/10000^(2i/d_model))\n",
    "        \\text{PosEncoder}(pos, 2i+1) = cos(pos/10000^(2i/d_model))\n",
    "        \\text{where pos is the word position and i is the embed idx)\n",
    "    Args:\n",
    "        d_model: the embed dim (required).\n",
    "        dropout: the dropout value (default=0.1).\n",
    "        max_len: the max. length of the incoming sequence (default=5000).\n",
    "    Examples:\n",
    "        >>> pos_encoder = PositionalEncoding(d_model)\n",
    "    \"\"\"\n",
    "\n",
    "    def __init__(self, d_model, dropout=0.1, max_len=5000):\n",
    "        super(PositionalEncoding, self).__init__()\n",
    "        self.dropout = nn.Dropout(p=dropout)\n",
    "\n",
    "        pe = torch.zeros(max_len, d_model)\n",
    "        position = torch.arange(0, max_len, dtype=torch.float).unsqueeze(1)\n",
    "        div_term = torch.exp(torch.arange(0, d_model, 2).float() * (-math.log(10000.0) / d_model))\n",
    "        pe[:, 0::2] = torch.sin(position * div_term)\n",
    "        pe[:, 1::2] = torch.cos(position * div_term)\n",
    "        pe = pe.unsqueeze(0).transpose(0, 1)\n",
    "        self.register_buffer('pe', pe)\n",
    "\n",
    "    def forward(self, x):\n",
    "        r\"\"\"Inputs of forward function\n",
    "        Args:\n",
    "            x: the sequence fed to the positional encoder model (required).\n",
    "        Shape:\n",
    "            x: [sequence length, batch size, embed dim]\n",
    "            output: [sequence length, batch size, embed dim]\n",
    "        Examples:\n",
    "            >>> output = pos_encoder(x)\n",
    "        \"\"\"\n",
    "\n",
    "        x = x + self.pe[:x.size(0), :]\n",
    "        return self.dropout(x)\n",
    "\n",
    "    \n",
    "# now make a transformer - https://github.com/pytorch/examples/blob/main/word_language_model/model.py\n",
    "class SimpleTransformer(nn.Module):\n",
    "    def __init__(self, ntoken, input_size, hidden_size, output_size, nlayers = 1, nhead = 1, dropout=.1): # do you want dropout? this was .5 before...\n",
    "        super().__init__()\n",
    "        \n",
    "        try:\n",
    "            from torch.nn import TransformerEncoder, TransformerEncoderLayer\n",
    "        except:\n",
    "            raise ImportError('TransformerEncoder module does not exist in PyTorch 1.1 or lower.')\n",
    "                        \n",
    "        self.src_mask = None\n",
    "        self.pos_encoder = PositionalEncoding(input_size, dropout)\n",
    "        encoder_layers = TransformerEncoderLayer(input_size, nhead, hidden_size, dropout) # nhead???\n",
    "        self.transformer_encoder = TransformerEncoder(encoder_layers, nlayers)\n",
    "        self.encoder = nn.Embedding(ntoken, input_size)\n",
    "        self.ninp = input_size\n",
    "        self.decoder = nn.Linear(input_size, ntoken)\n",
    "        \n",
    "    def _generate_square_subsequent_mask(self, sz):\n",
    "        mask = (torch.triu(torch.ones(sz, sz)) == 1).transpose(0, 1)\n",
    "        mask = mask.float().masked_fill(mask == 0, float('-inf')).masked_fill(mask == 1, float(0.0))\n",
    "        return mask\n",
    "    \n",
    "    def forward(self, src, has_mask=True):\n",
    "        if has_mask:\n",
    "            device = src.device\n",
    "            if self.src_mask is None or self.src_mask.size(0) != len(src):\n",
    "                mask = self._generate_square_subsequent_mask(len(src)).to(device)\n",
    "                self.src_mask = mask\n",
    "        else:\n",
    "            self.src_mask = None\n",
    "\n",
    "        src = self.encoder(src) * math.sqrt(self.ninp)\n",
    "        src = self.pos_encoder(src)\n",
    "        output = self.transformer_encoder(src, self.src_mask)\n",
    "        output = self.decoder(output)\n",
    "        return output#F.log_softmax(output, dim=-1)\n",
    "\n",
    "\n",
    "\n"
   ]
  },
  {
   "cell_type": "code",
   "execution_count": 42,
   "id": "60bf3c03-b550-40a2-8f9f-8d03944d410f",
   "metadata": {},
   "outputs": [
    {
     "data": {
      "text/plain": [
       "SimpleGRU(\n",
       "  (gru): GRU(6, 50, batch_first=True)\n",
       "  (linear): Linear(in_features=50, out_features=3, bias=True)\n",
       ")"
      ]
     },
     "execution_count": 42,
     "metadata": {},
     "output_type": "execute_result"
    }
   ],
   "source": [
    "# ?torch.nn.GRU\n",
    "this_lr = .001\n",
    "\n",
    "model = SimpleGRU(input_size,hidden_size,output_size)\n",
    "criterion   = torch.nn.MSELoss()\n",
    "optimizer   = torch.optim.RMSprop(model.parameters(), lr= this_lr) # switch to adam?\n",
    "device = torch.device(\"cpu\")#torch.device('cuda:0' if torch.cuda.is_available() else 'cpu')\n",
    "model.to(device)\n"
   ]
  },
  {
   "cell_type": "code",
   "execution_count": 38,
   "id": "854d145a-5a9e-4a53-bc04-34a194597ac8",
   "metadata": {},
   "outputs": [
    {
     "data": {
      "text/plain": [
       "3"
      ]
     },
     "execution_count": 38,
     "metadata": {},
     "output_type": "execute_result"
    }
   ],
   "source": [
    "output_size"
   ]
  },
  {
   "cell_type": "code",
   "execution_count": 39,
   "id": "079d9c12-58a5-483c-a8e2-8f01f2de0da5",
   "metadata": {},
   "outputs": [
    {
     "data": {
      "text/plain": [
       "SimpleTransformer(\n",
       "  (pos_encoder): PositionalEncoding(\n",
       "    (dropout): Dropout(p=0.1, inplace=False)\n",
       "  )\n",
       "  (transformer_encoder): TransformerEncoder(\n",
       "    (layers): ModuleList(\n",
       "      (0): TransformerEncoderLayer(\n",
       "        (self_attn): MultiheadAttention(\n",
       "          (out_proj): NonDynamicallyQuantizableLinear(in_features=6, out_features=6, bias=True)\n",
       "        )\n",
       "        (linear1): Linear(in_features=6, out_features=50, bias=True)\n",
       "        (dropout): Dropout(p=0.1, inplace=False)\n",
       "        (linear2): Linear(in_features=50, out_features=6, bias=True)\n",
       "        (norm1): LayerNorm((6,), eps=1e-05, elementwise_affine=True)\n",
       "        (norm2): LayerNorm((6,), eps=1e-05, elementwise_affine=True)\n",
       "        (dropout1): Dropout(p=0.1, inplace=False)\n",
       "        (dropout2): Dropout(p=0.1, inplace=False)\n",
       "      )\n",
       "    )\n",
       "  )\n",
       "  (encoder): Embedding(3, 6)\n",
       "  (decoder): Linear(in_features=6, out_features=3, bias=True)\n",
       ")"
      ]
     },
     "execution_count": 39,
     "metadata": {},
     "output_type": "execute_result"
    }
   ],
   "source": [
    "ntoken=3\n",
    "this_lr = .001\n",
    "\n",
    "model = SimpleTransformer(ntoken, input_size, hidden_size, output_size, nlayers = 1, nhead = 1, dropout=.1)\n",
    "criterion   = torch.nn.MSELoss()\n",
    "optimizer   = torch.optim.RMSprop(model.parameters(), lr= this_lr) # switch to adam?\n",
    "device = torch.device(\"cpu\")#torch.device('cuda:0' if torch.cuda.is_available() else 'cpu')\n",
    "model.to(device)"
   ]
  },
  {
   "cell_type": "code",
   "execution_count": 43,
   "id": "355d189c-cec8-4414-9b04-f952a8ee819c",
   "metadata": {},
   "outputs": [
    {
     "name": "stdout",
     "output_type": "stream",
     "text": [
      "n_epochs: 1\n",
      "0\n",
      "batch num50 loss: 5.325952345325101\n",
      "batch num100 loss: 5.304128177704349\n",
      "batch num150 loss: 5.3417938909223\n"
     ]
    },
    {
     "ename": "KeyboardInterrupt",
     "evalue": "",
     "output_type": "error",
     "traceback": [
      "\u001b[0;31m---------------------------------------------------------------------------\u001b[0m",
      "\u001b[0;31mKeyboardInterrupt\u001b[0m                         Traceback (most recent call last)",
      "\u001b[0;32m/tmp/ipykernel_1348687/1349144641.py\u001b[0m in \u001b[0;36m<module>\u001b[0;34m\u001b[0m\n\u001b[0;32m----> 1\u001b[0;31m \u001b[0mtrained_model\u001b[0m\u001b[0;34m,\u001b[0m \u001b[0mloss_res\u001b[0m\u001b[0;34m,\u001b[0m \u001b[0mtrain_num\u001b[0m \u001b[0;34m=\u001b[0m \u001b[0mtrain_with_intermediate_tests\u001b[0m\u001b[0;34m(\u001b[0m\u001b[0mmodel\u001b[0m\u001b[0;34m,\u001b[0m \u001b[0mtrain_data_sim\u001b[0m\u001b[0;34m,\u001b[0m \u001b[0mtest_data_sim\u001b[0m\u001b[0;34m,\u001b[0m \u001b[0mcriterion\u001b[0m\u001b[0;34m,\u001b[0m \u001b[0moptimizer\u001b[0m\u001b[0;34m,\u001b[0m \u001b[0mdevice\u001b[0m\u001b[0;34m,\u001b[0m \u001b[0mbatch_size\u001b[0m\u001b[0;34m,\u001b[0m \u001b[0mn_total_seq\u001b[0m\u001b[0;34m,\u001b[0m \u001b[0mthis_data_func\u001b[0m\u001b[0;34m,\u001b[0m \u001b[0mmodel_name\u001b[0m\u001b[0;34m=\u001b[0m\u001b[0;34m'GRU'\u001b[0m\u001b[0;34m)\u001b[0m\u001b[0;34m\u001b[0m\u001b[0;34m\u001b[0m\u001b[0m\n\u001b[0m",
      "\u001b[0;32m/tmp/ipykernel_1348687/2267079805.py\u001b[0m in \u001b[0;36mtrain_with_intermediate_tests\u001b[0;34m(model, train_sim_data, test_sim_data, criterion, optimizer, device, batch_size, n_total_seq, gen_batch_data, use_human_data, model_name, n_epochs)\u001b[0m\n\u001b[1;32m     29\u001b[0m             \u001b[0;31m# Request a batch of sequences and class labels, convert them into tensors\u001b[0m\u001b[0;34m\u001b[0m\u001b[0;34m\u001b[0m\u001b[0;34m\u001b[0m\u001b[0m\n\u001b[1;32m     30\u001b[0m             \u001b[0;31m# of the correct type, and then send them to the appropriate device.\u001b[0m\u001b[0;34m\u001b[0m\u001b[0;34m\u001b[0m\u001b[0;34m\u001b[0m\u001b[0m\n\u001b[0;32m---> 31\u001b[0;31m             \u001b[0mdata\u001b[0m\u001b[0;34m,\u001b[0m \u001b[0mtarget\u001b[0m \u001b[0;34m=\u001b[0m \u001b[0mgen_batch_data\u001b[0m\u001b[0;34m(\u001b[0m\u001b[0mbatch_size\u001b[0m\u001b[0;34m,\u001b[0m \u001b[0mbatch_idx\u001b[0m\u001b[0;34m,\u001b[0m \u001b[0mtrain_sim_data\u001b[0m\u001b[0;34m,\u001b[0m \u001b[0muse_human_data\u001b[0m\u001b[0;34m=\u001b[0m\u001b[0muse_human_data\u001b[0m\u001b[0;34m)\u001b[0m\u001b[0;34m\u001b[0m\u001b[0;34m\u001b[0m\u001b[0m\n\u001b[0m\u001b[1;32m     32\u001b[0m \u001b[0;34m\u001b[0m\u001b[0m\n\u001b[1;32m     33\u001b[0m             \u001b[0mdata\u001b[0m\u001b[0;34m,\u001b[0m \u001b[0mtarget\u001b[0m \u001b[0;34m=\u001b[0m \u001b[0mtorch\u001b[0m\u001b[0;34m.\u001b[0m\u001b[0mfrom_numpy\u001b[0m\u001b[0;34m(\u001b[0m\u001b[0mdata\u001b[0m\u001b[0;34m)\u001b[0m\u001b[0;34m.\u001b[0m\u001b[0mfloat\u001b[0m\u001b[0;34m(\u001b[0m\u001b[0;34m)\u001b[0m\u001b[0;34m.\u001b[0m\u001b[0mto\u001b[0m\u001b[0;34m(\u001b[0m\u001b[0mdevice\u001b[0m\u001b[0;34m)\u001b[0m\u001b[0;34m,\u001b[0m \u001b[0mtorch\u001b[0m\u001b[0;34m.\u001b[0m\u001b[0mfrom_numpy\u001b[0m\u001b[0;34m(\u001b[0m\u001b[0mtarget\u001b[0m\u001b[0;34m)\u001b[0m\u001b[0;34m.\u001b[0m\u001b[0mlong\u001b[0m\u001b[0;34m(\u001b[0m\u001b[0;34m)\u001b[0m\u001b[0;34m.\u001b[0m\u001b[0mto\u001b[0m\u001b[0;34m(\u001b[0m\u001b[0mdevice\u001b[0m\u001b[0;34m)\u001b[0m\u001b[0;34m\u001b[0m\u001b[0;34m\u001b[0m\u001b[0m\n",
      "\u001b[0;32m~/projects/RNNs/load_data_funs.py\u001b[0m in \u001b[0;36mgen_batch_data_fixations_choice\u001b[0;34m(batch_size, batch_idx, data, use_human_data)\u001b[0m\n\u001b[1;32m     68\u001b[0m \u001b[0;34m\u001b[0m\u001b[0m\n\u001b[1;32m     69\u001b[0m     \u001b[0;31m# first 3 are fixation, last is choice...\u001b[0m\u001b[0;34m\u001b[0m\u001b[0;34m\u001b[0m\u001b[0;34m\u001b[0m\u001b[0m\n\u001b[0;32m---> 70\u001b[0;31m     \u001b[0mbatch_sequences_cat\u001b[0m \u001b[0;34m=\u001b[0m \u001b[0;34m[\u001b[0m\u001b[0;34m[\u001b[0m\u001b[0mto_categorical\u001b[0m\u001b[0;34m(\u001b[0m\u001b[0mx\u001b[0m\u001b[0;34m,\u001b[0m \u001b[0mnum_classes\u001b[0m \u001b[0;34m=\u001b[0m \u001b[0;36m6\u001b[0m\u001b[0;34m)\u001b[0m \u001b[0;32mfor\u001b[0m \u001b[0mx\u001b[0m \u001b[0;32min\u001b[0m \u001b[0mthis_sequence\u001b[0m\u001b[0;34m]\u001b[0m \u001b[0;32mfor\u001b[0m \u001b[0mthis_sequence\u001b[0m \u001b[0;32min\u001b[0m \u001b[0mbatch_fixation_sequences_idx\u001b[0m\u001b[0;34m]\u001b[0m\u001b[0;34m\u001b[0m\u001b[0;34m\u001b[0m\u001b[0m\n\u001b[0m\u001b[1;32m     71\u001b[0m \u001b[0;34m\u001b[0m\u001b[0m\n\u001b[1;32m     72\u001b[0m     \u001b[0;31m# now append to each of these the choice info - the choice gets it's own channel (of 3)\u001b[0m\u001b[0;34m\u001b[0m\u001b[0;34m\u001b[0m\u001b[0;34m\u001b[0m\u001b[0m\n",
      "\u001b[0;32m~/projects/RNNs/load_data_funs.py\u001b[0m in \u001b[0;36m<listcomp>\u001b[0;34m(.0)\u001b[0m\n\u001b[1;32m     68\u001b[0m \u001b[0;34m\u001b[0m\u001b[0m\n\u001b[1;32m     69\u001b[0m     \u001b[0;31m# first 3 are fixation, last is choice...\u001b[0m\u001b[0;34m\u001b[0m\u001b[0;34m\u001b[0m\u001b[0;34m\u001b[0m\u001b[0m\n\u001b[0;32m---> 70\u001b[0;31m     \u001b[0mbatch_sequences_cat\u001b[0m \u001b[0;34m=\u001b[0m \u001b[0;34m[\u001b[0m\u001b[0;34m[\u001b[0m\u001b[0mto_categorical\u001b[0m\u001b[0;34m(\u001b[0m\u001b[0mx\u001b[0m\u001b[0;34m,\u001b[0m \u001b[0mnum_classes\u001b[0m \u001b[0;34m=\u001b[0m \u001b[0;36m6\u001b[0m\u001b[0;34m)\u001b[0m \u001b[0;32mfor\u001b[0m \u001b[0mx\u001b[0m \u001b[0;32min\u001b[0m \u001b[0mthis_sequence\u001b[0m\u001b[0;34m]\u001b[0m \u001b[0;32mfor\u001b[0m \u001b[0mthis_sequence\u001b[0m \u001b[0;32min\u001b[0m \u001b[0mbatch_fixation_sequences_idx\u001b[0m\u001b[0;34m]\u001b[0m\u001b[0;34m\u001b[0m\u001b[0;34m\u001b[0m\u001b[0m\n\u001b[0m\u001b[1;32m     71\u001b[0m \u001b[0;34m\u001b[0m\u001b[0m\n\u001b[1;32m     72\u001b[0m     \u001b[0;31m# now append to each of these the choice info - the choice gets it's own channel (of 3)\u001b[0m\u001b[0;34m\u001b[0m\u001b[0;34m\u001b[0m\u001b[0;34m\u001b[0m\u001b[0m\n",
      "\u001b[0;32m~/projects/RNNs/load_data_funs.py\u001b[0m in \u001b[0;36m<listcomp>\u001b[0;34m(.0)\u001b[0m\n\u001b[1;32m     68\u001b[0m \u001b[0;34m\u001b[0m\u001b[0m\n\u001b[1;32m     69\u001b[0m     \u001b[0;31m# first 3 are fixation, last is choice...\u001b[0m\u001b[0;34m\u001b[0m\u001b[0;34m\u001b[0m\u001b[0;34m\u001b[0m\u001b[0m\n\u001b[0;32m---> 70\u001b[0;31m     \u001b[0mbatch_sequences_cat\u001b[0m \u001b[0;34m=\u001b[0m \u001b[0;34m[\u001b[0m\u001b[0;34m[\u001b[0m\u001b[0mto_categorical\u001b[0m\u001b[0;34m(\u001b[0m\u001b[0mx\u001b[0m\u001b[0;34m,\u001b[0m \u001b[0mnum_classes\u001b[0m \u001b[0;34m=\u001b[0m \u001b[0;36m6\u001b[0m\u001b[0;34m)\u001b[0m \u001b[0;32mfor\u001b[0m \u001b[0mx\u001b[0m \u001b[0;32min\u001b[0m \u001b[0mthis_sequence\u001b[0m\u001b[0;34m]\u001b[0m \u001b[0;32mfor\u001b[0m \u001b[0mthis_sequence\u001b[0m \u001b[0;32min\u001b[0m \u001b[0mbatch_fixation_sequences_idx\u001b[0m\u001b[0;34m]\u001b[0m\u001b[0;34m\u001b[0m\u001b[0;34m\u001b[0m\u001b[0m\n\u001b[0m\u001b[1;32m     71\u001b[0m \u001b[0;34m\u001b[0m\u001b[0m\n\u001b[1;32m     72\u001b[0m     \u001b[0;31m# now append to each of these the choice info - the choice gets it's own channel (of 3)\u001b[0m\u001b[0;34m\u001b[0m\u001b[0;34m\u001b[0m\u001b[0;34m\u001b[0m\u001b[0m\n",
      "\u001b[0;32m~/projects/RNNs/sequential_tasks.py\u001b[0m in \u001b[0;36mto_categorical\u001b[0;34m(y, num_classes, dtype)\u001b[0m\n\u001b[1;32m     67\u001b[0m         \u001b[0mnum_classes\u001b[0m \u001b[0;34m=\u001b[0m \u001b[0mnp\u001b[0m\u001b[0;34m.\u001b[0m\u001b[0mmax\u001b[0m\u001b[0;34m(\u001b[0m\u001b[0my\u001b[0m\u001b[0;34m)\u001b[0m \u001b[0;34m+\u001b[0m \u001b[0;36m1\u001b[0m\u001b[0;34m\u001b[0m\u001b[0;34m\u001b[0m\u001b[0m\n\u001b[1;32m     68\u001b[0m     \u001b[0mn\u001b[0m \u001b[0;34m=\u001b[0m \u001b[0my\u001b[0m\u001b[0;34m.\u001b[0m\u001b[0mshape\u001b[0m\u001b[0;34m[\u001b[0m\u001b[0;36m0\u001b[0m\u001b[0;34m]\u001b[0m\u001b[0;34m\u001b[0m\u001b[0;34m\u001b[0m\u001b[0m\n\u001b[0;32m---> 69\u001b[0;31m     \u001b[0mcategorical\u001b[0m \u001b[0;34m=\u001b[0m \u001b[0mnp\u001b[0m\u001b[0;34m.\u001b[0m\u001b[0mzeros\u001b[0m\u001b[0;34m(\u001b[0m\u001b[0;34m(\u001b[0m\u001b[0mn\u001b[0m\u001b[0;34m,\u001b[0m \u001b[0mnum_classes\u001b[0m\u001b[0;34m)\u001b[0m\u001b[0;34m,\u001b[0m \u001b[0mdtype\u001b[0m\u001b[0;34m=\u001b[0m\u001b[0mdtype\u001b[0m\u001b[0;34m)\u001b[0m\u001b[0;34m\u001b[0m\u001b[0;34m\u001b[0m\u001b[0m\n\u001b[0m\u001b[1;32m     70\u001b[0m     \u001b[0mcategorical\u001b[0m\u001b[0;34m[\u001b[0m\u001b[0mnp\u001b[0m\u001b[0;34m.\u001b[0m\u001b[0marange\u001b[0m\u001b[0;34m(\u001b[0m\u001b[0mn\u001b[0m\u001b[0;34m)\u001b[0m\u001b[0;34m,\u001b[0m \u001b[0my\u001b[0m\u001b[0;34m]\u001b[0m \u001b[0;34m=\u001b[0m \u001b[0;36m1\u001b[0m\u001b[0;34m\u001b[0m\u001b[0;34m\u001b[0m\u001b[0m\n\u001b[1;32m     71\u001b[0m     \u001b[0moutput_shape\u001b[0m \u001b[0;34m=\u001b[0m \u001b[0minput_shape\u001b[0m \u001b[0;34m+\u001b[0m \u001b[0;34m(\u001b[0m\u001b[0mnum_classes\u001b[0m\u001b[0;34m,\u001b[0m\u001b[0;34m)\u001b[0m\u001b[0;34m\u001b[0m\u001b[0;34m\u001b[0m\u001b[0m\n",
      "\u001b[0;31mKeyboardInterrupt\u001b[0m: "
     ]
    }
   ],
   "source": [
    "trained_model, loss_res, train_num = train_with_intermediate_tests(model, train_data_sim, test_data_sim, criterion, optimizer, device, batch_size, n_total_seq, this_data_func, model_name='GRU')\n"
   ]
  },
  {
   "cell_type": "code",
   "execution_count": 19,
   "id": "4c2c3f65-ccc2-4340-a6c8-0cfbb4d81e92",
   "metadata": {},
   "outputs": [
    {
     "name": "stdout",
     "output_type": "stream",
     "text": [
      "True\n"
     ]
    }
   ],
   "source": [
    "print(torch.backends.mps.is_available())\n"
   ]
  },
  {
   "cell_type": "code",
   "execution_count": null,
   "id": "cbdc6a73-66f6-4fad-b212-3495f104d0c7",
   "metadata": {},
   "outputs": [],
   "source": [
    "model.train()\n",
    "\n",
    "# What metric to store?\n",
    "# num_correct = 0\n",
    "\n",
    "# Iterate over every batch of sequences. Note that the length of a data generator\n",
    "# is defined as the number of batches required to produce a total of roughly 1000\n",
    "# sequences given a batch size.\n",
    "\n",
    "# how many batches\n",
    "n_batches = int(np.round(n_total_seq/batch_size));\n",
    "n_epochs=1\n",
    "\n",
    "loss_res = []\n",
    "train_loss_res = []\n",
    "train_num = []\n",
    "\n",
    "print('n_epochs: '+str(n_epochs))\n",
    "epoch_idx = 1\n",
    "batch_idx = 1\n",
    "\n",
    "\n",
    "this_batch_idx = n_batches*epoch_idx + batch_idx\n",
    "#print(this_batch_idx)\n",
    "\n",
    "gen_batch_data = this_data_func\n",
    "\n",
    "# Request a batch of sequences and class labels, convert them into tensors\n",
    "# of the correct type, and then send them to the appropriate device.\n",
    "data, target = gen_batch_data(batch_size, batch_idx, train_data_sim, use_human_data=False)\n",
    "data, target = torch.from_numpy(data).float().to(device), torch.from_numpy(target).long().to(device)\n",
    "output = model(data)  # Step\n",
    "\n"
   ]
  },
  {
   "cell_type": "code",
   "execution_count": null,
   "id": "3436be0b-949e-407f-9387-dc9c2b7ef7d0",
   "metadata": {},
   "outputs": [],
   "source": []
  }
 ],
 "metadata": {
  "kernelspec": {
   "display_name": "pDL [~/.conda/envs/pDL/]",
   "language": "python",
   "name": "conda_pdl"
  },
  "language_info": {
   "codemirror_mode": {
    "name": "ipython",
    "version": 3
   },
   "file_extension": ".py",
   "mimetype": "text/x-python",
   "name": "python",
   "nbconvert_exporter": "python",
   "pygments_lexer": "ipython3",
   "version": "3.8.12"
  }
 },
 "nbformat": 4,
 "nbformat_minor": 5
}
