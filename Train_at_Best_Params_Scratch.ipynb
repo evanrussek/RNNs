{
 "cells": [
  {
   "cell_type": "code",
   "execution_count": 8,
   "id": "b43ddefc-7b47-4c27-b5ce-d93b7a6f961f",
   "metadata": {},
   "outputs": [],
   "source": [
    "import os\n",
    "import numpy as np\n",
    "import pickle\n",
    "\n",
    "from main_as_fun import main_as_fun\n",
    "\n",
    "\n",
    "is_array_job=False\n",
    "\n",
    "if is_array_job:\n",
    "    job_idx = int(os.environ[\"SLURM_ARRAY_TASK_ID\"]) - 1\n",
    "else:\n",
    "    job_idx = 3\n",
    "\n",
    "\n",
    "## Make folder to save best params\n",
    "best_param_folder = '/home/erussek/projects/RNNs/best_hyper_params'\n",
    "\n",
    "# Read in best hyper params...\n",
    "best_param_dict = pickle.load(open(os.path.join(best_param_folder, 'best_hyper_params.pkl'), 'rb'))\n",
    "\n",
    "# types of models...\n",
    "model_names = ['LSTM', 'GRU', 'Transformer']\n",
    "\n",
    "train_names = ['train_sim_test_sim', 'train_sim_test_human', 'train_human_test_human', 'train_sim_human_test_human']\n",
    "\n",
    "\n",
    "this_train_name = train_names[0]"
   ]
  },
  {
   "cell_type": "code",
   "execution_count": 20,
   "id": "57c624b6-6ac2-43a8-9664-b03ff502bc63",
   "metadata": {},
   "outputs": [],
   "source": [
    "job_model_names = []\n",
    "job_runs = []\n",
    "job_hidden_sizes = []\n",
    "job_sim_lrs = []\n",
    "job_human_lrs = []\n",
    "job_attention_heads = []\n",
    "job_layers = []\n",
    "job_runs = []\n",
    "job_n_sim_seqs = []\n",
    "job_n_human_seqs = []\n",
    "\n",
    "n_runs = 10\n",
    "for run in range(n_runs):\n",
    "    for tn in train_names:\n",
    "        for model_name in model_names:\n",
    "            mbp = best_param_dict[tn][model_name]\n",
    "\n",
    "            job_runs.append(run)\n",
    "            job_model_names.append(model_name)\n",
    "            job_hidden_sizes.append(mbp['d_model'])\n",
    "            job_sim_lrs.append(mbp['sim_lr'])\n",
    "            job_human_lrs.append(mbp['human_lr'])\n",
    "            job_attention_heads.append(mbp['n_head'])\n",
    "            job_layers.append(mbp['n_layers'])\n",
    "            job_n_sim_seqs.append(mbp['best_sim_num'])\n",
    "            job_n_human_seqs.append(mbp['best_hum_num'])\n"
   ]
  },
  {
   "cell_type": "code",
   "execution_count": 21,
   "id": "95560551-df39-4fa1-a272-0a11dda073fa",
   "metadata": {},
   "outputs": [
    {
     "data": {
      "text/plain": [
       "120"
      ]
     },
     "execution_count": 21,
     "metadata": {},
     "output_type": "execute_result"
    }
   ],
   "source": [
    "len(job_runs) # 120"
   ]
  },
  {
   "cell_type": "code",
   "execution_count": 15,
   "id": "eb2abd39-3d38-4b01-b352-066fd0d1d11e",
   "metadata": {},
   "outputs": [
    {
     "name": "stdout",
     "output_type": "stream",
     "text": [
      "{'model_name': 'LSTM', 'train_seq_part': 'fix_and_choice', 'n_simulation_sequences_train': 70432, 'n_human_sequences_train': 0, 'n_sequences_test': 500, 'n_sequences_final_performance': 500, 'd_model': 64, 'n_layers': 0, 'n_head': 0, 'sim_lr': 0.002, 'human_lr': 0, 'batch_size': 32, 'run_idx': 0, 'on_cluster': True, 'test_batch_increment_sim': 200, 'test_batch_increment_human': 200, 'save_folder_name': 'Best_Param_Results', 'save_file_name': 'run_0_model_name_LSTM_fix_and_sim_bp'}\n",
      "<class 'numpy.int64'>\n",
      "Loading Data\n",
      "cpu\n",
      "Training the model\n",
      "Training on simulated data\n",
      "number of simulation seqeuences: 6432number of human seqeuences: 0 sim test loss: 4.9539231061935425 human test loss 5.690425902605057\n",
      "number of simulation seqeuences: 12832number of human seqeuences: 0 sim test loss: 4.938186913728714 human test loss 5.6557090282440186\n",
      "number of simulation seqeuences: 19232number of human seqeuences: 0 sim test loss: 4.806150555610657 human test loss 5.699034601449966\n",
      "number of simulation seqeuences: 25632number of human seqeuences: 0 sim test loss: 4.790165066719055 human test loss 5.6974586844444275\n",
      "number of simulation seqeuences: 32032number of human seqeuences: 0 sim test loss: 4.786687254905701 human test loss 5.764955937862396\n",
      "number of simulation seqeuences: 38432number of human seqeuences: 0 sim test loss: 4.810290604829788 human test loss 5.765817046165466\n",
      "number of simulation seqeuences: 44832number of human seqeuences: 0 sim test loss: 4.784763649106026 human test loss 5.69678607583046\n",
      "number of simulation seqeuences: 51232number of human seqeuences: 0 sim test loss: 4.822688013315201 human test loss 5.595060050487518\n",
      "number of simulation seqeuences: 57632number of human seqeuences: 0 sim test loss: 4.751961827278137 human test loss 5.621911317110062\n",
      "number of simulation seqeuences: 64032number of human seqeuences: 0 sim test loss: 4.7386195063591 human test loss 5.587752878665924\n",
      "number of simulation seqeuences: 70432number of human seqeuences: 0 sim test loss: 4.838849812746048 human test loss 5.5384412705898285\n",
      "Training on human data\n",
      "Evaluating trained model performance\n",
      "Saving the model and results\n"
     ]
    }
   ],
   "source": [
    "# Add the train on human and fine-tune on sim jobs... \n",
    "# what's the file name\n",
    "run_idx = job_runs[job_idx]\n",
    "model_name = job_model_names[job_idx]\n",
    "d_model = job_hidden_sizes[job_idx]\n",
    "sim_lr = job_sim_lrs[job_idx]\n",
    "human_lr = job_human_lrs[job_idx]\n",
    "n_head = job_attention_heads[job_idx]\n",
    "n_layers = job_layers[job_idx]\n",
    "n_simulation_sequences_train = job_n_sim_seqs[job_idx]\n",
    "n_human_sequences_train = job_n_human_seqs[job_idx]\n",
    "\n",
    "save_file_name = 'run_{}_model_name_{}_fix_and_sim_bp'.format(run_idx, model_name)\n",
    "\n",
    "# Call key function  -- 5e5 sequences?\n",
    "main_as_fun(\n",
    "    run_idx = job_runs[job_idx],\n",
    "    model_name = job_model_names[job_idx],\n",
    "    d_model = job_hidden_sizes[job_idx],\n",
    "    sim_lr = job_sim_lrs[job_idx],\n",
    "    human_lr = job_human_lrs[job_idx],\n",
    "    n_head = job_attention_heads[job_idx],\n",
    "    n_layers = job_layers[job_idx],\n",
    "    \n",
    "    n_simulation_sequences_train = job_n_sim_seqs[job_idx],\n",
    "    n_human_sequences_train = job_n_human_seqs[job_idx],\n",
    "\n",
    "    on_cluster = True,\n",
    "    save_folder_name = 'Best_Param_Results',\n",
    "    save_file_name = save_file_name)"
   ]
  },
  {
   "cell_type": "code",
   "execution_count": null,
   "id": "da96dd9f-31da-45a0-8d47-521a105154cd",
   "metadata": {},
   "outputs": [],
   "source": []
  },
  {
   "cell_type": "code",
   "execution_count": 19,
   "id": "b696439a-1aba-4ae6-8cf1-70f7d8ec4644",
   "metadata": {},
   "outputs": [
    {
     "data": {
      "text/plain": [
       "240"
      ]
     },
     "execution_count": 19,
     "metadata": {},
     "output_type": "execute_result"
    }
   ],
   "source": [
    "len(job_model_names)"
   ]
  },
  {
   "cell_type": "code",
   "execution_count": null,
   "id": "a5cf9183-82d3-461d-a57f-ba01ec71c627",
   "metadata": {},
   "outputs": [],
   "source": []
  }
 ],
 "metadata": {
  "kernelspec": {
   "display_name": "pDL [~/.conda/envs/pDL/]",
   "language": "python",
   "name": "conda_pdl"
  },
  "language_info": {
   "codemirror_mode": {
    "name": "ipython",
    "version": 3
   },
   "file_extension": ".py",
   "mimetype": "text/x-python",
   "name": "python",
   "nbconvert_exporter": "python",
   "pygments_lexer": "ipython3",
   "version": "3.8.12"
  }
 },
 "nbformat": 4,
 "nbformat_minor": 5
}
